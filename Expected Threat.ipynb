{
  "nbformat": 4,
  "nbformat_minor": 0,
  "metadata": {
    "colab": {
      "provenance": [],
      "collapsed_sections": [
        "1aIBnXtTSC6K",
        "Nz-cql6VmvJh",
        "-YJrAweOm41B",
        "pSqY1UMsSYnd",
        "FTjtzUIVSmUO",
        "ies2Z9s7q4tB",
        "_y51uQKjBdtV",
        "IYZ4ENvF3MtT",
        "P7NZ_B353E1F",
        "PyRG6Z7hP4T2",
        "-RGo45j_l4c_",
        "tvMULQti2-HN"
      ],
      "toc_visible": true
    },
    "kernelspec": {
      "name": "python3",
      "display_name": "Python 3"
    },
    "language_info": {
      "name": "python"
    }
  },
  "cells": [
    {
      "cell_type": "markdown",
      "source": [
        "# Installing and importing libraries"
      ],
      "metadata": {
        "id": "cGofyA-lmjIg"
      }
    },
    {
      "cell_type": "code",
      "execution_count": 1,
      "metadata": {
        "colab": {
          "base_uri": "https://localhost:8080/"
        },
        "id": "mBJYbaT8PSrU",
        "outputId": "830296a1-bf9a-438b-b45e-5e139a250611"
      },
      "outputs": [
        {
          "output_type": "stream",
          "name": "stdout",
          "text": [
            "Collecting statsbombpy\n",
            "  Downloading statsbombpy-1.11.0-py3-none-any.whl (16 kB)\n",
            "Requirement already satisfied: pandas in /usr/local/lib/python3.10/dist-packages (from statsbombpy) (1.5.3)\n",
            "Requirement already satisfied: requests in /usr/local/lib/python3.10/dist-packages (from statsbombpy) (2.27.1)\n",
            "Collecting requests-cache (from statsbombpy)\n",
            "  Downloading requests_cache-1.1.0-py3-none-any.whl (60 kB)\n",
            "\u001b[2K     \u001b[90m━━━━━━━━━━━━━━━━━━━━━━━━━━━━━━━━━━━━━━━━\u001b[0m \u001b[32m60.1/60.1 kB\u001b[0m \u001b[31m1.4 MB/s\u001b[0m eta \u001b[36m0:00:00\u001b[0m\n",
            "\u001b[?25hRequirement already satisfied: inflect in /usr/local/lib/python3.10/dist-packages (from statsbombpy) (6.0.5)\n",
            "Requirement already satisfied: joblib in /usr/local/lib/python3.10/dist-packages (from statsbombpy) (1.3.1)\n",
            "Requirement already satisfied: pydantic<2,>=1.9.1 in /usr/local/lib/python3.10/dist-packages (from inflect->statsbombpy) (1.10.11)\n",
            "Requirement already satisfied: python-dateutil>=2.8.1 in /usr/local/lib/python3.10/dist-packages (from pandas->statsbombpy) (2.8.2)\n",
            "Requirement already satisfied: pytz>=2020.1 in /usr/local/lib/python3.10/dist-packages (from pandas->statsbombpy) (2022.7.1)\n",
            "Requirement already satisfied: numpy>=1.21.0 in /usr/local/lib/python3.10/dist-packages (from pandas->statsbombpy) (1.22.4)\n",
            "Requirement already satisfied: urllib3<1.27,>=1.21.1 in /usr/local/lib/python3.10/dist-packages (from requests->statsbombpy) (1.26.16)\n",
            "Requirement already satisfied: certifi>=2017.4.17 in /usr/local/lib/python3.10/dist-packages (from requests->statsbombpy) (2023.5.7)\n",
            "Requirement already satisfied: charset-normalizer~=2.0.0 in /usr/local/lib/python3.10/dist-packages (from requests->statsbombpy) (2.0.12)\n",
            "Requirement already satisfied: idna<4,>=2.5 in /usr/local/lib/python3.10/dist-packages (from requests->statsbombpy) (3.4)\n",
            "Requirement already satisfied: attrs>=21.2 in /usr/local/lib/python3.10/dist-packages (from requests-cache->statsbombpy) (23.1.0)\n",
            "Collecting cattrs>=22.2 (from requests-cache->statsbombpy)\n",
            "  Downloading cattrs-23.1.2-py3-none-any.whl (50 kB)\n",
            "\u001b[2K     \u001b[90m━━━━━━━━━━━━━━━━━━━━━━━━━━━━━━━━━━━━━━━━\u001b[0m \u001b[32m50.8/50.8 kB\u001b[0m \u001b[31m2.3 MB/s\u001b[0m eta \u001b[36m0:00:00\u001b[0m\n",
            "\u001b[?25hRequirement already satisfied: platformdirs>=2.5 in /usr/local/lib/python3.10/dist-packages (from requests-cache->statsbombpy) (3.9.1)\n",
            "Collecting url-normalize>=1.4 (from requests-cache->statsbombpy)\n",
            "  Downloading url_normalize-1.4.3-py2.py3-none-any.whl (6.8 kB)\n",
            "Requirement already satisfied: exceptiongroup in /usr/local/lib/python3.10/dist-packages (from cattrs>=22.2->requests-cache->statsbombpy) (1.1.2)\n",
            "Requirement already satisfied: typing_extensions>=4.1.0 in /usr/local/lib/python3.10/dist-packages (from cattrs>=22.2->requests-cache->statsbombpy) (4.7.1)\n",
            "Requirement already satisfied: six>=1.5 in /usr/local/lib/python3.10/dist-packages (from python-dateutil>=2.8.1->pandas->statsbombpy) (1.16.0)\n",
            "Installing collected packages: url-normalize, cattrs, requests-cache, statsbombpy\n",
            "Successfully installed cattrs-23.1.2 requests-cache-1.1.0 statsbombpy-1.11.0 url-normalize-1.4.3\n",
            "Collecting nose2\n",
            "  Downloading nose2-0.13.0-py3-none-any.whl (205 kB)\n",
            "\u001b[2K     \u001b[90m━━━━━━━━━━━━━━━━━━━━━━━━━━━━━━━━━━━━━━━\u001b[0m \u001b[32m205.6/205.6 kB\u001b[0m \u001b[31m1.1 MB/s\u001b[0m eta \u001b[36m0:00:00\u001b[0m\n",
            "\u001b[?25hInstalling collected packages: nose2\n",
            "Successfully installed nose2-0.13.0\n",
            "\n",
            "----------------------------------------------------------------------\n",
            "Ran 0 tests in 0.000s\n",
            "\n",
            "OK\n",
            "Collecting socceraction\n",
            "  Downloading socceraction-1.4.1-py3-none-any.whl (86 kB)\n",
            "\u001b[2K     \u001b[90m━━━━━━━━━━━━━━━━━━━━━━━━━━━━━━━━━━━━━━━━\u001b[0m \u001b[32m86.3/86.3 kB\u001b[0m \u001b[31m1.4 MB/s\u001b[0m eta \u001b[36m0:00:00\u001b[0m\n",
            "\u001b[?25hRequirement already satisfied: lxml<5.0.0,>=4.6.3 in /usr/local/lib/python3.10/dist-packages (from socceraction) (4.9.3)\n",
            "Requirement already satisfied: numpy<2.0.0,>=1.21.2 in /usr/local/lib/python3.10/dist-packages (from socceraction) (1.22.4)\n",
            "Requirement already satisfied: pandas<2.0.0,>=1.3.3 in /usr/local/lib/python3.10/dist-packages (from socceraction) (1.5.3)\n",
            "Collecting pandera<0.14.0,>=0.13.4 (from socceraction)\n",
            "  Downloading pandera-0.13.4-py3-none-any.whl (122 kB)\n",
            "\u001b[2K     \u001b[90m━━━━━━━━━━━━━━━━━━━━━━━━━━━━━━━━━━━━━━━\u001b[0m \u001b[32m122.4/122.4 kB\u001b[0m \u001b[31m5.3 MB/s\u001b[0m eta \u001b[36m0:00:00\u001b[0m\n",
            "\u001b[?25hRequirement already satisfied: scikit-learn<2.0.0,>=1.2.1 in /usr/local/lib/python3.10/dist-packages (from socceraction) (1.2.2)\n",
            "Requirement already satisfied: python-dateutil>=2.8.1 in /usr/local/lib/python3.10/dist-packages (from pandas<2.0.0,>=1.3.3->socceraction) (2.8.2)\n",
            "Requirement already satisfied: pytz>=2020.1 in /usr/local/lib/python3.10/dist-packages (from pandas<2.0.0,>=1.3.3->socceraction) (2022.7.1)\n",
            "Requirement already satisfied: packaging>=20.0 in /usr/local/lib/python3.10/dist-packages (from pandera<0.14.0,>=0.13.4->socceraction) (23.1)\n",
            "Requirement already satisfied: pydantic in /usr/local/lib/python3.10/dist-packages (from pandera<0.14.0,>=0.13.4->socceraction) (1.10.11)\n",
            "Collecting typing-inspect>=0.6.0 (from pandera<0.14.0,>=0.13.4->socceraction)\n",
            "  Downloading typing_inspect-0.9.0-py3-none-any.whl (8.8 kB)\n",
            "Requirement already satisfied: wrapt in /usr/local/lib/python3.10/dist-packages (from pandera<0.14.0,>=0.13.4->socceraction) (1.14.1)\n",
            "Requirement already satisfied: scipy>=1.3.2 in /usr/local/lib/python3.10/dist-packages (from scikit-learn<2.0.0,>=1.2.1->socceraction) (1.10.1)\n",
            "Requirement already satisfied: joblib>=1.1.1 in /usr/local/lib/python3.10/dist-packages (from scikit-learn<2.0.0,>=1.2.1->socceraction) (1.3.1)\n",
            "Requirement already satisfied: threadpoolctl>=2.0.0 in /usr/local/lib/python3.10/dist-packages (from scikit-learn<2.0.0,>=1.2.1->socceraction) (3.2.0)\n",
            "Requirement already satisfied: six>=1.5 in /usr/local/lib/python3.10/dist-packages (from python-dateutil>=2.8.1->pandas<2.0.0,>=1.3.3->socceraction) (1.16.0)\n",
            "Collecting mypy-extensions>=0.3.0 (from typing-inspect>=0.6.0->pandera<0.14.0,>=0.13.4->socceraction)\n",
            "  Downloading mypy_extensions-1.0.0-py3-none-any.whl (4.7 kB)\n",
            "Requirement already satisfied: typing-extensions>=3.7.4 in /usr/local/lib/python3.10/dist-packages (from typing-inspect>=0.6.0->pandera<0.14.0,>=0.13.4->socceraction) (4.7.1)\n",
            "Installing collected packages: mypy-extensions, typing-inspect, pandera, socceraction\n",
            "Successfully installed mypy-extensions-1.0.0 pandera-0.13.4 socceraction-1.4.1 typing-inspect-0.9.0\n"
          ]
        }
      ],
      "source": [
        "!pip install statsbombpy\n",
        "!pip install nose2\n",
        "!nose2 -v --pretty-assert\n",
        "!pip install socceraction"
      ]
    },
    {
      "cell_type": "markdown",
      "source": [
        "All libraries are imported here"
      ],
      "metadata": {
        "id": "QDA-YoM1mpi7"
      }
    },
    {
      "cell_type": "code",
      "source": [
        "import pandas as pd\n",
        "import numpy as np\n",
        "from statsbombpy import sb\n",
        "from sklearn.preprocessing import LabelEncoder\n",
        "import warnings\n",
        "import matplotlib.pyplot as plt\n",
        "import seaborn as sns\n",
        "from sklearn.linear_model import LogisticRegression\n",
        "from imblearn.over_sampling import RandomOverSampler\n",
        "from sklearn.model_selection import train_test_split,  GridSearchCV\n",
        "from sklearn.metrics import accuracy_score\n",
        "from imblearn.over_sampling import SMOTE\n",
        "from sklearn.metrics import  precision_score, recall_score, f1_score, classification_report, confusion_matrix, roc_auc_score, roc_curve\n",
        "from sklearn.model_selection import train_test_split\n",
        "from sklearn.ensemble import GradientBoostingRegressor\n",
        "from sklearn.metrics import mean_squared_error\n",
        "from math import atan, degrees, sqrt\n",
        "warnings.filterwarnings(\"ignore\")"
      ],
      "metadata": {
        "id": "3yfS5S8LPaG3"
      },
      "execution_count": 83,
      "outputs": []
    },
    {
      "cell_type": "markdown",
      "source": [
        "# Data Engineering"
      ],
      "metadata": {
        "id": "cFXWJ3tJR_Dd"
      }
    },
    {
      "cell_type": "markdown",
      "source": [
        "## Creating out the data and exploring it"
      ],
      "metadata": {
        "id": "1aIBnXtTSC6K"
      }
    },
    {
      "cell_type": "code",
      "source": [
        "dir(sb)"
      ],
      "metadata": {
        "colab": {
          "base_uri": "https://localhost:8080/"
        },
        "id": "b5WlbofuaZRw",
        "outputId": "be6a4828-cecf-4354-99aa-f08f2150c32b"
      },
      "execution_count": 3,
      "outputs": [
        {
          "output_type": "execute_result",
          "data": {
            "text/plain": [
              "['DEFAULT_CREDS',\n",
              " 'MAX_CONCURRENCY',\n",
              " 'Pool',\n",
              " 'Union',\n",
              " '_360_frames',\n",
              " '__builtins__',\n",
              " '__cached__',\n",
              " '__doc__',\n",
              " '__file__',\n",
              " '__loader__',\n",
              " '__name__',\n",
              " '__package__',\n",
              " '__spec__',\n",
              " 'api_client',\n",
              " 'competition_events',\n",
              " 'competition_frames',\n",
              " 'competitions',\n",
              " 'events',\n",
              " 'filter_and_group_events',\n",
              " 'frames',\n",
              " 'lineups',\n",
              " 'matches',\n",
              " 'merge_events_and_frames',\n",
              " 'partial',\n",
              " 'pd',\n",
              " 'player_match_stats',\n",
              " 'player_season_stats',\n",
              " 'public',\n",
              " 'reduce_events',\n",
              " 'team_season_stats']"
            ]
          },
          "metadata": {},
          "execution_count": 3
        }
      ]
    },
    {
      "cell_type": "markdown",
      "source": [
        "## Getting competition that we need"
      ],
      "metadata": {
        "id": "Nz-cql6VmvJh"
      }
    },
    {
      "cell_type": "code",
      "source": [
        "df = sb.competitions() # Show all competitions\n",
        "\n",
        "FWC = df[df['competition_name'] == 'FIFA World Cup']\n",
        "FWC # See all the tournaments for the Fifa World Cup"
      ],
      "metadata": {
        "colab": {
          "base_uri": "https://localhost:8080/",
          "height": 0
        },
        "id": "3DVP5VKnZ03N",
        "outputId": "74f43135-7795-4dc3-d83d-37f44ce426e4"
      },
      "execution_count": 4,
      "outputs": [
        {
          "output_type": "execute_result",
          "data": {
            "text/plain": [
              "    competition_id  season_id   country_name competition_name  \\\n",
              "22              43        106  International   FIFA World Cup   \n",
              "23              43          3  International   FIFA World Cup   \n",
              "24              43         51  International   FIFA World Cup   \n",
              "\n",
              "   competition_gender  competition_youth  competition_international  \\\n",
              "22               male              False                       True   \n",
              "23               male              False                       True   \n",
              "24               male              False                       True   \n",
              "\n",
              "   season_name               match_updated           match_updated_360  \\\n",
              "22        2022  2023-07-15T22:01:09.812380  2023-07-15T22:01:52.119586   \n",
              "23        2018  2022-09-05T17:17:56.670896     2021-06-13T16:17:31.694   \n",
              "24        1974  2023-07-17T23:19:58.853207     2021-06-13T16:17:31.694   \n",
              "\n",
              "           match_available_360             match_available  \n",
              "22  2023-07-15T22:01:52.119586  2023-07-15T22:01:09.812380  \n",
              "23                        None  2022-09-05T17:17:56.670896  \n",
              "24                        None  2023-07-17T23:19:58.853207  "
            ],
            "text/html": [
              "\n",
              "\n",
              "  <div id=\"df-3769a527-f885-4082-b386-84433a47d118\">\n",
              "    <div class=\"colab-df-container\">\n",
              "      <div>\n",
              "<style scoped>\n",
              "    .dataframe tbody tr th:only-of-type {\n",
              "        vertical-align: middle;\n",
              "    }\n",
              "\n",
              "    .dataframe tbody tr th {\n",
              "        vertical-align: top;\n",
              "    }\n",
              "\n",
              "    .dataframe thead th {\n",
              "        text-align: right;\n",
              "    }\n",
              "</style>\n",
              "<table border=\"1\" class=\"dataframe\">\n",
              "  <thead>\n",
              "    <tr style=\"text-align: right;\">\n",
              "      <th></th>\n",
              "      <th>competition_id</th>\n",
              "      <th>season_id</th>\n",
              "      <th>country_name</th>\n",
              "      <th>competition_name</th>\n",
              "      <th>competition_gender</th>\n",
              "      <th>competition_youth</th>\n",
              "      <th>competition_international</th>\n",
              "      <th>season_name</th>\n",
              "      <th>match_updated</th>\n",
              "      <th>match_updated_360</th>\n",
              "      <th>match_available_360</th>\n",
              "      <th>match_available</th>\n",
              "    </tr>\n",
              "  </thead>\n",
              "  <tbody>\n",
              "    <tr>\n",
              "      <th>22</th>\n",
              "      <td>43</td>\n",
              "      <td>106</td>\n",
              "      <td>International</td>\n",
              "      <td>FIFA World Cup</td>\n",
              "      <td>male</td>\n",
              "      <td>False</td>\n",
              "      <td>True</td>\n",
              "      <td>2022</td>\n",
              "      <td>2023-07-15T22:01:09.812380</td>\n",
              "      <td>2023-07-15T22:01:52.119586</td>\n",
              "      <td>2023-07-15T22:01:52.119586</td>\n",
              "      <td>2023-07-15T22:01:09.812380</td>\n",
              "    </tr>\n",
              "    <tr>\n",
              "      <th>23</th>\n",
              "      <td>43</td>\n",
              "      <td>3</td>\n",
              "      <td>International</td>\n",
              "      <td>FIFA World Cup</td>\n",
              "      <td>male</td>\n",
              "      <td>False</td>\n",
              "      <td>True</td>\n",
              "      <td>2018</td>\n",
              "      <td>2022-09-05T17:17:56.670896</td>\n",
              "      <td>2021-06-13T16:17:31.694</td>\n",
              "      <td>None</td>\n",
              "      <td>2022-09-05T17:17:56.670896</td>\n",
              "    </tr>\n",
              "    <tr>\n",
              "      <th>24</th>\n",
              "      <td>43</td>\n",
              "      <td>51</td>\n",
              "      <td>International</td>\n",
              "      <td>FIFA World Cup</td>\n",
              "      <td>male</td>\n",
              "      <td>False</td>\n",
              "      <td>True</td>\n",
              "      <td>1974</td>\n",
              "      <td>2023-07-17T23:19:58.853207</td>\n",
              "      <td>2021-06-13T16:17:31.694</td>\n",
              "      <td>None</td>\n",
              "      <td>2023-07-17T23:19:58.853207</td>\n",
              "    </tr>\n",
              "  </tbody>\n",
              "</table>\n",
              "</div>\n",
              "      <button class=\"colab-df-convert\" onclick=\"convertToInteractive('df-3769a527-f885-4082-b386-84433a47d118')\"\n",
              "              title=\"Convert this dataframe to an interactive table.\"\n",
              "              style=\"display:none;\">\n",
              "\n",
              "  <svg xmlns=\"http://www.w3.org/2000/svg\" height=\"24px\"viewBox=\"0 0 24 24\"\n",
              "       width=\"24px\">\n",
              "    <path d=\"M0 0h24v24H0V0z\" fill=\"none\"/>\n",
              "    <path d=\"M18.56 5.44l.94 2.06.94-2.06 2.06-.94-2.06-.94-.94-2.06-.94 2.06-2.06.94zm-11 1L8.5 8.5l.94-2.06 2.06-.94-2.06-.94L8.5 2.5l-.94 2.06-2.06.94zm10 10l.94 2.06.94-2.06 2.06-.94-2.06-.94-.94-2.06-.94 2.06-2.06.94z\"/><path d=\"M17.41 7.96l-1.37-1.37c-.4-.4-.92-.59-1.43-.59-.52 0-1.04.2-1.43.59L10.3 9.45l-7.72 7.72c-.78.78-.78 2.05 0 2.83L4 21.41c.39.39.9.59 1.41.59.51 0 1.02-.2 1.41-.59l7.78-7.78 2.81-2.81c.8-.78.8-2.07 0-2.86zM5.41 20L4 18.59l7.72-7.72 1.47 1.35L5.41 20z\"/>\n",
              "  </svg>\n",
              "      </button>\n",
              "\n",
              "\n",
              "\n",
              "    <div id=\"df-d12bcc28-1f64-470c-88e0-287817ae2bae\">\n",
              "      <button class=\"colab-df-quickchart\" onclick=\"quickchart('df-d12bcc28-1f64-470c-88e0-287817ae2bae')\"\n",
              "              title=\"Suggest charts.\"\n",
              "              style=\"display:none;\">\n",
              "\n",
              "<svg xmlns=\"http://www.w3.org/2000/svg\" height=\"24px\"viewBox=\"0 0 24 24\"\n",
              "     width=\"24px\">\n",
              "    <g>\n",
              "        <path d=\"M19 3H5c-1.1 0-2 .9-2 2v14c0 1.1.9 2 2 2h14c1.1 0 2-.9 2-2V5c0-1.1-.9-2-2-2zM9 17H7v-7h2v7zm4 0h-2V7h2v10zm4 0h-2v-4h2v4z\"/>\n",
              "    </g>\n",
              "</svg>\n",
              "      </button>\n",
              "    </div>\n",
              "\n",
              "<style>\n",
              "  .colab-df-quickchart {\n",
              "    background-color: #E8F0FE;\n",
              "    border: none;\n",
              "    border-radius: 50%;\n",
              "    cursor: pointer;\n",
              "    display: none;\n",
              "    fill: #1967D2;\n",
              "    height: 32px;\n",
              "    padding: 0 0 0 0;\n",
              "    width: 32px;\n",
              "  }\n",
              "\n",
              "  .colab-df-quickchart:hover {\n",
              "    background-color: #E2EBFA;\n",
              "    box-shadow: 0px 1px 2px rgba(60, 64, 67, 0.3), 0px 1px 3px 1px rgba(60, 64, 67, 0.15);\n",
              "    fill: #174EA6;\n",
              "  }\n",
              "\n",
              "  [theme=dark] .colab-df-quickchart {\n",
              "    background-color: #3B4455;\n",
              "    fill: #D2E3FC;\n",
              "  }\n",
              "\n",
              "  [theme=dark] .colab-df-quickchart:hover {\n",
              "    background-color: #434B5C;\n",
              "    box-shadow: 0px 1px 3px 1px rgba(0, 0, 0, 0.15);\n",
              "    filter: drop-shadow(0px 1px 2px rgba(0, 0, 0, 0.3));\n",
              "    fill: #FFFFFF;\n",
              "  }\n",
              "</style>\n",
              "\n",
              "    <script>\n",
              "      async function quickchart(key) {\n",
              "        const containerElement = document.querySelector('#' + key);\n",
              "        const charts = await google.colab.kernel.invokeFunction(\n",
              "            'suggestCharts', [key], {});\n",
              "      }\n",
              "    </script>\n",
              "\n",
              "      <script>\n",
              "\n",
              "function displayQuickchartButton(domScope) {\n",
              "  let quickchartButtonEl =\n",
              "    domScope.querySelector('#df-d12bcc28-1f64-470c-88e0-287817ae2bae button.colab-df-quickchart');\n",
              "  quickchartButtonEl.style.display =\n",
              "    google.colab.kernel.accessAllowed ? 'block' : 'none';\n",
              "}\n",
              "\n",
              "        displayQuickchartButton(document);\n",
              "      </script>\n",
              "      <style>\n",
              "    .colab-df-container {\n",
              "      display:flex;\n",
              "      flex-wrap:wrap;\n",
              "      gap: 12px;\n",
              "    }\n",
              "\n",
              "    .colab-df-convert {\n",
              "      background-color: #E8F0FE;\n",
              "      border: none;\n",
              "      border-radius: 50%;\n",
              "      cursor: pointer;\n",
              "      display: none;\n",
              "      fill: #1967D2;\n",
              "      height: 32px;\n",
              "      padding: 0 0 0 0;\n",
              "      width: 32px;\n",
              "    }\n",
              "\n",
              "    .colab-df-convert:hover {\n",
              "      background-color: #E2EBFA;\n",
              "      box-shadow: 0px 1px 2px rgba(60, 64, 67, 0.3), 0px 1px 3px 1px rgba(60, 64, 67, 0.15);\n",
              "      fill: #174EA6;\n",
              "    }\n",
              "\n",
              "    [theme=dark] .colab-df-convert {\n",
              "      background-color: #3B4455;\n",
              "      fill: #D2E3FC;\n",
              "    }\n",
              "\n",
              "    [theme=dark] .colab-df-convert:hover {\n",
              "      background-color: #434B5C;\n",
              "      box-shadow: 0px 1px 3px 1px rgba(0, 0, 0, 0.15);\n",
              "      filter: drop-shadow(0px 1px 2px rgba(0, 0, 0, 0.3));\n",
              "      fill: #FFFFFF;\n",
              "    }\n",
              "  </style>\n",
              "\n",
              "      <script>\n",
              "        const buttonEl =\n",
              "          document.querySelector('#df-3769a527-f885-4082-b386-84433a47d118 button.colab-df-convert');\n",
              "        buttonEl.style.display =\n",
              "          google.colab.kernel.accessAllowed ? 'block' : 'none';\n",
              "\n",
              "        async function convertToInteractive(key) {\n",
              "          const element = document.querySelector('#df-3769a527-f885-4082-b386-84433a47d118');\n",
              "          const dataTable =\n",
              "            await google.colab.kernel.invokeFunction('convertToInteractive',\n",
              "                                                     [key], {});\n",
              "          if (!dataTable) return;\n",
              "\n",
              "          const docLinkHtml = 'Like what you see? Visit the ' +\n",
              "            '<a target=\"_blank\" href=https://colab.research.google.com/notebooks/data_table.ipynb>data table notebook</a>'\n",
              "            + ' to learn more about interactive tables.';\n",
              "          element.innerHTML = '';\n",
              "          dataTable['output_type'] = 'display_data';\n",
              "          await google.colab.output.renderOutput(dataTable, element);\n",
              "          const docLink = document.createElement('div');\n",
              "          docLink.innerHTML = docLinkHtml;\n",
              "          element.appendChild(docLink);\n",
              "        }\n",
              "      </script>\n",
              "    </div>\n",
              "  </div>\n"
            ]
          },
          "metadata": {},
          "execution_count": 4
        }
      ]
    },
    {
      "cell_type": "code",
      "source": [
        "df.loc[:, \"competition_name\"]"
      ],
      "metadata": {
        "colab": {
          "base_uri": "https://localhost:8080/"
        },
        "id": "wFXI37_zz72-",
        "outputId": "a8830731-50b2-47c2-d8e1-e5b50e0d1acd"
      },
      "execution_count": 5,
      "outputs": [
        {
          "output_type": "execute_result",
          "data": {
            "text/plain": [
              "0            Champions League\n",
              "1            Champions League\n",
              "2            Champions League\n",
              "3            Champions League\n",
              "4            Champions League\n",
              "5            Champions League\n",
              "6            Champions League\n",
              "7            Champions League\n",
              "8            Champions League\n",
              "9            Champions League\n",
              "10           Champions League\n",
              "11           Champions League\n",
              "12           Champions League\n",
              "13           Champions League\n",
              "14           Champions League\n",
              "15           Champions League\n",
              "16           Champions League\n",
              "17           Champions League\n",
              "18               Copa del Rey\n",
              "19    FA Women's Super League\n",
              "20    FA Women's Super League\n",
              "21    FA Women's Super League\n",
              "22             FIFA World Cup\n",
              "23             FIFA World Cup\n",
              "24             FIFA World Cup\n",
              "25        Indian Super league\n",
              "26                    La Liga\n",
              "27                    La Liga\n",
              "28                    La Liga\n",
              "29                    La Liga\n",
              "30                    La Liga\n",
              "31                    La Liga\n",
              "32                    La Liga\n",
              "33                    La Liga\n",
              "34                    La Liga\n",
              "35                    La Liga\n",
              "36                    La Liga\n",
              "37                    La Liga\n",
              "38                    La Liga\n",
              "39                    La Liga\n",
              "40                    La Liga\n",
              "41                    La Liga\n",
              "42                    La Liga\n",
              "43                    La Liga\n",
              "44                       NWSL\n",
              "45             Premier League\n",
              "46             Premier League\n",
              "47                  UEFA Euro\n",
              "48          UEFA Women's Euro\n",
              "49          Women's World Cup\n",
              "Name: competition_name, dtype: object"
            ]
          },
          "metadata": {},
          "execution_count": 5
        }
      ]
    },
    {
      "cell_type": "code",
      "source": [
        "df.columns"
      ],
      "metadata": {
        "colab": {
          "base_uri": "https://localhost:8080/"
        },
        "id": "Klgc2xfONU31",
        "outputId": "447eca4f-1b94-4057-a474-67b66671a3d4"
      },
      "execution_count": 6,
      "outputs": [
        {
          "output_type": "execute_result",
          "data": {
            "text/plain": [
              "Index(['competition_id', 'season_id', 'country_name', 'competition_name',\n",
              "       'competition_gender', 'competition_youth', 'competition_international',\n",
              "       'season_name', 'match_updated', 'match_updated_360',\n",
              "       'match_available_360', 'match_available'],\n",
              "      dtype='object')"
            ]
          },
          "metadata": {},
          "execution_count": 6
        }
      ]
    },
    {
      "cell_type": "markdown",
      "source": [
        "## All the matches that happened in the World Cup 2022"
      ],
      "metadata": {
        "id": "-YJrAweOm41B"
      }
    },
    {
      "cell_type": "code",
      "source": [
        "WC22 = sb.matches(competition_id= 43, season_id = 106).head(3) # They are 64 rows in total because there were 64 games.\n",
        "WC22"
      ],
      "metadata": {
        "colab": {
          "base_uri": "https://localhost:8080/",
          "height": 0
        },
        "id": "js0JkPvMaUiE",
        "outputId": "d1eb57a4-f95a-4f09-d7df-6a12cb1b58bf"
      },
      "execution_count": 7,
      "outputs": [
        {
          "output_type": "execute_result",
          "data": {
            "text/plain": [
              "   match_id  match_date      kick_off                     competition season  \\\n",
              "0   3857256  2022-12-02  21:00:00.000  International - FIFA World Cup   2022   \n",
              "1   3869151  2022-12-03  21:00:00.000  International - FIFA World Cup   2022   \n",
              "2   3857257  2022-11-30  17:00:00.000  International - FIFA World Cup   2022   \n",
              "\n",
              "   home_team    away_team  home_score  away_score match_status  ...  \\\n",
              "0     Serbia  Switzerland           2           3    available  ...   \n",
              "1  Argentina    Australia           2           1    available  ...   \n",
              "2  Australia      Denmark           1           0    available  ...   \n",
              "\n",
              "             last_updated_360 match_week competition_stage  \\\n",
              "0  2023-04-26T23:49:58.956186          3       Group Stage   \n",
              "1  2023-05-14T23:35:15.370647          4       Round of 16   \n",
              "2  2023-06-20T11:04:37.638969          3       Group Stage   \n",
              "\n",
              "                 stadium                    referee             home_managers  \\\n",
              "0            Stadium 974  Fernando Andrés Rapallini          Dragan Stojković   \n",
              "1  Ahmad bin Ali Stadium           Szymon Marciniak  Lionel Sebastián Scaloni   \n",
              "2   Al Janoub Stadium              Mustapha Ghorbal       Graham James Arnold   \n",
              "\n",
              "         away_managers data_version shot_fidelity_version xy_fidelity_version  \n",
              "0          Murat Yakin        1.1.0                     2                   2  \n",
              "1  Graham James Arnold        1.1.0                     2                   2  \n",
              "2      Kasper Hjulmand        1.1.0                     2                   2  \n",
              "\n",
              "[3 rows x 22 columns]"
            ],
            "text/html": [
              "\n",
              "\n",
              "  <div id=\"df-ac4fe1f8-3ea2-4c6d-96d0-fa0dfe63cf9a\">\n",
              "    <div class=\"colab-df-container\">\n",
              "      <div>\n",
              "<style scoped>\n",
              "    .dataframe tbody tr th:only-of-type {\n",
              "        vertical-align: middle;\n",
              "    }\n",
              "\n",
              "    .dataframe tbody tr th {\n",
              "        vertical-align: top;\n",
              "    }\n",
              "\n",
              "    .dataframe thead th {\n",
              "        text-align: right;\n",
              "    }\n",
              "</style>\n",
              "<table border=\"1\" class=\"dataframe\">\n",
              "  <thead>\n",
              "    <tr style=\"text-align: right;\">\n",
              "      <th></th>\n",
              "      <th>match_id</th>\n",
              "      <th>match_date</th>\n",
              "      <th>kick_off</th>\n",
              "      <th>competition</th>\n",
              "      <th>season</th>\n",
              "      <th>home_team</th>\n",
              "      <th>away_team</th>\n",
              "      <th>home_score</th>\n",
              "      <th>away_score</th>\n",
              "      <th>match_status</th>\n",
              "      <th>...</th>\n",
              "      <th>last_updated_360</th>\n",
              "      <th>match_week</th>\n",
              "      <th>competition_stage</th>\n",
              "      <th>stadium</th>\n",
              "      <th>referee</th>\n",
              "      <th>home_managers</th>\n",
              "      <th>away_managers</th>\n",
              "      <th>data_version</th>\n",
              "      <th>shot_fidelity_version</th>\n",
              "      <th>xy_fidelity_version</th>\n",
              "    </tr>\n",
              "  </thead>\n",
              "  <tbody>\n",
              "    <tr>\n",
              "      <th>0</th>\n",
              "      <td>3857256</td>\n",
              "      <td>2022-12-02</td>\n",
              "      <td>21:00:00.000</td>\n",
              "      <td>International - FIFA World Cup</td>\n",
              "      <td>2022</td>\n",
              "      <td>Serbia</td>\n",
              "      <td>Switzerland</td>\n",
              "      <td>2</td>\n",
              "      <td>3</td>\n",
              "      <td>available</td>\n",
              "      <td>...</td>\n",
              "      <td>2023-04-26T23:49:58.956186</td>\n",
              "      <td>3</td>\n",
              "      <td>Group Stage</td>\n",
              "      <td>Stadium 974</td>\n",
              "      <td>Fernando Andrés Rapallini</td>\n",
              "      <td>Dragan Stojković</td>\n",
              "      <td>Murat Yakin</td>\n",
              "      <td>1.1.0</td>\n",
              "      <td>2</td>\n",
              "      <td>2</td>\n",
              "    </tr>\n",
              "    <tr>\n",
              "      <th>1</th>\n",
              "      <td>3869151</td>\n",
              "      <td>2022-12-03</td>\n",
              "      <td>21:00:00.000</td>\n",
              "      <td>International - FIFA World Cup</td>\n",
              "      <td>2022</td>\n",
              "      <td>Argentina</td>\n",
              "      <td>Australia</td>\n",
              "      <td>2</td>\n",
              "      <td>1</td>\n",
              "      <td>available</td>\n",
              "      <td>...</td>\n",
              "      <td>2023-05-14T23:35:15.370647</td>\n",
              "      <td>4</td>\n",
              "      <td>Round of 16</td>\n",
              "      <td>Ahmad bin Ali Stadium</td>\n",
              "      <td>Szymon Marciniak</td>\n",
              "      <td>Lionel Sebastián Scaloni</td>\n",
              "      <td>Graham James Arnold</td>\n",
              "      <td>1.1.0</td>\n",
              "      <td>2</td>\n",
              "      <td>2</td>\n",
              "    </tr>\n",
              "    <tr>\n",
              "      <th>2</th>\n",
              "      <td>3857257</td>\n",
              "      <td>2022-11-30</td>\n",
              "      <td>17:00:00.000</td>\n",
              "      <td>International - FIFA World Cup</td>\n",
              "      <td>2022</td>\n",
              "      <td>Australia</td>\n",
              "      <td>Denmark</td>\n",
              "      <td>1</td>\n",
              "      <td>0</td>\n",
              "      <td>available</td>\n",
              "      <td>...</td>\n",
              "      <td>2023-06-20T11:04:37.638969</td>\n",
              "      <td>3</td>\n",
              "      <td>Group Stage</td>\n",
              "      <td>Al Janoub Stadium</td>\n",
              "      <td>Mustapha Ghorbal</td>\n",
              "      <td>Graham James Arnold</td>\n",
              "      <td>Kasper Hjulmand</td>\n",
              "      <td>1.1.0</td>\n",
              "      <td>2</td>\n",
              "      <td>2</td>\n",
              "    </tr>\n",
              "  </tbody>\n",
              "</table>\n",
              "<p>3 rows × 22 columns</p>\n",
              "</div>\n",
              "      <button class=\"colab-df-convert\" onclick=\"convertToInteractive('df-ac4fe1f8-3ea2-4c6d-96d0-fa0dfe63cf9a')\"\n",
              "              title=\"Convert this dataframe to an interactive table.\"\n",
              "              style=\"display:none;\">\n",
              "\n",
              "  <svg xmlns=\"http://www.w3.org/2000/svg\" height=\"24px\"viewBox=\"0 0 24 24\"\n",
              "       width=\"24px\">\n",
              "    <path d=\"M0 0h24v24H0V0z\" fill=\"none\"/>\n",
              "    <path d=\"M18.56 5.44l.94 2.06.94-2.06 2.06-.94-2.06-.94-.94-2.06-.94 2.06-2.06.94zm-11 1L8.5 8.5l.94-2.06 2.06-.94-2.06-.94L8.5 2.5l-.94 2.06-2.06.94zm10 10l.94 2.06.94-2.06 2.06-.94-2.06-.94-.94-2.06-.94 2.06-2.06.94z\"/><path d=\"M17.41 7.96l-1.37-1.37c-.4-.4-.92-.59-1.43-.59-.52 0-1.04.2-1.43.59L10.3 9.45l-7.72 7.72c-.78.78-.78 2.05 0 2.83L4 21.41c.39.39.9.59 1.41.59.51 0 1.02-.2 1.41-.59l7.78-7.78 2.81-2.81c.8-.78.8-2.07 0-2.86zM5.41 20L4 18.59l7.72-7.72 1.47 1.35L5.41 20z\"/>\n",
              "  </svg>\n",
              "      </button>\n",
              "\n",
              "\n",
              "\n",
              "    <div id=\"df-47e5c877-e479-4558-b7c4-262b9404284f\">\n",
              "      <button class=\"colab-df-quickchart\" onclick=\"quickchart('df-47e5c877-e479-4558-b7c4-262b9404284f')\"\n",
              "              title=\"Suggest charts.\"\n",
              "              style=\"display:none;\">\n",
              "\n",
              "<svg xmlns=\"http://www.w3.org/2000/svg\" height=\"24px\"viewBox=\"0 0 24 24\"\n",
              "     width=\"24px\">\n",
              "    <g>\n",
              "        <path d=\"M19 3H5c-1.1 0-2 .9-2 2v14c0 1.1.9 2 2 2h14c1.1 0 2-.9 2-2V5c0-1.1-.9-2-2-2zM9 17H7v-7h2v7zm4 0h-2V7h2v10zm4 0h-2v-4h2v4z\"/>\n",
              "    </g>\n",
              "</svg>\n",
              "      </button>\n",
              "    </div>\n",
              "\n",
              "<style>\n",
              "  .colab-df-quickchart {\n",
              "    background-color: #E8F0FE;\n",
              "    border: none;\n",
              "    border-radius: 50%;\n",
              "    cursor: pointer;\n",
              "    display: none;\n",
              "    fill: #1967D2;\n",
              "    height: 32px;\n",
              "    padding: 0 0 0 0;\n",
              "    width: 32px;\n",
              "  }\n",
              "\n",
              "  .colab-df-quickchart:hover {\n",
              "    background-color: #E2EBFA;\n",
              "    box-shadow: 0px 1px 2px rgba(60, 64, 67, 0.3), 0px 1px 3px 1px rgba(60, 64, 67, 0.15);\n",
              "    fill: #174EA6;\n",
              "  }\n",
              "\n",
              "  [theme=dark] .colab-df-quickchart {\n",
              "    background-color: #3B4455;\n",
              "    fill: #D2E3FC;\n",
              "  }\n",
              "\n",
              "  [theme=dark] .colab-df-quickchart:hover {\n",
              "    background-color: #434B5C;\n",
              "    box-shadow: 0px 1px 3px 1px rgba(0, 0, 0, 0.15);\n",
              "    filter: drop-shadow(0px 1px 2px rgba(0, 0, 0, 0.3));\n",
              "    fill: #FFFFFF;\n",
              "  }\n",
              "</style>\n",
              "\n",
              "    <script>\n",
              "      async function quickchart(key) {\n",
              "        const containerElement = document.querySelector('#' + key);\n",
              "        const charts = await google.colab.kernel.invokeFunction(\n",
              "            'suggestCharts', [key], {});\n",
              "      }\n",
              "    </script>\n",
              "\n",
              "      <script>\n",
              "\n",
              "function displayQuickchartButton(domScope) {\n",
              "  let quickchartButtonEl =\n",
              "    domScope.querySelector('#df-47e5c877-e479-4558-b7c4-262b9404284f button.colab-df-quickchart');\n",
              "  quickchartButtonEl.style.display =\n",
              "    google.colab.kernel.accessAllowed ? 'block' : 'none';\n",
              "}\n",
              "\n",
              "        displayQuickchartButton(document);\n",
              "      </script>\n",
              "      <style>\n",
              "    .colab-df-container {\n",
              "      display:flex;\n",
              "      flex-wrap:wrap;\n",
              "      gap: 12px;\n",
              "    }\n",
              "\n",
              "    .colab-df-convert {\n",
              "      background-color: #E8F0FE;\n",
              "      border: none;\n",
              "      border-radius: 50%;\n",
              "      cursor: pointer;\n",
              "      display: none;\n",
              "      fill: #1967D2;\n",
              "      height: 32px;\n",
              "      padding: 0 0 0 0;\n",
              "      width: 32px;\n",
              "    }\n",
              "\n",
              "    .colab-df-convert:hover {\n",
              "      background-color: #E2EBFA;\n",
              "      box-shadow: 0px 1px 2px rgba(60, 64, 67, 0.3), 0px 1px 3px 1px rgba(60, 64, 67, 0.15);\n",
              "      fill: #174EA6;\n",
              "    }\n",
              "\n",
              "    [theme=dark] .colab-df-convert {\n",
              "      background-color: #3B4455;\n",
              "      fill: #D2E3FC;\n",
              "    }\n",
              "\n",
              "    [theme=dark] .colab-df-convert:hover {\n",
              "      background-color: #434B5C;\n",
              "      box-shadow: 0px 1px 3px 1px rgba(0, 0, 0, 0.15);\n",
              "      filter: drop-shadow(0px 1px 2px rgba(0, 0, 0, 0.3));\n",
              "      fill: #FFFFFF;\n",
              "    }\n",
              "  </style>\n",
              "\n",
              "      <script>\n",
              "        const buttonEl =\n",
              "          document.querySelector('#df-ac4fe1f8-3ea2-4c6d-96d0-fa0dfe63cf9a button.colab-df-convert');\n",
              "        buttonEl.style.display =\n",
              "          google.colab.kernel.accessAllowed ? 'block' : 'none';\n",
              "\n",
              "        async function convertToInteractive(key) {\n",
              "          const element = document.querySelector('#df-ac4fe1f8-3ea2-4c6d-96d0-fa0dfe63cf9a');\n",
              "          const dataTable =\n",
              "            await google.colab.kernel.invokeFunction('convertToInteractive',\n",
              "                                                     [key], {});\n",
              "          if (!dataTable) return;\n",
              "\n",
              "          const docLinkHtml = 'Like what you see? Visit the ' +\n",
              "            '<a target=\"_blank\" href=https://colab.research.google.com/notebooks/data_table.ipynb>data table notebook</a>'\n",
              "            + ' to learn more about interactive tables.';\n",
              "          element.innerHTML = '';\n",
              "          dataTable['output_type'] = 'display_data';\n",
              "          await google.colab.output.renderOutput(dataTable, element);\n",
              "          const docLink = document.createElement('div');\n",
              "          docLink.innerHTML = docLinkHtml;\n",
              "          element.appendChild(docLink);\n",
              "        }\n",
              "      </script>\n",
              "    </div>\n",
              "  </div>\n"
            ]
          },
          "metadata": {},
          "execution_count": 7
        }
      ]
    },
    {
      "cell_type": "code",
      "source": [
        "ARG_AUS_events = sb.events(match_id=3869151) # ARG VS AUS\n",
        "ARG_AUS_events.head(3)"
      ],
      "metadata": {
        "colab": {
          "base_uri": "https://localhost:8080/",
          "height": 0
        },
        "id": "1TyO203gKg6g",
        "outputId": "50819ef1-20a1-4946-9ede-af2c99ec4cf5"
      },
      "execution_count": 8,
      "outputs": [
        {
          "output_type": "execute_result",
          "data": {
            "text/plain": [
              "  ball_receipt_outcome ball_recovery_recovery_failure block_deflection  \\\n",
              "0                  NaN                            NaN              NaN   \n",
              "1                  NaN                            NaN              NaN   \n",
              "2                  NaN                            NaN              NaN   \n",
              "\n",
              "  carry_end_location clearance_aerial_won clearance_body_part clearance_head  \\\n",
              "0                NaN                  NaN                 NaN            NaN   \n",
              "1                NaN                  NaN                 NaN            NaN   \n",
              "2                NaN                  NaN                 NaN            NaN   \n",
              "\n",
              "  clearance_left_foot clearance_right_foot counterpress  ... shot_technique  \\\n",
              "0                 NaN                  NaN          NaN  ...            NaN   \n",
              "1                 NaN                  NaN          NaN  ...            NaN   \n",
              "2                 NaN                  NaN          NaN  ...            NaN   \n",
              "\n",
              "  shot_type substitution_outcome substitution_replacement  \\\n",
              "0       NaN                  NaN                      NaN   \n",
              "1       NaN                  NaN                      NaN   \n",
              "2       NaN                  NaN                      NaN   \n",
              "\n",
              "                                             tactics       team team_id  \\\n",
              "0  {'formation': 433, 'lineup': [{'player': {'id'...  Argentina     779   \n",
              "1  {'formation': 442, 'lineup': [{'player': {'id'...  Australia     792   \n",
              "2                                                NaN  Australia     792   \n",
              "\n",
              "      timestamp         type under_pressure  \n",
              "0  00:00:00.000  Starting XI            NaN  \n",
              "1  00:00:00.000  Starting XI            NaN  \n",
              "2  00:00:00.000   Half Start            NaN  \n",
              "\n",
              "[3 rows x 86 columns]"
            ],
            "text/html": [
              "\n",
              "\n",
              "  <div id=\"df-fc08dca9-f689-45e3-97db-ec2294b5aa69\">\n",
              "    <div class=\"colab-df-container\">\n",
              "      <div>\n",
              "<style scoped>\n",
              "    .dataframe tbody tr th:only-of-type {\n",
              "        vertical-align: middle;\n",
              "    }\n",
              "\n",
              "    .dataframe tbody tr th {\n",
              "        vertical-align: top;\n",
              "    }\n",
              "\n",
              "    .dataframe thead th {\n",
              "        text-align: right;\n",
              "    }\n",
              "</style>\n",
              "<table border=\"1\" class=\"dataframe\">\n",
              "  <thead>\n",
              "    <tr style=\"text-align: right;\">\n",
              "      <th></th>\n",
              "      <th>ball_receipt_outcome</th>\n",
              "      <th>ball_recovery_recovery_failure</th>\n",
              "      <th>block_deflection</th>\n",
              "      <th>carry_end_location</th>\n",
              "      <th>clearance_aerial_won</th>\n",
              "      <th>clearance_body_part</th>\n",
              "      <th>clearance_head</th>\n",
              "      <th>clearance_left_foot</th>\n",
              "      <th>clearance_right_foot</th>\n",
              "      <th>counterpress</th>\n",
              "      <th>...</th>\n",
              "      <th>shot_technique</th>\n",
              "      <th>shot_type</th>\n",
              "      <th>substitution_outcome</th>\n",
              "      <th>substitution_replacement</th>\n",
              "      <th>tactics</th>\n",
              "      <th>team</th>\n",
              "      <th>team_id</th>\n",
              "      <th>timestamp</th>\n",
              "      <th>type</th>\n",
              "      <th>under_pressure</th>\n",
              "    </tr>\n",
              "  </thead>\n",
              "  <tbody>\n",
              "    <tr>\n",
              "      <th>0</th>\n",
              "      <td>NaN</td>\n",
              "      <td>NaN</td>\n",
              "      <td>NaN</td>\n",
              "      <td>NaN</td>\n",
              "      <td>NaN</td>\n",
              "      <td>NaN</td>\n",
              "      <td>NaN</td>\n",
              "      <td>NaN</td>\n",
              "      <td>NaN</td>\n",
              "      <td>NaN</td>\n",
              "      <td>...</td>\n",
              "      <td>NaN</td>\n",
              "      <td>NaN</td>\n",
              "      <td>NaN</td>\n",
              "      <td>NaN</td>\n",
              "      <td>{'formation': 433, 'lineup': [{'player': {'id'...</td>\n",
              "      <td>Argentina</td>\n",
              "      <td>779</td>\n",
              "      <td>00:00:00.000</td>\n",
              "      <td>Starting XI</td>\n",
              "      <td>NaN</td>\n",
              "    </tr>\n",
              "    <tr>\n",
              "      <th>1</th>\n",
              "      <td>NaN</td>\n",
              "      <td>NaN</td>\n",
              "      <td>NaN</td>\n",
              "      <td>NaN</td>\n",
              "      <td>NaN</td>\n",
              "      <td>NaN</td>\n",
              "      <td>NaN</td>\n",
              "      <td>NaN</td>\n",
              "      <td>NaN</td>\n",
              "      <td>NaN</td>\n",
              "      <td>...</td>\n",
              "      <td>NaN</td>\n",
              "      <td>NaN</td>\n",
              "      <td>NaN</td>\n",
              "      <td>NaN</td>\n",
              "      <td>{'formation': 442, 'lineup': [{'player': {'id'...</td>\n",
              "      <td>Australia</td>\n",
              "      <td>792</td>\n",
              "      <td>00:00:00.000</td>\n",
              "      <td>Starting XI</td>\n",
              "      <td>NaN</td>\n",
              "    </tr>\n",
              "    <tr>\n",
              "      <th>2</th>\n",
              "      <td>NaN</td>\n",
              "      <td>NaN</td>\n",
              "      <td>NaN</td>\n",
              "      <td>NaN</td>\n",
              "      <td>NaN</td>\n",
              "      <td>NaN</td>\n",
              "      <td>NaN</td>\n",
              "      <td>NaN</td>\n",
              "      <td>NaN</td>\n",
              "      <td>NaN</td>\n",
              "      <td>...</td>\n",
              "      <td>NaN</td>\n",
              "      <td>NaN</td>\n",
              "      <td>NaN</td>\n",
              "      <td>NaN</td>\n",
              "      <td>NaN</td>\n",
              "      <td>Australia</td>\n",
              "      <td>792</td>\n",
              "      <td>00:00:00.000</td>\n",
              "      <td>Half Start</td>\n",
              "      <td>NaN</td>\n",
              "    </tr>\n",
              "  </tbody>\n",
              "</table>\n",
              "<p>3 rows × 86 columns</p>\n",
              "</div>\n",
              "      <button class=\"colab-df-convert\" onclick=\"convertToInteractive('df-fc08dca9-f689-45e3-97db-ec2294b5aa69')\"\n",
              "              title=\"Convert this dataframe to an interactive table.\"\n",
              "              style=\"display:none;\">\n",
              "\n",
              "  <svg xmlns=\"http://www.w3.org/2000/svg\" height=\"24px\"viewBox=\"0 0 24 24\"\n",
              "       width=\"24px\">\n",
              "    <path d=\"M0 0h24v24H0V0z\" fill=\"none\"/>\n",
              "    <path d=\"M18.56 5.44l.94 2.06.94-2.06 2.06-.94-2.06-.94-.94-2.06-.94 2.06-2.06.94zm-11 1L8.5 8.5l.94-2.06 2.06-.94-2.06-.94L8.5 2.5l-.94 2.06-2.06.94zm10 10l.94 2.06.94-2.06 2.06-.94-2.06-.94-.94-2.06-.94 2.06-2.06.94z\"/><path d=\"M17.41 7.96l-1.37-1.37c-.4-.4-.92-.59-1.43-.59-.52 0-1.04.2-1.43.59L10.3 9.45l-7.72 7.72c-.78.78-.78 2.05 0 2.83L4 21.41c.39.39.9.59 1.41.59.51 0 1.02-.2 1.41-.59l7.78-7.78 2.81-2.81c.8-.78.8-2.07 0-2.86zM5.41 20L4 18.59l7.72-7.72 1.47 1.35L5.41 20z\"/>\n",
              "  </svg>\n",
              "      </button>\n",
              "\n",
              "\n",
              "\n",
              "    <div id=\"df-7f493f46-a978-43a5-9f33-4f65ed1cbbaf\">\n",
              "      <button class=\"colab-df-quickchart\" onclick=\"quickchart('df-7f493f46-a978-43a5-9f33-4f65ed1cbbaf')\"\n",
              "              title=\"Suggest charts.\"\n",
              "              style=\"display:none;\">\n",
              "\n",
              "<svg xmlns=\"http://www.w3.org/2000/svg\" height=\"24px\"viewBox=\"0 0 24 24\"\n",
              "     width=\"24px\">\n",
              "    <g>\n",
              "        <path d=\"M19 3H5c-1.1 0-2 .9-2 2v14c0 1.1.9 2 2 2h14c1.1 0 2-.9 2-2V5c0-1.1-.9-2-2-2zM9 17H7v-7h2v7zm4 0h-2V7h2v10zm4 0h-2v-4h2v4z\"/>\n",
              "    </g>\n",
              "</svg>\n",
              "      </button>\n",
              "    </div>\n",
              "\n",
              "<style>\n",
              "  .colab-df-quickchart {\n",
              "    background-color: #E8F0FE;\n",
              "    border: none;\n",
              "    border-radius: 50%;\n",
              "    cursor: pointer;\n",
              "    display: none;\n",
              "    fill: #1967D2;\n",
              "    height: 32px;\n",
              "    padding: 0 0 0 0;\n",
              "    width: 32px;\n",
              "  }\n",
              "\n",
              "  .colab-df-quickchart:hover {\n",
              "    background-color: #E2EBFA;\n",
              "    box-shadow: 0px 1px 2px rgba(60, 64, 67, 0.3), 0px 1px 3px 1px rgba(60, 64, 67, 0.15);\n",
              "    fill: #174EA6;\n",
              "  }\n",
              "\n",
              "  [theme=dark] .colab-df-quickchart {\n",
              "    background-color: #3B4455;\n",
              "    fill: #D2E3FC;\n",
              "  }\n",
              "\n",
              "  [theme=dark] .colab-df-quickchart:hover {\n",
              "    background-color: #434B5C;\n",
              "    box-shadow: 0px 1px 3px 1px rgba(0, 0, 0, 0.15);\n",
              "    filter: drop-shadow(0px 1px 2px rgba(0, 0, 0, 0.3));\n",
              "    fill: #FFFFFF;\n",
              "  }\n",
              "</style>\n",
              "\n",
              "    <script>\n",
              "      async function quickchart(key) {\n",
              "        const containerElement = document.querySelector('#' + key);\n",
              "        const charts = await google.colab.kernel.invokeFunction(\n",
              "            'suggestCharts', [key], {});\n",
              "      }\n",
              "    </script>\n",
              "\n",
              "      <script>\n",
              "\n",
              "function displayQuickchartButton(domScope) {\n",
              "  let quickchartButtonEl =\n",
              "    domScope.querySelector('#df-7f493f46-a978-43a5-9f33-4f65ed1cbbaf button.colab-df-quickchart');\n",
              "  quickchartButtonEl.style.display =\n",
              "    google.colab.kernel.accessAllowed ? 'block' : 'none';\n",
              "}\n",
              "\n",
              "        displayQuickchartButton(document);\n",
              "      </script>\n",
              "      <style>\n",
              "    .colab-df-container {\n",
              "      display:flex;\n",
              "      flex-wrap:wrap;\n",
              "      gap: 12px;\n",
              "    }\n",
              "\n",
              "    .colab-df-convert {\n",
              "      background-color: #E8F0FE;\n",
              "      border: none;\n",
              "      border-radius: 50%;\n",
              "      cursor: pointer;\n",
              "      display: none;\n",
              "      fill: #1967D2;\n",
              "      height: 32px;\n",
              "      padding: 0 0 0 0;\n",
              "      width: 32px;\n",
              "    }\n",
              "\n",
              "    .colab-df-convert:hover {\n",
              "      background-color: #E2EBFA;\n",
              "      box-shadow: 0px 1px 2px rgba(60, 64, 67, 0.3), 0px 1px 3px 1px rgba(60, 64, 67, 0.15);\n",
              "      fill: #174EA6;\n",
              "    }\n",
              "\n",
              "    [theme=dark] .colab-df-convert {\n",
              "      background-color: #3B4455;\n",
              "      fill: #D2E3FC;\n",
              "    }\n",
              "\n",
              "    [theme=dark] .colab-df-convert:hover {\n",
              "      background-color: #434B5C;\n",
              "      box-shadow: 0px 1px 3px 1px rgba(0, 0, 0, 0.15);\n",
              "      filter: drop-shadow(0px 1px 2px rgba(0, 0, 0, 0.3));\n",
              "      fill: #FFFFFF;\n",
              "    }\n",
              "  </style>\n",
              "\n",
              "      <script>\n",
              "        const buttonEl =\n",
              "          document.querySelector('#df-fc08dca9-f689-45e3-97db-ec2294b5aa69 button.colab-df-convert');\n",
              "        buttonEl.style.display =\n",
              "          google.colab.kernel.accessAllowed ? 'block' : 'none';\n",
              "\n",
              "        async function convertToInteractive(key) {\n",
              "          const element = document.querySelector('#df-fc08dca9-f689-45e3-97db-ec2294b5aa69');\n",
              "          const dataTable =\n",
              "            await google.colab.kernel.invokeFunction('convertToInteractive',\n",
              "                                                     [key], {});\n",
              "          if (!dataTable) return;\n",
              "\n",
              "          const docLinkHtml = 'Like what you see? Visit the ' +\n",
              "            '<a target=\"_blank\" href=https://colab.research.google.com/notebooks/data_table.ipynb>data table notebook</a>'\n",
              "            + ' to learn more about interactive tables.';\n",
              "          element.innerHTML = '';\n",
              "          dataTable['output_type'] = 'display_data';\n",
              "          await google.colab.output.renderOutput(dataTable, element);\n",
              "          const docLink = document.createElement('div');\n",
              "          docLink.innerHTML = docLinkHtml;\n",
              "          element.appendChild(docLink);\n",
              "        }\n",
              "      </script>\n",
              "    </div>\n",
              "  </div>\n"
            ]
          },
          "metadata": {},
          "execution_count": 8
        }
      ]
    },
    {
      "cell_type": "code",
      "source": [
        "sb.events(match_id=3869151, split=True, flatten_attrs=False)[\"dribbles\"].head(3)"
      ],
      "metadata": {
        "colab": {
          "base_uri": "https://localhost:8080/",
          "height": 0
        },
        "id": "aqmJX5hs13g_",
        "outputId": "5c9af333-6130-46a0-ca92-4008fe8e2370"
      },
      "execution_count": 9,
      "outputs": [
        {
          "output_type": "execute_result",
          "data": {
            "text/plain": [
              "                                     id  index  period     timestamp  minute  \\\n",
              "0  99b8ff1b-6a2e-4760-80e0-23ea3faad7b4    542       1  00:10:39.234      10   \n",
              "1  535ff683-fb17-453c-a244-47bb68ed945a    899       1  00:18:00.854      18   \n",
              "2  abba290b-f012-4617-83a5-629d6884a7bf   1446       1  00:29:08.965      29   \n",
              "\n",
              "   second     type  possession possession_team   play_pattern  ...  \\\n",
              "0      39  Dribble          19       Argentina  From Throw In  ...   \n",
              "1       0  Dribble          27       Argentina   Regular Play  ...   \n",
              "2       8  Dribble          45       Australia   Regular Play  ...   \n",
              "\n",
              "     position      location duration under_pressure  \\\n",
              "0   Left Wing  [37.4, 19.6]      0.0           True   \n",
              "1  Right Back  [33.3, 75.3]      0.0           True   \n",
              "2  Right Back  [19.4, 72.3]      0.0           True   \n",
              "\n",
              "                                      related_events  \\\n",
              "0  [538e28ba-619c-4dc2-9000-813213a7d2b2, 9002f77...   \n",
              "1             [3bbe48cd-14c3-4d28-a52b-70d9a3495e6f]   \n",
              "2             [a704f209-00a7-42f4-a4c2-ca05c38d5c69]   \n",
              "\n",
              "                                        dribble match_id possession_team_id  \\\n",
              "0  {'outcome': {'id': 9, 'name': 'Incomplete'}}  3869151                779   \n",
              "1  {'outcome': {'id': 9, 'name': 'Incomplete'}}  3869151                779   \n",
              "2    {'outcome': {'id': 8, 'name': 'Complete'}}  3869151                792   \n",
              "\n",
              "   team_id  player_id  \n",
              "0      779       7006  \n",
              "1      779      29201  \n",
              "2      792      15957  \n",
              "\n",
              "[3 rows x 22 columns]"
            ],
            "text/html": [
              "\n",
              "\n",
              "  <div id=\"df-f4fa9b08-c288-4a67-80ba-b5a037a41f9f\">\n",
              "    <div class=\"colab-df-container\">\n",
              "      <div>\n",
              "<style scoped>\n",
              "    .dataframe tbody tr th:only-of-type {\n",
              "        vertical-align: middle;\n",
              "    }\n",
              "\n",
              "    .dataframe tbody tr th {\n",
              "        vertical-align: top;\n",
              "    }\n",
              "\n",
              "    .dataframe thead th {\n",
              "        text-align: right;\n",
              "    }\n",
              "</style>\n",
              "<table border=\"1\" class=\"dataframe\">\n",
              "  <thead>\n",
              "    <tr style=\"text-align: right;\">\n",
              "      <th></th>\n",
              "      <th>id</th>\n",
              "      <th>index</th>\n",
              "      <th>period</th>\n",
              "      <th>timestamp</th>\n",
              "      <th>minute</th>\n",
              "      <th>second</th>\n",
              "      <th>type</th>\n",
              "      <th>possession</th>\n",
              "      <th>possession_team</th>\n",
              "      <th>play_pattern</th>\n",
              "      <th>...</th>\n",
              "      <th>position</th>\n",
              "      <th>location</th>\n",
              "      <th>duration</th>\n",
              "      <th>under_pressure</th>\n",
              "      <th>related_events</th>\n",
              "      <th>dribble</th>\n",
              "      <th>match_id</th>\n",
              "      <th>possession_team_id</th>\n",
              "      <th>team_id</th>\n",
              "      <th>player_id</th>\n",
              "    </tr>\n",
              "  </thead>\n",
              "  <tbody>\n",
              "    <tr>\n",
              "      <th>0</th>\n",
              "      <td>99b8ff1b-6a2e-4760-80e0-23ea3faad7b4</td>\n",
              "      <td>542</td>\n",
              "      <td>1</td>\n",
              "      <td>00:10:39.234</td>\n",
              "      <td>10</td>\n",
              "      <td>39</td>\n",
              "      <td>Dribble</td>\n",
              "      <td>19</td>\n",
              "      <td>Argentina</td>\n",
              "      <td>From Throw In</td>\n",
              "      <td>...</td>\n",
              "      <td>Left Wing</td>\n",
              "      <td>[37.4, 19.6]</td>\n",
              "      <td>0.0</td>\n",
              "      <td>True</td>\n",
              "      <td>[538e28ba-619c-4dc2-9000-813213a7d2b2, 9002f77...</td>\n",
              "      <td>{'outcome': {'id': 9, 'name': 'Incomplete'}}</td>\n",
              "      <td>3869151</td>\n",
              "      <td>779</td>\n",
              "      <td>779</td>\n",
              "      <td>7006</td>\n",
              "    </tr>\n",
              "    <tr>\n",
              "      <th>1</th>\n",
              "      <td>535ff683-fb17-453c-a244-47bb68ed945a</td>\n",
              "      <td>899</td>\n",
              "      <td>1</td>\n",
              "      <td>00:18:00.854</td>\n",
              "      <td>18</td>\n",
              "      <td>0</td>\n",
              "      <td>Dribble</td>\n",
              "      <td>27</td>\n",
              "      <td>Argentina</td>\n",
              "      <td>Regular Play</td>\n",
              "      <td>...</td>\n",
              "      <td>Right Back</td>\n",
              "      <td>[33.3, 75.3]</td>\n",
              "      <td>0.0</td>\n",
              "      <td>True</td>\n",
              "      <td>[3bbe48cd-14c3-4d28-a52b-70d9a3495e6f]</td>\n",
              "      <td>{'outcome': {'id': 9, 'name': 'Incomplete'}}</td>\n",
              "      <td>3869151</td>\n",
              "      <td>779</td>\n",
              "      <td>779</td>\n",
              "      <td>29201</td>\n",
              "    </tr>\n",
              "    <tr>\n",
              "      <th>2</th>\n",
              "      <td>abba290b-f012-4617-83a5-629d6884a7bf</td>\n",
              "      <td>1446</td>\n",
              "      <td>1</td>\n",
              "      <td>00:29:08.965</td>\n",
              "      <td>29</td>\n",
              "      <td>8</td>\n",
              "      <td>Dribble</td>\n",
              "      <td>45</td>\n",
              "      <td>Australia</td>\n",
              "      <td>Regular Play</td>\n",
              "      <td>...</td>\n",
              "      <td>Right Back</td>\n",
              "      <td>[19.4, 72.3]</td>\n",
              "      <td>0.0</td>\n",
              "      <td>True</td>\n",
              "      <td>[a704f209-00a7-42f4-a4c2-ca05c38d5c69]</td>\n",
              "      <td>{'outcome': {'id': 8, 'name': 'Complete'}}</td>\n",
              "      <td>3869151</td>\n",
              "      <td>792</td>\n",
              "      <td>792</td>\n",
              "      <td>15957</td>\n",
              "    </tr>\n",
              "  </tbody>\n",
              "</table>\n",
              "<p>3 rows × 22 columns</p>\n",
              "</div>\n",
              "      <button class=\"colab-df-convert\" onclick=\"convertToInteractive('df-f4fa9b08-c288-4a67-80ba-b5a037a41f9f')\"\n",
              "              title=\"Convert this dataframe to an interactive table.\"\n",
              "              style=\"display:none;\">\n",
              "\n",
              "  <svg xmlns=\"http://www.w3.org/2000/svg\" height=\"24px\"viewBox=\"0 0 24 24\"\n",
              "       width=\"24px\">\n",
              "    <path d=\"M0 0h24v24H0V0z\" fill=\"none\"/>\n",
              "    <path d=\"M18.56 5.44l.94 2.06.94-2.06 2.06-.94-2.06-.94-.94-2.06-.94 2.06-2.06.94zm-11 1L8.5 8.5l.94-2.06 2.06-.94-2.06-.94L8.5 2.5l-.94 2.06-2.06.94zm10 10l.94 2.06.94-2.06 2.06-.94-2.06-.94-.94-2.06-.94 2.06-2.06.94z\"/><path d=\"M17.41 7.96l-1.37-1.37c-.4-.4-.92-.59-1.43-.59-.52 0-1.04.2-1.43.59L10.3 9.45l-7.72 7.72c-.78.78-.78 2.05 0 2.83L4 21.41c.39.39.9.59 1.41.59.51 0 1.02-.2 1.41-.59l7.78-7.78 2.81-2.81c.8-.78.8-2.07 0-2.86zM5.41 20L4 18.59l7.72-7.72 1.47 1.35L5.41 20z\"/>\n",
              "  </svg>\n",
              "      </button>\n",
              "\n",
              "\n",
              "\n",
              "    <div id=\"df-a080ccbf-df42-426c-b2a4-d3a636f7ac6d\">\n",
              "      <button class=\"colab-df-quickchart\" onclick=\"quickchart('df-a080ccbf-df42-426c-b2a4-d3a636f7ac6d')\"\n",
              "              title=\"Suggest charts.\"\n",
              "              style=\"display:none;\">\n",
              "\n",
              "<svg xmlns=\"http://www.w3.org/2000/svg\" height=\"24px\"viewBox=\"0 0 24 24\"\n",
              "     width=\"24px\">\n",
              "    <g>\n",
              "        <path d=\"M19 3H5c-1.1 0-2 .9-2 2v14c0 1.1.9 2 2 2h14c1.1 0 2-.9 2-2V5c0-1.1-.9-2-2-2zM9 17H7v-7h2v7zm4 0h-2V7h2v10zm4 0h-2v-4h2v4z\"/>\n",
              "    </g>\n",
              "</svg>\n",
              "      </button>\n",
              "    </div>\n",
              "\n",
              "<style>\n",
              "  .colab-df-quickchart {\n",
              "    background-color: #E8F0FE;\n",
              "    border: none;\n",
              "    border-radius: 50%;\n",
              "    cursor: pointer;\n",
              "    display: none;\n",
              "    fill: #1967D2;\n",
              "    height: 32px;\n",
              "    padding: 0 0 0 0;\n",
              "    width: 32px;\n",
              "  }\n",
              "\n",
              "  .colab-df-quickchart:hover {\n",
              "    background-color: #E2EBFA;\n",
              "    box-shadow: 0px 1px 2px rgba(60, 64, 67, 0.3), 0px 1px 3px 1px rgba(60, 64, 67, 0.15);\n",
              "    fill: #174EA6;\n",
              "  }\n",
              "\n",
              "  [theme=dark] .colab-df-quickchart {\n",
              "    background-color: #3B4455;\n",
              "    fill: #D2E3FC;\n",
              "  }\n",
              "\n",
              "  [theme=dark] .colab-df-quickchart:hover {\n",
              "    background-color: #434B5C;\n",
              "    box-shadow: 0px 1px 3px 1px rgba(0, 0, 0, 0.15);\n",
              "    filter: drop-shadow(0px 1px 2px rgba(0, 0, 0, 0.3));\n",
              "    fill: #FFFFFF;\n",
              "  }\n",
              "</style>\n",
              "\n",
              "    <script>\n",
              "      async function quickchart(key) {\n",
              "        const containerElement = document.querySelector('#' + key);\n",
              "        const charts = await google.colab.kernel.invokeFunction(\n",
              "            'suggestCharts', [key], {});\n",
              "      }\n",
              "    </script>\n",
              "\n",
              "      <script>\n",
              "\n",
              "function displayQuickchartButton(domScope) {\n",
              "  let quickchartButtonEl =\n",
              "    domScope.querySelector('#df-a080ccbf-df42-426c-b2a4-d3a636f7ac6d button.colab-df-quickchart');\n",
              "  quickchartButtonEl.style.display =\n",
              "    google.colab.kernel.accessAllowed ? 'block' : 'none';\n",
              "}\n",
              "\n",
              "        displayQuickchartButton(document);\n",
              "      </script>\n",
              "      <style>\n",
              "    .colab-df-container {\n",
              "      display:flex;\n",
              "      flex-wrap:wrap;\n",
              "      gap: 12px;\n",
              "    }\n",
              "\n",
              "    .colab-df-convert {\n",
              "      background-color: #E8F0FE;\n",
              "      border: none;\n",
              "      border-radius: 50%;\n",
              "      cursor: pointer;\n",
              "      display: none;\n",
              "      fill: #1967D2;\n",
              "      height: 32px;\n",
              "      padding: 0 0 0 0;\n",
              "      width: 32px;\n",
              "    }\n",
              "\n",
              "    .colab-df-convert:hover {\n",
              "      background-color: #E2EBFA;\n",
              "      box-shadow: 0px 1px 2px rgba(60, 64, 67, 0.3), 0px 1px 3px 1px rgba(60, 64, 67, 0.15);\n",
              "      fill: #174EA6;\n",
              "    }\n",
              "\n",
              "    [theme=dark] .colab-df-convert {\n",
              "      background-color: #3B4455;\n",
              "      fill: #D2E3FC;\n",
              "    }\n",
              "\n",
              "    [theme=dark] .colab-df-convert:hover {\n",
              "      background-color: #434B5C;\n",
              "      box-shadow: 0px 1px 3px 1px rgba(0, 0, 0, 0.15);\n",
              "      filter: drop-shadow(0px 1px 2px rgba(0, 0, 0, 0.3));\n",
              "      fill: #FFFFFF;\n",
              "    }\n",
              "  </style>\n",
              "\n",
              "      <script>\n",
              "        const buttonEl =\n",
              "          document.querySelector('#df-f4fa9b08-c288-4a67-80ba-b5a037a41f9f button.colab-df-convert');\n",
              "        buttonEl.style.display =\n",
              "          google.colab.kernel.accessAllowed ? 'block' : 'none';\n",
              "\n",
              "        async function convertToInteractive(key) {\n",
              "          const element = document.querySelector('#df-f4fa9b08-c288-4a67-80ba-b5a037a41f9f');\n",
              "          const dataTable =\n",
              "            await google.colab.kernel.invokeFunction('convertToInteractive',\n",
              "                                                     [key], {});\n",
              "          if (!dataTable) return;\n",
              "\n",
              "          const docLinkHtml = 'Like what you see? Visit the ' +\n",
              "            '<a target=\"_blank\" href=https://colab.research.google.com/notebooks/data_table.ipynb>data table notebook</a>'\n",
              "            + ' to learn more about interactive tables.';\n",
              "          element.innerHTML = '';\n",
              "          dataTable['output_type'] = 'display_data';\n",
              "          await google.colab.output.renderOutput(dataTable, element);\n",
              "          const docLink = document.createElement('div');\n",
              "          docLink.innerHTML = docLinkHtml;\n",
              "          element.appendChild(docLink);\n",
              "        }\n",
              "      </script>\n",
              "    </div>\n",
              "  </div>\n"
            ]
          },
          "metadata": {},
          "execution_count": 9
        }
      ]
    },
    {
      "cell_type": "code",
      "source": [
        "sb.lineups(match_id=3869151)[\"Argentina\"].head(3)"
      ],
      "metadata": {
        "colab": {
          "base_uri": "https://localhost:8080/",
          "height": 0
        },
        "id": "HCUncUG2LjF-",
        "outputId": "76fcef56-f560-4750-fe99-928c6773c1ce"
      },
      "execution_count": 10,
      "outputs": [
        {
          "output_type": "execute_result",
          "data": {
            "text/plain": [
              "   player_id                      player_name   player_nickname  \\\n",
              "0       2995  Ángel Fabián Di María Hernández    Ángel Di María   \n",
              "1       3090          Nicolás Hernán Otamendi  Nicolás Otamendi   \n",
              "2       5503   Lionel Andrés Messi Cuccittini      Lionel Messi   \n",
              "\n",
              "   jersey_number    country cards  \\\n",
              "0             11  Argentina    []   \n",
              "1             19  Argentina    []   \n",
              "2             10  Argentina    []   \n",
              "\n",
              "                                           positions  \n",
              "0                                                 []  \n",
              "1  [{'position_id': 5, 'position': 'Left Center B...  \n",
              "2  [{'position_id': 23, 'position': 'Center Forwa...  "
            ],
            "text/html": [
              "\n",
              "\n",
              "  <div id=\"df-dc98e421-1a68-46a1-b864-502b2e38f9d9\">\n",
              "    <div class=\"colab-df-container\">\n",
              "      <div>\n",
              "<style scoped>\n",
              "    .dataframe tbody tr th:only-of-type {\n",
              "        vertical-align: middle;\n",
              "    }\n",
              "\n",
              "    .dataframe tbody tr th {\n",
              "        vertical-align: top;\n",
              "    }\n",
              "\n",
              "    .dataframe thead th {\n",
              "        text-align: right;\n",
              "    }\n",
              "</style>\n",
              "<table border=\"1\" class=\"dataframe\">\n",
              "  <thead>\n",
              "    <tr style=\"text-align: right;\">\n",
              "      <th></th>\n",
              "      <th>player_id</th>\n",
              "      <th>player_name</th>\n",
              "      <th>player_nickname</th>\n",
              "      <th>jersey_number</th>\n",
              "      <th>country</th>\n",
              "      <th>cards</th>\n",
              "      <th>positions</th>\n",
              "    </tr>\n",
              "  </thead>\n",
              "  <tbody>\n",
              "    <tr>\n",
              "      <th>0</th>\n",
              "      <td>2995</td>\n",
              "      <td>Ángel Fabián Di María Hernández</td>\n",
              "      <td>Ángel Di María</td>\n",
              "      <td>11</td>\n",
              "      <td>Argentina</td>\n",
              "      <td>[]</td>\n",
              "      <td>[]</td>\n",
              "    </tr>\n",
              "    <tr>\n",
              "      <th>1</th>\n",
              "      <td>3090</td>\n",
              "      <td>Nicolás Hernán Otamendi</td>\n",
              "      <td>Nicolás Otamendi</td>\n",
              "      <td>19</td>\n",
              "      <td>Argentina</td>\n",
              "      <td>[]</td>\n",
              "      <td>[{'position_id': 5, 'position': 'Left Center B...</td>\n",
              "    </tr>\n",
              "    <tr>\n",
              "      <th>2</th>\n",
              "      <td>5503</td>\n",
              "      <td>Lionel Andrés Messi Cuccittini</td>\n",
              "      <td>Lionel Messi</td>\n",
              "      <td>10</td>\n",
              "      <td>Argentina</td>\n",
              "      <td>[]</td>\n",
              "      <td>[{'position_id': 23, 'position': 'Center Forwa...</td>\n",
              "    </tr>\n",
              "  </tbody>\n",
              "</table>\n",
              "</div>\n",
              "      <button class=\"colab-df-convert\" onclick=\"convertToInteractive('df-dc98e421-1a68-46a1-b864-502b2e38f9d9')\"\n",
              "              title=\"Convert this dataframe to an interactive table.\"\n",
              "              style=\"display:none;\">\n",
              "\n",
              "  <svg xmlns=\"http://www.w3.org/2000/svg\" height=\"24px\"viewBox=\"0 0 24 24\"\n",
              "       width=\"24px\">\n",
              "    <path d=\"M0 0h24v24H0V0z\" fill=\"none\"/>\n",
              "    <path d=\"M18.56 5.44l.94 2.06.94-2.06 2.06-.94-2.06-.94-.94-2.06-.94 2.06-2.06.94zm-11 1L8.5 8.5l.94-2.06 2.06-.94-2.06-.94L8.5 2.5l-.94 2.06-2.06.94zm10 10l.94 2.06.94-2.06 2.06-.94-2.06-.94-.94-2.06-.94 2.06-2.06.94z\"/><path d=\"M17.41 7.96l-1.37-1.37c-.4-.4-.92-.59-1.43-.59-.52 0-1.04.2-1.43.59L10.3 9.45l-7.72 7.72c-.78.78-.78 2.05 0 2.83L4 21.41c.39.39.9.59 1.41.59.51 0 1.02-.2 1.41-.59l7.78-7.78 2.81-2.81c.8-.78.8-2.07 0-2.86zM5.41 20L4 18.59l7.72-7.72 1.47 1.35L5.41 20z\"/>\n",
              "  </svg>\n",
              "      </button>\n",
              "\n",
              "\n",
              "\n",
              "    <div id=\"df-50cccd5a-98d7-4f64-b383-4c48c9389b11\">\n",
              "      <button class=\"colab-df-quickchart\" onclick=\"quickchart('df-50cccd5a-98d7-4f64-b383-4c48c9389b11')\"\n",
              "              title=\"Suggest charts.\"\n",
              "              style=\"display:none;\">\n",
              "\n",
              "<svg xmlns=\"http://www.w3.org/2000/svg\" height=\"24px\"viewBox=\"0 0 24 24\"\n",
              "     width=\"24px\">\n",
              "    <g>\n",
              "        <path d=\"M19 3H5c-1.1 0-2 .9-2 2v14c0 1.1.9 2 2 2h14c1.1 0 2-.9 2-2V5c0-1.1-.9-2-2-2zM9 17H7v-7h2v7zm4 0h-2V7h2v10zm4 0h-2v-4h2v4z\"/>\n",
              "    </g>\n",
              "</svg>\n",
              "      </button>\n",
              "    </div>\n",
              "\n",
              "<style>\n",
              "  .colab-df-quickchart {\n",
              "    background-color: #E8F0FE;\n",
              "    border: none;\n",
              "    border-radius: 50%;\n",
              "    cursor: pointer;\n",
              "    display: none;\n",
              "    fill: #1967D2;\n",
              "    height: 32px;\n",
              "    padding: 0 0 0 0;\n",
              "    width: 32px;\n",
              "  }\n",
              "\n",
              "  .colab-df-quickchart:hover {\n",
              "    background-color: #E2EBFA;\n",
              "    box-shadow: 0px 1px 2px rgba(60, 64, 67, 0.3), 0px 1px 3px 1px rgba(60, 64, 67, 0.15);\n",
              "    fill: #174EA6;\n",
              "  }\n",
              "\n",
              "  [theme=dark] .colab-df-quickchart {\n",
              "    background-color: #3B4455;\n",
              "    fill: #D2E3FC;\n",
              "  }\n",
              "\n",
              "  [theme=dark] .colab-df-quickchart:hover {\n",
              "    background-color: #434B5C;\n",
              "    box-shadow: 0px 1px 3px 1px rgba(0, 0, 0, 0.15);\n",
              "    filter: drop-shadow(0px 1px 2px rgba(0, 0, 0, 0.3));\n",
              "    fill: #FFFFFF;\n",
              "  }\n",
              "</style>\n",
              "\n",
              "    <script>\n",
              "      async function quickchart(key) {\n",
              "        const containerElement = document.querySelector('#' + key);\n",
              "        const charts = await google.colab.kernel.invokeFunction(\n",
              "            'suggestCharts', [key], {});\n",
              "      }\n",
              "    </script>\n",
              "\n",
              "      <script>\n",
              "\n",
              "function displayQuickchartButton(domScope) {\n",
              "  let quickchartButtonEl =\n",
              "    domScope.querySelector('#df-50cccd5a-98d7-4f64-b383-4c48c9389b11 button.colab-df-quickchart');\n",
              "  quickchartButtonEl.style.display =\n",
              "    google.colab.kernel.accessAllowed ? 'block' : 'none';\n",
              "}\n",
              "\n",
              "        displayQuickchartButton(document);\n",
              "      </script>\n",
              "      <style>\n",
              "    .colab-df-container {\n",
              "      display:flex;\n",
              "      flex-wrap:wrap;\n",
              "      gap: 12px;\n",
              "    }\n",
              "\n",
              "    .colab-df-convert {\n",
              "      background-color: #E8F0FE;\n",
              "      border: none;\n",
              "      border-radius: 50%;\n",
              "      cursor: pointer;\n",
              "      display: none;\n",
              "      fill: #1967D2;\n",
              "      height: 32px;\n",
              "      padding: 0 0 0 0;\n",
              "      width: 32px;\n",
              "    }\n",
              "\n",
              "    .colab-df-convert:hover {\n",
              "      background-color: #E2EBFA;\n",
              "      box-shadow: 0px 1px 2px rgba(60, 64, 67, 0.3), 0px 1px 3px 1px rgba(60, 64, 67, 0.15);\n",
              "      fill: #174EA6;\n",
              "    }\n",
              "\n",
              "    [theme=dark] .colab-df-convert {\n",
              "      background-color: #3B4455;\n",
              "      fill: #D2E3FC;\n",
              "    }\n",
              "\n",
              "    [theme=dark] .colab-df-convert:hover {\n",
              "      background-color: #434B5C;\n",
              "      box-shadow: 0px 1px 3px 1px rgba(0, 0, 0, 0.15);\n",
              "      filter: drop-shadow(0px 1px 2px rgba(0, 0, 0, 0.3));\n",
              "      fill: #FFFFFF;\n",
              "    }\n",
              "  </style>\n",
              "\n",
              "      <script>\n",
              "        const buttonEl =\n",
              "          document.querySelector('#df-dc98e421-1a68-46a1-b864-502b2e38f9d9 button.colab-df-convert');\n",
              "        buttonEl.style.display =\n",
              "          google.colab.kernel.accessAllowed ? 'block' : 'none';\n",
              "\n",
              "        async function convertToInteractive(key) {\n",
              "          const element = document.querySelector('#df-dc98e421-1a68-46a1-b864-502b2e38f9d9');\n",
              "          const dataTable =\n",
              "            await google.colab.kernel.invokeFunction('convertToInteractive',\n",
              "                                                     [key], {});\n",
              "          if (!dataTable) return;\n",
              "\n",
              "          const docLinkHtml = 'Like what you see? Visit the ' +\n",
              "            '<a target=\"_blank\" href=https://colab.research.google.com/notebooks/data_table.ipynb>data table notebook</a>'\n",
              "            + ' to learn more about interactive tables.';\n",
              "          element.innerHTML = '';\n",
              "          dataTable['output_type'] = 'display_data';\n",
              "          await google.colab.output.renderOutput(dataTable, element);\n",
              "          const docLink = document.createElement('div');\n",
              "          docLink.innerHTML = docLinkHtml;\n",
              "          element.appendChild(docLink);\n",
              "        }\n",
              "      </script>\n",
              "    </div>\n",
              "  </div>\n"
            ]
          },
          "metadata": {},
          "execution_count": 10
        }
      ]
    },
    {
      "cell_type": "code",
      "source": [
        "arg_vs_aus = sb.events(match_id=3869151, split=True, flatten_attrs=False)['passes']\n",
        "arg_vs_aus.head(3)\n",
        "arg_vs_aus['location'].max() # Here we can know that they are using the pitch dimensions in yards."
      ],
      "metadata": {
        "colab": {
          "base_uri": "https://localhost:8080/"
        },
        "id": "VdDGaWn7NfSG",
        "outputId": "ce7a7ab1-63cd-4e79-d1b1-2fe651b8eb9c"
      },
      "execution_count": 11,
      "outputs": [
        {
          "output_type": "execute_result",
          "data": {
            "text/plain": [
              "[120.0, 80.0]"
            ]
          },
          "metadata": {},
          "execution_count": 11
        }
      ]
    },
    {
      "cell_type": "code",
      "source": [
        "arg_vs_aus.keys()"
      ],
      "metadata": {
        "colab": {
          "base_uri": "https://localhost:8080/"
        },
        "id": "xwBLsN8Y6Ypn",
        "outputId": "b6db840f-4915-4a56-e70a-666efe4d23d2"
      },
      "execution_count": 12,
      "outputs": [
        {
          "output_type": "execute_result",
          "data": {
            "text/plain": [
              "Index(['id', 'index', 'period', 'timestamp', 'minute', 'second', 'type',\n",
              "       'possession', 'possession_team', 'play_pattern', 'team', 'player',\n",
              "       'position', 'location', 'duration', 'related_events', 'pass',\n",
              "       'match_id', 'possession_team_id', 'team_id', 'player_id',\n",
              "       'under_pressure', 'off_camera', 'counterpress', 'out'],\n",
              "      dtype='object')"
            ]
          },
          "metadata": {},
          "execution_count": 12
        }
      ]
    },
    {
      "cell_type": "code",
      "source": [
        "sb.events(match_id=3857254, split=True, flatten_attrs=False)[\"dribbles\"].head(3) # get all the events dribbles for  Argentia vs Australia"
      ],
      "metadata": {
        "colab": {
          "base_uri": "https://localhost:8080/",
          "height": 0
        },
        "id": "VVeAzMl8wtpn",
        "outputId": "755fd0cd-adfc-4a42-95cc-c51ba6010d73"
      },
      "execution_count": 13,
      "outputs": [
        {
          "output_type": "execute_result",
          "data": {
            "text/plain": [
              "                                     id  index  period     timestamp  minute  \\\n",
              "0  4fbb9158-3623-429f-8e9d-8ef3b95921ee    192       1  00:04:15.413       4   \n",
              "1  0d98a659-01a2-4b7c-9283-2da40e473713    631       1  00:15:24.934      15   \n",
              "2  77da4c97-2689-4728-8d8e-e76ebce2c0d5    636       1  00:15:28.127      15   \n",
              "\n",
              "   second     type  possession possession_team  play_pattern  ...  \\\n",
              "0      15  Dribble          13         Tunisia  Regular Play  ...   \n",
              "1      24  Dribble          33         Denmark  Regular Play  ...   \n",
              "2      28  Dribble          33         Denmark  Regular Play  ...   \n",
              "\n",
              "               position      location duration under_pressure  \\\n",
              "0     Right Center Back  [97.4, 63.1]      0.0           True   \n",
              "1  Left Center Midfield   [74.2, 6.2]      0.0           True   \n",
              "2  Left Center Midfield   [81.4, 3.7]      0.0           True   \n",
              "\n",
              "                           related_events  \\\n",
              "0  [10cb6ed6-e822-46fa-8a14-96d665cf1692]   \n",
              "1  [b06d46af-7af5-4678-8bfb-a061c8a51139]   \n",
              "2  [d7dc79ac-1fe8-4d05-93fd-f082d0e81b79]   \n",
              "\n",
              "                                             dribble match_id  \\\n",
              "0  {'outcome': {'id': 9, 'name': 'Incomplete'}, '...  3857254   \n",
              "1       {'outcome': {'id': 9, 'name': 'Incomplete'}}  3857254   \n",
              "2       {'outcome': {'id': 9, 'name': 'Incomplete'}}  3857254   \n",
              "\n",
              "  possession_team_id  team_id  player_id  \n",
              "0                777      777       5655  \n",
              "1                776      776       3043  \n",
              "2                776      776       3043  \n",
              "\n",
              "[3 rows x 22 columns]"
            ],
            "text/html": [
              "\n",
              "\n",
              "  <div id=\"df-f0e461da-8dc0-4fee-8041-01ba0c52710a\">\n",
              "    <div class=\"colab-df-container\">\n",
              "      <div>\n",
              "<style scoped>\n",
              "    .dataframe tbody tr th:only-of-type {\n",
              "        vertical-align: middle;\n",
              "    }\n",
              "\n",
              "    .dataframe tbody tr th {\n",
              "        vertical-align: top;\n",
              "    }\n",
              "\n",
              "    .dataframe thead th {\n",
              "        text-align: right;\n",
              "    }\n",
              "</style>\n",
              "<table border=\"1\" class=\"dataframe\">\n",
              "  <thead>\n",
              "    <tr style=\"text-align: right;\">\n",
              "      <th></th>\n",
              "      <th>id</th>\n",
              "      <th>index</th>\n",
              "      <th>period</th>\n",
              "      <th>timestamp</th>\n",
              "      <th>minute</th>\n",
              "      <th>second</th>\n",
              "      <th>type</th>\n",
              "      <th>possession</th>\n",
              "      <th>possession_team</th>\n",
              "      <th>play_pattern</th>\n",
              "      <th>...</th>\n",
              "      <th>position</th>\n",
              "      <th>location</th>\n",
              "      <th>duration</th>\n",
              "      <th>under_pressure</th>\n",
              "      <th>related_events</th>\n",
              "      <th>dribble</th>\n",
              "      <th>match_id</th>\n",
              "      <th>possession_team_id</th>\n",
              "      <th>team_id</th>\n",
              "      <th>player_id</th>\n",
              "    </tr>\n",
              "  </thead>\n",
              "  <tbody>\n",
              "    <tr>\n",
              "      <th>0</th>\n",
              "      <td>4fbb9158-3623-429f-8e9d-8ef3b95921ee</td>\n",
              "      <td>192</td>\n",
              "      <td>1</td>\n",
              "      <td>00:04:15.413</td>\n",
              "      <td>4</td>\n",
              "      <td>15</td>\n",
              "      <td>Dribble</td>\n",
              "      <td>13</td>\n",
              "      <td>Tunisia</td>\n",
              "      <td>Regular Play</td>\n",
              "      <td>...</td>\n",
              "      <td>Right Center Back</td>\n",
              "      <td>[97.4, 63.1]</td>\n",
              "      <td>0.0</td>\n",
              "      <td>True</td>\n",
              "      <td>[10cb6ed6-e822-46fa-8a14-96d665cf1692]</td>\n",
              "      <td>{'outcome': {'id': 9, 'name': 'Incomplete'}, '...</td>\n",
              "      <td>3857254</td>\n",
              "      <td>777</td>\n",
              "      <td>777</td>\n",
              "      <td>5655</td>\n",
              "    </tr>\n",
              "    <tr>\n",
              "      <th>1</th>\n",
              "      <td>0d98a659-01a2-4b7c-9283-2da40e473713</td>\n",
              "      <td>631</td>\n",
              "      <td>1</td>\n",
              "      <td>00:15:24.934</td>\n",
              "      <td>15</td>\n",
              "      <td>24</td>\n",
              "      <td>Dribble</td>\n",
              "      <td>33</td>\n",
              "      <td>Denmark</td>\n",
              "      <td>Regular Play</td>\n",
              "      <td>...</td>\n",
              "      <td>Left Center Midfield</td>\n",
              "      <td>[74.2, 6.2]</td>\n",
              "      <td>0.0</td>\n",
              "      <td>True</td>\n",
              "      <td>[b06d46af-7af5-4678-8bfb-a061c8a51139]</td>\n",
              "      <td>{'outcome': {'id': 9, 'name': 'Incomplete'}}</td>\n",
              "      <td>3857254</td>\n",
              "      <td>776</td>\n",
              "      <td>776</td>\n",
              "      <td>3043</td>\n",
              "    </tr>\n",
              "    <tr>\n",
              "      <th>2</th>\n",
              "      <td>77da4c97-2689-4728-8d8e-e76ebce2c0d5</td>\n",
              "      <td>636</td>\n",
              "      <td>1</td>\n",
              "      <td>00:15:28.127</td>\n",
              "      <td>15</td>\n",
              "      <td>28</td>\n",
              "      <td>Dribble</td>\n",
              "      <td>33</td>\n",
              "      <td>Denmark</td>\n",
              "      <td>Regular Play</td>\n",
              "      <td>...</td>\n",
              "      <td>Left Center Midfield</td>\n",
              "      <td>[81.4, 3.7]</td>\n",
              "      <td>0.0</td>\n",
              "      <td>True</td>\n",
              "      <td>[d7dc79ac-1fe8-4d05-93fd-f082d0e81b79]</td>\n",
              "      <td>{'outcome': {'id': 9, 'name': 'Incomplete'}}</td>\n",
              "      <td>3857254</td>\n",
              "      <td>776</td>\n",
              "      <td>776</td>\n",
              "      <td>3043</td>\n",
              "    </tr>\n",
              "  </tbody>\n",
              "</table>\n",
              "<p>3 rows × 22 columns</p>\n",
              "</div>\n",
              "      <button class=\"colab-df-convert\" onclick=\"convertToInteractive('df-f0e461da-8dc0-4fee-8041-01ba0c52710a')\"\n",
              "              title=\"Convert this dataframe to an interactive table.\"\n",
              "              style=\"display:none;\">\n",
              "\n",
              "  <svg xmlns=\"http://www.w3.org/2000/svg\" height=\"24px\"viewBox=\"0 0 24 24\"\n",
              "       width=\"24px\">\n",
              "    <path d=\"M0 0h24v24H0V0z\" fill=\"none\"/>\n",
              "    <path d=\"M18.56 5.44l.94 2.06.94-2.06 2.06-.94-2.06-.94-.94-2.06-.94 2.06-2.06.94zm-11 1L8.5 8.5l.94-2.06 2.06-.94-2.06-.94L8.5 2.5l-.94 2.06-2.06.94zm10 10l.94 2.06.94-2.06 2.06-.94-2.06-.94-.94-2.06-.94 2.06-2.06.94z\"/><path d=\"M17.41 7.96l-1.37-1.37c-.4-.4-.92-.59-1.43-.59-.52 0-1.04.2-1.43.59L10.3 9.45l-7.72 7.72c-.78.78-.78 2.05 0 2.83L4 21.41c.39.39.9.59 1.41.59.51 0 1.02-.2 1.41-.59l7.78-7.78 2.81-2.81c.8-.78.8-2.07 0-2.86zM5.41 20L4 18.59l7.72-7.72 1.47 1.35L5.41 20z\"/>\n",
              "  </svg>\n",
              "      </button>\n",
              "\n",
              "\n",
              "\n",
              "    <div id=\"df-72e2440c-5328-4ff8-91c1-1e079554f6b5\">\n",
              "      <button class=\"colab-df-quickchart\" onclick=\"quickchart('df-72e2440c-5328-4ff8-91c1-1e079554f6b5')\"\n",
              "              title=\"Suggest charts.\"\n",
              "              style=\"display:none;\">\n",
              "\n",
              "<svg xmlns=\"http://www.w3.org/2000/svg\" height=\"24px\"viewBox=\"0 0 24 24\"\n",
              "     width=\"24px\">\n",
              "    <g>\n",
              "        <path d=\"M19 3H5c-1.1 0-2 .9-2 2v14c0 1.1.9 2 2 2h14c1.1 0 2-.9 2-2V5c0-1.1-.9-2-2-2zM9 17H7v-7h2v7zm4 0h-2V7h2v10zm4 0h-2v-4h2v4z\"/>\n",
              "    </g>\n",
              "</svg>\n",
              "      </button>\n",
              "    </div>\n",
              "\n",
              "<style>\n",
              "  .colab-df-quickchart {\n",
              "    background-color: #E8F0FE;\n",
              "    border: none;\n",
              "    border-radius: 50%;\n",
              "    cursor: pointer;\n",
              "    display: none;\n",
              "    fill: #1967D2;\n",
              "    height: 32px;\n",
              "    padding: 0 0 0 0;\n",
              "    width: 32px;\n",
              "  }\n",
              "\n",
              "  .colab-df-quickchart:hover {\n",
              "    background-color: #E2EBFA;\n",
              "    box-shadow: 0px 1px 2px rgba(60, 64, 67, 0.3), 0px 1px 3px 1px rgba(60, 64, 67, 0.15);\n",
              "    fill: #174EA6;\n",
              "  }\n",
              "\n",
              "  [theme=dark] .colab-df-quickchart {\n",
              "    background-color: #3B4455;\n",
              "    fill: #D2E3FC;\n",
              "  }\n",
              "\n",
              "  [theme=dark] .colab-df-quickchart:hover {\n",
              "    background-color: #434B5C;\n",
              "    box-shadow: 0px 1px 3px 1px rgba(0, 0, 0, 0.15);\n",
              "    filter: drop-shadow(0px 1px 2px rgba(0, 0, 0, 0.3));\n",
              "    fill: #FFFFFF;\n",
              "  }\n",
              "</style>\n",
              "\n",
              "    <script>\n",
              "      async function quickchart(key) {\n",
              "        const containerElement = document.querySelector('#' + key);\n",
              "        const charts = await google.colab.kernel.invokeFunction(\n",
              "            'suggestCharts', [key], {});\n",
              "      }\n",
              "    </script>\n",
              "\n",
              "      <script>\n",
              "\n",
              "function displayQuickchartButton(domScope) {\n",
              "  let quickchartButtonEl =\n",
              "    domScope.querySelector('#df-72e2440c-5328-4ff8-91c1-1e079554f6b5 button.colab-df-quickchart');\n",
              "  quickchartButtonEl.style.display =\n",
              "    google.colab.kernel.accessAllowed ? 'block' : 'none';\n",
              "}\n",
              "\n",
              "        displayQuickchartButton(document);\n",
              "      </script>\n",
              "      <style>\n",
              "    .colab-df-container {\n",
              "      display:flex;\n",
              "      flex-wrap:wrap;\n",
              "      gap: 12px;\n",
              "    }\n",
              "\n",
              "    .colab-df-convert {\n",
              "      background-color: #E8F0FE;\n",
              "      border: none;\n",
              "      border-radius: 50%;\n",
              "      cursor: pointer;\n",
              "      display: none;\n",
              "      fill: #1967D2;\n",
              "      height: 32px;\n",
              "      padding: 0 0 0 0;\n",
              "      width: 32px;\n",
              "    }\n",
              "\n",
              "    .colab-df-convert:hover {\n",
              "      background-color: #E2EBFA;\n",
              "      box-shadow: 0px 1px 2px rgba(60, 64, 67, 0.3), 0px 1px 3px 1px rgba(60, 64, 67, 0.15);\n",
              "      fill: #174EA6;\n",
              "    }\n",
              "\n",
              "    [theme=dark] .colab-df-convert {\n",
              "      background-color: #3B4455;\n",
              "      fill: #D2E3FC;\n",
              "    }\n",
              "\n",
              "    [theme=dark] .colab-df-convert:hover {\n",
              "      background-color: #434B5C;\n",
              "      box-shadow: 0px 1px 3px 1px rgba(0, 0, 0, 0.15);\n",
              "      filter: drop-shadow(0px 1px 2px rgba(0, 0, 0, 0.3));\n",
              "      fill: #FFFFFF;\n",
              "    }\n",
              "  </style>\n",
              "\n",
              "      <script>\n",
              "        const buttonEl =\n",
              "          document.querySelector('#df-f0e461da-8dc0-4fee-8041-01ba0c52710a button.colab-df-convert');\n",
              "        buttonEl.style.display =\n",
              "          google.colab.kernel.accessAllowed ? 'block' : 'none';\n",
              "\n",
              "        async function convertToInteractive(key) {\n",
              "          const element = document.querySelector('#df-f0e461da-8dc0-4fee-8041-01ba0c52710a');\n",
              "          const dataTable =\n",
              "            await google.colab.kernel.invokeFunction('convertToInteractive',\n",
              "                                                     [key], {});\n",
              "          if (!dataTable) return;\n",
              "\n",
              "          const docLinkHtml = 'Like what you see? Visit the ' +\n",
              "            '<a target=\"_blank\" href=https://colab.research.google.com/notebooks/data_table.ipynb>data table notebook</a>'\n",
              "            + ' to learn more about interactive tables.';\n",
              "          element.innerHTML = '';\n",
              "          dataTable['output_type'] = 'display_data';\n",
              "          await google.colab.output.renderOutput(dataTable, element);\n",
              "          const docLink = document.createElement('div');\n",
              "          docLink.innerHTML = docLinkHtml;\n",
              "          element.appendChild(docLink);\n",
              "        }\n",
              "      </script>\n",
              "    </div>\n",
              "  </div>\n"
            ]
          },
          "metadata": {},
          "execution_count": 13
        }
      ]
    },
    {
      "cell_type": "markdown",
      "source": [
        "## Combining all the events that happened in the WC"
      ],
      "metadata": {
        "id": "pSqY1UMsSYnd"
      }
    },
    {
      "cell_type": "code",
      "source": [
        "# Combining all the events of the Fifa World Cup 2022\n",
        "events = sb.competition_events(\n",
        "    country=\"International\",\n",
        "    division= \"FIFA World Cup\",\n",
        "    season=\"2022\",\n",
        "    gender=\"male\"\n",
        ")\n",
        "\n",
        "WC_events22 = sb.competition_events(\n",
        "    country=\"International\",\n",
        "    division= \"FIFA World Cup\",\n",
        "    season=\"2022\",\n",
        "    split=True\n",
        ")\n",
        "# WC_events22['dribbles'] # Get all the dribbles that happened in the world cup\n",
        "\n",
        "# grouped_events.drop('id', axis=1, inplace=True)"
      ],
      "metadata": {
        "id": "bMQm1yoa3J8k"
      },
      "execution_count": 14,
      "outputs": []
    },
    {
      "cell_type": "code",
      "source": [
        "# Get the list of column names or keys\n",
        "key_names = WC_events22.keys()\n",
        "\n",
        "# Print the column names\n",
        "for key in key_names:\n",
        "    print(key)"
      ],
      "metadata": {
        "colab": {
          "base_uri": "https://localhost:8080/"
        },
        "id": "wpoSE8QdfJ2X",
        "outputId": "15bb265c-c0db-4434-b684-d8573474f83b"
      },
      "execution_count": 15,
      "outputs": [
        {
          "output_type": "stream",
          "name": "stdout",
          "text": [
            "starting_xis\n",
            "half_starts\n",
            "passes\n",
            "ball_receipts\n",
            "carrys\n",
            "clearances\n",
            "ball_recoverys\n",
            "shots\n",
            "blocks\n",
            "goal_keepers\n",
            "miscontrols\n",
            "pressures\n",
            "duels\n",
            "interceptions\n",
            "foul_committeds\n",
            "foul_wons\n",
            "dispossesseds\n",
            "dribbles\n",
            "dribbled_pasts\n",
            "errors\n",
            "injury_stoppages\n",
            "half_ends\n",
            "substitutions\n",
            "bad_behaviours\n",
            "referee_ball_drops\n",
            "tactical_shifts\n",
            "player_offs\n",
            "player_ons\n",
            "shields\n",
            "own_goal_fors\n",
            "own_goal_againsts\n",
            "50/50s\n",
            "offsides\n"
          ]
        }
      ]
    },
    {
      "cell_type": "markdown",
      "source": [
        "get expected goals"
      ],
      "metadata": {
        "id": "7WhFFLYjneJP"
      }
    },
    {
      "cell_type": "code",
      "source": [
        "WC_events22['shots'].columns"
      ],
      "metadata": {
        "colab": {
          "base_uri": "https://localhost:8080/"
        },
        "id": "JjUE50YPatXB",
        "outputId": "e1556c3c-e86a-4ed8-dda0-238f0dbe4a64"
      },
      "execution_count": 16,
      "outputs": [
        {
          "output_type": "execute_result",
          "data": {
            "text/plain": [
              "Index(['id', 'index', 'period', 'timestamp', 'minute', 'second', 'type',\n",
              "       'possession', 'possession_team', 'play_pattern', 'team', 'player',\n",
              "       'position', 'location', 'duration', 'related_events', 'match_id',\n",
              "       'shot_statsbomb_xg', 'shot_end_location', 'shot_technique',\n",
              "       'shot_body_part', 'shot_type', 'shot_outcome', 'shot_first_time',\n",
              "       'shot_freeze_frame', 'possession_team_id', 'team_id', 'player_id',\n",
              "       'shot_key_pass_id', 'shot_one_on_one', 'shot_deflected',\n",
              "       'under_pressure', 'shot_open_goal', 'shot_aerial_won', 'out',\n",
              "       'shot_follows_dribble', 'shot_saved_to_post', 'shot_saved_off_target',\n",
              "       'shot_redirect'],\n",
              "      dtype='object')"
            ]
          },
          "metadata": {},
          "execution_count": 16
        }
      ]
    },
    {
      "cell_type": "code",
      "source": [
        "type(WC_events22)"
      ],
      "metadata": {
        "colab": {
          "base_uri": "https://localhost:8080/"
        },
        "id": "jNO5M5OdQOUG",
        "outputId": "9139b3be-9c90-4180-cb9e-0b25d9afc0d6"
      },
      "execution_count": 17,
      "outputs": [
        {
          "output_type": "execute_result",
          "data": {
            "text/plain": [
              "collections.defaultdict"
            ]
          },
          "metadata": {},
          "execution_count": 17
        }
      ]
    },
    {
      "cell_type": "markdown",
      "source": [
        "## Get all the shot events in the tournament between player to xG"
      ],
      "metadata": {
        "id": "FTjtzUIVSmUO"
      }
    },
    {
      "cell_type": "code",
      "source": [
        "xg_df = WC_events22['shots']\n",
        "xG = xg_df.loc[:, 'player':'shot_statsbomb_xg']\n",
        "xG"
      ],
      "metadata": {
        "colab": {
          "base_uri": "https://localhost:8080/",
          "height": 0
        },
        "id": "OIQ6GYiS9clc",
        "outputId": "2d2a823a-a1a0-4bd3-9cb4-9d5bf7004855"
      },
      "execution_count": 18,
      "outputs": [
        {
          "output_type": "execute_result",
          "data": {
            "text/plain": [
              "                       player                 position       location  \\\n",
              "0                Granit Xhaka  Left Defensive Midfield   [96.0, 38.8]   \n",
              "1         Breel-Donald Embolo           Center Forward  [113.1, 40.7]   \n",
              "2                Granit Xhaka  Left Defensive Midfield  [103.8, 41.9]   \n",
              "3           Nikola Milenković        Right Center Back  [112.2, 36.8]   \n",
              "4            Andrija Živković          Right Wing Back   [97.8, 51.5]   \n",
              "...                       ...                      ...            ...   \n",
              "1489  Andreas Evald Cornelius           Center Forward  [118.2, 43.9]   \n",
              "1490           Mathias Jensen  Left Defensive Midfield  [102.5, 24.2]   \n",
              "1491  Andreas Evald Cornelius           Center Forward  [114.4, 36.8]   \n",
              "1492             Joakim Mæhle                Left Back   [95.0, 30.2]   \n",
              "1493  Andreas Evald Cornelius           Center Forward  [108.8, 46.4]   \n",
              "\n",
              "      duration                                     related_events  match_id  \\\n",
              "0     0.380264  [23ce15e2-05d8-4adf-87de-90b82585c085, b27d5a6...   3857256   \n",
              "1     0.175803             [ca8f5082-211d-4c5e-9827-b61cf7fa7ca2]   3857256   \n",
              "2     0.495575             [03e8c43d-a1ee-4477-a6cd-3761b9379837]   3857256   \n",
              "3     0.848375             [42dca3d5-9c35-4da4-8d13-0ae643b4d9c7]   3857256   \n",
              "4     0.934407             [66f1d9e3-640c-493d-80e6-33a247444389]   3857256   \n",
              "...        ...                                                ...       ...   \n",
              "1489  0.058813             [b2cf8522-fd3d-44ae-b3d2-6a2c2d40ce7a]   3857254   \n",
              "1490  0.995427             [100b467e-ced3-4e97-ab89-3656d3ab04c5]   3857254   \n",
              "1491  1.239140  [a4edfab9-529b-4f34-b150-bf665f559ce5, f1dcd43...   3857254   \n",
              "1492  0.164703  [2da1a8a2-7c43-4ffa-91da-a4ed3d276e8c, 8c6aa51...   3857254   \n",
              "1493  1.723410  [b87c633c-1b1e-43f5-b5b6-5ef1a39668be, f70bc5f...   3857254   \n",
              "\n",
              "      shot_statsbomb_xg  \n",
              "0              0.036566  \n",
              "1              0.353289  \n",
              "2              0.069527  \n",
              "3              0.081609  \n",
              "4              0.030002  \n",
              "...                 ...  \n",
              "1489           0.568312  \n",
              "1490           0.028724  \n",
              "1491           0.145394  \n",
              "1492           0.028684  \n",
              "1493           0.022084  \n",
              "\n",
              "[1494 rows x 7 columns]"
            ],
            "text/html": [
              "\n",
              "\n",
              "  <div id=\"df-ddfe01f4-fc13-4998-a4b1-ff35105e07cc\">\n",
              "    <div class=\"colab-df-container\">\n",
              "      <div>\n",
              "<style scoped>\n",
              "    .dataframe tbody tr th:only-of-type {\n",
              "        vertical-align: middle;\n",
              "    }\n",
              "\n",
              "    .dataframe tbody tr th {\n",
              "        vertical-align: top;\n",
              "    }\n",
              "\n",
              "    .dataframe thead th {\n",
              "        text-align: right;\n",
              "    }\n",
              "</style>\n",
              "<table border=\"1\" class=\"dataframe\">\n",
              "  <thead>\n",
              "    <tr style=\"text-align: right;\">\n",
              "      <th></th>\n",
              "      <th>player</th>\n",
              "      <th>position</th>\n",
              "      <th>location</th>\n",
              "      <th>duration</th>\n",
              "      <th>related_events</th>\n",
              "      <th>match_id</th>\n",
              "      <th>shot_statsbomb_xg</th>\n",
              "    </tr>\n",
              "  </thead>\n",
              "  <tbody>\n",
              "    <tr>\n",
              "      <th>0</th>\n",
              "      <td>Granit Xhaka</td>\n",
              "      <td>Left Defensive Midfield</td>\n",
              "      <td>[96.0, 38.8]</td>\n",
              "      <td>0.380264</td>\n",
              "      <td>[23ce15e2-05d8-4adf-87de-90b82585c085, b27d5a6...</td>\n",
              "      <td>3857256</td>\n",
              "      <td>0.036566</td>\n",
              "    </tr>\n",
              "    <tr>\n",
              "      <th>1</th>\n",
              "      <td>Breel-Donald Embolo</td>\n",
              "      <td>Center Forward</td>\n",
              "      <td>[113.1, 40.7]</td>\n",
              "      <td>0.175803</td>\n",
              "      <td>[ca8f5082-211d-4c5e-9827-b61cf7fa7ca2]</td>\n",
              "      <td>3857256</td>\n",
              "      <td>0.353289</td>\n",
              "    </tr>\n",
              "    <tr>\n",
              "      <th>2</th>\n",
              "      <td>Granit Xhaka</td>\n",
              "      <td>Left Defensive Midfield</td>\n",
              "      <td>[103.8, 41.9]</td>\n",
              "      <td>0.495575</td>\n",
              "      <td>[03e8c43d-a1ee-4477-a6cd-3761b9379837]</td>\n",
              "      <td>3857256</td>\n",
              "      <td>0.069527</td>\n",
              "    </tr>\n",
              "    <tr>\n",
              "      <th>3</th>\n",
              "      <td>Nikola Milenković</td>\n",
              "      <td>Right Center Back</td>\n",
              "      <td>[112.2, 36.8]</td>\n",
              "      <td>0.848375</td>\n",
              "      <td>[42dca3d5-9c35-4da4-8d13-0ae643b4d9c7]</td>\n",
              "      <td>3857256</td>\n",
              "      <td>0.081609</td>\n",
              "    </tr>\n",
              "    <tr>\n",
              "      <th>4</th>\n",
              "      <td>Andrija Živković</td>\n",
              "      <td>Right Wing Back</td>\n",
              "      <td>[97.8, 51.5]</td>\n",
              "      <td>0.934407</td>\n",
              "      <td>[66f1d9e3-640c-493d-80e6-33a247444389]</td>\n",
              "      <td>3857256</td>\n",
              "      <td>0.030002</td>\n",
              "    </tr>\n",
              "    <tr>\n",
              "      <th>...</th>\n",
              "      <td>...</td>\n",
              "      <td>...</td>\n",
              "      <td>...</td>\n",
              "      <td>...</td>\n",
              "      <td>...</td>\n",
              "      <td>...</td>\n",
              "      <td>...</td>\n",
              "    </tr>\n",
              "    <tr>\n",
              "      <th>1489</th>\n",
              "      <td>Andreas Evald Cornelius</td>\n",
              "      <td>Center Forward</td>\n",
              "      <td>[118.2, 43.9]</td>\n",
              "      <td>0.058813</td>\n",
              "      <td>[b2cf8522-fd3d-44ae-b3d2-6a2c2d40ce7a]</td>\n",
              "      <td>3857254</td>\n",
              "      <td>0.568312</td>\n",
              "    </tr>\n",
              "    <tr>\n",
              "      <th>1490</th>\n",
              "      <td>Mathias Jensen</td>\n",
              "      <td>Left Defensive Midfield</td>\n",
              "      <td>[102.5, 24.2]</td>\n",
              "      <td>0.995427</td>\n",
              "      <td>[100b467e-ced3-4e97-ab89-3656d3ab04c5]</td>\n",
              "      <td>3857254</td>\n",
              "      <td>0.028724</td>\n",
              "    </tr>\n",
              "    <tr>\n",
              "      <th>1491</th>\n",
              "      <td>Andreas Evald Cornelius</td>\n",
              "      <td>Center Forward</td>\n",
              "      <td>[114.4, 36.8]</td>\n",
              "      <td>1.239140</td>\n",
              "      <td>[a4edfab9-529b-4f34-b150-bf665f559ce5, f1dcd43...</td>\n",
              "      <td>3857254</td>\n",
              "      <td>0.145394</td>\n",
              "    </tr>\n",
              "    <tr>\n",
              "      <th>1492</th>\n",
              "      <td>Joakim Mæhle</td>\n",
              "      <td>Left Back</td>\n",
              "      <td>[95.0, 30.2]</td>\n",
              "      <td>0.164703</td>\n",
              "      <td>[2da1a8a2-7c43-4ffa-91da-a4ed3d276e8c, 8c6aa51...</td>\n",
              "      <td>3857254</td>\n",
              "      <td>0.028684</td>\n",
              "    </tr>\n",
              "    <tr>\n",
              "      <th>1493</th>\n",
              "      <td>Andreas Evald Cornelius</td>\n",
              "      <td>Center Forward</td>\n",
              "      <td>[108.8, 46.4]</td>\n",
              "      <td>1.723410</td>\n",
              "      <td>[b87c633c-1b1e-43f5-b5b6-5ef1a39668be, f70bc5f...</td>\n",
              "      <td>3857254</td>\n",
              "      <td>0.022084</td>\n",
              "    </tr>\n",
              "  </tbody>\n",
              "</table>\n",
              "<p>1494 rows × 7 columns</p>\n",
              "</div>\n",
              "      <button class=\"colab-df-convert\" onclick=\"convertToInteractive('df-ddfe01f4-fc13-4998-a4b1-ff35105e07cc')\"\n",
              "              title=\"Convert this dataframe to an interactive table.\"\n",
              "              style=\"display:none;\">\n",
              "\n",
              "  <svg xmlns=\"http://www.w3.org/2000/svg\" height=\"24px\"viewBox=\"0 0 24 24\"\n",
              "       width=\"24px\">\n",
              "    <path d=\"M0 0h24v24H0V0z\" fill=\"none\"/>\n",
              "    <path d=\"M18.56 5.44l.94 2.06.94-2.06 2.06-.94-2.06-.94-.94-2.06-.94 2.06-2.06.94zm-11 1L8.5 8.5l.94-2.06 2.06-.94-2.06-.94L8.5 2.5l-.94 2.06-2.06.94zm10 10l.94 2.06.94-2.06 2.06-.94-2.06-.94-.94-2.06-.94 2.06-2.06.94z\"/><path d=\"M17.41 7.96l-1.37-1.37c-.4-.4-.92-.59-1.43-.59-.52 0-1.04.2-1.43.59L10.3 9.45l-7.72 7.72c-.78.78-.78 2.05 0 2.83L4 21.41c.39.39.9.59 1.41.59.51 0 1.02-.2 1.41-.59l7.78-7.78 2.81-2.81c.8-.78.8-2.07 0-2.86zM5.41 20L4 18.59l7.72-7.72 1.47 1.35L5.41 20z\"/>\n",
              "  </svg>\n",
              "      </button>\n",
              "\n",
              "\n",
              "\n",
              "    <div id=\"df-c5b117aa-d3f0-4447-ade0-8607a8108398\">\n",
              "      <button class=\"colab-df-quickchart\" onclick=\"quickchart('df-c5b117aa-d3f0-4447-ade0-8607a8108398')\"\n",
              "              title=\"Suggest charts.\"\n",
              "              style=\"display:none;\">\n",
              "\n",
              "<svg xmlns=\"http://www.w3.org/2000/svg\" height=\"24px\"viewBox=\"0 0 24 24\"\n",
              "     width=\"24px\">\n",
              "    <g>\n",
              "        <path d=\"M19 3H5c-1.1 0-2 .9-2 2v14c0 1.1.9 2 2 2h14c1.1 0 2-.9 2-2V5c0-1.1-.9-2-2-2zM9 17H7v-7h2v7zm4 0h-2V7h2v10zm4 0h-2v-4h2v4z\"/>\n",
              "    </g>\n",
              "</svg>\n",
              "      </button>\n",
              "    </div>\n",
              "\n",
              "<style>\n",
              "  .colab-df-quickchart {\n",
              "    background-color: #E8F0FE;\n",
              "    border: none;\n",
              "    border-radius: 50%;\n",
              "    cursor: pointer;\n",
              "    display: none;\n",
              "    fill: #1967D2;\n",
              "    height: 32px;\n",
              "    padding: 0 0 0 0;\n",
              "    width: 32px;\n",
              "  }\n",
              "\n",
              "  .colab-df-quickchart:hover {\n",
              "    background-color: #E2EBFA;\n",
              "    box-shadow: 0px 1px 2px rgba(60, 64, 67, 0.3), 0px 1px 3px 1px rgba(60, 64, 67, 0.15);\n",
              "    fill: #174EA6;\n",
              "  }\n",
              "\n",
              "  [theme=dark] .colab-df-quickchart {\n",
              "    background-color: #3B4455;\n",
              "    fill: #D2E3FC;\n",
              "  }\n",
              "\n",
              "  [theme=dark] .colab-df-quickchart:hover {\n",
              "    background-color: #434B5C;\n",
              "    box-shadow: 0px 1px 3px 1px rgba(0, 0, 0, 0.15);\n",
              "    filter: drop-shadow(0px 1px 2px rgba(0, 0, 0, 0.3));\n",
              "    fill: #FFFFFF;\n",
              "  }\n",
              "</style>\n",
              "\n",
              "    <script>\n",
              "      async function quickchart(key) {\n",
              "        const containerElement = document.querySelector('#' + key);\n",
              "        const charts = await google.colab.kernel.invokeFunction(\n",
              "            'suggestCharts', [key], {});\n",
              "      }\n",
              "    </script>\n",
              "\n",
              "      <script>\n",
              "\n",
              "function displayQuickchartButton(domScope) {\n",
              "  let quickchartButtonEl =\n",
              "    domScope.querySelector('#df-c5b117aa-d3f0-4447-ade0-8607a8108398 button.colab-df-quickchart');\n",
              "  quickchartButtonEl.style.display =\n",
              "    google.colab.kernel.accessAllowed ? 'block' : 'none';\n",
              "}\n",
              "\n",
              "        displayQuickchartButton(document);\n",
              "      </script>\n",
              "      <style>\n",
              "    .colab-df-container {\n",
              "      display:flex;\n",
              "      flex-wrap:wrap;\n",
              "      gap: 12px;\n",
              "    }\n",
              "\n",
              "    .colab-df-convert {\n",
              "      background-color: #E8F0FE;\n",
              "      border: none;\n",
              "      border-radius: 50%;\n",
              "      cursor: pointer;\n",
              "      display: none;\n",
              "      fill: #1967D2;\n",
              "      height: 32px;\n",
              "      padding: 0 0 0 0;\n",
              "      width: 32px;\n",
              "    }\n",
              "\n",
              "    .colab-df-convert:hover {\n",
              "      background-color: #E2EBFA;\n",
              "      box-shadow: 0px 1px 2px rgba(60, 64, 67, 0.3), 0px 1px 3px 1px rgba(60, 64, 67, 0.15);\n",
              "      fill: #174EA6;\n",
              "    }\n",
              "\n",
              "    [theme=dark] .colab-df-convert {\n",
              "      background-color: #3B4455;\n",
              "      fill: #D2E3FC;\n",
              "    }\n",
              "\n",
              "    [theme=dark] .colab-df-convert:hover {\n",
              "      background-color: #434B5C;\n",
              "      box-shadow: 0px 1px 3px 1px rgba(0, 0, 0, 0.15);\n",
              "      filter: drop-shadow(0px 1px 2px rgba(0, 0, 0, 0.3));\n",
              "      fill: #FFFFFF;\n",
              "    }\n",
              "  </style>\n",
              "\n",
              "      <script>\n",
              "        const buttonEl =\n",
              "          document.querySelector('#df-ddfe01f4-fc13-4998-a4b1-ff35105e07cc button.colab-df-convert');\n",
              "        buttonEl.style.display =\n",
              "          google.colab.kernel.accessAllowed ? 'block' : 'none';\n",
              "\n",
              "        async function convertToInteractive(key) {\n",
              "          const element = document.querySelector('#df-ddfe01f4-fc13-4998-a4b1-ff35105e07cc');\n",
              "          const dataTable =\n",
              "            await google.colab.kernel.invokeFunction('convertToInteractive',\n",
              "                                                     [key], {});\n",
              "          if (!dataTable) return;\n",
              "\n",
              "          const docLinkHtml = 'Like what you see? Visit the ' +\n",
              "            '<a target=\"_blank\" href=https://colab.research.google.com/notebooks/data_table.ipynb>data table notebook</a>'\n",
              "            + ' to learn more about interactive tables.';\n",
              "          element.innerHTML = '';\n",
              "          dataTable['output_type'] = 'display_data';\n",
              "          await google.colab.output.renderOutput(dataTable, element);\n",
              "          const docLink = document.createElement('div');\n",
              "          docLink.innerHTML = docLinkHtml;\n",
              "          element.appendChild(docLink);\n",
              "        }\n",
              "      </script>\n",
              "    </div>\n",
              "  </div>\n"
            ]
          },
          "metadata": {},
          "execution_count": 18
        }
      ]
    },
    {
      "cell_type": "markdown",
      "source": [
        "Creating our class xT to predict on"
      ],
      "metadata": {
        "id": "dm_uvwnobwKm"
      }
    },
    {
      "cell_type": "code",
      "source": [
        "# class xT:\n",
        "#   def __int__(self, x):\n",
        "#     self.x = x\n",
        "\n",
        "#   def get_x(self):\n",
        "#     return self.x\n",
        "\n",
        "#   def set_x(self, new_x):\n",
        "#     self.x = new_x"
      ],
      "metadata": {
        "id": "rqkYOaDnxxjq"
      },
      "execution_count": 19,
      "outputs": []
    },
    {
      "cell_type": "code",
      "source": [
        "Final_df = pd.DataFrame()\n",
        "type(Final_df)"
      ],
      "metadata": {
        "colab": {
          "base_uri": "https://localhost:8080/"
        },
        "id": "z--ZInN4N1Tk",
        "outputId": "74972c68-3b8a-45fb-a83e-f91e4d08c81c"
      },
      "execution_count": 20,
      "outputs": [
        {
          "output_type": "execute_result",
          "data": {
            "text/plain": [
              "pandas.core.frame.DataFrame"
            ]
          },
          "metadata": {},
          "execution_count": 20
        }
      ]
    },
    {
      "cell_type": "code",
      "source": [
        "WC_events22['passes']['pass_outcome'].unique()\n",
        "WC_events22['passes']['pass_outcome'].fillna('Complete', inplace=True)"
      ],
      "metadata": {
        "id": "wpymV3lWjSYh"
      },
      "execution_count": 21,
      "outputs": []
    },
    {
      "cell_type": "markdown",
      "source": [
        "## Combining the relevent data into one dataframe"
      ],
      "metadata": {
        "id": "3Cc3-Ub_TcNF"
      }
    },
    {
      "cell_type": "code",
      "source": [
        "# Merge the DataFrames based on 'match_id', 'index', and 'location' columns\n",
        "# Now, create a new DataFrame by taking the 'column_name' column from df1\n",
        "WC_events22_passes = WC_events22['passes'][['match_id','index', 'team', 'player' ,'timestamp','minute', 'second', 'duration','period', 'pass_goal_assist',\n",
        "                                           'possession' ,'position','play_pattern' ,'location', 'type',\n",
        "                                            'pass_end_location', 'under_pressure', 'pass_length',  'pass_angle']].copy()\n",
        "\n",
        "WC_events22_carrys = WC_events22['carrys'][['match_id','index', 'team', 'player' ,'timestamp','minute',\n",
        "                                            'second', 'period','possession','position' , 'play_pattern', 'duration',\n",
        "                                            'location', 'type',  'carry_end_location', 'under_pressure'\n",
        "                                            ]].copy()\n",
        "\n",
        "# WC_events22_dribbles = WC_events22['dribbles'][['match_id','index', 'team', 'player' ,'timestamp','minute', 'duration',\n",
        "#                                                 'second', 'period','possession','position' ,\n",
        "#                                                 'location', 'type', 'under_pressure'  ]].copy()\n",
        "\n",
        "\n",
        "WC_events22_shot = WC_events22['shots'][['match_id','index', 'team', 'player' ,'timestamp','minute', 'second', 'period','duration',\n",
        "                                         'possession', 'position' ,'play_pattern' ,'location','shot_outcome', 'shot_end_location' , 'shot_technique',\n",
        "                                         'shot_statsbomb_xg' , 'type', 'under_pressure', 'shot_type', 'shot_body_part', 'shot_freeze_frame']].copy()\n",
        "\n",
        "\n",
        "# Combine the DataFrames by stacking them vertically (top on top)\n",
        "final_df = pd.concat([WC_events22_passes, WC_events22_carrys, WC_events22_shot\n",
        "\n",
        "                      ], axis=0)\n",
        "# The most important events that we have is shoot, pass, dribble, carry.\n",
        "\n",
        "# Sort the final DataFrame by 'index' column\n",
        "final_df.sort_values(by=['match_id','index'], inplace=True)\n",
        "\n",
        "# Reset the index of the DataFrame\n",
        "final_df.reset_index(drop=True, inplace=True)\n",
        "\n",
        "final_df.head(3)\n",
        "'''\n",
        "shot_first_time          1026\n",
        "shot_one_on_one          1409\n",
        "shot_deflected           1472\n",
        "shot_open_goal           1481\n",
        "shot_aerial_won          1365\n",
        "shot_follows_dribble     1491\n",
        "shot_saved_to_post       1491\n",
        "shot_saved_off_target    1492\n",
        "shot_redirect            1492\n",
        "\n",
        "they are missing almost all of them so we have to delete it from our code.\n",
        "'''\n"
      ],
      "metadata": {
        "colab": {
          "base_uri": "https://localhost:8080/",
          "height": 0
        },
        "id": "F11ELudJV8-Y",
        "outputId": "4ad9ed11-6f21-416f-f574-9408666604c9"
      },
      "execution_count": 22,
      "outputs": [
        {
          "output_type": "execute_result",
          "data": {
            "text/plain": [
              "'\\nshot_first_time          1026\\nshot_one_on_one          1409\\nshot_deflected           1472\\nshot_open_goal           1481\\nshot_aerial_won          1365\\nshot_follows_dribble     1491\\nshot_saved_to_post       1491\\nshot_saved_off_target    1492\\nshot_redirect            1492\\n\\nthey are missing almost all of them so we have to delete it from our code.\\n'"
            ],
            "application/vnd.google.colaboratory.intrinsic+json": {
              "type": "string"
            }
          },
          "metadata": {},
          "execution_count": 22
        }
      ]
    },
    {
      "cell_type": "code",
      "source": [
        "final_df['under_pressure'] = final_df['under_pressure'].fillna(False)\n",
        "final_df['under_pressure'].unique()\n",
        "\n",
        "final_df['pass_goal_assist'] = final_df['pass_goal_assist'].fillna(False)\n",
        "final_df['pass_goal_assist'].unique()"
      ],
      "metadata": {
        "colab": {
          "base_uri": "https://localhost:8080/"
        },
        "id": "pB-7nDZEZPv1",
        "outputId": "7b5fef91-2957-4f34-e31f-8b7fac0ccc8a"
      },
      "execution_count": 23,
      "outputs": [
        {
          "output_type": "execute_result",
          "data": {
            "text/plain": [
              "array([False,  True])"
            ]
          },
          "metadata": {},
          "execution_count": 23
        }
      ]
    },
    {
      "cell_type": "markdown",
      "source": [
        "Removing the penalties shootout from the equation"
      ],
      "metadata": {
        "id": "Vo_alQ6dS__V"
      }
    },
    {
      "cell_type": "code",
      "source": [
        "final_df = final_df.drop(final_df[final_df['period'] == 5].index)\n",
        "# final_df\n",
        "\n",
        "'''\n",
        " Goals scored and xG generated from penalties are often removed\n",
        " from player and team totals when analysing performance.\n",
        "\n",
        " https://statsbomb.com/soccer-metrics/expected-goals-xg-explained/.\n",
        "'''"
      ],
      "metadata": {
        "colab": {
          "base_uri": "https://localhost:8080/",
          "height": 0
        },
        "id": "nkcS_JIATC6E",
        "outputId": "36c37dca-135a-4551-fd77-bedde7746f09"
      },
      "execution_count": 24,
      "outputs": [
        {
          "output_type": "execute_result",
          "data": {
            "text/plain": [
              "'\\n Goals scored and xG generated from penalties are often removed\\n from player and team totals when analysing performance.\\n\\n https://statsbomb.com/soccer-metrics/expected-goals-xg-explained/.\\n'"
            ],
            "application/vnd.google.colaboratory.intrinsic+json": {
              "type": "string"
            }
          },
          "metadata": {},
          "execution_count": 24
        }
      ]
    },
    {
      "cell_type": "markdown",
      "source": [
        "## Combining the end locations together to make end_location"
      ],
      "metadata": {
        "id": "ies2Z9s7q4tB"
      }
    },
    {
      "cell_type": "markdown",
      "source": [
        "combine all end locations together"
      ],
      "metadata": {
        "id": "h_C8gfiyiIwJ"
      }
    },
    {
      "cell_type": "code",
      "source": [
        "final_df['end_location'] = final_df['pass_end_location']\n",
        "final_df['end_location'] = final_df['end_location'].combine_first(final_df['carry_end_location'])\n",
        "final_df['end_location'] = final_df['end_location'].combine_first(final_df['shot_end_location'])\n",
        "final_df.columns"
      ],
      "metadata": {
        "colab": {
          "base_uri": "https://localhost:8080/"
        },
        "id": "NpbXqaUBpqIM",
        "outputId": "ecf42396-5026-4936-8f1c-f8b8b7babcd9"
      },
      "execution_count": 25,
      "outputs": [
        {
          "output_type": "execute_result",
          "data": {
            "text/plain": [
              "Index(['match_id', 'index', 'team', 'player', 'timestamp', 'minute', 'second',\n",
              "       'duration', 'period', 'pass_goal_assist', 'possession', 'position',\n",
              "       'play_pattern', 'location', 'type', 'pass_end_location',\n",
              "       'under_pressure', 'pass_length', 'pass_angle', 'carry_end_location',\n",
              "       'shot_outcome', 'shot_end_location', 'shot_technique',\n",
              "       'shot_statsbomb_xg', 'shot_type', 'shot_body_part', 'shot_freeze_frame',\n",
              "       'end_location'],\n",
              "      dtype='object')"
            ]
          },
          "metadata": {},
          "execution_count": 25
        }
      ]
    },
    {
      "cell_type": "markdown",
      "source": [
        "Combine all the types of technique"
      ],
      "metadata": {
        "id": "1TsKaFR7hq7o"
      }
    },
    {
      "cell_type": "markdown",
      "source": [
        "combine all types of type events"
      ],
      "metadata": {
        "id": "UmQfqzmUhxhb"
      }
    },
    {
      "cell_type": "markdown",
      "source": [
        "Drop all the excess columns after joining them"
      ],
      "metadata": {
        "id": "RCuZ9RQdkcqq"
      }
    },
    {
      "cell_type": "code",
      "source": [
        "final_df = final_df.drop(columns=['pass_end_location', 'carry_end_location'\n",
        "\n",
        "                                  ])\n"
      ],
      "metadata": {
        "id": "inYrmS01iWKi"
      },
      "execution_count": 26,
      "outputs": []
    },
    {
      "cell_type": "markdown",
      "source": [
        "## Apply the formula to find xT"
      ],
      "metadata": {
        "id": "I3bsSafquZCY"
      }
    },
    {
      "cell_type": "markdown",
      "source": [
        "### We need to do binning first to make the grid into equal dimensions"
      ],
      "metadata": {
        "id": "_y51uQKjBdtV"
      }
    },
    {
      "cell_type": "markdown",
      "source": [
        "The formula is: xTxy = (Sxy * Gxy) + (Mxy 16∑ 12∑T(x,y)→(z,w)xTz,w )\n"
      ],
      "metadata": {
        "id": "zkEgMAO4C7WS"
      }
    },
    {
      "cell_type": "code",
      "source": [
        "\n",
        "def create_grid_cells(location, num_rows, num_columns, x_max, y_max):\n",
        "    \"\"\"\n",
        "    Assign a grid cell to each location based on its (x, y) coordinates.\n",
        "\n",
        "    Parameters:\n",
        "        location (tuple): (x, y) coordinates of the location.\n",
        "        num_rows (int): Number of rows in the grid.\n",
        "        num_columns (int): Number of columns in the grid.\n",
        "        x_max (float): Maximum x-coordinate value on the field.\n",
        "        y_max (float): Maximum y-coordinate value on the field.\n",
        "\n",
        "    Returns:\n",
        "        tuple: (row, column) indices of the grid cell for the given location.\n",
        "    \"\"\"\n",
        "    x, y = location\n",
        "    row = int(num_rows * y / y_max)\n",
        "    column = int(num_columns * x / x_max)\n",
        "    return row, column\n",
        "\n",
        "# Define the dimensions of the grid (12x16)\n",
        "num_rows, num_columns = 11, 15\n",
        "\n",
        "# Determine the maximum x and y coordinates from the 'location' column\n",
        "x_max = final_df['location'].apply(lambda loc: loc[0]).max()\n",
        "y_max = final_df['location'].apply(lambda loc: loc[1]).max()\n",
        "\n",
        "# Create new columns 'row' and 'column' to store the grid cell indices\n",
        "final_df[['row', 'column']] = final_df['location'].apply(lambda loc: create_grid_cells(loc, num_rows, num_columns, x_max, y_max)).tolist()\n",
        "\n",
        "# Now the 'final_df' DataFrame contains the 'row' and 'column' columns with the grid cell indices for each location.\n",
        "print(\"There is {} rows and {} columns \".format(final_df['row'].max(), final_df['column'].max()))"
      ],
      "metadata": {
        "colab": {
          "base_uri": "https://localhost:8080/"
        },
        "id": "968OgEwyBmvq",
        "outputId": "263202fc-83fe-45b4-9e09-0c6f78355524"
      },
      "execution_count": 27,
      "outputs": [
        {
          "output_type": "stream",
          "name": "stdout",
          "text": [
            "There is 11 rows and 15 columns \n"
          ]
        }
      ]
    },
    {
      "cell_type": "code",
      "source": [
        "final_df['start_cell'] = final_df[['row', 'column']].apply(np.array, axis=1)"
      ],
      "metadata": {
        "id": "GVp4UUkzwT7c"
      },
      "execution_count": 28,
      "outputs": []
    },
    {
      "cell_type": "markdown",
      "source": [
        "Now we need to create the same thing but the end location for the event"
      ],
      "metadata": {
        "id": "3Z-KCT_xvzd5"
      }
    },
    {
      "cell_type": "markdown",
      "source": [
        "some events that are shots have the end location and also the height of the shot when it ends up in goal"
      ],
      "metadata": {
        "id": "zKwv5CKgw6D1"
      }
    },
    {
      "cell_type": "code",
      "source": [
        "final_df['end_location'] = final_df['end_location'].apply(lambda x:\n",
        "                                    x[:-1] if isinstance(x, list) and len(x) == 3 else x)"
      ],
      "metadata": {
        "id": "5W6-oa--wsCs"
      },
      "execution_count": 29,
      "outputs": []
    },
    {
      "cell_type": "code",
      "source": [
        "def create_end_grid_cells(location, num_rows, num_columns, x_max, y_max):\n",
        "    \"\"\"\n",
        "    Assign a grid cell to each location based on its (x, y) coordinates.\n",
        "\n",
        "    Parameters:\n",
        "        location (tuple): (x, y) coordinates of the location.\n",
        "        num_rows (int): Number of rows in the grid.\n",
        "        num_columns (int): Number of columns in the grid.\n",
        "        x_max (float): Maximum x-coordinate value on the field.\n",
        "        y_max (float): Maximum y-coordinate value on the field.\n",
        "\n",
        "    Returns:\n",
        "        tuple: (row, column) indices of the grid cell for the given location.\n",
        "    \"\"\"\n",
        "    x, y = location\n",
        "    row = int(num_rows * y / y_max)\n",
        "    column = int(num_columns * x / x_max)\n",
        "    return row, column\n",
        "\n",
        "# Define the dimensions of the grid (12x16)\n",
        "num_rows, num_columns = 11, 15\n",
        "\n",
        "x_max = final_df['end_location'].apply(lambda loc: loc[0]).max()\n",
        "y_max = final_df['end_location'].apply(lambda loc: loc[1]).max()\n",
        "\n",
        "# Create new columns 'row' and 'column' to store the grid cell indices\n",
        "final_df[['end_row', 'end_column']] = final_df['end_location'].apply(lambda loc: create_end_grid_cells(loc, num_rows, num_columns, x_max, y_max)).tolist()\n",
        "\n",
        "# Now the 'final_df' DataFrame contains the 'row' and 'column' columns with the grid cell indices for each location.\n",
        "print(\"There is {} end rows and {} end columns \".format(final_df['end_row'].max(), final_df['end_column'].max()))\n"
      ],
      "metadata": {
        "colab": {
          "base_uri": "https://localhost:8080/"
        },
        "id": "Sppq8GT9v3xs",
        "outputId": "54239ecf-2c2e-4b6f-b0eb-612262c79105"
      },
      "execution_count": 30,
      "outputs": [
        {
          "output_type": "stream",
          "name": "stdout",
          "text": [
            "There is 11 end rows and 15 end columns \n"
          ]
        }
      ]
    },
    {
      "cell_type": "code",
      "source": [
        "final_df['end_cell'] = final_df[['end_row', 'end_column']].apply(np.array, axis=1)"
      ],
      "metadata": {
        "id": "NLARFMSWwctO"
      },
      "execution_count": 31,
      "outputs": []
    },
    {
      "cell_type": "code",
      "source": [
        "# final_df.isnull().sum()\n",
        "# final_df"
      ],
      "metadata": {
        "id": "G1zeA6F6v9g2"
      },
      "execution_count": 32,
      "outputs": []
    },
    {
      "cell_type": "markdown",
      "source": [
        "### We calculate the expected shot, move, transition from x,y to z,w , and xTzw"
      ],
      "metadata": {
        "id": "_5NleTkDBnU5"
      }
    },
    {
      "cell_type": "markdown",
      "source": [
        "### Shooting probability (xSxy)"
      ],
      "metadata": {
        "id": "IYZ4ENvF3MtT"
      }
    },
    {
      "cell_type": "code",
      "source": [
        "def shot_probability(df):\n",
        "    \"\"\"\n",
        "    Calculate the shot probabilities for all grid cells in the DataFrame.\n",
        "\n",
        "    Parameters:\n",
        "        df (pandas.core.frame.DataFrame): The DataFrame containing all the events.\n",
        "\n",
        "    Returns:\n",
        "        np.ndarray: A matrix, denoting the shot probabilities for each cell.\n",
        "    \"\"\"\n",
        "    # Filter the DataFrame to include only Shot events\n",
        "    shot_actions = df[df['type'] == 'Shot']\n",
        "\n",
        "    # Count the total number of Shot events in the DataFrame\n",
        "    total_shot_events = shot_actions.shape[0]\n",
        "\n",
        "    if total_shot_events == 0:\n",
        "        return np.zeros((l, w))\n",
        "\n",
        "    # Initialize the shot probabilities matrix\n",
        "    l, w = df['row'].max() + 1, df['column'].max() + 1\n",
        "    shot_probabilities = np.zeros((l, w))\n",
        "\n",
        "    # Calculate the shot probabilities for each cell in the grid\n",
        "    for row in range(l):\n",
        "        for column in range(w):\n",
        "            cell_events = shot_actions[(shot_actions['row'] == row) & (shot_actions['column'] == column)]\n",
        "            shot_probabilities[row, column] = cell_events.shape[0] / total_shot_events\n",
        "\n",
        "    return shot_probabilities\n",
        "\n",
        "# Example usage:\n",
        "# Call the shot_probability function to get the shot probability matrix\n",
        "shooting_matrix = shot_probability(final_df)\n",
        "\n",
        "print(\"Shot Probability Matrix:\")\n",
        "print(shooting_matrix)\n"
      ],
      "metadata": {
        "colab": {
          "base_uri": "https://localhost:8080/"
        },
        "id": "Pnf1KLM5Y2CJ",
        "outputId": "cfdac920-019d-471e-cd1e-3c667e7d6a84"
      },
      "execution_count": 33,
      "outputs": [
        {
          "output_type": "stream",
          "name": "stdout",
          "text": [
            "Shot Probability Matrix:\n",
            "[[0.         0.         0.         0.         0.         0.\n",
            "  0.         0.00068823 0.         0.         0.         0.\n",
            "  0.         0.         0.00137646 0.        ]\n",
            " [0.         0.         0.         0.         0.         0.\n",
            "  0.         0.         0.         0.         0.         0.\n",
            "  0.00137646 0.00068823 0.         0.        ]\n",
            " [0.         0.         0.         0.         0.         0.\n",
            "  0.         0.         0.         0.         0.00206469 0.00412939\n",
            "  0.00963524 0.00550585 0.00068823 0.        ]\n",
            " [0.         0.         0.         0.         0.         0.\n",
            "  0.         0.         0.         0.         0.00137646 0.02133517\n",
            "  0.03578802 0.04886442 0.01514109 0.        ]\n",
            " [0.         0.         0.         0.         0.         0.\n",
            "  0.         0.         0.         0.         0.00550585 0.02890571\n",
            "  0.04886442 0.0770819  0.04748796 0.        ]\n",
            " [0.         0.         0.         0.         0.         0.\n",
            "  0.         0.00068823 0.         0.         0.00757054 0.03647626\n",
            "  0.05712319 0.11768754 0.06262904 0.        ]\n",
            " [0.         0.         0.         0.         0.         0.\n",
            "  0.         0.         0.         0.00068823 0.00619408 0.03097041\n",
            "  0.04817619 0.07845836 0.05092911 0.        ]\n",
            " [0.         0.         0.         0.         0.         0.\n",
            "  0.         0.         0.         0.         0.00344116 0.02477632\n",
            "  0.04060564 0.04129387 0.01858224 0.00068823]\n",
            " [0.         0.         0.         0.         0.         0.\n",
            "  0.         0.         0.         0.         0.         0.00206469\n",
            "  0.00619408 0.00550585 0.00206469 0.        ]\n",
            " [0.         0.         0.         0.         0.         0.\n",
            "  0.         0.         0.         0.         0.         0.\n",
            "  0.         0.         0.         0.        ]\n",
            " [0.         0.         0.         0.         0.         0.\n",
            "  0.         0.         0.         0.         0.         0.\n",
            "  0.         0.         0.00068823 0.        ]\n",
            " [0.         0.         0.         0.         0.         0.\n",
            "  0.         0.         0.         0.         0.         0.\n",
            "  0.         0.         0.         0.        ]]\n"
          ]
        }
      ]
    },
    {
      "cell_type": "code",
      "source": [
        "\n",
        "# def shot_probability(row, column, df):\n",
        "#     \"\"\"\n",
        "#     Calculate the shot probability for a specific 'row' and 'column' in the DataFrame.\n",
        "\n",
        "#     Parameters:\n",
        "#         row (int): The row index representing the grid cell.\n",
        "#         column (int): The column index representing the grid cell.\n",
        "#         df (pandas.core.frame.DataFrame): The DataFrame containing all the events.\n",
        "\n",
        "#     Returns:\n",
        "#         float: The shot probability for the specified 'row' and 'column'.\n",
        "#     \"\"\"\n",
        "#     # Filter the DataFrame to include only Shot events in the specific 'row' and 'column'\n",
        "#     shot_events = df[(df['type'] == 'Shot') & (df['row'] == row) & (df['column'] == column)]\n",
        "\n",
        "#     # Count the total number of events in the DataFrame\n",
        "#     total_events = len(df)\n",
        "\n",
        "#     if total_events == 0:\n",
        "#         return 0.0\n",
        "\n",
        "#     # Calculate the shot probability for the specific 'row' and 'column'\n",
        "#     shot_probability = len(shot_events) / total_events\n",
        "\n",
        "#     return shot_probability\n",
        "\n",
        "# # Example usage:\n",
        "# # Assuming you have the desired 'row' and 'column' indices\n",
        "# desired_row = 6\n",
        "# desired_column = 14\n",
        "\n",
        "# # Call the shot_probability function with the desired 'row', 'column', and 'final_df' DataFrame\n",
        "# probability = shot_probability(desired_row, desired_column, final_df)\n",
        "\n",
        "# print(\"Move Probability for Row {} and Columns {} : {}\".format(desired_row, desired_column, probability))\n"
      ],
      "metadata": {
        "id": "stzkRdkcPeg5"
      },
      "execution_count": 34,
      "outputs": []
    },
    {
      "cell_type": "code",
      "source": [
        "\n",
        "# def shot_probability(row, column, df):\n",
        "#     \"\"\"\n",
        "#     Calculate the shot probability for a specific 'row' and 'column' in the DataFrame.\n",
        "\n",
        "#     Parameters:\n",
        "#         row (int): The row index representing the grid cell.\n",
        "#         column (int): The column index representing the grid cell.\n",
        "#         df (pandas.core.frame.DataFrame): The DataFrame containing all the events.\n",
        "\n",
        "#     Returns:\n",
        "#         float: The shot probability for the specified 'row' and 'column'.\n",
        "#     \"\"\"\n",
        "#     # Filter the DataFrame to include only Shot events in the specific 'row' and 'column'\n",
        "#     shot_events = df[(df['type'] == 'Shot') & (df['row'] == row) & (df['column'] == column)]\n",
        "\n",
        "#     # Count the total number of events in the DataFrame\n",
        "#     total_events = len(df[(df['type'] == 'Shot')])\n",
        "\n",
        "#     if total_events == 0:\n",
        "#         return 0.0\n",
        "\n",
        "#     # Calculate the shot probability for the specific 'row' and 'column'\n",
        "#     shot_probability = len(shot_events) / total_events\n",
        "\n",
        "#     return shot_probability\n",
        "\n",
        "# # Example usage:\n",
        "# # Assuming you have the desired 'row' and 'column' indices\n",
        "# desired_row = 6\n",
        "# desired_column = 14\n",
        "\n",
        "# # Call the shot_probability function with the desired 'row', 'column', and 'final_df' DataFrame\n",
        "# probability = shot_probability(desired_row, desired_column, final_df)\n",
        "\n",
        "# print(\"Move Probability for Row {} and Columns {} : {}\".format(desired_row, desired_column, probability))\n"
      ],
      "metadata": {
        "id": "DTcsQktRnL3i"
      },
      "execution_count": 35,
      "outputs": []
    },
    {
      "cell_type": "code",
      "source": [
        "def find_average_location(locations):\n",
        "    total_sum = [0, 0]\n",
        "    num_locations = len(locations)\n",
        "\n",
        "    for location in locations:\n",
        "        total_sum[0] += location[0]\n",
        "        total_sum[1] += location[1]\n",
        "\n",
        "    average_location = [total_sum[0] / num_locations, total_sum[1] / num_locations]\n",
        "    return average_location\n",
        "\n",
        "\n",
        "average_location = find_average_location(WC_events22['shots']['location'])\n",
        "print(\"Average shot location Location: {}\".format(average_location))\n"
      ],
      "metadata": {
        "colab": {
          "base_uri": "https://localhost:8080/"
        },
        "id": "VVVK2y96pY93",
        "outputId": "073e32de-c822-42fc-dfef-37a073d286a2"
      },
      "execution_count": 36,
      "outputs": [
        {
          "output_type": "stream",
          "name": "stdout",
          "text": [
            "Average shot location Location: [104.5564257028113, 39.85649263721548]\n"
          ]
        }
      ]
    },
    {
      "cell_type": "markdown",
      "source": [
        "After we calculated the expected shooting probability we apply it to our dataframe based on the row and columns of our grid."
      ],
      "metadata": {
        "id": "2ye1o5kXWecB"
      }
    },
    {
      "cell_type": "code",
      "source": [
        "# desired_row = 3  # Replace with the desired row number you want to match\n",
        "# desired_column = 5  # Replace with the desired column number you want to match\n",
        "\n",
        "# # Create a new column 'xS' and set the default value to 0.0\n",
        "# final_df['xS'] = 0.0\n",
        "\n",
        "# # Iterate through the DataFrame rows using a for loop\n",
        "# for index, row in final_df.iterrows():\n",
        "#     # Get the row and column values for the current row\n",
        "#     current_row = row['row']\n",
        "#     current_column = row['column']\n",
        "\n",
        "#     # Check if the current row and column match the desired row and column\n",
        "#     if current_row == row['row'] and current_column == row['column']:\n",
        "#         # If there's a match, calculate the probability and assign it to the 'xS' column\n",
        "#         probability = shot_probability(current_row, current_column, final_df)\n",
        "#         final_df.loc[index, 'xS'] = probability"
      ],
      "metadata": {
        "id": "neHos_0iWLn2"
      },
      "execution_count": 37,
      "outputs": []
    },
    {
      "cell_type": "code",
      "source": [
        "# final_df['xS'].max()\n",
        "\n",
        "# for i in range(final_df['row'].max() + 1):\n",
        "#     for j in range(final_df['column'].max() + 1):\n",
        "#         final_df.loc[(final_df['row'] == i) & (final_df['column'] == j), 'xS'] = shot_probability(final_df)\n"
      ],
      "metadata": {
        "id": "7IUcdl8UxYCk"
      },
      "execution_count": 38,
      "outputs": []
    },
    {
      "cell_type": "markdown",
      "source": [
        "### Moving Probability (xMxy)"
      ],
      "metadata": {
        "id": "P7NZ_B353E1F"
      }
    },
    {
      "cell_type": "markdown",
      "source": [
        "without nd array"
      ],
      "metadata": {
        "id": "j1o7U90AchHh"
      }
    },
    {
      "cell_type": "code",
      "source": [
        "# def move_probability(row, column, df):\n",
        "#     \"\"\"\n",
        "#     Calculate the move probability for a specific 'row' and 'column' in the DataFrame.\n",
        "\n",
        "#     Parameters:\n",
        "#         row (int): The row index representing the grid cell.\n",
        "#         column (int): The column index representing the grid cell.\n",
        "#         df (pandas.core.frame.DataFrame): The DataFrame containing all the events.\n",
        "\n",
        "#     Returns:\n",
        "#         float: The move probability for the specified 'row' and 'column'.\n",
        "#     \"\"\"\n",
        "#     # Calculate the shot probability for the specific 'row' and 'column'\n",
        "#     shot_prob = shot_probability(row, column, df)\n",
        "\n",
        "#     # Calculate the move probability as 1 minus the shot probability\n",
        "#     move_prob = 1 - shot_prob\n",
        "\n",
        "#     return move_prob\n",
        "\n",
        "# # Example usage:\n",
        "# # Assuming you have the desired 'row' and 'column' indices\n",
        "# desired_row = 4\n",
        "# desired_column = 13\n",
        "\n",
        "# # Call the move_probability function with the desired 'row', 'column', and 'final_df' DataFrame\n",
        "# probability = move_probability(desired_row, desired_column, final_df)\n",
        "\n",
        "# print(\"Move Probability for Row {} and Columns {} : {}\".format(desired_row, desired_column, probability))"
      ],
      "metadata": {
        "id": "O-K4li_Iytn8"
      },
      "execution_count": 39,
      "outputs": []
    },
    {
      "cell_type": "markdown",
      "source": [
        "with nd array"
      ],
      "metadata": {
        "id": "qbG3XFhpcjbn"
      }
    },
    {
      "cell_type": "code",
      "source": [
        "\n",
        "def move_probability(df):\n",
        "    \"\"\"\n",
        "    Calculate the move probabilities for all grid cells in the DataFrame.\n",
        "\n",
        "    Parameters:\n",
        "        df (pandas.core.frame.DataFrame): The DataFrame containing all the events.\n",
        "\n",
        "    Returns:\n",
        "        np.ndarray: A matrix, denoting the move probabilities for each cell.\n",
        "    \"\"\"\n",
        "    # Calculate the shot probabilities for all grid cells\n",
        "    shot_probabilities = shot_probability(df)\n",
        "\n",
        "    # Calculate the move probabilities by subtracting shot probabilities from 1\n",
        "    move_probabilities = 1 - shot_probabilities\n",
        "\n",
        "    return move_probabilities\n",
        "\n",
        "# Example usage:\n",
        "# Assuming you have the DataFrame 'final_df'\n",
        "# Call the move_probability function to get the move probability matrix\n",
        "moving_matrix = move_probability(final_df)\n",
        "\n",
        "print(\"Move Probability Matrix:\")\n",
        "print(moving_matrix)\n"
      ],
      "metadata": {
        "colab": {
          "base_uri": "https://localhost:8080/"
        },
        "id": "czEaNJo8ckfJ",
        "outputId": "5c6da723-66ad-4e22-93b3-abb7654a1045"
      },
      "execution_count": 40,
      "outputs": [
        {
          "output_type": "stream",
          "name": "stdout",
          "text": [
            "Move Probability Matrix:\n",
            "[[1.         1.         1.         1.         1.         1.\n",
            "  1.         0.99931177 1.         1.         1.         1.\n",
            "  1.         1.         0.99862354 1.        ]\n",
            " [1.         1.         1.         1.         1.         1.\n",
            "  1.         1.         1.         1.         1.         1.\n",
            "  0.99862354 0.99931177 1.         1.        ]\n",
            " [1.         1.         1.         1.         1.         1.\n",
            "  1.         1.         1.         1.         0.99793531 0.99587061\n",
            "  0.99036476 0.99449415 0.99931177 1.        ]\n",
            " [1.         1.         1.         1.         1.         1.\n",
            "  1.         1.         1.         1.         0.99862354 0.97866483\n",
            "  0.96421198 0.95113558 0.98485891 1.        ]\n",
            " [1.         1.         1.         1.         1.         1.\n",
            "  1.         1.         1.         1.         0.99449415 0.97109429\n",
            "  0.95113558 0.9229181  0.95251204 1.        ]\n",
            " [1.         1.         1.         1.         1.         1.\n",
            "  1.         0.99931177 1.         1.         0.99242946 0.96352374\n",
            "  0.94287681 0.88231246 0.93737096 1.        ]\n",
            " [1.         1.         1.         1.         1.         1.\n",
            "  1.         1.         1.         0.99931177 0.99380592 0.96902959\n",
            "  0.95182381 0.92154164 0.94907089 1.        ]\n",
            " [1.         1.         1.         1.         1.         1.\n",
            "  1.         1.         1.         1.         0.99655884 0.97522368\n",
            "  0.95939436 0.95870613 0.98141776 0.99931177]\n",
            " [1.         1.         1.         1.         1.         1.\n",
            "  1.         1.         1.         1.         1.         0.99793531\n",
            "  0.99380592 0.99449415 0.99793531 1.        ]\n",
            " [1.         1.         1.         1.         1.         1.\n",
            "  1.         1.         1.         1.         1.         1.\n",
            "  1.         1.         1.         1.        ]\n",
            " [1.         1.         1.         1.         1.         1.\n",
            "  1.         1.         1.         1.         1.         1.\n",
            "  1.         1.         0.99931177 1.        ]\n",
            " [1.         1.         1.         1.         1.         1.\n",
            "  1.         1.         1.         1.         1.         1.\n",
            "  1.         1.         1.         1.        ]]\n"
          ]
        }
      ]
    },
    {
      "cell_type": "markdown",
      "source": [
        "After we calculated the expected moving probability we apply it to our dataframe based on the row and columns of our grid."
      ],
      "metadata": {
        "id": "8aLcu6PRWtiJ"
      }
    },
    {
      "cell_type": "code",
      "source": [
        "# for i in range(final_df['row'].max() + 1):\n",
        "#     for j in range(final_df['column'].max() + 1):\n",
        "#         final_df.loc[(final_df['row'] == i) & (final_df['column'] == j), 'xM'] = move_probability(i, j, final_df)"
      ],
      "metadata": {
        "id": "7s3DeqUXWXXM"
      },
      "execution_count": 41,
      "outputs": []
    },
    {
      "cell_type": "markdown",
      "source": [
        "### Expected Goals (xG)"
      ],
      "metadata": {
        "id": "UPeE_6X0XxQz"
      }
    },
    {
      "cell_type": "code",
      "source": [
        "final_df.loc[final_df['shot_outcome'] == 'Goal', 'goal_scored'] = 1\n",
        "final_df.loc[final_df['shot_outcome'] != 'Goal', 'goal_scored'] = 0\n",
        "final_df['goal_scored'].astype(int)\n"
      ],
      "metadata": {
        "colab": {
          "base_uri": "https://localhost:8080/"
        },
        "id": "H2p-F_zX2zke",
        "outputId": "b7812c47-6563-488c-86f6-1a5411d8d9b8"
      },
      "execution_count": 42,
      "outputs": [
        {
          "output_type": "execute_result",
          "data": {
            "text/plain": [
              "0         0\n",
              "1         0\n",
              "2         0\n",
              "3         0\n",
              "4         0\n",
              "         ..\n",
              "123759    0\n",
              "123760    0\n",
              "123761    0\n",
              "123762    0\n",
              "123763    0\n",
              "Name: goal_scored, Length: 123731, dtype: int64"
            ]
          },
          "metadata": {},
          "execution_count": 42
        }
      ]
    },
    {
      "cell_type": "code",
      "source": [
        "#team,minute,second,duration,period,pass_goal_assist, possession, position, play_pattern, location, type, under_pressure, pass_length,\n",
        "# pass_angle, end_location, technique, event_type, outcome, goal_scored"
      ],
      "metadata": {
        "id": "4JbUOVRylZ7o"
      },
      "execution_count": 43,
      "outputs": []
    },
    {
      "cell_type": "code",
      "source": [
        "# Assuming you have a DataFrame named 'df' with a column named 'team'\n",
        "team_rankings = {\n",
        "    \"Brazil\": 1,\n",
        "    \"Belgium\": 2,\n",
        "    \"Argentina\": 3,\n",
        "    \"France\": 4,\n",
        "    \"England\": 5,\n",
        "    \"Spain\": 7,\n",
        "    \"Netherlands\": 8,\n",
        "    \"Portugal\": 9,\n",
        "    \"Denmark\": 10,\n",
        "    \"Germany\": 11,\n",
        "    \"Croatia\": 12,\n",
        "    \"Mexico\": 13,\n",
        "    \"Uruguay\": 14,\n",
        "    \"Switzerland\": 15,\n",
        "    \"United States\": 16,\n",
        "    \"Senegal\": 18,\n",
        "    \"Wales\": 19,\n",
        "    \"Iran\": 20,\n",
        "    \"Serbia\": 21,\n",
        "    \"Morocco\": 22,\n",
        "    \"Japan\": 24,\n",
        "    \"Poland\": 25,\n",
        "    \"South Korea\": 28,\n",
        "    \"Tunisia\": 30,\n",
        "    \"Costa Rica\": 31,\n",
        "    \"Australia\": 38,\n",
        "    \"Ecuador\": 44,\n",
        "    \"Cameroon\": 43,\n",
        "    \"Qatar\": 50,\n",
        "    \"Saudi Arabia\": 51,\n",
        "    \"Ghana\": 61,\n",
        "    \"Canada\": 41\n",
        "}\n",
        "\n",
        "final_df['team_ranking'] = final_df['team'].map(team_rankings)\n",
        "# Got their rankings from FIFA.COM"
      ],
      "metadata": {
        "id": "NSxFkdec3I7D"
      },
      "execution_count": 44,
      "outputs": []
    },
    {
      "cell_type": "code",
      "source": [
        "xg_df = final_df.copy()"
      ],
      "metadata": {
        "id": "lypdoQdx4_E4"
      },
      "execution_count": 45,
      "outputs": []
    },
    {
      "cell_type": "markdown",
      "source": [
        "To make a regression analysis on xG you need to convert the categorical data into numerical data"
      ],
      "metadata": {
        "id": "RheAH1fq1ZfU"
      }
    },
    {
      "cell_type": "code",
      "source": [
        "xg_df = xg_df[xg_df['type'] == 'Shot']\n",
        "xg_df = xg_df.drop(columns=['match_id', 'index', 'player', 'team', 'pass_goal_assist',\n",
        "                            'second', 'position',  'type',\n",
        "                            'pass_length', 'pass_angle', 'end_location',\n",
        "                            'timestamp',\n",
        "                                  ])\n",
        "\n",
        "# xg_df['type'].unique()"
      ],
      "metadata": {
        "id": "CcRr9LEYyftk"
      },
      "execution_count": 46,
      "outputs": []
    },
    {
      "cell_type": "code",
      "source": [
        "xg_df['under_pressure'] = xg_df['under_pressure'].astype(int) # converting under_pressure to numeric\n",
        "xg_df['foot_shoot'] = xg_df['shot_body_part'].apply(lambda x: 1 if x in ['Right Foot', 'Left Foot'] else 0)\n",
        "# change the shot_body part if they hit it with their feet or not\n",
        "\n",
        "categorical_columns = ['shot_type', 'shot_technique', 'play_pattern',\n",
        "                       'shot_outcome'\n",
        "                       ]  # Replace with the actual column names\n",
        "\n",
        "#Perform one-hot encoding using pd.get_dummies()\n",
        "xg_df = pd.get_dummies(xg_df, columns=categorical_columns)\n",
        "\n",
        "# print(xg_df_encoded)\n"
      ],
      "metadata": {
        "id": "-SKMJlVY7TLg"
      },
      "execution_count": 47,
      "outputs": []
    },
    {
      "cell_type": "code",
      "source": [
        "xg_df.columns\n",
        "'''\n",
        "'team_ranking', 'minute', 'duration', 'period', 'pass_goal_assist', 'play_pattern_encoded',\n",
        "              'positions_encoded','under_pressure', 'pass_length','pass_angle', 'row', 'column' ,'technique_encoded',\n",
        "              'event_type_encoded', 'possession', 'type_encoded', 'outcome_encoded'\n",
        "'''\n",
        "\n",
        "# xg_df['technique_encoded'].unique()\n",
        "\n",
        "# Check for missing values in the DataFrame\n",
        "print(xg_df.isnull().sum())\n",
        "# xg_df['possession'].unique()"
      ],
      "metadata": {
        "colab": {
          "base_uri": "https://localhost:8080/"
        },
        "id": "z9zK4nzF_dze",
        "outputId": "46932bfd-3674-4371-cf19-caed9897b242"
      },
      "execution_count": 48,
      "outputs": [
        {
          "output_type": "stream",
          "name": "stdout",
          "text": [
            "minute                            0\n",
            "duration                          0\n",
            "period                            0\n",
            "possession                        0\n",
            "location                          0\n",
            "under_pressure                    0\n",
            "shot_end_location                 0\n",
            "shot_statsbomb_xg                 0\n",
            "shot_body_part                    0\n",
            "shot_freeze_frame                22\n",
            "row                               0\n",
            "column                            0\n",
            "start_cell                        0\n",
            "end_row                           0\n",
            "end_column                        0\n",
            "end_cell                          0\n",
            "goal_scored                       0\n",
            "team_ranking                      0\n",
            "foot_shoot                        0\n",
            "shot_type_Corner                  0\n",
            "shot_type_Free Kick               0\n",
            "shot_type_Open Play               0\n",
            "shot_type_Penalty                 0\n",
            "shot_technique_Backheel           0\n",
            "shot_technique_Diving Header      0\n",
            "shot_technique_Half Volley        0\n",
            "shot_technique_Lob                0\n",
            "shot_technique_Normal             0\n",
            "shot_technique_Overhead Kick      0\n",
            "shot_technique_Volley             0\n",
            "play_pattern_From Corner          0\n",
            "play_pattern_From Counter         0\n",
            "play_pattern_From Free Kick       0\n",
            "play_pattern_From Goal Kick       0\n",
            "play_pattern_From Keeper          0\n",
            "play_pattern_From Kick Off        0\n",
            "play_pattern_From Throw In        0\n",
            "play_pattern_Other                0\n",
            "play_pattern_Regular Play         0\n",
            "shot_outcome_Blocked              0\n",
            "shot_outcome_Goal                 0\n",
            "shot_outcome_Off T                0\n",
            "shot_outcome_Post                 0\n",
            "shot_outcome_Saved                0\n",
            "shot_outcome_Saved Off Target     0\n",
            "shot_outcome_Saved to Post        0\n",
            "shot_outcome_Wayward              0\n",
            "dtype: int64\n"
          ]
        }
      ]
    },
    {
      "cell_type": "markdown",
      "source": [
        "#### Find the angle of the shot"
      ],
      "metadata": {
        "id": "PyRG6Z7hP4T2"
      }
    },
    {
      "cell_type": "code",
      "source": [
        "\n",
        "post_coord_up = [120, 36]\n",
        "post_coord_down = [120, 44]\n",
        "\n",
        "k = 8\n",
        "\n",
        "def calculate_final_theta(row):\n",
        "    player_loc = row['location']\n",
        "    if player_loc[1] <= 36:\n",
        "        x = abs(player_loc[1] - post_coord_up[1])  # vertical distance between the player and nearest post\n",
        "        A = abs(player_loc[0] - post_coord_up[0])  # horizontal distance between the player and nearest post\n",
        "    elif player_loc[1] >= 44:\n",
        "        x = abs(player_loc[1] - post_coord_down[1])  # vertical distance between the player and nearest post\n",
        "        A = abs(player_loc[0] - post_coord_down[0])  # horizontal distance between the player and nearest post\n",
        "    else:  # All other cases where player_loc[1] is between 36 and 44 (exclusive)\n",
        "        opposite_up = 120 - player_loc[0]\n",
        "        adjacent_up = player_loc[1] - 36\n",
        "\n",
        "        theta_up = degrees(atan(opposite_up / adjacent_up))\n",
        "\n",
        "        opposite_down = 120 - player_loc[0]\n",
        "        adjacent_down = 44 - player_loc[1]\n",
        "\n",
        "        theta_down = degrees(atan(opposite_down / adjacent_down))\n",
        "\n",
        "        final_theta = 180 - (theta_up + theta_down)\n",
        "        return final_theta\n",
        "\n",
        "    # Check if A is zero to avoid division by zero\n",
        "    if A != 0:\n",
        "        theta_extra = degrees(atan(x / A))\n",
        "        theta_big = degrees(atan((k + x) / A))\n",
        "\n",
        "        final_theta = theta_big - theta_extra\n",
        "    else:\n",
        "        final_theta = 0  # Set to a default value if A is zero\n",
        "\n",
        "    return final_theta\n",
        "\n",
        "# Apply the function to calculate the 'final_theta' for each row\n",
        "xg_df['angle'] = xg_df.apply(calculate_final_theta, axis=1)\n",
        "# print(xg_df['final_theta'].max())\n"
      ],
      "metadata": {
        "id": "-1vSH35HhHxv"
      },
      "execution_count": 49,
      "outputs": []
    },
    {
      "cell_type": "code",
      "source": [
        "min_angle_index = xg_df['angle'].idxmin()\n",
        "min_angle_location = xg_df.loc[min_angle_index, 'location']\n",
        "\n",
        "print(\"Location of the minimum angle:\", min_angle_location)\n"
      ],
      "metadata": {
        "colab": {
          "base_uri": "https://localhost:8080/"
        },
        "id": "c01xhiphV3Vg",
        "outputId": "4f111295-183f-4064-eb71-3c81f7945044"
      },
      "execution_count": 50,
      "outputs": [
        {
          "output_type": "stream",
          "name": "stdout",
          "text": [
            "Location of the minimum angle: [120.0, 54.6]\n"
          ]
        }
      ]
    },
    {
      "cell_type": "markdown",
      "source": [
        "#### Distance shot from goal"
      ],
      "metadata": {
        "id": "-RGo45j_l4c_"
      }
    },
    {
      "cell_type": "code",
      "source": [
        "# Center_of_goal = [120, 40]\n",
        "\n",
        "# Assuming 'xg_df' is your DataFrame and 'location' column contains player locations\n",
        "xg_df['x_distance_from_goal'] = xg_df['location'].apply(lambda loc: 120 - loc[0])\n",
        "xg_df['y_distance_from_goal'] = xg_df['location'].apply(lambda loc: abs(40 - loc[1]))\n",
        "\n",
        "def calculate_hyp(row):\n",
        "    x = row['x_distance_from_goal']\n",
        "    y = row['y_distance_from_goal']\n",
        "    return sqrt(x**2 + y**2) # the hypotonis\n",
        "\n",
        "xg_df['Distance_shot'] = xg_df.apply(calculate_hyp, axis=1)\n",
        "\n"
      ],
      "metadata": {
        "id": "f8tJneYhl33b"
      },
      "execution_count": 51,
      "outputs": []
    },
    {
      "cell_type": "code",
      "source": [
        "# WC_events22['shots']['shot_freeze_frame'][0]"
      ],
      "metadata": {
        "id": "nITTPJM_pN-m"
      },
      "execution_count": 52,
      "outputs": []
    },
    {
      "cell_type": "markdown",
      "source": [
        "#### Defenders in my shot area"
      ],
      "metadata": {
        "id": "tvMULQti2-HN"
      }
    },
    {
      "cell_type": "code",
      "source": [
        "# Convert NaN values to empty lists in the 'shot_freeze_frame' column\n",
        "xg_df['shot_freeze_frame'] = xg_df['shot_freeze_frame'].fillna(pd.Series([[]] * len(xg_df)))\n",
        "\n"
      ],
      "metadata": {
        "id": "kgpMS-su6VI9"
      },
      "execution_count": 53,
      "outputs": []
    },
    {
      "cell_type": "code",
      "source": [
        "# Function to filter out the lists with 'teammate' set to True in the shot freeze frame\n",
        "def filter_freeze_frame(frame):\n",
        "    if isinstance(frame, list):\n",
        "        return [item for item in frame if not item.get('teammate', False)]\n",
        "    else:\n",
        "        return []\n",
        "\n",
        "# Remove lists with 'teammate' set to True in the shot freeze frame\n",
        "xg_df['shot_freeze_frame'] = xg_df['shot_freeze_frame'].apply(filter_freeze_frame)\n"
      ],
      "metadata": {
        "id": "Tax1UlTPbjZy"
      },
      "execution_count": 54,
      "outputs": []
    },
    {
      "cell_type": "code",
      "source": [
        "import pandas as pd\n",
        "\n",
        "# Assuming you have a DataFrame named 'xg_df' with columns 'event', 'location', and 'shot_freeze_frame'\n",
        "left_post = [120, 36]\n",
        "right_post = [120, 44]\n",
        "\n",
        "# Function to check if a location is within the triangle formed by the shot and the goal posts\n",
        "def is_location_within_triangle(location, shot_location):\n",
        "    x_min = min(shot_location[0], left_post[0], right_post[0])\n",
        "    x_max = max(shot_location[0], left_post[0], right_post[0])\n",
        "    y_min = min(shot_location[1], left_post[1], right_post[1])\n",
        "    y_max = max(shot_location[1], left_post[1], right_post[1])\n",
        "\n",
        "    # Calculate the vectors representing the goal posts from the shot location\n",
        "    vector_left = [left_post[0] - shot_location[0], left_post[1] - shot_location[1]]\n",
        "    vector_right = [right_post[0] - shot_location[0], right_post[1] - shot_location[1]]\n",
        "    vector_location = [location[0] - shot_location[0], location[1] - shot_location[1]]\n",
        "\n",
        "    # Calculate the cross products of the vectors\n",
        "    cross_left = vector_location[0] * vector_left[1] - vector_location[1] * vector_left[0]\n",
        "    cross_right = vector_location[0] * vector_right[1] - vector_location[1] * vector_right[0]\n",
        "\n",
        "    # If the cross products have the same sign and the location is within the bounding rectangle, the location is within the triangle\n",
        "    return (cross_left >= 0 and cross_right >= 0) and (x_min <= location[0] <= x_max) and (y_min <= location[1] <= y_max)\n",
        "\n",
        "# Function to count the number of locations within the triangle for each shot\n",
        "def count_locations_within_triangle(locations_list, shot_location):\n",
        "    count = 0\n",
        "    for location_dict in locations_list:\n",
        "        location = location_dict.get('location')\n",
        "        if location and is_location_within_triangle(location, shot_location):\n",
        "            count += 1\n",
        "    return count\n",
        "\n",
        "# Apply the function to 'shot_freeze_frame' and create a new column 'count_within_triangle'\n",
        "xg_df['count_within_triangle'] = xg_df.apply(lambda row: count_locations_within_triangle(row['shot_freeze_frame'], row['location']), axis=1)\n",
        "\n",
        "# Now you have a new column 'count_within_triangle' in the DataFrame, which represents the count of locations in each shot_freeze_frame that are within the triangle formed by the shot location and the goal posts.\n",
        "xg_df['count_within_triangle'].max()"
      ],
      "metadata": {
        "colab": {
          "base_uri": "https://localhost:8080/"
        },
        "id": "hDjIWyduGXjv",
        "outputId": "a1b3c553-c5c4-46de-e193-50bd06b7312d"
      },
      "execution_count": 55,
      "outputs": [
        {
          "output_type": "execute_result",
          "data": {
            "text/plain": [
              "7"
            ]
          },
          "metadata": {},
          "execution_count": 55
        }
      ]
    },
    {
      "cell_type": "markdown",
      "source": [
        "#### Model Implementation for xG"
      ],
      "metadata": {
        "id": "hN2BhQ8D0H1l"
      }
    },
    {
      "cell_type": "markdown",
      "source": [
        "Using SMOTE"
      ],
      "metadata": {
        "id": "Obwus4BQIAGn"
      }
    },
    {
      "cell_type": "code",
      "source": [
        "X = xg_df[['minute', 'duration', 'period', 'possession', 'team_ranking',\n",
        "       'under_pressure','row','column',  'angle',\n",
        "        'Distance_shot', 'foot_shoot', 'count_within_triangle']]\n",
        "\n",
        "y = xg_df['goal_scored']\n",
        "\n",
        "# Step 3: Split your data into training and testing sets\n",
        "X_train, X_test, y_train, y_test = train_test_split(X, y, test_size=0.2, random_state=42)\n",
        "\n",
        "# Step 4: Use SMOTE to balance the dataset\n",
        "smote = SMOTE(random_state=42)\n",
        "X_train_resampled, y_train_resampled = smote.fit_resample(X_train, y_train)\n",
        "\n",
        "# Step 5: Create and train the logistic regression model\n",
        "logreg = LogisticRegression()\n",
        "logreg.fit(X_train_resampled, y_train_resampled)\n",
        "\n",
        "# Step 6: Make predictions for expected goals (xG) on the test set\n",
        "xG_predictions = logreg.predict_proba(X_test)[:, 1]\n",
        "\n",
        "# test_set_with_xG = X_test.copy()\n",
        "# test_set_with_xG['xG'] = xG_predictions\n",
        "# print(test_set_with_xG)\n"
      ],
      "metadata": {
        "id": "gRtvH7VziaGG"
      },
      "execution_count": 87,
      "outputs": []
    },
    {
      "cell_type": "markdown",
      "source": [
        "##### hyper parameters for xG"
      ],
      "metadata": {
        "id": "HLiXfEJE67g_"
      }
    },
    {
      "cell_type": "code",
      "source": [
        "\n",
        "\n",
        "# Step 1: Use SMOTE to balance the dataset\n",
        "smote = SMOTE(random_state=42)\n",
        "X_resampled, y_resampled = smote.fit_resample(X, y)\n",
        "\n",
        "# Step 2: Split your data into training and testing sets\n",
        "X_train, X_test, y_train, y_test = train_test_split(X_resampled, y_resampled, test_size=0.2, random_state=42)\n",
        "\n",
        "# Step 3: Create a logistic regression model\n",
        "logreg = LogisticRegression()\n",
        "\n",
        "# Step 4: Define a grid of hyperparameters to search over\n",
        "param_grid = {\n",
        "    'C': [0.1, 1, 10, 100],  # Regularization parameter (smaller values specify stronger regularization)\n",
        "    'solver': ['liblinear', 'lbfgs', 'sag', 'saga'],  # Solver algorithms\n",
        "    'max_iter': [100, 200, 300],  # Maximum number of iterations\n",
        "}\n",
        "\n",
        "# Step 5: Perform GridSearchCV with 5-fold cross-validation to find the best hyperparameters\n",
        "grid_search = GridSearchCV(logreg, param_grid, cv=5, scoring='accuracy')\n",
        "grid_search.fit(X_train, y_train)\n",
        "\n",
        "# Step 6: Print the best hyperparameters and their corresponding accuracy score\n",
        "print(\"Best Hyperparameters:\", grid_search.best_params_)\n",
        "print(\"Best Accuracy Score:\", grid_search.best_score_)\n",
        "\n",
        "# Step 7: Use the best model to make predictions for expected goals (xG) on the test set\n",
        "best_logreg_model = grid_search.best_estimator_\n",
        "xG_predictions = best_logreg_model.predict_proba(X_test)[:, 1]\n",
        "\n",
        "# Step 8: Optionally, you can add the predicted probabilities 'xG' to the test set DataFrame\n",
        "test_set_with_xG = X_test.copy()\n",
        "test_set_with_xG['xG'] = xG_predictions\n",
        "# print(test_set_with_xG)\n"
      ],
      "metadata": {
        "colab": {
          "base_uri": "https://localhost:8080/"
        },
        "id": "tmNKJ5FJ6Wvi",
        "outputId": "e9eb0fa9-932d-4036-ca42-3dc54036d6cd"
      },
      "execution_count": 58,
      "outputs": [
        {
          "output_type": "stream",
          "name": "stdout",
          "text": [
            "Best Hyperparameters: {'C': 1, 'max_iter': 100, 'solver': 'liblinear'}\n",
            "Best Accuracy Score: 0.7950163195062607\n"
          ]
        }
      ]
    },
    {
      "cell_type": "markdown",
      "source": [
        "After hyper paramaters apply it for the whole data frame of xg_df"
      ],
      "metadata": {
        "id": "lOWrHcn58ZGP"
      }
    },
    {
      "cell_type": "code",
      "source": [
        "X = xg_df[['minute', 'duration', 'period', 'possession',\n",
        "       'under_pressure','row','column',  'angle',\n",
        "        'Distance_shot', 'foot_shoot', 'count_within_triangle']]\n",
        "\n",
        "y = xg_df['goal_scored']\n",
        "\n",
        "\n",
        "# # Step 4: Use SMOTE to balance the dataset\n",
        "# smote = SMOTE(random_state=42)\n",
        "# X_train_resampled, y_train_resampled = smote.fit_resample(xg_df)\n",
        "\n",
        "# Step 5: Create and train the logistic regression model\n",
        "logreg = LogisticRegression(C=1, max_iter=100, solver='liblinear')\n",
        "logreg.fit(X, y)\n",
        "\n",
        "# Step 6: Make predictions for expected goals (xG) on the test set\n",
        "xG_predictions = logreg.predict_proba(X)[:, 1]"
      ],
      "metadata": {
        "id": "RZpgWIyn8fsb"
      },
      "execution_count": 88,
      "outputs": []
    },
    {
      "cell_type": "code",
      "source": [
        "xg_df['xG'] = xG_predictions"
      ],
      "metadata": {
        "id": "kdfiC2ZoADMw"
      },
      "execution_count": 89,
      "outputs": []
    },
    {
      "cell_type": "code",
      "source": [
        "print(type(xG_predictions))  # Check the type of xG_predictions\n",
        "print(isinstance(xG_predictions, np.ndarray))  # Check if xG_predictions is an instance of NumPy ndarray\n"
      ],
      "metadata": {
        "colab": {
          "base_uri": "https://localhost:8080/"
        },
        "id": "QsyXTXdCfZxy",
        "outputId": "6e7c5632-3004-4ca6-d562-c24adcc90f3d"
      },
      "execution_count": 90,
      "outputs": [
        {
          "output_type": "stream",
          "name": "stdout",
          "text": [
            "<class 'numpy.ndarray'>\n",
            "True\n"
          ]
        }
      ]
    },
    {
      "cell_type": "markdown",
      "source": [
        "##### visuals for logistic"
      ],
      "metadata": {
        "id": "w_r-o0LnKHD3"
      }
    },
    {
      "cell_type": "code",
      "source": [
        "\n",
        "\n",
        "# # Extract the 'xG' and 'statsbombxG' columns\n",
        "xG_values = xg_df['xG']\n",
        "statsbombxG_values = xg_df['shot_statsbomb_xg']\n",
        "\n",
        "# Create a scatter plot\n",
        "plt.figure(figsize=(8, 6))\n",
        "plt.scatter(xG_values, statsbombxG_values, alpha=0.5)\n",
        "\n",
        "# Add labels and title\n",
        "plt.xlabel('xG')\n",
        "plt.ylabel('StatsBomb xG')\n",
        "plt.title('xG vs StatsBomb xG')\n",
        "\n",
        "# Add a diagonal reference line\n",
        "max_value = max(xG_values.max(), statsbombxG_values.max())\n",
        "plt.plot([0, max_value], [0, max_value], linestyle='dashed', color='gray')\n",
        "\n",
        "# Show the plot\n",
        "plt.show()"
      ],
      "metadata": {
        "colab": {
          "base_uri": "https://localhost:8080/",
          "height": 564
        },
        "id": "ZOblu5hWTKGk",
        "outputId": "ee36bd08-58f2-4d13-e07c-ffebb998766d"
      },
      "execution_count": 91,
      "outputs": [
        {
          "output_type": "display_data",
          "data": {
            "text/plain": [
              "<Figure size 800x600 with 1 Axes>"
            ],
            "image/png": "[encoded data removed]"
          },
          "metadata": {}
        }
      ]
    },
    {
      "cell_type": "code",
      "source": [
        "\n",
        "# Extract the 'row', 'column', and 'xG' columns\n",
        "rows = xg_df['row']\n",
        "columns = xg_df['column']\n",
        "xG_values = xg_df['xG']\n",
        "\n",
        "# Create a 2D scatter plot\n",
        "plt.figure(figsize=(10, 8))\n",
        "plt.scatter(columns, rows, c=xG_values, cmap='coolwarm', s=100)\n",
        "\n",
        "# Add colorbar\n",
        "cbar = plt.colorbar()\n",
        "cbar.set_label('Expected Goals (xG)')\n",
        "\n",
        "# Add labels and title\n",
        "plt.xlabel('Column')\n",
        "plt.ylabel('Row')\n",
        "plt.title('Expected Goals (xG) Scatter Plot')\n",
        "\n",
        "# Show the plot\n",
        "plt.show()\n"
      ],
      "metadata": {
        "colab": {
          "base_uri": "https://localhost:8080/",
          "height": 718
        },
        "id": "jdI_hmjMT-Jj",
        "outputId": "448677f1-226a-4384-cf02-5df387dcb7fc"
      },
      "execution_count": 92,
      "outputs": [
        {
          "output_type": "display_data",
          "data": {
            "text/plain": [
              "<Figure size 1000x800 with 2 Axes>"
            ],
            "image/png": "[encoded data removed]"
          },
          "metadata": {}
        }
      ]
    },
    {
      "cell_type": "code",
      "source": [
        "average_xG_per_grid = xg_df.groupby(['row', 'column'])['xG'].mean().reset_index()\n",
        "\n",
        "# average_xG_per_grid"
      ],
      "metadata": {
        "id": "2Tu74asUUhSC"
      },
      "execution_count": 93,
      "outputs": []
    },
    {
      "cell_type": "code",
      "source": [
        "# Create a 2D grid with dimensions 12x16 (replace with your actual grid dimensions)\n",
        "num_rows, num_columns = 12, 16\n",
        "grid_xG = np.zeros((num_rows, num_columns))\n",
        "\n",
        "# Calculate the average xG for each grid cell\n",
        "average_xG_per_grid = xg_df.groupby(['row', 'column'])['xG'].mean().reset_index()\n",
        "\n",
        "# Fill the grid with average xG values\n",
        "for row, column, xG in zip(average_xG_per_grid['row'], average_xG_per_grid['column'], average_xG_per_grid['xG']):\n",
        "    grid_xG[row, column] = xG\n",
        "\n",
        "# Create the grid graph\n",
        "plt.figure(figsize=(10, 14))\n",
        "plt.imshow(grid_xG[:, 6:], cmap='coolwarm', vmin=0, vmax=0.5, origin='upper', extent=[6, num_columns, num_rows, 0])\n",
        "\n",
        "# Add value annotations for each cell\n",
        "for row in range(num_rows):\n",
        "    for col in range(6, num_columns):\n",
        "        plt.text(col + 0.5, row + 0.5, f'{grid_xG[row, col]:.5f}', ha='center', va='center', color='black')\n",
        "\n",
        "# Set labels and title\n",
        "plt.xlabel('Column')\n",
        "plt.ylabel('Row')\n",
        "plt.title('Average Expected Goals (xG) per Grid Cell (Second Half)')\n",
        "\n",
        "# Customize the colorbar\n",
        "cbar = plt.colorbar()\n",
        "cbar.set_label('Average Expected Goals (xG)')\n",
        "\n",
        "# Show the plot\n",
        "plt.show()\n"
      ],
      "metadata": {
        "colab": {
          "base_uri": "https://localhost:8080/",
          "height": 1000
        },
        "id": "o_nL5LtbU8Hw",
        "outputId": "dd183b37-c72f-4d46-c5f3-b6f4cac27c0e"
      },
      "execution_count": 65,
      "outputs": [
        {
          "output_type": "display_data",
          "data": {
            "text/plain": [
              "<Figure size 1000x1400 with 2 Axes>"
            ],
            "image/png": "[encoded data removed]"
          },
          "metadata": {}
        }
      ]
    },
    {
      "cell_type": "code",
      "source": [
        "\n",
        "# # Replace 'row', 'column', and 'xG' with your actual column names\n",
        "# grid_data = xg_df.groupby(['row', 'column'])['xG'].mean().reset_index()\n",
        "\n",
        "# # Assuming you have 'columns' value representing the number of columns in the grid\n",
        "# # Replace 'columns' with your actual number of columns\n",
        "# heatmap_data = grid_data.pivot(index='row', columns='column', values='xG')\n",
        "\n",
        "# # Create the heatmap using seaborn\n",
        "# plt.figure(figsize=(14, 8))  # Adjust the figure size as needed\n",
        "# sns.heatmap(heatmap_data, cmap='YlGnBu', annot=True, fmt=\".4f\", cbar_kws={'label': 'Average xG'})\n",
        "# plt.xlabel('Column')\n",
        "# plt.ylabel('Row')\n",
        "# plt.title('Average xG per Grid')\n",
        "# plt.show()\n"
      ],
      "metadata": {
        "id": "0tWNekxJq1bX"
      },
      "execution_count": 66,
      "outputs": []
    },
    {
      "cell_type": "code",
      "source": [
        "\n",
        "# grid_data = xg_df.groupby(['row', 'column'])['shot_statsbomb_xg'].mean().reset_index()\n",
        "\n",
        "# # Assuming you have 'columns' value representing the number of columns in the grid\n",
        "# # Replace 'columns' with your actual number of columns\n",
        "# heatmap_data = grid_data.pivot(index='row', columns='column', values='shot_statsbomb_xg')\n",
        "\n",
        "# # Create the heatmap using seaborn\n",
        "# plt.figure(figsize=(14, 8))  # Adjust the figure size as needed\n",
        "# sns.heatmap(heatmap_data, cmap='YlGnBu', annot=True, fmt=\".4f\", cbar_kws={'label': 'Average xG from'})\n",
        "# plt.xlabel('Column')\n",
        "# plt.ylabel('Row')\n",
        "# plt.title('Average xG from statsbomb per Grid')\n",
        "# plt.show()\n",
        "\n"
      ],
      "metadata": {
        "id": "FFtlz0DzBL9S"
      },
      "execution_count": 67,
      "outputs": []
    },
    {
      "cell_type": "code",
      "source": [
        "\n",
        "correlation = xg_df['xG'].corr(xg_df['shot_statsbomb_xg'])\n",
        "\n",
        "# Step 2: Display the correlation coefficient\n",
        "print(\"Correlation between xG and shot_statsbomb_xg:\", correlation)\n"
      ],
      "metadata": {
        "colab": {
          "base_uri": "https://localhost:8080/"
        },
        "id": "1HF1WOp8Z90Q",
        "outputId": "5fb40287-27b5-4627-c462-ca904712fe70"
      },
      "execution_count": 94,
      "outputs": [
        {
          "output_type": "stream",
          "name": "stdout",
          "text": [
            "Correlation between xG and shot_statsbomb_xg: 0.7295709854607105\n"
          ]
        }
      ]
    },
    {
      "cell_type": "code",
      "source": [
        "final_df['xG'] = xg_df['xG']\n",
        "\n",
        "final_df['xG'] = final_df['xG'].fillna(0)"
      ],
      "metadata": {
        "id": "Nbudl4oZx6Dl"
      },
      "execution_count": 69,
      "outputs": []
    },
    {
      "cell_type": "code",
      "source": [
        "# correlation_matrix = xg_df.corr()\n",
        "\n",
        "# print(correlation_matrix)\n",
        "# Add constant term to independent variables\n"
      ],
      "metadata": {
        "id": "XKUet1_JE58K"
      },
      "execution_count": 70,
      "outputs": []
    },
    {
      "cell_type": "code",
      "source": [
        "# import statsmodels.api as sm\n",
        "# X = sm.add_constant(X)\n",
        "\n",
        "# # Fit the linear regression model\n",
        "# model = sm.OLS(y, X).fit()\n",
        "\n",
        "# # Calculate the AIC for the model\n",
        "# aic = model.aic\n",
        "\n",
        "# print(f\"AIC: {aic}\")"
      ],
      "metadata": {
        "id": "iZQKloz3FduN"
      },
      "execution_count": 71,
      "outputs": []
    },
    {
      "cell_type": "markdown",
      "source": [
        "#### Gradient Boosting"
      ],
      "metadata": {
        "id": "j9Y2gg-gHcRA"
      }
    },
    {
      "cell_type": "code",
      "source": [
        "X = xg_df[['minute', 'duration', 'period', 'possession', 'team_ranking',\n",
        "       'under_pressure','row','column',  'angle',\n",
        "        'Distance_shot', 'foot_shoot', 'count_within_triangle']]\n",
        "\n",
        "y = xg_df['goal_scored']\n",
        "# Split the data into training and testing sets\n",
        "X_train, X_test, y_train, y_test = train_test_split(X, y, test_size=0.2, random_state=42)\n",
        "\n",
        "# Initialize and train the Gradient Boosting Regressor\n",
        "gb_model = GradientBoostingRegressor(n_estimators=100, learning_rate=0.1, random_state=42)\n",
        "gb_model.fit(X_train, y_train)\n",
        "\n",
        "# Make predictions on the testing set\n",
        "y_pred = gb_model.predict(X_test)\n",
        "\n",
        "# Evaluate the model using mean squared error\n",
        "mse = mean_squared_error(y_test, y_pred)\n",
        "print(f\"Mean Squared Error: {mse}\")\n"
      ],
      "metadata": {
        "colab": {
          "base_uri": "https://localhost:8080/"
        },
        "id": "5MAbtaPkHTJy",
        "outputId": "7409df5c-33d5-4325-d705-3fd66da14625"
      },
      "execution_count": 95,
      "outputs": [
        {
          "output_type": "stream",
          "name": "stdout",
          "text": [
            "Mean Squared Error: 0.08986785665803729\n"
          ]
        }
      ]
    },
    {
      "cell_type": "markdown",
      "source": [
        "###### Hyper parameters for gradient boosting"
      ],
      "metadata": {
        "id": "dRGT6_wEHspQ"
      }
    },
    {
      "cell_type": "code",
      "source": [
        "X = xg_df[['minute', 'duration', 'period', 'possession', 'team_ranking',\n",
        "       'under_pressure','row','column',  'angle',\n",
        "        'Distance_shot', 'foot_shoot', 'count_within_triangle']]\n",
        "\n",
        "y = xg_df['goal_scored']\n",
        "\n",
        "# Split the data into training and testing sets\n",
        "X_train, X_test, y_train, y_test = train_test_split(X, y, test_size=0.2, random_state=42)\n",
        "\n",
        "# Define the hyperparameters to tune\n",
        "param_grid = {\n",
        "    'n_estimators': [50, 100, 200],\n",
        "    'learning_rate': [0.05, 0.1, 0.2],\n",
        "    'max_depth': [3, 5, 7],\n",
        "    # Add other hyperparameters to tune\n",
        "}\n",
        "\n",
        "# Initialize the Gradient Boosting Regressor\n",
        "gb_model = GradientBoostingRegressor(random_state=42)\n",
        "\n",
        "# Perform Grid Search with cross-validation to find the best hyperparameters\n",
        "grid_search = GridSearchCV(gb_model, param_grid, cv=5, scoring='neg_mean_squared_error', n_jobs=-1)\n",
        "grid_search.fit(X_train, y_train)\n",
        "\n",
        "# Get the best hyperparameters\n",
        "best_params = grid_search.best_params_\n",
        "print(\"Best Hyperparameters:\", best_params)\n",
        "\n",
        "# Get the best trained model from the Grid Search\n",
        "best_gb_model = grid_search.best_estimator_\n",
        "\n",
        "# Make predictions on the testing set using the best model\n",
        "y_pred = best_gb_model.predict(X_test)\n",
        "\n",
        "# Evaluate the model using mean squared error\n",
        "mse = mean_squared_error(y_test, y_pred)\n",
        "print(f\"Mean Squared Error: {mse}\")\n"
      ],
      "metadata": {
        "colab": {
          "base_uri": "https://localhost:8080/"
        },
        "id": "2n8dh-QLHvEP",
        "outputId": "b86d0492-7d21-47d5-d1de-2518d7b90427"
      },
      "execution_count": 84,
      "outputs": [
        {
          "output_type": "stream",
          "name": "stdout",
          "text": [
            "Best Hyperparameters: {'learning_rate': 0.05, 'max_depth': 3, 'n_estimators': 50}\n",
            "Mean Squared Error: 0.08826302736372202\n"
          ]
        }
      ]
    },
    {
      "cell_type": "code",
      "source": [
        "import pandas as pd\n",
        "from sklearn.ensemble import GradientBoostingRegressor\n",
        "\n",
        "X = xg_df[['minute', 'duration', 'period', 'possession', 'team_ranking',\n",
        "       'under_pressure','row','column',  'angle',\n",
        "        'Distance_shot', 'foot_shoot', 'count_within_triangle']]\n",
        "\n",
        "y = xg_df['goal_scored']\n",
        "\n",
        "# Initialize the Gradient Boosting Regressor with the best hyperparameters\n",
        "best_gb_model = GradientBoostingRegressor(n_estimators=50, learning_rate=0.05, max_depth=3, random_state=42)\n",
        "\n",
        "# Fit the model on the entire dataset\n",
        "best_gb_model.fit(X, y)\n",
        "\n",
        "# Make predictions for the entire dataset\n",
        "xg_df['xG'] = best_gb_model.predict(X)\n",
        "\n",
        "# Now the 'xG' column in the DataFrame contains the predicted expected goals for each row\n",
        "# xg_df"
      ],
      "metadata": {
        "id": "G2G9i6OHIfpN"
      },
      "execution_count": 97,
      "outputs": []
    },
    {
      "cell_type": "code",
      "source": [
        "average_xG_per_grid = xg_df.groupby(['row', 'column'])['xG'].mean().reset_index()"
      ],
      "metadata": {
        "id": "-Wb3Z7xPJgMb"
      },
      "execution_count": 98,
      "outputs": []
    },
    {
      "cell_type": "markdown",
      "source": [
        "###### visuals for gradient boosting"
      ],
      "metadata": {
        "id": "-TRGSrebKVpZ"
      }
    },
    {
      "cell_type": "code",
      "source": [
        "\n",
        "# # Extract the 'xG' and 'statsbombxG' columns\n",
        "xG_values = xg_df['xG']\n",
        "statsbombxG_values = xg_df['shot_statsbomb_xg']\n",
        "\n",
        "# Create a scatter plot\n",
        "plt.figure(figsize=(8, 6))\n",
        "plt.scatter(xG_values, statsbombxG_values, alpha=0.5)\n",
        "\n",
        "# Add labels and title\n",
        "plt.xlabel('xG')\n",
        "plt.ylabel('StatsBomb xG')\n",
        "plt.title('xG vs StatsBomb xG')\n",
        "\n",
        "# Add a diagonal reference line\n",
        "max_value = max(xG_values.max(), statsbombxG_values.max())\n",
        "plt.plot([0, max_value], [0, max_value], linestyle='dashed', color='gray')\n",
        "\n",
        "# Show the plot\n",
        "plt.show()"
      ],
      "metadata": {
        "colab": {
          "base_uri": "https://localhost:8080/",
          "height": 564
        },
        "id": "5X4gYDz4J3VV",
        "outputId": "ae8e3dfb-4eb2-4138-d120-0f3dbabab3db"
      },
      "execution_count": 99,
      "outputs": [
        {
          "output_type": "display_data",
          "data": {
            "text/plain": [
              "<Figure size 800x600 with 1 Axes>"
            ],
            "image/png": "[encoded data removed]"
          },
          "metadata": {}
        }
      ]
    },
    {
      "cell_type": "code",
      "source": [
        "# Create a 2D grid with dimensions 12x16 (replace with your actual grid dimensions)\n",
        "num_rows, num_columns = 12, 16\n",
        "grid_xG = np.zeros((num_rows, num_columns))\n",
        "\n",
        "# Calculate the average xG for each grid cell\n",
        "average_xG_per_grid = xg_df.groupby(['row', 'column'])['xG'].mean().reset_index()\n",
        "\n",
        "# Fill the grid with average xG values\n",
        "for row, column, xG in zip(average_xG_per_grid['row'], average_xG_per_grid['column'], average_xG_per_grid['xG']):\n",
        "    grid_xG[row, column] = xG\n",
        "\n",
        "# Create the grid graph\n",
        "plt.figure(figsize=(10, 14))\n",
        "plt.imshow(grid_xG[:, 6:], cmap='coolwarm', vmin=0, vmax=0.5, origin='upper', extent=[6, num_columns, num_rows, 0])\n",
        "\n",
        "# Add value annotations for each cell\n",
        "for row in range(num_rows):\n",
        "    for col in range(6, num_columns):\n",
        "        plt.text(col + 0.5, row + 0.5, f'{grid_xG[row, col]:.5f}', ha='center', va='center', color='black')\n",
        "\n",
        "# Set labels and title\n",
        "plt.xlabel('Column')\n",
        "plt.ylabel('Row')\n",
        "plt.title('Average Expected Goals (xG) per Grid Cell (Second Half)')\n",
        "\n",
        "# Customize the colorbar\n",
        "cbar = plt.colorbar()\n",
        "cbar.set_label('Average Expected Goals (xG)')\n",
        "\n",
        "# Show the plot\n",
        "plt.show()\n"
      ],
      "metadata": {
        "colab": {
          "base_uri": "https://localhost:8080/",
          "height": 1000
        },
        "id": "DCSrnqSxJlwn",
        "outputId": "704be6d6-e69e-49ee-fdd4-7542306cab8a"
      },
      "execution_count": 100,
      "outputs": [
        {
          "output_type": "display_data",
          "data": {
            "text/plain": [
              "<Figure size 1000x1400 with 2 Axes>"
            ],
            "image/png": "[encoded data removed]"
          },
          "metadata": {}
        }
      ]
    },
    {
      "cell_type": "code",
      "source": [
        "\n",
        "correlation = xg_df['xG'].corr(xg_df['shot_statsbomb_xg'])\n",
        "\n",
        "# Step 2: Display the correlation coefficient\n",
        "print(\"Correlation between xG and shot_statsbomb_xg:\", correlation)\n"
      ],
      "metadata": {
        "colab": {
          "base_uri": "https://localhost:8080/"
        },
        "id": "FzgQ0S56pO8m",
        "outputId": "72bc3d8c-f555-46f5-b0a0-0bca7af350b7"
      },
      "execution_count": 101,
      "outputs": [
        {
          "output_type": "stream",
          "name": "stdout",
          "text": [
            "Correlation between xG and shot_statsbomb_xg: 0.7797219868584159\n"
          ]
        }
      ]
    },
    {
      "cell_type": "code",
      "source": [
        "final_df['xG'] = xg_df['xG']\n",
        "\n",
        "final_df['xG'] = final_df['xG'].fillna(0)"
      ],
      "metadata": {
        "id": "ZIGrigPTpoo2"
      },
      "execution_count": 102,
      "outputs": []
    },
    {
      "cell_type": "markdown",
      "source": [
        "### Transition matrix form x,y to z,w"
      ],
      "metadata": {
        "id": "5Y6PBqjj3XtL"
      }
    },
    {
      "cell_type": "code",
      "source": [
        "def move_transition_matrix(actions: pd.DataFrame, num_rows: int, num_columns: int) -> np.ndarray:\n",
        "    \"\"\"Compute the move transition matrix from the given actions.\n",
        "\n",
        "    This is, when a player chooses to move, the probability that he will\n",
        "    end up in each of the other cells of the grid successfully.\n",
        "\n",
        "    Parameters\n",
        "    ----------\n",
        "    actions : pd.DataFrame\n",
        "        Actions, in SPADL format.\n",
        "    num_rows : int\n",
        "        Number of rows in the grid.\n",
        "    num_columns : int\n",
        "        Number of columns in the grid.\n",
        "\n",
        "    Returns\n",
        "    -------\n",
        "    np.ndarray\n",
        "        The transition matrix.\n",
        "    \"\"\"\n",
        "    move_actions = move_probability(actions)\n",
        "\n",
        "\n",
        "    vc = X.start_cell.value_counts(sort=False)\n",
        "    start_counts = np.zeros(num_rows * num_columns)\n",
        "    start_counts[vc.index] = vc\n",
        "\n",
        "    transition_matrix = np.zeros((num_rows * num_columns, num_rows * num_columns))\n",
        "\n",
        "    for i in range(num_rows * num_columns):\n",
        "        vc2 = X[X.start_cell == i].end_cell.value_counts(sort=False)\n",
        "        transition_matrix[i, vc2.index] = vc2 / start_counts[i]\n",
        "\n",
        "    return transition_matrix\n"
      ],
      "metadata": {
        "id": "6t6M1nshKtCy"
      },
      "execution_count": 78,
      "outputs": []
    },
    {
      "cell_type": "code",
      "source": [
        "# move_transition_matrix(final_df, 12, 16 )\n",
        "# final_df.columns"
      ],
      "metadata": {
        "id": "W2z3UjGtzFFt"
      },
      "execution_count": 79,
      "outputs": []
    },
    {
      "cell_type": "markdown",
      "source": [
        "### Combine all the formula together"
      ],
      "metadata": {
        "id": "vquIASZL0dtE"
      }
    },
    {
      "cell_type": "code",
      "source": [],
      "metadata": {
        "id": "0qKhrhc_K9dP"
      },
      "execution_count": 79,
      "outputs": []
    },
    {
      "cell_type": "markdown",
      "source": [
        "dont delete this code"
      ],
      "metadata": {
        "id": "ltVDprw0jTSQ"
      }
    },
    {
      "cell_type": "code",
      "source": [
        "# xT = np.zeros(len(move_matrix))\n",
        "# iterations = 5\n",
        "# for k in range(iterations):\n",
        "#     xTtemp = xT\n",
        "#     for i in range(len(xT)):\n",
        "#         pass_payoff = 0\n",
        "#         for j in range(len(xT)):\n",
        "#             pass_payoff += Transition_matrix[i,j]*xT[j]\n",
        "#         xTtemp[i] = move_matrix[i]*pass_payoff + shot_matrix[i]*goal_matrix[i]\n",
        "#     xT = xTtemp"
      ],
      "metadata": {
        "id": "-0EgC_jyjOj-"
      },
      "execution_count": 80,
      "outputs": []
    },
    {
      "cell_type": "code",
      "source": [
        "# xTfinal = xT.reshape((12,16))"
      ],
      "metadata": {
        "id": "QM_es15RjPJ7"
      },
      "execution_count": 81,
      "outputs": []
    },
    {
      "cell_type": "code",
      "source": [
        "\n",
        "# num_rows, num_columns = 12, 16\n",
        "\n",
        "# # Calculate the transition matrix\n",
        "# transition_matrix = move_transition_matrix(final_df, num_rows, num_columns)\n",
        "\n",
        "# # Calculate the move probabilities for each cell\n",
        "# move_probabilities, _ = move_probability(final_df)\n",
        "\n",
        "# # Initialize the move threat matrix for the first iteration\n",
        "# move_threat_matrix = np.zeros((num_rows, num_columns))\n",
        "\n",
        "# # Implement the Markov model iteratively to calculate the move threat for each cell up to 5 iterations\n",
        "# for iteration in range(1, 6):  # Perform up to 5 iterations\n",
        "#     new_move_threat_matrix = np.zeros((num_rows, num_columns))\n",
        "\n",
        "#     for start_row in range(num_rows):\n",
        "#         for start_column in range(num_columns):\n",
        "#             for end_row in range(num_rows):\n",
        "#                 for end_column in range(num_columns):\n",
        "#                     new_move_threat_matrix[start_row, start_column] += (\n",
        "#                         transition_matrix[num_columns * start_row + start_column, num_columns * end_row + end_column]\n",
        "#                         * move_probabilities[end_row, end_column]\n",
        "#                         * move_threat_matrix[end_row, end_column]  # Use the move threat from the previous iteration\n",
        "#                     )\n",
        "\n",
        "#     # Normalize the move threat matrix for this iteration\n",
        "#     new_move_threat_matrix /= np.sum(new_move_threat_matrix)\n",
        "\n",
        "#     move_threat_matrix = new_move_threat_matrix\n",
        "\n",
        "# # Display the move threat matrix after 5 iterations\n",
        "# print(\"Move Threat Matrix after 5 iterations:\")\n",
        "# print(move_threat_matrix)\n"
      ],
      "metadata": {
        "id": "kIAvZ_BuoE-Z"
      },
      "execution_count": 82,
      "outputs": []
    },
    {
      "cell_type": "markdown",
      "source": [
        "## Calcualting VAEP"
      ],
      "metadata": {
        "id": "X5RPjGmxW8Hl"
      }
    },
    {
      "cell_type": "markdown",
      "source": [
        "formula for vaep :  V (ai) = Q(Si) − Q(Si−1)"
      ],
      "metadata": {
        "id": "THkURumLXOmD"
      }
    },
    {
      "cell_type": "code",
      "source": [],
      "metadata": {
        "id": "N5l2iYCv8_ct"
      },
      "execution_count": 82,
      "outputs": []
    },
    {
      "cell_type": "markdown",
      "source": [
        "# Result Analysis"
      ],
      "metadata": {
        "id": "qU_hnmXqBMeg"
      }
    }
  ]
}