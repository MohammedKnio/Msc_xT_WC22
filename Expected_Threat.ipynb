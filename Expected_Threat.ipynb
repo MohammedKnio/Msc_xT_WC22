{
  "nbformat": 4,
  "nbformat_minor": 0,
  "metadata": {
    "colab": {
      "provenance": [],
      "collapsed_sections": [
        "1aIBnXtTSC6K",
        "Nz-cql6VmvJh",
        "-YJrAweOm41B",
        "pSqY1UMsSYnd",
        "FTjtzUIVSmUO",
        "IYZ4ENvF3MtT",
        "PyRG6Z7hP4T2",
        "-RGo45j_l4c_",
        "X5RPjGmxW8Hl"
      ],
      "toc_visible": true
    },
    "kernelspec": {
      "name": "python3",
      "display_name": "Python 3"
    },
    "language_info": {
      "name": "python"
    }
  },
  "cells": [
    {
      "cell_type": "markdown",
      "source": [
        "# Installing and importing libraries"
      ],
      "metadata": {
        "id": "cGofyA-lmjIg"
      }
    },
    {
      "cell_type": "code",
      "execution_count": 146,
      "metadata": {
        "colab": {
          "base_uri": "https://localhost:8080/"
        },
        "id": "mBJYbaT8PSrU",
        "outputId": "54251d7a-d338-4c8e-bb9c-a9d5284468ba"
      },
      "outputs": [
        {
          "output_type": "stream",
          "name": "stdout",
          "text": [
            "Requirement already satisfied: statsbombpy in /usr/local/lib/python3.10/dist-packages (1.11.0)\n",
            "Requirement already satisfied: pandas in /usr/local/lib/python3.10/dist-packages (from statsbombpy) (1.5.3)\n",
            "Requirement already satisfied: requests in /usr/local/lib/python3.10/dist-packages (from statsbombpy) (2.27.1)\n",
            "Requirement already satisfied: requests-cache in /usr/local/lib/python3.10/dist-packages (from statsbombpy) (1.1.0)\n",
            "Requirement already satisfied: inflect in /usr/local/lib/python3.10/dist-packages (from statsbombpy) (6.0.5)\n",
            "Requirement already satisfied: joblib in /usr/local/lib/python3.10/dist-packages (from statsbombpy) (1.3.1)\n",
            "Requirement already satisfied: pydantic<2,>=1.9.1 in /usr/local/lib/python3.10/dist-packages (from inflect->statsbombpy) (1.10.12)\n",
            "Requirement already satisfied: python-dateutil>=2.8.1 in /usr/local/lib/python3.10/dist-packages (from pandas->statsbombpy) (2.8.2)\n",
            "Requirement already satisfied: pytz>=2020.1 in /usr/local/lib/python3.10/dist-packages (from pandas->statsbombpy) (2022.7.1)\n",
            "Requirement already satisfied: numpy>=1.21.0 in /usr/local/lib/python3.10/dist-packages (from pandas->statsbombpy) (1.22.4)\n",
            "Requirement already satisfied: urllib3<1.27,>=1.21.1 in /usr/local/lib/python3.10/dist-packages (from requests->statsbombpy) (1.26.16)\n",
            "Requirement already satisfied: certifi>=2017.4.17 in /usr/local/lib/python3.10/dist-packages (from requests->statsbombpy) (2023.7.22)\n",
            "Requirement already satisfied: charset-normalizer~=2.0.0 in /usr/local/lib/python3.10/dist-packages (from requests->statsbombpy) (2.0.12)\n",
            "Requirement already satisfied: idna<4,>=2.5 in /usr/local/lib/python3.10/dist-packages (from requests->statsbombpy) (3.4)\n",
            "Requirement already satisfied: attrs>=21.2 in /usr/local/lib/python3.10/dist-packages (from requests-cache->statsbombpy) (23.1.0)\n",
            "Requirement already satisfied: cattrs>=22.2 in /usr/local/lib/python3.10/dist-packages (from requests-cache->statsbombpy) (23.1.2)\n",
            "Requirement already satisfied: platformdirs>=2.5 in /usr/local/lib/python3.10/dist-packages (from requests-cache->statsbombpy) (3.9.1)\n",
            "Requirement already satisfied: url-normalize>=1.4 in /usr/local/lib/python3.10/dist-packages (from requests-cache->statsbombpy) (1.4.3)\n",
            "Requirement already satisfied: exceptiongroup in /usr/local/lib/python3.10/dist-packages (from cattrs>=22.2->requests-cache->statsbombpy) (1.1.2)\n",
            "Requirement already satisfied: typing_extensions>=4.1.0 in /usr/local/lib/python3.10/dist-packages (from cattrs>=22.2->requests-cache->statsbombpy) (4.7.1)\n",
            "Requirement already satisfied: six>=1.5 in /usr/local/lib/python3.10/dist-packages (from python-dateutil>=2.8.1->pandas->statsbombpy) (1.16.0)\n",
            "Requirement already satisfied: nose2 in /usr/local/lib/python3.10/dist-packages (0.13.0)\n",
            "\n",
            "----------------------------------------------------------------------\n",
            "Ran 0 tests in 0.000s\n",
            "\n",
            "OK\n",
            "Requirement already satisfied: socceraction in /usr/local/lib/python3.10/dist-packages (1.4.1)\n",
            "Requirement already satisfied: lxml<5.0.0,>=4.6.3 in /usr/local/lib/python3.10/dist-packages (from socceraction) (4.9.3)\n",
            "Requirement already satisfied: numpy<2.0.0,>=1.21.2 in /usr/local/lib/python3.10/dist-packages (from socceraction) (1.22.4)\n",
            "Requirement already satisfied: pandas<2.0.0,>=1.3.3 in /usr/local/lib/python3.10/dist-packages (from socceraction) (1.5.3)\n",
            "Requirement already satisfied: pandera<0.14.0,>=0.13.4 in /usr/local/lib/python3.10/dist-packages (from socceraction) (0.13.4)\n",
            "Requirement already satisfied: scikit-learn<2.0.0,>=1.2.1 in /usr/local/lib/python3.10/dist-packages (from socceraction) (1.2.2)\n",
            "Requirement already satisfied: python-dateutil>=2.8.1 in /usr/local/lib/python3.10/dist-packages (from pandas<2.0.0,>=1.3.3->socceraction) (2.8.2)\n",
            "Requirement already satisfied: pytz>=2020.1 in /usr/local/lib/python3.10/dist-packages (from pandas<2.0.0,>=1.3.3->socceraction) (2022.7.1)\n",
            "Requirement already satisfied: packaging>=20.0 in /usr/local/lib/python3.10/dist-packages (from pandera<0.14.0,>=0.13.4->socceraction) (23.1)\n",
            "Requirement already satisfied: pydantic in /usr/local/lib/python3.10/dist-packages (from pandera<0.14.0,>=0.13.4->socceraction) (1.10.12)\n",
            "Requirement already satisfied: typing-inspect>=0.6.0 in /usr/local/lib/python3.10/dist-packages (from pandera<0.14.0,>=0.13.4->socceraction) (0.9.0)\n",
            "Requirement already satisfied: wrapt in /usr/local/lib/python3.10/dist-packages (from pandera<0.14.0,>=0.13.4->socceraction) (1.14.1)\n",
            "Requirement already satisfied: scipy>=1.3.2 in /usr/local/lib/python3.10/dist-packages (from scikit-learn<2.0.0,>=1.2.1->socceraction) (1.10.1)\n",
            "Requirement already satisfied: joblib>=1.1.1 in /usr/local/lib/python3.10/dist-packages (from scikit-learn<2.0.0,>=1.2.1->socceraction) (1.3.1)\n",
            "Requirement already satisfied: threadpoolctl>=2.0.0 in /usr/local/lib/python3.10/dist-packages (from scikit-learn<2.0.0,>=1.2.1->socceraction) (3.2.0)\n",
            "Requirement already satisfied: six>=1.5 in /usr/local/lib/python3.10/dist-packages (from python-dateutil>=2.8.1->pandas<2.0.0,>=1.3.3->socceraction) (1.16.0)\n",
            "Requirement already satisfied: mypy-extensions>=0.3.0 in /usr/local/lib/python3.10/dist-packages (from typing-inspect>=0.6.0->pandera<0.14.0,>=0.13.4->socceraction) (1.0.0)\n",
            "Requirement already satisfied: typing-extensions>=3.7.4 in /usr/local/lib/python3.10/dist-packages (from typing-inspect>=0.6.0->pandera<0.14.0,>=0.13.4->socceraction) (4.7.1)\n"
          ]
        }
      ],
      "source": [
        "!pip install statsbombpy\n",
        "!pip install nose2\n",
        "!nose2 -v --pretty-assert\n",
        "!pip install socceraction"
      ]
    },
    {
      "cell_type": "markdown",
      "source": [
        "All libraries are imported here"
      ],
      "metadata": {
        "id": "QDA-YoM1mpi7"
      }
    },
    {
      "cell_type": "code",
      "source": [
        "import pandas as pd\n",
        "import numpy as np\n",
        "from statsbombpy import sb\n",
        "from sklearn.preprocessing import LabelEncoder\n",
        "import warnings\n",
        "import matplotlib.pyplot as plt\n",
        "import seaborn as sns\n",
        "from sklearn.linear_model import LogisticRegression\n",
        "from imblearn.over_sampling import RandomOverSampler\n",
        "from sklearn.model_selection import train_test_split,  GridSearchCV\n",
        "from sklearn.metrics import accuracy_score\n",
        "from imblearn.over_sampling import SMOTE\n",
        "from sklearn.metrics import  precision_score, recall_score, f1_score, classification_report, confusion_matrix, roc_auc_score, roc_curve\n",
        "from sklearn.model_selection import train_test_split\n",
        "from sklearn.ensemble import GradientBoostingRegressor\n",
        "from sklearn.metrics import mean_squared_error\n",
        "from math import atan, degrees, sqrt\n",
        "import numpy.typing as npt\n",
        "from typing import Tuple\n",
        "# import spadlconfig\n",
        "\n",
        "warnings.filterwarnings(\"ignore\")"
      ],
      "metadata": {
        "id": "3yfS5S8LPaG3"
      },
      "execution_count": 147,
      "outputs": []
    },
    {
      "cell_type": "markdown",
      "source": [
        "# Data Engineering"
      ],
      "metadata": {
        "id": "cFXWJ3tJR_Dd"
      }
    },
    {
      "cell_type": "markdown",
      "source": [
        "## Creating out the data and exploring it"
      ],
      "metadata": {
        "id": "1aIBnXtTSC6K"
      }
    },
    {
      "cell_type": "code",
      "source": [
        "dir(sb)"
      ],
      "metadata": {
        "colab": {
          "base_uri": "https://localhost:8080/"
        },
        "id": "b5WlbofuaZRw",
        "outputId": "4825b06f-e011-4783-e101-135c11c5ce25"
      },
      "execution_count": 148,
      "outputs": [
        {
          "output_type": "execute_result",
          "data": {
            "text/plain": [
              "['DEFAULT_CREDS',\n",
              " 'MAX_CONCURRENCY',\n",
              " 'Pool',\n",
              " 'Union',\n",
              " '_360_frames',\n",
              " '__builtins__',\n",
              " '__cached__',\n",
              " '__doc__',\n",
              " '__file__',\n",
              " '__loader__',\n",
              " '__name__',\n",
              " '__package__',\n",
              " '__spec__',\n",
              " 'api_client',\n",
              " 'competition_events',\n",
              " 'competition_frames',\n",
              " 'competitions',\n",
              " 'events',\n",
              " 'filter_and_group_events',\n",
              " 'frames',\n",
              " 'lineups',\n",
              " 'matches',\n",
              " 'merge_events_and_frames',\n",
              " 'partial',\n",
              " 'pd',\n",
              " 'player_match_stats',\n",
              " 'player_season_stats',\n",
              " 'public',\n",
              " 'reduce_events',\n",
              " 'team_season_stats']"
            ]
          },
          "metadata": {},
          "execution_count": 148
        }
      ]
    },
    {
      "cell_type": "markdown",
      "source": [
        "## Getting competition that we need"
      ],
      "metadata": {
        "id": "Nz-cql6VmvJh"
      }
    },
    {
      "cell_type": "code",
      "source": [
        "df = sb.competitions() # Show all competitions\n",
        "\n",
        "FWC = df[df['competition_name'] == 'FIFA World Cup']\n",
        "FWC # See all the tournaments for the Fifa World Cup, we will be working with the most recent world cup\n",
        "# FIFA World Cup 2022"
      ],
      "metadata": {
        "colab": {
          "base_uri": "https://localhost:8080/",
          "height": 349
        },
        "id": "3DVP5VKnZ03N",
        "outputId": "b2e5124d-96df-45a6-9eca-2b8cac82d427"
      },
      "execution_count": 149,
      "outputs": [
        {
          "output_type": "execute_result",
          "data": {
            "text/plain": [
              "    competition_id  season_id   country_name competition_name  \\\n",
              "25              43        106  International   FIFA World Cup   \n",
              "26              43          3  International   FIFA World Cup   \n",
              "27              43         55  International   FIFA World Cup   \n",
              "28              43         51  International   FIFA World Cup   \n",
              "\n",
              "   competition_gender  competition_youth  competition_international  \\\n",
              "25               male              False                       True   \n",
              "26               male              False                       True   \n",
              "27               male              False                       True   \n",
              "28               male              False                       True   \n",
              "\n",
              "   season_name               match_updated           match_updated_360  \\\n",
              "25        2022  2023-07-25T08:25:10.360401  2023-07-25T09:10:59.976019   \n",
              "26        2018  2023-07-24T13:09:34.513519     2021-06-13T16:17:31.694   \n",
              "27        1990  2023-06-28T10:58:20.137929     2021-06-12T16:17:31.694   \n",
              "28        1974  2023-07-17T23:19:58.853207     2021-06-13T16:17:31.694   \n",
              "\n",
              "           match_available_360             match_available  \n",
              "25  2023-07-25T09:10:59.976019  2023-07-25T08:25:10.360401  \n",
              "26                        None  2023-07-24T13:09:34.513519  \n",
              "27                        None  2023-06-28T10:58:20.137929  \n",
              "28                        None  2023-07-17T23:19:58.853207  "
            ],
            "text/html": [
              "\n",
              "\n",
              "  <div id=\"df-197f7047-1af0-47d2-a47d-b320d9f9d8aa\">\n",
              "    <div class=\"colab-df-container\">\n",
              "      <div>\n",
              "<style scoped>\n",
              "    .dataframe tbody tr th:only-of-type {\n",
              "        vertical-align: middle;\n",
              "    }\n",
              "\n",
              "    .dataframe tbody tr th {\n",
              "        vertical-align: top;\n",
              "    }\n",
              "\n",
              "    .dataframe thead th {\n",
              "        text-align: right;\n",
              "    }\n",
              "</style>\n",
              "<table border=\"1\" class=\"dataframe\">\n",
              "  <thead>\n",
              "    <tr style=\"text-align: right;\">\n",
              "      <th></th>\n",
              "      <th>competition_id</th>\n",
              "      <th>season_id</th>\n",
              "      <th>country_name</th>\n",
              "      <th>competition_name</th>\n",
              "      <th>competition_gender</th>\n",
              "      <th>competition_youth</th>\n",
              "      <th>competition_international</th>\n",
              "      <th>season_name</th>\n",
              "      <th>match_updated</th>\n",
              "      <th>match_updated_360</th>\n",
              "      <th>match_available_360</th>\n",
              "      <th>match_available</th>\n",
              "    </tr>\n",
              "  </thead>\n",
              "  <tbody>\n",
              "    <tr>\n",
              "      <th>25</th>\n",
              "      <td>43</td>\n",
              "      <td>106</td>\n",
              "      <td>International</td>\n",
              "      <td>FIFA World Cup</td>\n",
              "      <td>male</td>\n",
              "      <td>False</td>\n",
              "      <td>True</td>\n",
              "      <td>2022</td>\n",
              "      <td>2023-07-25T08:25:10.360401</td>\n",
              "      <td>2023-07-25T09:10:59.976019</td>\n",
              "      <td>2023-07-25T09:10:59.976019</td>\n",
              "      <td>2023-07-25T08:25:10.360401</td>\n",
              "    </tr>\n",
              "    <tr>\n",
              "      <th>26</th>\n",
              "      <td>43</td>\n",
              "      <td>3</td>\n",
              "      <td>International</td>\n",
              "      <td>FIFA World Cup</td>\n",
              "      <td>male</td>\n",
              "      <td>False</td>\n",
              "      <td>True</td>\n",
              "      <td>2018</td>\n",
              "      <td>2023-07-24T13:09:34.513519</td>\n",
              "      <td>2021-06-13T16:17:31.694</td>\n",
              "      <td>None</td>\n",
              "      <td>2023-07-24T13:09:34.513519</td>\n",
              "    </tr>\n",
              "    <tr>\n",
              "      <th>27</th>\n",
              "      <td>43</td>\n",
              "      <td>55</td>\n",
              "      <td>International</td>\n",
              "      <td>FIFA World Cup</td>\n",
              "      <td>male</td>\n",
              "      <td>False</td>\n",
              "      <td>True</td>\n",
              "      <td>1990</td>\n",
              "      <td>2023-06-28T10:58:20.137929</td>\n",
              "      <td>2021-06-12T16:17:31.694</td>\n",
              "      <td>None</td>\n",
              "      <td>2023-06-28T10:58:20.137929</td>\n",
              "    </tr>\n",
              "    <tr>\n",
              "      <th>28</th>\n",
              "      <td>43</td>\n",
              "      <td>51</td>\n",
              "      <td>International</td>\n",
              "      <td>FIFA World Cup</td>\n",
              "      <td>male</td>\n",
              "      <td>False</td>\n",
              "      <td>True</td>\n",
              "      <td>1974</td>\n",
              "      <td>2023-07-17T23:19:58.853207</td>\n",
              "      <td>2021-06-13T16:17:31.694</td>\n",
              "      <td>None</td>\n",
              "      <td>2023-07-17T23:19:58.853207</td>\n",
              "    </tr>\n",
              "  </tbody>\n",
              "</table>\n",
              "</div>\n",
              "      <button class=\"colab-df-convert\" onclick=\"convertToInteractive('df-197f7047-1af0-47d2-a47d-b320d9f9d8aa')\"\n",
              "              title=\"Convert this dataframe to an interactive table.\"\n",
              "              style=\"display:none;\">\n",
              "\n",
              "  <svg xmlns=\"http://www.w3.org/2000/svg\" height=\"24px\"viewBox=\"0 0 24 24\"\n",
              "       width=\"24px\">\n",
              "    <path d=\"M0 0h24v24H0V0z\" fill=\"none\"/>\n",
              "    <path d=\"M18.56 5.44l.94 2.06.94-2.06 2.06-.94-2.06-.94-.94-2.06-.94 2.06-2.06.94zm-11 1L8.5 8.5l.94-2.06 2.06-.94-2.06-.94L8.5 2.5l-.94 2.06-2.06.94zm10 10l.94 2.06.94-2.06 2.06-.94-2.06-.94-.94-2.06-.94 2.06-2.06.94z\"/><path d=\"M17.41 7.96l-1.37-1.37c-.4-.4-.92-.59-1.43-.59-.52 0-1.04.2-1.43.59L10.3 9.45l-7.72 7.72c-.78.78-.78 2.05 0 2.83L4 21.41c.39.39.9.59 1.41.59.51 0 1.02-.2 1.41-.59l7.78-7.78 2.81-2.81c.8-.78.8-2.07 0-2.86zM5.41 20L4 18.59l7.72-7.72 1.47 1.35L5.41 20z\"/>\n",
              "  </svg>\n",
              "      </button>\n",
              "\n",
              "\n",
              "\n",
              "    <div id=\"df-4cbe5242-d0e4-4749-a244-4656035f15c2\">\n",
              "      <button class=\"colab-df-quickchart\" onclick=\"quickchart('df-4cbe5242-d0e4-4749-a244-4656035f15c2')\"\n",
              "              title=\"Suggest charts.\"\n",
              "              style=\"display:none;\">\n",
              "\n",
              "<svg xmlns=\"http://www.w3.org/2000/svg\" height=\"24px\"viewBox=\"0 0 24 24\"\n",
              "     width=\"24px\">\n",
              "    <g>\n",
              "        <path d=\"M19 3H5c-1.1 0-2 .9-2 2v14c0 1.1.9 2 2 2h14c1.1 0 2-.9 2-2V5c0-1.1-.9-2-2-2zM9 17H7v-7h2v7zm4 0h-2V7h2v10zm4 0h-2v-4h2v4z\"/>\n",
              "    </g>\n",
              "</svg>\n",
              "      </button>\n",
              "    </div>\n",
              "\n",
              "<style>\n",
              "  .colab-df-quickchart {\n",
              "    background-color: #E8F0FE;\n",
              "    border: none;\n",
              "    border-radius: 50%;\n",
              "    cursor: pointer;\n",
              "    display: none;\n",
              "    fill: #1967D2;\n",
              "    height: 32px;\n",
              "    padding: 0 0 0 0;\n",
              "    width: 32px;\n",
              "  }\n",
              "\n",
              "  .colab-df-quickchart:hover {\n",
              "    background-color: #E2EBFA;\n",
              "    box-shadow: 0px 1px 2px rgba(60, 64, 67, 0.3), 0px 1px 3px 1px rgba(60, 64, 67, 0.15);\n",
              "    fill: #174EA6;\n",
              "  }\n",
              "\n",
              "  [theme=dark] .colab-df-quickchart {\n",
              "    background-color: #3B4455;\n",
              "    fill: #D2E3FC;\n",
              "  }\n",
              "\n",
              "  [theme=dark] .colab-df-quickchart:hover {\n",
              "    background-color: #434B5C;\n",
              "    box-shadow: 0px 1px 3px 1px rgba(0, 0, 0, 0.15);\n",
              "    filter: drop-shadow(0px 1px 2px rgba(0, 0, 0, 0.3));\n",
              "    fill: #FFFFFF;\n",
              "  }\n",
              "</style>\n",
              "\n",
              "    <script>\n",
              "      async function quickchart(key) {\n",
              "        const containerElement = document.querySelector('#' + key);\n",
              "        const charts = await google.colab.kernel.invokeFunction(\n",
              "            'suggestCharts', [key], {});\n",
              "      }\n",
              "    </script>\n",
              "\n",
              "      <script>\n",
              "\n",
              "function displayQuickchartButton(domScope) {\n",
              "  let quickchartButtonEl =\n",
              "    domScope.querySelector('#df-4cbe5242-d0e4-4749-a244-4656035f15c2 button.colab-df-quickchart');\n",
              "  quickchartButtonEl.style.display =\n",
              "    google.colab.kernel.accessAllowed ? 'block' : 'none';\n",
              "}\n",
              "\n",
              "        displayQuickchartButton(document);\n",
              "      </script>\n",
              "      <style>\n",
              "    .colab-df-container {\n",
              "      display:flex;\n",
              "      flex-wrap:wrap;\n",
              "      gap: 12px;\n",
              "    }\n",
              "\n",
              "    .colab-df-convert {\n",
              "      background-color: #E8F0FE;\n",
              "      border: none;\n",
              "      border-radius: 50%;\n",
              "      cursor: pointer;\n",
              "      display: none;\n",
              "      fill: #1967D2;\n",
              "      height: 32px;\n",
              "      padding: 0 0 0 0;\n",
              "      width: 32px;\n",
              "    }\n",
              "\n",
              "    .colab-df-convert:hover {\n",
              "      background-color: #E2EBFA;\n",
              "      box-shadow: 0px 1px 2px rgba(60, 64, 67, 0.3), 0px 1px 3px 1px rgba(60, 64, 67, 0.15);\n",
              "      fill: #174EA6;\n",
              "    }\n",
              "\n",
              "    [theme=dark] .colab-df-convert {\n",
              "      background-color: #3B4455;\n",
              "      fill: #D2E3FC;\n",
              "    }\n",
              "\n",
              "    [theme=dark] .colab-df-convert:hover {\n",
              "      background-color: #434B5C;\n",
              "      box-shadow: 0px 1px 3px 1px rgba(0, 0, 0, 0.15);\n",
              "      filter: drop-shadow(0px 1px 2px rgba(0, 0, 0, 0.3));\n",
              "      fill: #FFFFFF;\n",
              "    }\n",
              "  </style>\n",
              "\n",
              "      <script>\n",
              "        const buttonEl =\n",
              "          document.querySelector('#df-197f7047-1af0-47d2-a47d-b320d9f9d8aa button.colab-df-convert');\n",
              "        buttonEl.style.display =\n",
              "          google.colab.kernel.accessAllowed ? 'block' : 'none';\n",
              "\n",
              "        async function convertToInteractive(key) {\n",
              "          const element = document.querySelector('#df-197f7047-1af0-47d2-a47d-b320d9f9d8aa');\n",
              "          const dataTable =\n",
              "            await google.colab.kernel.invokeFunction('convertToInteractive',\n",
              "                                                     [key], {});\n",
              "          if (!dataTable) return;\n",
              "\n",
              "          const docLinkHtml = 'Like what you see? Visit the ' +\n",
              "            '<a target=\"_blank\" href=https://colab.research.google.com/notebooks/data_table.ipynb>data table notebook</a>'\n",
              "            + ' to learn more about interactive tables.';\n",
              "          element.innerHTML = '';\n",
              "          dataTable['output_type'] = 'display_data';\n",
              "          await google.colab.output.renderOutput(dataTable, element);\n",
              "          const docLink = document.createElement('div');\n",
              "          docLink.innerHTML = docLinkHtml;\n",
              "          element.appendChild(docLink);\n",
              "        }\n",
              "      </script>\n",
              "    </div>\n",
              "  </div>\n"
            ]
          },
          "metadata": {},
          "execution_count": 149
        }
      ]
    },
    {
      "cell_type": "code",
      "source": [
        "df.loc[:, \"competition_name\"] # checking all the names for all competitions"
      ],
      "metadata": {
        "colab": {
          "base_uri": "https://localhost:8080/"
        },
        "id": "wFXI37_zz72-",
        "outputId": "06214b2b-6f87-4492-ffbb-db575e1c40a8"
      },
      "execution_count": 150,
      "outputs": [
        {
          "output_type": "execute_result",
          "data": {
            "text/plain": [
              "0            Champions League\n",
              "1            Champions League\n",
              "2            Champions League\n",
              "3            Champions League\n",
              "4            Champions League\n",
              "5            Champions League\n",
              "6            Champions League\n",
              "7            Champions League\n",
              "8            Champions League\n",
              "9            Champions League\n",
              "10           Champions League\n",
              "11           Champions League\n",
              "12           Champions League\n",
              "13           Champions League\n",
              "14           Champions League\n",
              "15           Champions League\n",
              "16           Champions League\n",
              "17           Champions League\n",
              "18               Copa del Rey\n",
              "19               Copa del Rey\n",
              "20               Copa del Rey\n",
              "21    FA Women's Super League\n",
              "22    FA Women's Super League\n",
              "23    FA Women's Super League\n",
              "24         FIFA U20 World Cup\n",
              "25             FIFA World Cup\n",
              "26             FIFA World Cup\n",
              "27             FIFA World Cup\n",
              "28             FIFA World Cup\n",
              "29        Indian Super league\n",
              "30                    La Liga\n",
              "31                    La Liga\n",
              "32                    La Liga\n",
              "33                    La Liga\n",
              "34                    La Liga\n",
              "35                    La Liga\n",
              "36                    La Liga\n",
              "37                    La Liga\n",
              "38                    La Liga\n",
              "39                    La Liga\n",
              "40                    La Liga\n",
              "41                    La Liga\n",
              "42                    La Liga\n",
              "43                    La Liga\n",
              "44                    La Liga\n",
              "45                    La Liga\n",
              "46                    La Liga\n",
              "47                    La Liga\n",
              "48           Liga Profesional\n",
              "49           Liga Profesional\n",
              "50                       NWSL\n",
              "51             Premier League\n",
              "52             Premier League\n",
              "53                    Serie A\n",
              "54                    Serie A\n",
              "55                  UEFA Euro\n",
              "56         UEFA Europa League\n",
              "57          UEFA Women's Euro\n",
              "58          Women's World Cup\n",
              "Name: competition_name, dtype: object"
            ]
          },
          "metadata": {},
          "execution_count": 150
        }
      ]
    },
    {
      "cell_type": "code",
      "source": [
        "df.columns # check all the columns that i can use"
      ],
      "metadata": {
        "colab": {
          "base_uri": "https://localhost:8080/"
        },
        "id": "Klgc2xfONU31",
        "outputId": "d604a30c-a152-478f-cdc0-b8258adc61c2"
      },
      "execution_count": 151,
      "outputs": [
        {
          "output_type": "execute_result",
          "data": {
            "text/plain": [
              "Index(['competition_id', 'season_id', 'country_name', 'competition_name',\n",
              "       'competition_gender', 'competition_youth', 'competition_international',\n",
              "       'season_name', 'match_updated', 'match_updated_360',\n",
              "       'match_available_360', 'match_available'],\n",
              "      dtype='object')"
            ]
          },
          "metadata": {},
          "execution_count": 151
        }
      ]
    },
    {
      "cell_type": "markdown",
      "source": [
        "## All the matches that happened in the World Cup 2022"
      ],
      "metadata": {
        "id": "-YJrAweOm41B"
      }
    },
    {
      "cell_type": "code",
      "source": [
        "WC22 = sb.matches(competition_id= 43, season_id = 106).head(3) # They are 64 rows in total because there were 64 games.\n",
        "WC22"
      ],
      "metadata": {
        "colab": {
          "base_uri": "https://localhost:8080/",
          "height": 381
        },
        "id": "js0JkPvMaUiE",
        "outputId": "cba8e77b-5ba0-40fe-fe93-bc9a4b669cb2"
      },
      "execution_count": 152,
      "outputs": [
        {
          "output_type": "execute_result",
          "data": {
            "text/plain": [
              "   match_id  match_date      kick_off                     competition season  \\\n",
              "0   3857256  2022-12-02  21:00:00.000  International - FIFA World Cup   2022   \n",
              "1   3869151  2022-12-03  21:00:00.000  International - FIFA World Cup   2022   \n",
              "2   3857257  2022-11-30  17:00:00.000  International - FIFA World Cup   2022   \n",
              "\n",
              "   home_team    away_team  home_score  away_score match_status  ...  \\\n",
              "0     Serbia  Switzerland           2           3    available  ...   \n",
              "1  Argentina    Australia           2           1    available  ...   \n",
              "2  Australia      Denmark           1           0    available  ...   \n",
              "\n",
              "             last_updated_360 match_week competition_stage  \\\n",
              "0  2023-04-26T23:49:58.956186          3       Group Stage   \n",
              "1  2023-05-14T23:35:15.370647          4       Round of 16   \n",
              "2  2023-06-20T11:04:37.638969          3       Group Stage   \n",
              "\n",
              "                 stadium                    referee             home_managers  \\\n",
              "0            Stadium 974  Fernando Andrés Rapallini          Dragan Stojković   \n",
              "1  Ahmad bin Ali Stadium           Szymon Marciniak  Lionel Sebastián Scaloni   \n",
              "2   Al Janoub Stadium              Mustapha Ghorbal       Graham James Arnold   \n",
              "\n",
              "         away_managers data_version shot_fidelity_version xy_fidelity_version  \n",
              "0          Murat Yakin        1.1.0                     2                   2  \n",
              "1  Graham James Arnold        1.1.0                     2                   2  \n",
              "2      Kasper Hjulmand        1.1.0                     2                   2  \n",
              "\n",
              "[3 rows x 22 columns]"
            ],
            "text/html": [
              "\n",
              "\n",
              "  <div id=\"df-1a23bd43-c595-4446-a9e5-ea9b0952524b\">\n",
              "    <div class=\"colab-df-container\">\n",
              "      <div>\n",
              "<style scoped>\n",
              "    .dataframe tbody tr th:only-of-type {\n",
              "        vertical-align: middle;\n",
              "    }\n",
              "\n",
              "    .dataframe tbody tr th {\n",
              "        vertical-align: top;\n",
              "    }\n",
              "\n",
              "    .dataframe thead th {\n",
              "        text-align: right;\n",
              "    }\n",
              "</style>\n",
              "<table border=\"1\" class=\"dataframe\">\n",
              "  <thead>\n",
              "    <tr style=\"text-align: right;\">\n",
              "      <th></th>\n",
              "      <th>match_id</th>\n",
              "      <th>match_date</th>\n",
              "      <th>kick_off</th>\n",
              "      <th>competition</th>\n",
              "      <th>season</th>\n",
              "      <th>home_team</th>\n",
              "      <th>away_team</th>\n",
              "      <th>home_score</th>\n",
              "      <th>away_score</th>\n",
              "      <th>match_status</th>\n",
              "      <th>...</th>\n",
              "      <th>last_updated_360</th>\n",
              "      <th>match_week</th>\n",
              "      <th>competition_stage</th>\n",
              "      <th>stadium</th>\n",
              "      <th>referee</th>\n",
              "      <th>home_managers</th>\n",
              "      <th>away_managers</th>\n",
              "      <th>data_version</th>\n",
              "      <th>shot_fidelity_version</th>\n",
              "      <th>xy_fidelity_version</th>\n",
              "    </tr>\n",
              "  </thead>\n",
              "  <tbody>\n",
              "    <tr>\n",
              "      <th>0</th>\n",
              "      <td>3857256</td>\n",
              "      <td>2022-12-02</td>\n",
              "      <td>21:00:00.000</td>\n",
              "      <td>International - FIFA World Cup</td>\n",
              "      <td>2022</td>\n",
              "      <td>Serbia</td>\n",
              "      <td>Switzerland</td>\n",
              "      <td>2</td>\n",
              "      <td>3</td>\n",
              "      <td>available</td>\n",
              "      <td>...</td>\n",
              "      <td>2023-04-26T23:49:58.956186</td>\n",
              "      <td>3</td>\n",
              "      <td>Group Stage</td>\n",
              "      <td>Stadium 974</td>\n",
              "      <td>Fernando Andrés Rapallini</td>\n",
              "      <td>Dragan Stojković</td>\n",
              "      <td>Murat Yakin</td>\n",
              "      <td>1.1.0</td>\n",
              "      <td>2</td>\n",
              "      <td>2</td>\n",
              "    </tr>\n",
              "    <tr>\n",
              "      <th>1</th>\n",
              "      <td>3869151</td>\n",
              "      <td>2022-12-03</td>\n",
              "      <td>21:00:00.000</td>\n",
              "      <td>International - FIFA World Cup</td>\n",
              "      <td>2022</td>\n",
              "      <td>Argentina</td>\n",
              "      <td>Australia</td>\n",
              "      <td>2</td>\n",
              "      <td>1</td>\n",
              "      <td>available</td>\n",
              "      <td>...</td>\n",
              "      <td>2023-05-14T23:35:15.370647</td>\n",
              "      <td>4</td>\n",
              "      <td>Round of 16</td>\n",
              "      <td>Ahmad bin Ali Stadium</td>\n",
              "      <td>Szymon Marciniak</td>\n",
              "      <td>Lionel Sebastián Scaloni</td>\n",
              "      <td>Graham James Arnold</td>\n",
              "      <td>1.1.0</td>\n",
              "      <td>2</td>\n",
              "      <td>2</td>\n",
              "    </tr>\n",
              "    <tr>\n",
              "      <th>2</th>\n",
              "      <td>3857257</td>\n",
              "      <td>2022-11-30</td>\n",
              "      <td>17:00:00.000</td>\n",
              "      <td>International - FIFA World Cup</td>\n",
              "      <td>2022</td>\n",
              "      <td>Australia</td>\n",
              "      <td>Denmark</td>\n",
              "      <td>1</td>\n",
              "      <td>0</td>\n",
              "      <td>available</td>\n",
              "      <td>...</td>\n",
              "      <td>2023-06-20T11:04:37.638969</td>\n",
              "      <td>3</td>\n",
              "      <td>Group Stage</td>\n",
              "      <td>Al Janoub Stadium</td>\n",
              "      <td>Mustapha Ghorbal</td>\n",
              "      <td>Graham James Arnold</td>\n",
              "      <td>Kasper Hjulmand</td>\n",
              "      <td>1.1.0</td>\n",
              "      <td>2</td>\n",
              "      <td>2</td>\n",
              "    </tr>\n",
              "  </tbody>\n",
              "</table>\n",
              "<p>3 rows × 22 columns</p>\n",
              "</div>\n",
              "      <button class=\"colab-df-convert\" onclick=\"convertToInteractive('df-1a23bd43-c595-4446-a9e5-ea9b0952524b')\"\n",
              "              title=\"Convert this dataframe to an interactive table.\"\n",
              "              style=\"display:none;\">\n",
              "\n",
              "  <svg xmlns=\"http://www.w3.org/2000/svg\" height=\"24px\"viewBox=\"0 0 24 24\"\n",
              "       width=\"24px\">\n",
              "    <path d=\"M0 0h24v24H0V0z\" fill=\"none\"/>\n",
              "    <path d=\"M18.56 5.44l.94 2.06.94-2.06 2.06-.94-2.06-.94-.94-2.06-.94 2.06-2.06.94zm-11 1L8.5 8.5l.94-2.06 2.06-.94-2.06-.94L8.5 2.5l-.94 2.06-2.06.94zm10 10l.94 2.06.94-2.06 2.06-.94-2.06-.94-.94-2.06-.94 2.06-2.06.94z\"/><path d=\"M17.41 7.96l-1.37-1.37c-.4-.4-.92-.59-1.43-.59-.52 0-1.04.2-1.43.59L10.3 9.45l-7.72 7.72c-.78.78-.78 2.05 0 2.83L4 21.41c.39.39.9.59 1.41.59.51 0 1.02-.2 1.41-.59l7.78-7.78 2.81-2.81c.8-.78.8-2.07 0-2.86zM5.41 20L4 18.59l7.72-7.72 1.47 1.35L5.41 20z\"/>\n",
              "  </svg>\n",
              "      </button>\n",
              "\n",
              "\n",
              "\n",
              "    <div id=\"df-ad3770bc-843b-4163-ab1e-35a9069dbb12\">\n",
              "      <button class=\"colab-df-quickchart\" onclick=\"quickchart('df-ad3770bc-843b-4163-ab1e-35a9069dbb12')\"\n",
              "              title=\"Suggest charts.\"\n",
              "              style=\"display:none;\">\n",
              "\n",
              "<svg xmlns=\"http://www.w3.org/2000/svg\" height=\"24px\"viewBox=\"0 0 24 24\"\n",
              "     width=\"24px\">\n",
              "    <g>\n",
              "        <path d=\"M19 3H5c-1.1 0-2 .9-2 2v14c0 1.1.9 2 2 2h14c1.1 0 2-.9 2-2V5c0-1.1-.9-2-2-2zM9 17H7v-7h2v7zm4 0h-2V7h2v10zm4 0h-2v-4h2v4z\"/>\n",
              "    </g>\n",
              "</svg>\n",
              "      </button>\n",
              "    </div>\n",
              "\n",
              "<style>\n",
              "  .colab-df-quickchart {\n",
              "    background-color: #E8F0FE;\n",
              "    border: none;\n",
              "    border-radius: 50%;\n",
              "    cursor: pointer;\n",
              "    display: none;\n",
              "    fill: #1967D2;\n",
              "    height: 32px;\n",
              "    padding: 0 0 0 0;\n",
              "    width: 32px;\n",
              "  }\n",
              "\n",
              "  .colab-df-quickchart:hover {\n",
              "    background-color: #E2EBFA;\n",
              "    box-shadow: 0px 1px 2px rgba(60, 64, 67, 0.3), 0px 1px 3px 1px rgba(60, 64, 67, 0.15);\n",
              "    fill: #174EA6;\n",
              "  }\n",
              "\n",
              "  [theme=dark] .colab-df-quickchart {\n",
              "    background-color: #3B4455;\n",
              "    fill: #D2E3FC;\n",
              "  }\n",
              "\n",
              "  [theme=dark] .colab-df-quickchart:hover {\n",
              "    background-color: #434B5C;\n",
              "    box-shadow: 0px 1px 3px 1px rgba(0, 0, 0, 0.15);\n",
              "    filter: drop-shadow(0px 1px 2px rgba(0, 0, 0, 0.3));\n",
              "    fill: #FFFFFF;\n",
              "  }\n",
              "</style>\n",
              "\n",
              "    <script>\n",
              "      async function quickchart(key) {\n",
              "        const containerElement = document.querySelector('#' + key);\n",
              "        const charts = await google.colab.kernel.invokeFunction(\n",
              "            'suggestCharts', [key], {});\n",
              "      }\n",
              "    </script>\n",
              "\n",
              "      <script>\n",
              "\n",
              "function displayQuickchartButton(domScope) {\n",
              "  let quickchartButtonEl =\n",
              "    domScope.querySelector('#df-ad3770bc-843b-4163-ab1e-35a9069dbb12 button.colab-df-quickchart');\n",
              "  quickchartButtonEl.style.display =\n",
              "    google.colab.kernel.accessAllowed ? 'block' : 'none';\n",
              "}\n",
              "\n",
              "        displayQuickchartButton(document);\n",
              "      </script>\n",
              "      <style>\n",
              "    .colab-df-container {\n",
              "      display:flex;\n",
              "      flex-wrap:wrap;\n",
              "      gap: 12px;\n",
              "    }\n",
              "\n",
              "    .colab-df-convert {\n",
              "      background-color: #E8F0FE;\n",
              "      border: none;\n",
              "      border-radius: 50%;\n",
              "      cursor: pointer;\n",
              "      display: none;\n",
              "      fill: #1967D2;\n",
              "      height: 32px;\n",
              "      padding: 0 0 0 0;\n",
              "      width: 32px;\n",
              "    }\n",
              "\n",
              "    .colab-df-convert:hover {\n",
              "      background-color: #E2EBFA;\n",
              "      box-shadow: 0px 1px 2px rgba(60, 64, 67, 0.3), 0px 1px 3px 1px rgba(60, 64, 67, 0.15);\n",
              "      fill: #174EA6;\n",
              "    }\n",
              "\n",
              "    [theme=dark] .colab-df-convert {\n",
              "      background-color: #3B4455;\n",
              "      fill: #D2E3FC;\n",
              "    }\n",
              "\n",
              "    [theme=dark] .colab-df-convert:hover {\n",
              "      background-color: #434B5C;\n",
              "      box-shadow: 0px 1px 3px 1px rgba(0, 0, 0, 0.15);\n",
              "      filter: drop-shadow(0px 1px 2px rgba(0, 0, 0, 0.3));\n",
              "      fill: #FFFFFF;\n",
              "    }\n",
              "  </style>\n",
              "\n",
              "      <script>\n",
              "        const buttonEl =\n",
              "          document.querySelector('#df-1a23bd43-c595-4446-a9e5-ea9b0952524b button.colab-df-convert');\n",
              "        buttonEl.style.display =\n",
              "          google.colab.kernel.accessAllowed ? 'block' : 'none';\n",
              "\n",
              "        async function convertToInteractive(key) {\n",
              "          const element = document.querySelector('#df-1a23bd43-c595-4446-a9e5-ea9b0952524b');\n",
              "          const dataTable =\n",
              "            await google.colab.kernel.invokeFunction('convertToInteractive',\n",
              "                                                     [key], {});\n",
              "          if (!dataTable) return;\n",
              "\n",
              "          const docLinkHtml = 'Like what you see? Visit the ' +\n",
              "            '<a target=\"_blank\" href=https://colab.research.google.com/notebooks/data_table.ipynb>data table notebook</a>'\n",
              "            + ' to learn more about interactive tables.';\n",
              "          element.innerHTML = '';\n",
              "          dataTable['output_type'] = 'display_data';\n",
              "          await google.colab.output.renderOutput(dataTable, element);\n",
              "          const docLink = document.createElement('div');\n",
              "          docLink.innerHTML = docLinkHtml;\n",
              "          element.appendChild(docLink);\n",
              "        }\n",
              "      </script>\n",
              "    </div>\n",
              "  </div>\n"
            ]
          },
          "metadata": {},
          "execution_count": 152
        }
      ]
    },
    {
      "cell_type": "code",
      "source": [
        "ARG_AUS_events = sb.events(match_id=3869151) # ARG VS AUS\n",
        "ARG_AUS_events.head(3)"
      ],
      "metadata": {
        "colab": {
          "base_uri": "https://localhost:8080/",
          "height": 432
        },
        "id": "1TyO203gKg6g",
        "outputId": "5e4797a5-c4d6-4fd6-a0de-8cc9d97c6817"
      },
      "execution_count": 153,
      "outputs": [
        {
          "output_type": "execute_result",
          "data": {
            "text/plain": [
              "  ball_receipt_outcome ball_recovery_recovery_failure block_deflection  \\\n",
              "0                  NaN                            NaN              NaN   \n",
              "1                  NaN                            NaN              NaN   \n",
              "2                  NaN                            NaN              NaN   \n",
              "\n",
              "  carry_end_location clearance_aerial_won clearance_body_part clearance_head  \\\n",
              "0                NaN                  NaN                 NaN            NaN   \n",
              "1                NaN                  NaN                 NaN            NaN   \n",
              "2                NaN                  NaN                 NaN            NaN   \n",
              "\n",
              "  clearance_left_foot clearance_right_foot counterpress  ... shot_technique  \\\n",
              "0                 NaN                  NaN          NaN  ...            NaN   \n",
              "1                 NaN                  NaN          NaN  ...            NaN   \n",
              "2                 NaN                  NaN          NaN  ...            NaN   \n",
              "\n",
              "  shot_type substitution_outcome substitution_replacement  \\\n",
              "0       NaN                  NaN                      NaN   \n",
              "1       NaN                  NaN                      NaN   \n",
              "2       NaN                  NaN                      NaN   \n",
              "\n",
              "                                             tactics       team team_id  \\\n",
              "0  {'formation': 433, 'lineup': [{'player': {'id'...  Argentina     779   \n",
              "1  {'formation': 442, 'lineup': [{'player': {'id'...  Australia     792   \n",
              "2                                                NaN  Australia     792   \n",
              "\n",
              "      timestamp         type under_pressure  \n",
              "0  00:00:00.000  Starting XI            NaN  \n",
              "1  00:00:00.000  Starting XI            NaN  \n",
              "2  00:00:00.000   Half Start            NaN  \n",
              "\n",
              "[3 rows x 86 columns]"
            ],
            "text/html": [
              "\n",
              "\n",
              "  <div id=\"df-d666fa13-b1ca-4d04-8bf5-5c2971048274\">\n",
              "    <div class=\"colab-df-container\">\n",
              "      <div>\n",
              "<style scoped>\n",
              "    .dataframe tbody tr th:only-of-type {\n",
              "        vertical-align: middle;\n",
              "    }\n",
              "\n",
              "    .dataframe tbody tr th {\n",
              "        vertical-align: top;\n",
              "    }\n",
              "\n",
              "    .dataframe thead th {\n",
              "        text-align: right;\n",
              "    }\n",
              "</style>\n",
              "<table border=\"1\" class=\"dataframe\">\n",
              "  <thead>\n",
              "    <tr style=\"text-align: right;\">\n",
              "      <th></th>\n",
              "      <th>ball_receipt_outcome</th>\n",
              "      <th>ball_recovery_recovery_failure</th>\n",
              "      <th>block_deflection</th>\n",
              "      <th>carry_end_location</th>\n",
              "      <th>clearance_aerial_won</th>\n",
              "      <th>clearance_body_part</th>\n",
              "      <th>clearance_head</th>\n",
              "      <th>clearance_left_foot</th>\n",
              "      <th>clearance_right_foot</th>\n",
              "      <th>counterpress</th>\n",
              "      <th>...</th>\n",
              "      <th>shot_technique</th>\n",
              "      <th>shot_type</th>\n",
              "      <th>substitution_outcome</th>\n",
              "      <th>substitution_replacement</th>\n",
              "      <th>tactics</th>\n",
              "      <th>team</th>\n",
              "      <th>team_id</th>\n",
              "      <th>timestamp</th>\n",
              "      <th>type</th>\n",
              "      <th>under_pressure</th>\n",
              "    </tr>\n",
              "  </thead>\n",
              "  <tbody>\n",
              "    <tr>\n",
              "      <th>0</th>\n",
              "      <td>NaN</td>\n",
              "      <td>NaN</td>\n",
              "      <td>NaN</td>\n",
              "      <td>NaN</td>\n",
              "      <td>NaN</td>\n",
              "      <td>NaN</td>\n",
              "      <td>NaN</td>\n",
              "      <td>NaN</td>\n",
              "      <td>NaN</td>\n",
              "      <td>NaN</td>\n",
              "      <td>...</td>\n",
              "      <td>NaN</td>\n",
              "      <td>NaN</td>\n",
              "      <td>NaN</td>\n",
              "      <td>NaN</td>\n",
              "      <td>{'formation': 433, 'lineup': [{'player': {'id'...</td>\n",
              "      <td>Argentina</td>\n",
              "      <td>779</td>\n",
              "      <td>00:00:00.000</td>\n",
              "      <td>Starting XI</td>\n",
              "      <td>NaN</td>\n",
              "    </tr>\n",
              "    <tr>\n",
              "      <th>1</th>\n",
              "      <td>NaN</td>\n",
              "      <td>NaN</td>\n",
              "      <td>NaN</td>\n",
              "      <td>NaN</td>\n",
              "      <td>NaN</td>\n",
              "      <td>NaN</td>\n",
              "      <td>NaN</td>\n",
              "      <td>NaN</td>\n",
              "      <td>NaN</td>\n",
              "      <td>NaN</td>\n",
              "      <td>...</td>\n",
              "      <td>NaN</td>\n",
              "      <td>NaN</td>\n",
              "      <td>NaN</td>\n",
              "      <td>NaN</td>\n",
              "      <td>{'formation': 442, 'lineup': [{'player': {'id'...</td>\n",
              "      <td>Australia</td>\n",
              "      <td>792</td>\n",
              "      <td>00:00:00.000</td>\n",
              "      <td>Starting XI</td>\n",
              "      <td>NaN</td>\n",
              "    </tr>\n",
              "    <tr>\n",
              "      <th>2</th>\n",
              "      <td>NaN</td>\n",
              "      <td>NaN</td>\n",
              "      <td>NaN</td>\n",
              "      <td>NaN</td>\n",
              "      <td>NaN</td>\n",
              "      <td>NaN</td>\n",
              "      <td>NaN</td>\n",
              "      <td>NaN</td>\n",
              "      <td>NaN</td>\n",
              "      <td>NaN</td>\n",
              "      <td>...</td>\n",
              "      <td>NaN</td>\n",
              "      <td>NaN</td>\n",
              "      <td>NaN</td>\n",
              "      <td>NaN</td>\n",
              "      <td>NaN</td>\n",
              "      <td>Australia</td>\n",
              "      <td>792</td>\n",
              "      <td>00:00:00.000</td>\n",
              "      <td>Half Start</td>\n",
              "      <td>NaN</td>\n",
              "    </tr>\n",
              "  </tbody>\n",
              "</table>\n",
              "<p>3 rows × 86 columns</p>\n",
              "</div>\n",
              "      <button class=\"colab-df-convert\" onclick=\"convertToInteractive('df-d666fa13-b1ca-4d04-8bf5-5c2971048274')\"\n",
              "              title=\"Convert this dataframe to an interactive table.\"\n",
              "              style=\"display:none;\">\n",
              "\n",
              "  <svg xmlns=\"http://www.w3.org/2000/svg\" height=\"24px\"viewBox=\"0 0 24 24\"\n",
              "       width=\"24px\">\n",
              "    <path d=\"M0 0h24v24H0V0z\" fill=\"none\"/>\n",
              "    <path d=\"M18.56 5.44l.94 2.06.94-2.06 2.06-.94-2.06-.94-.94-2.06-.94 2.06-2.06.94zm-11 1L8.5 8.5l.94-2.06 2.06-.94-2.06-.94L8.5 2.5l-.94 2.06-2.06.94zm10 10l.94 2.06.94-2.06 2.06-.94-2.06-.94-.94-2.06-.94 2.06-2.06.94z\"/><path d=\"M17.41 7.96l-1.37-1.37c-.4-.4-.92-.59-1.43-.59-.52 0-1.04.2-1.43.59L10.3 9.45l-7.72 7.72c-.78.78-.78 2.05 0 2.83L4 21.41c.39.39.9.59 1.41.59.51 0 1.02-.2 1.41-.59l7.78-7.78 2.81-2.81c.8-.78.8-2.07 0-2.86zM5.41 20L4 18.59l7.72-7.72 1.47 1.35L5.41 20z\"/>\n",
              "  </svg>\n",
              "      </button>\n",
              "\n",
              "\n",
              "\n",
              "    <div id=\"df-bd241b1b-7089-45ef-858a-4318eb2276b2\">\n",
              "      <button class=\"colab-df-quickchart\" onclick=\"quickchart('df-bd241b1b-7089-45ef-858a-4318eb2276b2')\"\n",
              "              title=\"Suggest charts.\"\n",
              "              style=\"display:none;\">\n",
              "\n",
              "<svg xmlns=\"http://www.w3.org/2000/svg\" height=\"24px\"viewBox=\"0 0 24 24\"\n",
              "     width=\"24px\">\n",
              "    <g>\n",
              "        <path d=\"M19 3H5c-1.1 0-2 .9-2 2v14c0 1.1.9 2 2 2h14c1.1 0 2-.9 2-2V5c0-1.1-.9-2-2-2zM9 17H7v-7h2v7zm4 0h-2V7h2v10zm4 0h-2v-4h2v4z\"/>\n",
              "    </g>\n",
              "</svg>\n",
              "      </button>\n",
              "    </div>\n",
              "\n",
              "<style>\n",
              "  .colab-df-quickchart {\n",
              "    background-color: #E8F0FE;\n",
              "    border: none;\n",
              "    border-radius: 50%;\n",
              "    cursor: pointer;\n",
              "    display: none;\n",
              "    fill: #1967D2;\n",
              "    height: 32px;\n",
              "    padding: 0 0 0 0;\n",
              "    width: 32px;\n",
              "  }\n",
              "\n",
              "  .colab-df-quickchart:hover {\n",
              "    background-color: #E2EBFA;\n",
              "    box-shadow: 0px 1px 2px rgba(60, 64, 67, 0.3), 0px 1px 3px 1px rgba(60, 64, 67, 0.15);\n",
              "    fill: #174EA6;\n",
              "  }\n",
              "\n",
              "  [theme=dark] .colab-df-quickchart {\n",
              "    background-color: #3B4455;\n",
              "    fill: #D2E3FC;\n",
              "  }\n",
              "\n",
              "  [theme=dark] .colab-df-quickchart:hover {\n",
              "    background-color: #434B5C;\n",
              "    box-shadow: 0px 1px 3px 1px rgba(0, 0, 0, 0.15);\n",
              "    filter: drop-shadow(0px 1px 2px rgba(0, 0, 0, 0.3));\n",
              "    fill: #FFFFFF;\n",
              "  }\n",
              "</style>\n",
              "\n",
              "    <script>\n",
              "      async function quickchart(key) {\n",
              "        const containerElement = document.querySelector('#' + key);\n",
              "        const charts = await google.colab.kernel.invokeFunction(\n",
              "            'suggestCharts', [key], {});\n",
              "      }\n",
              "    </script>\n",
              "\n",
              "      <script>\n",
              "\n",
              "function displayQuickchartButton(domScope) {\n",
              "  let quickchartButtonEl =\n",
              "    domScope.querySelector('#df-bd241b1b-7089-45ef-858a-4318eb2276b2 button.colab-df-quickchart');\n",
              "  quickchartButtonEl.style.display =\n",
              "    google.colab.kernel.accessAllowed ? 'block' : 'none';\n",
              "}\n",
              "\n",
              "        displayQuickchartButton(document);\n",
              "      </script>\n",
              "      <style>\n",
              "    .colab-df-container {\n",
              "      display:flex;\n",
              "      flex-wrap:wrap;\n",
              "      gap: 12px;\n",
              "    }\n",
              "\n",
              "    .colab-df-convert {\n",
              "      background-color: #E8F0FE;\n",
              "      border: none;\n",
              "      border-radius: 50%;\n",
              "      cursor: pointer;\n",
              "      display: none;\n",
              "      fill: #1967D2;\n",
              "      height: 32px;\n",
              "      padding: 0 0 0 0;\n",
              "      width: 32px;\n",
              "    }\n",
              "\n",
              "    .colab-df-convert:hover {\n",
              "      background-color: #E2EBFA;\n",
              "      box-shadow: 0px 1px 2px rgba(60, 64, 67, 0.3), 0px 1px 3px 1px rgba(60, 64, 67, 0.15);\n",
              "      fill: #174EA6;\n",
              "    }\n",
              "\n",
              "    [theme=dark] .colab-df-convert {\n",
              "      background-color: #3B4455;\n",
              "      fill: #D2E3FC;\n",
              "    }\n",
              "\n",
              "    [theme=dark] .colab-df-convert:hover {\n",
              "      background-color: #434B5C;\n",
              "      box-shadow: 0px 1px 3px 1px rgba(0, 0, 0, 0.15);\n",
              "      filter: drop-shadow(0px 1px 2px rgba(0, 0, 0, 0.3));\n",
              "      fill: #FFFFFF;\n",
              "    }\n",
              "  </style>\n",
              "\n",
              "      <script>\n",
              "        const buttonEl =\n",
              "          document.querySelector('#df-d666fa13-b1ca-4d04-8bf5-5c2971048274 button.colab-df-convert');\n",
              "        buttonEl.style.display =\n",
              "          google.colab.kernel.accessAllowed ? 'block' : 'none';\n",
              "\n",
              "        async function convertToInteractive(key) {\n",
              "          const element = document.querySelector('#df-d666fa13-b1ca-4d04-8bf5-5c2971048274');\n",
              "          const dataTable =\n",
              "            await google.colab.kernel.invokeFunction('convertToInteractive',\n",
              "                                                     [key], {});\n",
              "          if (!dataTable) return;\n",
              "\n",
              "          const docLinkHtml = 'Like what you see? Visit the ' +\n",
              "            '<a target=\"_blank\" href=https://colab.research.google.com/notebooks/data_table.ipynb>data table notebook</a>'\n",
              "            + ' to learn more about interactive tables.';\n",
              "          element.innerHTML = '';\n",
              "          dataTable['output_type'] = 'display_data';\n",
              "          await google.colab.output.renderOutput(dataTable, element);\n",
              "          const docLink = document.createElement('div');\n",
              "          docLink.innerHTML = docLinkHtml;\n",
              "          element.appendChild(docLink);\n",
              "        }\n",
              "      </script>\n",
              "    </div>\n",
              "  </div>\n"
            ]
          },
          "metadata": {},
          "execution_count": 153
        }
      ]
    },
    {
      "cell_type": "code",
      "source": [
        "sb.events(match_id=3869151, split=True, flatten_attrs=False)[\"dribbles\"].head(3)"
      ],
      "metadata": {
        "colab": {
          "base_uri": "https://localhost:8080/",
          "height": 432
        },
        "id": "aqmJX5hs13g_",
        "outputId": "e8352b75-e5f7-4d51-b338-a50285952dde"
      },
      "execution_count": 154,
      "outputs": [
        {
          "output_type": "execute_result",
          "data": {
            "text/plain": [
              "                                     id  index  period     timestamp  minute  \\\n",
              "0  99b8ff1b-6a2e-4760-80e0-23ea3faad7b4    542       1  00:10:39.234      10   \n",
              "1  535ff683-fb17-453c-a244-47bb68ed945a    899       1  00:18:00.854      18   \n",
              "2  abba290b-f012-4617-83a5-629d6884a7bf   1446       1  00:29:08.965      29   \n",
              "\n",
              "   second     type  possession possession_team   play_pattern  ...  \\\n",
              "0      39  Dribble          19       Argentina  From Throw In  ...   \n",
              "1       0  Dribble          27       Argentina   Regular Play  ...   \n",
              "2       8  Dribble          45       Australia   Regular Play  ...   \n",
              "\n",
              "     position      location duration under_pressure  \\\n",
              "0   Left Wing  [37.4, 19.6]      0.0           True   \n",
              "1  Right Back  [33.3, 75.3]      0.0           True   \n",
              "2  Right Back  [19.4, 72.3]      0.0           True   \n",
              "\n",
              "                                      related_events  \\\n",
              "0  [538e28ba-619c-4dc2-9000-813213a7d2b2, 9002f77...   \n",
              "1             [3bbe48cd-14c3-4d28-a52b-70d9a3495e6f]   \n",
              "2             [a704f209-00a7-42f4-a4c2-ca05c38d5c69]   \n",
              "\n",
              "                                        dribble match_id possession_team_id  \\\n",
              "0  {'outcome': {'id': 9, 'name': 'Incomplete'}}  3869151                779   \n",
              "1  {'outcome': {'id': 9, 'name': 'Incomplete'}}  3869151                779   \n",
              "2    {'outcome': {'id': 8, 'name': 'Complete'}}  3869151                792   \n",
              "\n",
              "   team_id  player_id  \n",
              "0      779       7006  \n",
              "1      779      29201  \n",
              "2      792      15957  \n",
              "\n",
              "[3 rows x 22 columns]"
            ],
            "text/html": [
              "\n",
              "\n",
              "  <div id=\"df-ae44e029-6e27-491d-968c-18db7951ce5b\">\n",
              "    <div class=\"colab-df-container\">\n",
              "      <div>\n",
              "<style scoped>\n",
              "    .dataframe tbody tr th:only-of-type {\n",
              "        vertical-align: middle;\n",
              "    }\n",
              "\n",
              "    .dataframe tbody tr th {\n",
              "        vertical-align: top;\n",
              "    }\n",
              "\n",
              "    .dataframe thead th {\n",
              "        text-align: right;\n",
              "    }\n",
              "</style>\n",
              "<table border=\"1\" class=\"dataframe\">\n",
              "  <thead>\n",
              "    <tr style=\"text-align: right;\">\n",
              "      <th></th>\n",
              "      <th>id</th>\n",
              "      <th>index</th>\n",
              "      <th>period</th>\n",
              "      <th>timestamp</th>\n",
              "      <th>minute</th>\n",
              "      <th>second</th>\n",
              "      <th>type</th>\n",
              "      <th>possession</th>\n",
              "      <th>possession_team</th>\n",
              "      <th>play_pattern</th>\n",
              "      <th>...</th>\n",
              "      <th>position</th>\n",
              "      <th>location</th>\n",
              "      <th>duration</th>\n",
              "      <th>under_pressure</th>\n",
              "      <th>related_events</th>\n",
              "      <th>dribble</th>\n",
              "      <th>match_id</th>\n",
              "      <th>possession_team_id</th>\n",
              "      <th>team_id</th>\n",
              "      <th>player_id</th>\n",
              "    </tr>\n",
              "  </thead>\n",
              "  <tbody>\n",
              "    <tr>\n",
              "      <th>0</th>\n",
              "      <td>99b8ff1b-6a2e-4760-80e0-23ea3faad7b4</td>\n",
              "      <td>542</td>\n",
              "      <td>1</td>\n",
              "      <td>00:10:39.234</td>\n",
              "      <td>10</td>\n",
              "      <td>39</td>\n",
              "      <td>Dribble</td>\n",
              "      <td>19</td>\n",
              "      <td>Argentina</td>\n",
              "      <td>From Throw In</td>\n",
              "      <td>...</td>\n",
              "      <td>Left Wing</td>\n",
              "      <td>[37.4, 19.6]</td>\n",
              "      <td>0.0</td>\n",
              "      <td>True</td>\n",
              "      <td>[538e28ba-619c-4dc2-9000-813213a7d2b2, 9002f77...</td>\n",
              "      <td>{'outcome': {'id': 9, 'name': 'Incomplete'}}</td>\n",
              "      <td>3869151</td>\n",
              "      <td>779</td>\n",
              "      <td>779</td>\n",
              "      <td>7006</td>\n",
              "    </tr>\n",
              "    <tr>\n",
              "      <th>1</th>\n",
              "      <td>535ff683-fb17-453c-a244-47bb68ed945a</td>\n",
              "      <td>899</td>\n",
              "      <td>1</td>\n",
              "      <td>00:18:00.854</td>\n",
              "      <td>18</td>\n",
              "      <td>0</td>\n",
              "      <td>Dribble</td>\n",
              "      <td>27</td>\n",
              "      <td>Argentina</td>\n",
              "      <td>Regular Play</td>\n",
              "      <td>...</td>\n",
              "      <td>Right Back</td>\n",
              "      <td>[33.3, 75.3]</td>\n",
              "      <td>0.0</td>\n",
              "      <td>True</td>\n",
              "      <td>[3bbe48cd-14c3-4d28-a52b-70d9a3495e6f]</td>\n",
              "      <td>{'outcome': {'id': 9, 'name': 'Incomplete'}}</td>\n",
              "      <td>3869151</td>\n",
              "      <td>779</td>\n",
              "      <td>779</td>\n",
              "      <td>29201</td>\n",
              "    </tr>\n",
              "    <tr>\n",
              "      <th>2</th>\n",
              "      <td>abba290b-f012-4617-83a5-629d6884a7bf</td>\n",
              "      <td>1446</td>\n",
              "      <td>1</td>\n",
              "      <td>00:29:08.965</td>\n",
              "      <td>29</td>\n",
              "      <td>8</td>\n",
              "      <td>Dribble</td>\n",
              "      <td>45</td>\n",
              "      <td>Australia</td>\n",
              "      <td>Regular Play</td>\n",
              "      <td>...</td>\n",
              "      <td>Right Back</td>\n",
              "      <td>[19.4, 72.3]</td>\n",
              "      <td>0.0</td>\n",
              "      <td>True</td>\n",
              "      <td>[a704f209-00a7-42f4-a4c2-ca05c38d5c69]</td>\n",
              "      <td>{'outcome': {'id': 8, 'name': 'Complete'}}</td>\n",
              "      <td>3869151</td>\n",
              "      <td>792</td>\n",
              "      <td>792</td>\n",
              "      <td>15957</td>\n",
              "    </tr>\n",
              "  </tbody>\n",
              "</table>\n",
              "<p>3 rows × 22 columns</p>\n",
              "</div>\n",
              "      <button class=\"colab-df-convert\" onclick=\"convertToInteractive('df-ae44e029-6e27-491d-968c-18db7951ce5b')\"\n",
              "              title=\"Convert this dataframe to an interactive table.\"\n",
              "              style=\"display:none;\">\n",
              "\n",
              "  <svg xmlns=\"http://www.w3.org/2000/svg\" height=\"24px\"viewBox=\"0 0 24 24\"\n",
              "       width=\"24px\">\n",
              "    <path d=\"M0 0h24v24H0V0z\" fill=\"none\"/>\n",
              "    <path d=\"M18.56 5.44l.94 2.06.94-2.06 2.06-.94-2.06-.94-.94-2.06-.94 2.06-2.06.94zm-11 1L8.5 8.5l.94-2.06 2.06-.94-2.06-.94L8.5 2.5l-.94 2.06-2.06.94zm10 10l.94 2.06.94-2.06 2.06-.94-2.06-.94-.94-2.06-.94 2.06-2.06.94z\"/><path d=\"M17.41 7.96l-1.37-1.37c-.4-.4-.92-.59-1.43-.59-.52 0-1.04.2-1.43.59L10.3 9.45l-7.72 7.72c-.78.78-.78 2.05 0 2.83L4 21.41c.39.39.9.59 1.41.59.51 0 1.02-.2 1.41-.59l7.78-7.78 2.81-2.81c.8-.78.8-2.07 0-2.86zM5.41 20L4 18.59l7.72-7.72 1.47 1.35L5.41 20z\"/>\n",
              "  </svg>\n",
              "      </button>\n",
              "\n",
              "\n",
              "\n",
              "    <div id=\"df-2fb374b4-861a-4395-b452-4a249d6fd56f\">\n",
              "      <button class=\"colab-df-quickchart\" onclick=\"quickchart('df-2fb374b4-861a-4395-b452-4a249d6fd56f')\"\n",
              "              title=\"Suggest charts.\"\n",
              "              style=\"display:none;\">\n",
              "\n",
              "<svg xmlns=\"http://www.w3.org/2000/svg\" height=\"24px\"viewBox=\"0 0 24 24\"\n",
              "     width=\"24px\">\n",
              "    <g>\n",
              "        <path d=\"M19 3H5c-1.1 0-2 .9-2 2v14c0 1.1.9 2 2 2h14c1.1 0 2-.9 2-2V5c0-1.1-.9-2-2-2zM9 17H7v-7h2v7zm4 0h-2V7h2v10zm4 0h-2v-4h2v4z\"/>\n",
              "    </g>\n",
              "</svg>\n",
              "      </button>\n",
              "    </div>\n",
              "\n",
              "<style>\n",
              "  .colab-df-quickchart {\n",
              "    background-color: #E8F0FE;\n",
              "    border: none;\n",
              "    border-radius: 50%;\n",
              "    cursor: pointer;\n",
              "    display: none;\n",
              "    fill: #1967D2;\n",
              "    height: 32px;\n",
              "    padding: 0 0 0 0;\n",
              "    width: 32px;\n",
              "  }\n",
              "\n",
              "  .colab-df-quickchart:hover {\n",
              "    background-color: #E2EBFA;\n",
              "    box-shadow: 0px 1px 2px rgba(60, 64, 67, 0.3), 0px 1px 3px 1px rgba(60, 64, 67, 0.15);\n",
              "    fill: #174EA6;\n",
              "  }\n",
              "\n",
              "  [theme=dark] .colab-df-quickchart {\n",
              "    background-color: #3B4455;\n",
              "    fill: #D2E3FC;\n",
              "  }\n",
              "\n",
              "  [theme=dark] .colab-df-quickchart:hover {\n",
              "    background-color: #434B5C;\n",
              "    box-shadow: 0px 1px 3px 1px rgba(0, 0, 0, 0.15);\n",
              "    filter: drop-shadow(0px 1px 2px rgba(0, 0, 0, 0.3));\n",
              "    fill: #FFFFFF;\n",
              "  }\n",
              "</style>\n",
              "\n",
              "    <script>\n",
              "      async function quickchart(key) {\n",
              "        const containerElement = document.querySelector('#' + key);\n",
              "        const charts = await google.colab.kernel.invokeFunction(\n",
              "            'suggestCharts', [key], {});\n",
              "      }\n",
              "    </script>\n",
              "\n",
              "      <script>\n",
              "\n",
              "function displayQuickchartButton(domScope) {\n",
              "  let quickchartButtonEl =\n",
              "    domScope.querySelector('#df-2fb374b4-861a-4395-b452-4a249d6fd56f button.colab-df-quickchart');\n",
              "  quickchartButtonEl.style.display =\n",
              "    google.colab.kernel.accessAllowed ? 'block' : 'none';\n",
              "}\n",
              "\n",
              "        displayQuickchartButton(document);\n",
              "      </script>\n",
              "      <style>\n",
              "    .colab-df-container {\n",
              "      display:flex;\n",
              "      flex-wrap:wrap;\n",
              "      gap: 12px;\n",
              "    }\n",
              "\n",
              "    .colab-df-convert {\n",
              "      background-color: #E8F0FE;\n",
              "      border: none;\n",
              "      border-radius: 50%;\n",
              "      cursor: pointer;\n",
              "      display: none;\n",
              "      fill: #1967D2;\n",
              "      height: 32px;\n",
              "      padding: 0 0 0 0;\n",
              "      width: 32px;\n",
              "    }\n",
              "\n",
              "    .colab-df-convert:hover {\n",
              "      background-color: #E2EBFA;\n",
              "      box-shadow: 0px 1px 2px rgba(60, 64, 67, 0.3), 0px 1px 3px 1px rgba(60, 64, 67, 0.15);\n",
              "      fill: #174EA6;\n",
              "    }\n",
              "\n",
              "    [theme=dark] .colab-df-convert {\n",
              "      background-color: #3B4455;\n",
              "      fill: #D2E3FC;\n",
              "    }\n",
              "\n",
              "    [theme=dark] .colab-df-convert:hover {\n",
              "      background-color: #434B5C;\n",
              "      box-shadow: 0px 1px 3px 1px rgba(0, 0, 0, 0.15);\n",
              "      filter: drop-shadow(0px 1px 2px rgba(0, 0, 0, 0.3));\n",
              "      fill: #FFFFFF;\n",
              "    }\n",
              "  </style>\n",
              "\n",
              "      <script>\n",
              "        const buttonEl =\n",
              "          document.querySelector('#df-ae44e029-6e27-491d-968c-18db7951ce5b button.colab-df-convert');\n",
              "        buttonEl.style.display =\n",
              "          google.colab.kernel.accessAllowed ? 'block' : 'none';\n",
              "\n",
              "        async function convertToInteractive(key) {\n",
              "          const element = document.querySelector('#df-ae44e029-6e27-491d-968c-18db7951ce5b');\n",
              "          const dataTable =\n",
              "            await google.colab.kernel.invokeFunction('convertToInteractive',\n",
              "                                                     [key], {});\n",
              "          if (!dataTable) return;\n",
              "\n",
              "          const docLinkHtml = 'Like what you see? Visit the ' +\n",
              "            '<a target=\"_blank\" href=https://colab.research.google.com/notebooks/data_table.ipynb>data table notebook</a>'\n",
              "            + ' to learn more about interactive tables.';\n",
              "          element.innerHTML = '';\n",
              "          dataTable['output_type'] = 'display_data';\n",
              "          await google.colab.output.renderOutput(dataTable, element);\n",
              "          const docLink = document.createElement('div');\n",
              "          docLink.innerHTML = docLinkHtml;\n",
              "          element.appendChild(docLink);\n",
              "        }\n",
              "      </script>\n",
              "    </div>\n",
              "  </div>\n"
            ]
          },
          "metadata": {},
          "execution_count": 154
        }
      ]
    },
    {
      "cell_type": "code",
      "source": [
        "sb.lineups(match_id=3869151)[\"Argentina\"].head(3)"
      ],
      "metadata": {
        "colab": {
          "base_uri": "https://localhost:8080/",
          "height": 386
        },
        "id": "HCUncUG2LjF-",
        "outputId": "9d545843-67ad-4a98-fbab-46d5db0e7da2"
      },
      "execution_count": 155,
      "outputs": [
        {
          "output_type": "execute_result",
          "data": {
            "text/plain": [
              "   player_id                      player_name   player_nickname  \\\n",
              "0       2995  Ángel Fabián Di María Hernández    Ángel Di María   \n",
              "1       3090          Nicolás Hernán Otamendi  Nicolás Otamendi   \n",
              "2       5503   Lionel Andrés Messi Cuccittini      Lionel Messi   \n",
              "\n",
              "   jersey_number    country cards  \\\n",
              "0             11  Argentina    []   \n",
              "1             19  Argentina    []   \n",
              "2             10  Argentina    []   \n",
              "\n",
              "                                           positions  \n",
              "0                                                 []  \n",
              "1  [{'position_id': 5, 'position': 'Left Center B...  \n",
              "2  [{'position_id': 23, 'position': 'Center Forwa...  "
            ],
            "text/html": [
              "\n",
              "\n",
              "  <div id=\"df-bd177e24-d4f1-4fd6-808e-0946fd59ac3f\">\n",
              "    <div class=\"colab-df-container\">\n",
              "      <div>\n",
              "<style scoped>\n",
              "    .dataframe tbody tr th:only-of-type {\n",
              "        vertical-align: middle;\n",
              "    }\n",
              "\n",
              "    .dataframe tbody tr th {\n",
              "        vertical-align: top;\n",
              "    }\n",
              "\n",
              "    .dataframe thead th {\n",
              "        text-align: right;\n",
              "    }\n",
              "</style>\n",
              "<table border=\"1\" class=\"dataframe\">\n",
              "  <thead>\n",
              "    <tr style=\"text-align: right;\">\n",
              "      <th></th>\n",
              "      <th>player_id</th>\n",
              "      <th>player_name</th>\n",
              "      <th>player_nickname</th>\n",
              "      <th>jersey_number</th>\n",
              "      <th>country</th>\n",
              "      <th>cards</th>\n",
              "      <th>positions</th>\n",
              "    </tr>\n",
              "  </thead>\n",
              "  <tbody>\n",
              "    <tr>\n",
              "      <th>0</th>\n",
              "      <td>2995</td>\n",
              "      <td>Ángel Fabián Di María Hernández</td>\n",
              "      <td>Ángel Di María</td>\n",
              "      <td>11</td>\n",
              "      <td>Argentina</td>\n",
              "      <td>[]</td>\n",
              "      <td>[]</td>\n",
              "    </tr>\n",
              "    <tr>\n",
              "      <th>1</th>\n",
              "      <td>3090</td>\n",
              "      <td>Nicolás Hernán Otamendi</td>\n",
              "      <td>Nicolás Otamendi</td>\n",
              "      <td>19</td>\n",
              "      <td>Argentina</td>\n",
              "      <td>[]</td>\n",
              "      <td>[{'position_id': 5, 'position': 'Left Center B...</td>\n",
              "    </tr>\n",
              "    <tr>\n",
              "      <th>2</th>\n",
              "      <td>5503</td>\n",
              "      <td>Lionel Andrés Messi Cuccittini</td>\n",
              "      <td>Lionel Messi</td>\n",
              "      <td>10</td>\n",
              "      <td>Argentina</td>\n",
              "      <td>[]</td>\n",
              "      <td>[{'position_id': 23, 'position': 'Center Forwa...</td>\n",
              "    </tr>\n",
              "  </tbody>\n",
              "</table>\n",
              "</div>\n",
              "      <button class=\"colab-df-convert\" onclick=\"convertToInteractive('df-bd177e24-d4f1-4fd6-808e-0946fd59ac3f')\"\n",
              "              title=\"Convert this dataframe to an interactive table.\"\n",
              "              style=\"display:none;\">\n",
              "\n",
              "  <svg xmlns=\"http://www.w3.org/2000/svg\" height=\"24px\"viewBox=\"0 0 24 24\"\n",
              "       width=\"24px\">\n",
              "    <path d=\"M0 0h24v24H0V0z\" fill=\"none\"/>\n",
              "    <path d=\"M18.56 5.44l.94 2.06.94-2.06 2.06-.94-2.06-.94-.94-2.06-.94 2.06-2.06.94zm-11 1L8.5 8.5l.94-2.06 2.06-.94-2.06-.94L8.5 2.5l-.94 2.06-2.06.94zm10 10l.94 2.06.94-2.06 2.06-.94-2.06-.94-.94-2.06-.94 2.06-2.06.94z\"/><path d=\"M17.41 7.96l-1.37-1.37c-.4-.4-.92-.59-1.43-.59-.52 0-1.04.2-1.43.59L10.3 9.45l-7.72 7.72c-.78.78-.78 2.05 0 2.83L4 21.41c.39.39.9.59 1.41.59.51 0 1.02-.2 1.41-.59l7.78-7.78 2.81-2.81c.8-.78.8-2.07 0-2.86zM5.41 20L4 18.59l7.72-7.72 1.47 1.35L5.41 20z\"/>\n",
              "  </svg>\n",
              "      </button>\n",
              "\n",
              "\n",
              "\n",
              "    <div id=\"df-2b24f075-2527-4255-8d92-36903473fcf2\">\n",
              "      <button class=\"colab-df-quickchart\" onclick=\"quickchart('df-2b24f075-2527-4255-8d92-36903473fcf2')\"\n",
              "              title=\"Suggest charts.\"\n",
              "              style=\"display:none;\">\n",
              "\n",
              "<svg xmlns=\"http://www.w3.org/2000/svg\" height=\"24px\"viewBox=\"0 0 24 24\"\n",
              "     width=\"24px\">\n",
              "    <g>\n",
              "        <path d=\"M19 3H5c-1.1 0-2 .9-2 2v14c0 1.1.9 2 2 2h14c1.1 0 2-.9 2-2V5c0-1.1-.9-2-2-2zM9 17H7v-7h2v7zm4 0h-2V7h2v10zm4 0h-2v-4h2v4z\"/>\n",
              "    </g>\n",
              "</svg>\n",
              "      </button>\n",
              "    </div>\n",
              "\n",
              "<style>\n",
              "  .colab-df-quickchart {\n",
              "    background-color: #E8F0FE;\n",
              "    border: none;\n",
              "    border-radius: 50%;\n",
              "    cursor: pointer;\n",
              "    display: none;\n",
              "    fill: #1967D2;\n",
              "    height: 32px;\n",
              "    padding: 0 0 0 0;\n",
              "    width: 32px;\n",
              "  }\n",
              "\n",
              "  .colab-df-quickchart:hover {\n",
              "    background-color: #E2EBFA;\n",
              "    box-shadow: 0px 1px 2px rgba(60, 64, 67, 0.3), 0px 1px 3px 1px rgba(60, 64, 67, 0.15);\n",
              "    fill: #174EA6;\n",
              "  }\n",
              "\n",
              "  [theme=dark] .colab-df-quickchart {\n",
              "    background-color: #3B4455;\n",
              "    fill: #D2E3FC;\n",
              "  }\n",
              "\n",
              "  [theme=dark] .colab-df-quickchart:hover {\n",
              "    background-color: #434B5C;\n",
              "    box-shadow: 0px 1px 3px 1px rgba(0, 0, 0, 0.15);\n",
              "    filter: drop-shadow(0px 1px 2px rgba(0, 0, 0, 0.3));\n",
              "    fill: #FFFFFF;\n",
              "  }\n",
              "</style>\n",
              "\n",
              "    <script>\n",
              "      async function quickchart(key) {\n",
              "        const containerElement = document.querySelector('#' + key);\n",
              "        const charts = await google.colab.kernel.invokeFunction(\n",
              "            'suggestCharts', [key], {});\n",
              "      }\n",
              "    </script>\n",
              "\n",
              "      <script>\n",
              "\n",
              "function displayQuickchartButton(domScope) {\n",
              "  let quickchartButtonEl =\n",
              "    domScope.querySelector('#df-2b24f075-2527-4255-8d92-36903473fcf2 button.colab-df-quickchart');\n",
              "  quickchartButtonEl.style.display =\n",
              "    google.colab.kernel.accessAllowed ? 'block' : 'none';\n",
              "}\n",
              "\n",
              "        displayQuickchartButton(document);\n",
              "      </script>\n",
              "      <style>\n",
              "    .colab-df-container {\n",
              "      display:flex;\n",
              "      flex-wrap:wrap;\n",
              "      gap: 12px;\n",
              "    }\n",
              "\n",
              "    .colab-df-convert {\n",
              "      background-color: #E8F0FE;\n",
              "      border: none;\n",
              "      border-radius: 50%;\n",
              "      cursor: pointer;\n",
              "      display: none;\n",
              "      fill: #1967D2;\n",
              "      height: 32px;\n",
              "      padding: 0 0 0 0;\n",
              "      width: 32px;\n",
              "    }\n",
              "\n",
              "    .colab-df-convert:hover {\n",
              "      background-color: #E2EBFA;\n",
              "      box-shadow: 0px 1px 2px rgba(60, 64, 67, 0.3), 0px 1px 3px 1px rgba(60, 64, 67, 0.15);\n",
              "      fill: #174EA6;\n",
              "    }\n",
              "\n",
              "    [theme=dark] .colab-df-convert {\n",
              "      background-color: #3B4455;\n",
              "      fill: #D2E3FC;\n",
              "    }\n",
              "\n",
              "    [theme=dark] .colab-df-convert:hover {\n",
              "      background-color: #434B5C;\n",
              "      box-shadow: 0px 1px 3px 1px rgba(0, 0, 0, 0.15);\n",
              "      filter: drop-shadow(0px 1px 2px rgba(0, 0, 0, 0.3));\n",
              "      fill: #FFFFFF;\n",
              "    }\n",
              "  </style>\n",
              "\n",
              "      <script>\n",
              "        const buttonEl =\n",
              "          document.querySelector('#df-bd177e24-d4f1-4fd6-808e-0946fd59ac3f button.colab-df-convert');\n",
              "        buttonEl.style.display =\n",
              "          google.colab.kernel.accessAllowed ? 'block' : 'none';\n",
              "\n",
              "        async function convertToInteractive(key) {\n",
              "          const element = document.querySelector('#df-bd177e24-d4f1-4fd6-808e-0946fd59ac3f');\n",
              "          const dataTable =\n",
              "            await google.colab.kernel.invokeFunction('convertToInteractive',\n",
              "                                                     [key], {});\n",
              "          if (!dataTable) return;\n",
              "\n",
              "          const docLinkHtml = 'Like what you see? Visit the ' +\n",
              "            '<a target=\"_blank\" href=https://colab.research.google.com/notebooks/data_table.ipynb>data table notebook</a>'\n",
              "            + ' to learn more about interactive tables.';\n",
              "          element.innerHTML = '';\n",
              "          dataTable['output_type'] = 'display_data';\n",
              "          await google.colab.output.renderOutput(dataTable, element);\n",
              "          const docLink = document.createElement('div');\n",
              "          docLink.innerHTML = docLinkHtml;\n",
              "          element.appendChild(docLink);\n",
              "        }\n",
              "      </script>\n",
              "    </div>\n",
              "  </div>\n"
            ]
          },
          "metadata": {},
          "execution_count": 155
        }
      ]
    },
    {
      "cell_type": "code",
      "source": [
        "arg_vs_aus = sb.events(match_id=3869151, split=True, flatten_attrs=False)['passes']\n",
        "arg_vs_aus.head(3)\n",
        "arg_vs_aus['location'].max() # Here we can know that they are using the pitch dimensions in yards."
      ],
      "metadata": {
        "colab": {
          "base_uri": "https://localhost:8080/"
        },
        "id": "VdDGaWn7NfSG",
        "outputId": "c7119e74-082b-4a24-cf86-ad40a568dfbf"
      },
      "execution_count": 156,
      "outputs": [
        {
          "output_type": "execute_result",
          "data": {
            "text/plain": [
              "[120.0, 80.0]"
            ]
          },
          "metadata": {},
          "execution_count": 156
        }
      ]
    },
    {
      "cell_type": "code",
      "source": [
        "arg_vs_aus.keys()"
      ],
      "metadata": {
        "colab": {
          "base_uri": "https://localhost:8080/"
        },
        "id": "xwBLsN8Y6Ypn",
        "outputId": "d8b8b23f-5be9-4cbc-aed4-ea7050726cb6"
      },
      "execution_count": 157,
      "outputs": [
        {
          "output_type": "execute_result",
          "data": {
            "text/plain": [
              "Index(['id', 'index', 'period', 'timestamp', 'minute', 'second', 'type',\n",
              "       'possession', 'possession_team', 'play_pattern', 'team', 'player',\n",
              "       'position', 'location', 'duration', 'related_events', 'pass',\n",
              "       'match_id', 'possession_team_id', 'team_id', 'player_id',\n",
              "       'under_pressure', 'off_camera', 'counterpress', 'out'],\n",
              "      dtype='object')"
            ]
          },
          "metadata": {},
          "execution_count": 157
        }
      ]
    },
    {
      "cell_type": "code",
      "source": [
        "sb.events(match_id=3857254, split=True, flatten_attrs=False)[\"dribbles\"].head(3) # get all the events dribbles for  Argentia vs Australia"
      ],
      "metadata": {
        "colab": {
          "base_uri": "https://localhost:8080/",
          "height": 449
        },
        "id": "VVeAzMl8wtpn",
        "outputId": "13716755-5264-4629-838f-1a8fe582149a"
      },
      "execution_count": 158,
      "outputs": [
        {
          "output_type": "execute_result",
          "data": {
            "text/plain": [
              "                                     id  index  period     timestamp  minute  \\\n",
              "0  4fbb9158-3623-429f-8e9d-8ef3b95921ee    192       1  00:04:15.413       4   \n",
              "1  0d98a659-01a2-4b7c-9283-2da40e473713    631       1  00:15:24.934      15   \n",
              "2  77da4c97-2689-4728-8d8e-e76ebce2c0d5    636       1  00:15:28.127      15   \n",
              "\n",
              "   second     type  possession possession_team  play_pattern  ...  \\\n",
              "0      15  Dribble          13         Tunisia  Regular Play  ...   \n",
              "1      24  Dribble          33         Denmark  Regular Play  ...   \n",
              "2      28  Dribble          33         Denmark  Regular Play  ...   \n",
              "\n",
              "               position      location duration under_pressure  \\\n",
              "0     Right Center Back  [97.4, 63.1]      0.0           True   \n",
              "1  Left Center Midfield   [74.2, 6.2]      0.0           True   \n",
              "2  Left Center Midfield   [81.4, 3.7]      0.0           True   \n",
              "\n",
              "                           related_events  \\\n",
              "0  [10cb6ed6-e822-46fa-8a14-96d665cf1692]   \n",
              "1  [b06d46af-7af5-4678-8bfb-a061c8a51139]   \n",
              "2  [d7dc79ac-1fe8-4d05-93fd-f082d0e81b79]   \n",
              "\n",
              "                                             dribble match_id  \\\n",
              "0  {'outcome': {'id': 9, 'name': 'Incomplete'}, '...  3857254   \n",
              "1       {'outcome': {'id': 9, 'name': 'Incomplete'}}  3857254   \n",
              "2       {'outcome': {'id': 9, 'name': 'Incomplete'}}  3857254   \n",
              "\n",
              "  possession_team_id  team_id  player_id  \n",
              "0                777      777       5655  \n",
              "1                776      776       3043  \n",
              "2                776      776       3043  \n",
              "\n",
              "[3 rows x 22 columns]"
            ],
            "text/html": [
              "\n",
              "\n",
              "  <div id=\"df-979f7833-1884-4b6e-b5f1-029fb9031d78\">\n",
              "    <div class=\"colab-df-container\">\n",
              "      <div>\n",
              "<style scoped>\n",
              "    .dataframe tbody tr th:only-of-type {\n",
              "        vertical-align: middle;\n",
              "    }\n",
              "\n",
              "    .dataframe tbody tr th {\n",
              "        vertical-align: top;\n",
              "    }\n",
              "\n",
              "    .dataframe thead th {\n",
              "        text-align: right;\n",
              "    }\n",
              "</style>\n",
              "<table border=\"1\" class=\"dataframe\">\n",
              "  <thead>\n",
              "    <tr style=\"text-align: right;\">\n",
              "      <th></th>\n",
              "      <th>id</th>\n",
              "      <th>index</th>\n",
              "      <th>period</th>\n",
              "      <th>timestamp</th>\n",
              "      <th>minute</th>\n",
              "      <th>second</th>\n",
              "      <th>type</th>\n",
              "      <th>possession</th>\n",
              "      <th>possession_team</th>\n",
              "      <th>play_pattern</th>\n",
              "      <th>...</th>\n",
              "      <th>position</th>\n",
              "      <th>location</th>\n",
              "      <th>duration</th>\n",
              "      <th>under_pressure</th>\n",
              "      <th>related_events</th>\n",
              "      <th>dribble</th>\n",
              "      <th>match_id</th>\n",
              "      <th>possession_team_id</th>\n",
              "      <th>team_id</th>\n",
              "      <th>player_id</th>\n",
              "    </tr>\n",
              "  </thead>\n",
              "  <tbody>\n",
              "    <tr>\n",
              "      <th>0</th>\n",
              "      <td>4fbb9158-3623-429f-8e9d-8ef3b95921ee</td>\n",
              "      <td>192</td>\n",
              "      <td>1</td>\n",
              "      <td>00:04:15.413</td>\n",
              "      <td>4</td>\n",
              "      <td>15</td>\n",
              "      <td>Dribble</td>\n",
              "      <td>13</td>\n",
              "      <td>Tunisia</td>\n",
              "      <td>Regular Play</td>\n",
              "      <td>...</td>\n",
              "      <td>Right Center Back</td>\n",
              "      <td>[97.4, 63.1]</td>\n",
              "      <td>0.0</td>\n",
              "      <td>True</td>\n",
              "      <td>[10cb6ed6-e822-46fa-8a14-96d665cf1692]</td>\n",
              "      <td>{'outcome': {'id': 9, 'name': 'Incomplete'}, '...</td>\n",
              "      <td>3857254</td>\n",
              "      <td>777</td>\n",
              "      <td>777</td>\n",
              "      <td>5655</td>\n",
              "    </tr>\n",
              "    <tr>\n",
              "      <th>1</th>\n",
              "      <td>0d98a659-01a2-4b7c-9283-2da40e473713</td>\n",
              "      <td>631</td>\n",
              "      <td>1</td>\n",
              "      <td>00:15:24.934</td>\n",
              "      <td>15</td>\n",
              "      <td>24</td>\n",
              "      <td>Dribble</td>\n",
              "      <td>33</td>\n",
              "      <td>Denmark</td>\n",
              "      <td>Regular Play</td>\n",
              "      <td>...</td>\n",
              "      <td>Left Center Midfield</td>\n",
              "      <td>[74.2, 6.2]</td>\n",
              "      <td>0.0</td>\n",
              "      <td>True</td>\n",
              "      <td>[b06d46af-7af5-4678-8bfb-a061c8a51139]</td>\n",
              "      <td>{'outcome': {'id': 9, 'name': 'Incomplete'}}</td>\n",
              "      <td>3857254</td>\n",
              "      <td>776</td>\n",
              "      <td>776</td>\n",
              "      <td>3043</td>\n",
              "    </tr>\n",
              "    <tr>\n",
              "      <th>2</th>\n",
              "      <td>77da4c97-2689-4728-8d8e-e76ebce2c0d5</td>\n",
              "      <td>636</td>\n",
              "      <td>1</td>\n",
              "      <td>00:15:28.127</td>\n",
              "      <td>15</td>\n",
              "      <td>28</td>\n",
              "      <td>Dribble</td>\n",
              "      <td>33</td>\n",
              "      <td>Denmark</td>\n",
              "      <td>Regular Play</td>\n",
              "      <td>...</td>\n",
              "      <td>Left Center Midfield</td>\n",
              "      <td>[81.4, 3.7]</td>\n",
              "      <td>0.0</td>\n",
              "      <td>True</td>\n",
              "      <td>[d7dc79ac-1fe8-4d05-93fd-f082d0e81b79]</td>\n",
              "      <td>{'outcome': {'id': 9, 'name': 'Incomplete'}}</td>\n",
              "      <td>3857254</td>\n",
              "      <td>776</td>\n",
              "      <td>776</td>\n",
              "      <td>3043</td>\n",
              "    </tr>\n",
              "  </tbody>\n",
              "</table>\n",
              "<p>3 rows × 22 columns</p>\n",
              "</div>\n",
              "      <button class=\"colab-df-convert\" onclick=\"convertToInteractive('df-979f7833-1884-4b6e-b5f1-029fb9031d78')\"\n",
              "              title=\"Convert this dataframe to an interactive table.\"\n",
              "              style=\"display:none;\">\n",
              "\n",
              "  <svg xmlns=\"http://www.w3.org/2000/svg\" height=\"24px\"viewBox=\"0 0 24 24\"\n",
              "       width=\"24px\">\n",
              "    <path d=\"M0 0h24v24H0V0z\" fill=\"none\"/>\n",
              "    <path d=\"M18.56 5.44l.94 2.06.94-2.06 2.06-.94-2.06-.94-.94-2.06-.94 2.06-2.06.94zm-11 1L8.5 8.5l.94-2.06 2.06-.94-2.06-.94L8.5 2.5l-.94 2.06-2.06.94zm10 10l.94 2.06.94-2.06 2.06-.94-2.06-.94-.94-2.06-.94 2.06-2.06.94z\"/><path d=\"M17.41 7.96l-1.37-1.37c-.4-.4-.92-.59-1.43-.59-.52 0-1.04.2-1.43.59L10.3 9.45l-7.72 7.72c-.78.78-.78 2.05 0 2.83L4 21.41c.39.39.9.59 1.41.59.51 0 1.02-.2 1.41-.59l7.78-7.78 2.81-2.81c.8-.78.8-2.07 0-2.86zM5.41 20L4 18.59l7.72-7.72 1.47 1.35L5.41 20z\"/>\n",
              "  </svg>\n",
              "      </button>\n",
              "\n",
              "\n",
              "\n",
              "    <div id=\"df-7f8cdc1c-5082-4333-960a-855f7d29963f\">\n",
              "      <button class=\"colab-df-quickchart\" onclick=\"quickchart('df-7f8cdc1c-5082-4333-960a-855f7d29963f')\"\n",
              "              title=\"Suggest charts.\"\n",
              "              style=\"display:none;\">\n",
              "\n",
              "<svg xmlns=\"http://www.w3.org/2000/svg\" height=\"24px\"viewBox=\"0 0 24 24\"\n",
              "     width=\"24px\">\n",
              "    <g>\n",
              "        <path d=\"M19 3H5c-1.1 0-2 .9-2 2v14c0 1.1.9 2 2 2h14c1.1 0 2-.9 2-2V5c0-1.1-.9-2-2-2zM9 17H7v-7h2v7zm4 0h-2V7h2v10zm4 0h-2v-4h2v4z\"/>\n",
              "    </g>\n",
              "</svg>\n",
              "      </button>\n",
              "    </div>\n",
              "\n",
              "<style>\n",
              "  .colab-df-quickchart {\n",
              "    background-color: #E8F0FE;\n",
              "    border: none;\n",
              "    border-radius: 50%;\n",
              "    cursor: pointer;\n",
              "    display: none;\n",
              "    fill: #1967D2;\n",
              "    height: 32px;\n",
              "    padding: 0 0 0 0;\n",
              "    width: 32px;\n",
              "  }\n",
              "\n",
              "  .colab-df-quickchart:hover {\n",
              "    background-color: #E2EBFA;\n",
              "    box-shadow: 0px 1px 2px rgba(60, 64, 67, 0.3), 0px 1px 3px 1px rgba(60, 64, 67, 0.15);\n",
              "    fill: #174EA6;\n",
              "  }\n",
              "\n",
              "  [theme=dark] .colab-df-quickchart {\n",
              "    background-color: #3B4455;\n",
              "    fill: #D2E3FC;\n",
              "  }\n",
              "\n",
              "  [theme=dark] .colab-df-quickchart:hover {\n",
              "    background-color: #434B5C;\n",
              "    box-shadow: 0px 1px 3px 1px rgba(0, 0, 0, 0.15);\n",
              "    filter: drop-shadow(0px 1px 2px rgba(0, 0, 0, 0.3));\n",
              "    fill: #FFFFFF;\n",
              "  }\n",
              "</style>\n",
              "\n",
              "    <script>\n",
              "      async function quickchart(key) {\n",
              "        const containerElement = document.querySelector('#' + key);\n",
              "        const charts = await google.colab.kernel.invokeFunction(\n",
              "            'suggestCharts', [key], {});\n",
              "      }\n",
              "    </script>\n",
              "\n",
              "      <script>\n",
              "\n",
              "function displayQuickchartButton(domScope) {\n",
              "  let quickchartButtonEl =\n",
              "    domScope.querySelector('#df-7f8cdc1c-5082-4333-960a-855f7d29963f button.colab-df-quickchart');\n",
              "  quickchartButtonEl.style.display =\n",
              "    google.colab.kernel.accessAllowed ? 'block' : 'none';\n",
              "}\n",
              "\n",
              "        displayQuickchartButton(document);\n",
              "      </script>\n",
              "      <style>\n",
              "    .colab-df-container {\n",
              "      display:flex;\n",
              "      flex-wrap:wrap;\n",
              "      gap: 12px;\n",
              "    }\n",
              "\n",
              "    .colab-df-convert {\n",
              "      background-color: #E8F0FE;\n",
              "      border: none;\n",
              "      border-radius: 50%;\n",
              "      cursor: pointer;\n",
              "      display: none;\n",
              "      fill: #1967D2;\n",
              "      height: 32px;\n",
              "      padding: 0 0 0 0;\n",
              "      width: 32px;\n",
              "    }\n",
              "\n",
              "    .colab-df-convert:hover {\n",
              "      background-color: #E2EBFA;\n",
              "      box-shadow: 0px 1px 2px rgba(60, 64, 67, 0.3), 0px 1px 3px 1px rgba(60, 64, 67, 0.15);\n",
              "      fill: #174EA6;\n",
              "    }\n",
              "\n",
              "    [theme=dark] .colab-df-convert {\n",
              "      background-color: #3B4455;\n",
              "      fill: #D2E3FC;\n",
              "    }\n",
              "\n",
              "    [theme=dark] .colab-df-convert:hover {\n",
              "      background-color: #434B5C;\n",
              "      box-shadow: 0px 1px 3px 1px rgba(0, 0, 0, 0.15);\n",
              "      filter: drop-shadow(0px 1px 2px rgba(0, 0, 0, 0.3));\n",
              "      fill: #FFFFFF;\n",
              "    }\n",
              "  </style>\n",
              "\n",
              "      <script>\n",
              "        const buttonEl =\n",
              "          document.querySelector('#df-979f7833-1884-4b6e-b5f1-029fb9031d78 button.colab-df-convert');\n",
              "        buttonEl.style.display =\n",
              "          google.colab.kernel.accessAllowed ? 'block' : 'none';\n",
              "\n",
              "        async function convertToInteractive(key) {\n",
              "          const element = document.querySelector('#df-979f7833-1884-4b6e-b5f1-029fb9031d78');\n",
              "          const dataTable =\n",
              "            await google.colab.kernel.invokeFunction('convertToInteractive',\n",
              "                                                     [key], {});\n",
              "          if (!dataTable) return;\n",
              "\n",
              "          const docLinkHtml = 'Like what you see? Visit the ' +\n",
              "            '<a target=\"_blank\" href=https://colab.research.google.com/notebooks/data_table.ipynb>data table notebook</a>'\n",
              "            + ' to learn more about interactive tables.';\n",
              "          element.innerHTML = '';\n",
              "          dataTable['output_type'] = 'display_data';\n",
              "          await google.colab.output.renderOutput(dataTable, element);\n",
              "          const docLink = document.createElement('div');\n",
              "          docLink.innerHTML = docLinkHtml;\n",
              "          element.appendChild(docLink);\n",
              "        }\n",
              "      </script>\n",
              "    </div>\n",
              "  </div>\n"
            ]
          },
          "metadata": {},
          "execution_count": 158
        }
      ]
    },
    {
      "cell_type": "markdown",
      "source": [
        "## Combining all the events that happened in the WC"
      ],
      "metadata": {
        "id": "pSqY1UMsSYnd"
      }
    },
    {
      "cell_type": "code",
      "source": [
        "# Combining all the events of the Fifa World Cup 2022\n",
        "events = sb.competition_events(\n",
        "    country=\"International\",\n",
        "    division= \"FIFA World Cup\",\n",
        "    season=\"2022\",\n",
        "    gender=\"male\"\n",
        ")\n",
        "\n",
        "WC_events22 = sb.competition_events(\n",
        "    country=\"International\",\n",
        "    division= \"FIFA World Cup\",\n",
        "    season=\"2022\",\n",
        "    split=True\n",
        ")\n",
        "# WC_events22['dribbles'] # Get all the dribbles that happened in the world cup\n",
        "\n",
        "# grouped_events.drop('id', axis=1, inplace=True)"
      ],
      "metadata": {
        "id": "bMQm1yoa3J8k"
      },
      "execution_count": 159,
      "outputs": []
    },
    {
      "cell_type": "code",
      "source": [
        "# Get the list of column names or keys\n",
        "key_names = WC_events22.keys()\n",
        "\n",
        "# Print the column names\n",
        "for key in key_names:\n",
        "    print(key)"
      ],
      "metadata": {
        "colab": {
          "base_uri": "https://localhost:8080/"
        },
        "id": "wpoSE8QdfJ2X",
        "outputId": "a1bc7c9d-7729-45d0-df04-e9eaca036718"
      },
      "execution_count": 160,
      "outputs": [
        {
          "output_type": "stream",
          "name": "stdout",
          "text": [
            "starting_xis\n",
            "half_starts\n",
            "passes\n",
            "ball_receipts\n",
            "carrys\n",
            "clearances\n",
            "ball_recoverys\n",
            "shots\n",
            "blocks\n",
            "goal_keepers\n",
            "miscontrols\n",
            "pressures\n",
            "duels\n",
            "interceptions\n",
            "foul_committeds\n",
            "foul_wons\n",
            "dispossesseds\n",
            "dribbles\n",
            "dribbled_pasts\n",
            "errors\n",
            "injury_stoppages\n",
            "half_ends\n",
            "substitutions\n",
            "bad_behaviours\n",
            "referee_ball_drops\n",
            "tactical_shifts\n",
            "player_offs\n",
            "player_ons\n",
            "shields\n",
            "own_goal_fors\n",
            "own_goal_againsts\n",
            "50/50s\n",
            "offsides\n"
          ]
        }
      ]
    },
    {
      "cell_type": "code",
      "source": [
        "WC_events22['shots'].columns # all the columns for the shots event"
      ],
      "metadata": {
        "colab": {
          "base_uri": "https://localhost:8080/"
        },
        "id": "JjUE50YPatXB",
        "outputId": "adbfaf81-f925-47b2-fb62-dc7ee9e2a6fb"
      },
      "execution_count": 161,
      "outputs": [
        {
          "output_type": "execute_result",
          "data": {
            "text/plain": [
              "Index(['id', 'index', 'period', 'timestamp', 'minute', 'second', 'type',\n",
              "       'possession', 'possession_team', 'play_pattern', 'team', 'player',\n",
              "       'position', 'location', 'duration', 'related_events', 'match_id',\n",
              "       'shot_statsbomb_xg', 'shot_end_location', 'shot_technique',\n",
              "       'shot_body_part', 'shot_type', 'shot_outcome', 'shot_first_time',\n",
              "       'shot_freeze_frame', 'possession_team_id', 'team_id', 'player_id',\n",
              "       'shot_key_pass_id', 'shot_one_on_one', 'shot_deflected',\n",
              "       'under_pressure', 'shot_open_goal', 'shot_aerial_won', 'out',\n",
              "       'shot_follows_dribble', 'shot_saved_to_post', 'shot_saved_off_target',\n",
              "       'shot_redirect'],\n",
              "      dtype='object')"
            ]
          },
          "metadata": {},
          "execution_count": 161
        }
      ]
    },
    {
      "cell_type": "code",
      "source": [
        "type(WC_events22)"
      ],
      "metadata": {
        "colab": {
          "base_uri": "https://localhost:8080/"
        },
        "id": "jNO5M5OdQOUG",
        "outputId": "06910397-5c37-4dc4-8532-d74bd6a9504b"
      },
      "execution_count": 162,
      "outputs": [
        {
          "output_type": "execute_result",
          "data": {
            "text/plain": [
              "collections.defaultdict"
            ]
          },
          "metadata": {},
          "execution_count": 162
        }
      ]
    },
    {
      "cell_type": "markdown",
      "source": [
        "## Get all the shot events in the tournament between player to xG"
      ],
      "metadata": {
        "id": "FTjtzUIVSmUO"
      }
    },
    {
      "cell_type": "markdown",
      "source": [
        "##### check out the statsbomb xG"
      ],
      "metadata": {
        "id": "tl0Va6SSF1_U"
      }
    },
    {
      "cell_type": "code",
      "source": [
        "xg_df = WC_events22['shots']\n",
        "xG = xg_df.loc[:, 'player':'shot_statsbomb_xg']\n",
        "xG"
      ],
      "metadata": {
        "colab": {
          "base_uri": "https://localhost:8080/",
          "height": 616
        },
        "id": "OIQ6GYiS9clc",
        "outputId": "c6ecb31d-a2c8-4fa2-87fa-7f282f8fe08c"
      },
      "execution_count": 163,
      "outputs": [
        {
          "output_type": "execute_result",
          "data": {
            "text/plain": [
              "                       player                 position       location  \\\n",
              "0                Granit Xhaka  Left Defensive Midfield   [96.0, 38.8]   \n",
              "1         Breel-Donald Embolo           Center Forward  [113.1, 40.7]   \n",
              "2                Granit Xhaka  Left Defensive Midfield  [103.8, 41.9]   \n",
              "3           Nikola Milenković        Right Center Back  [112.2, 36.8]   \n",
              "4            Andrija Živković          Right Wing Back   [97.8, 51.5]   \n",
              "...                       ...                      ...            ...   \n",
              "1489  Andreas Evald Cornelius           Center Forward  [118.2, 43.9]   \n",
              "1490           Mathias Jensen  Left Defensive Midfield  [102.5, 24.2]   \n",
              "1491  Andreas Evald Cornelius           Center Forward  [114.4, 36.8]   \n",
              "1492             Joakim Mæhle                Left Back   [95.0, 30.2]   \n",
              "1493  Andreas Evald Cornelius           Center Forward  [108.8, 46.4]   \n",
              "\n",
              "      duration                                     related_events  match_id  \\\n",
              "0     0.380264  [23ce15e2-05d8-4adf-87de-90b82585c085, b27d5a6...   3857256   \n",
              "1     0.175803             [ca8f5082-211d-4c5e-9827-b61cf7fa7ca2]   3857256   \n",
              "2     0.495575             [03e8c43d-a1ee-4477-a6cd-3761b9379837]   3857256   \n",
              "3     0.848375             [42dca3d5-9c35-4da4-8d13-0ae643b4d9c7]   3857256   \n",
              "4     0.934407             [66f1d9e3-640c-493d-80e6-33a247444389]   3857256   \n",
              "...        ...                                                ...       ...   \n",
              "1489  0.058813             [b2cf8522-fd3d-44ae-b3d2-6a2c2d40ce7a]   3857254   \n",
              "1490  0.995427             [100b467e-ced3-4e97-ab89-3656d3ab04c5]   3857254   \n",
              "1491  1.239140  [a4edfab9-529b-4f34-b150-bf665f559ce5, f1dcd43...   3857254   \n",
              "1492  0.164703  [2da1a8a2-7c43-4ffa-91da-a4ed3d276e8c, 8c6aa51...   3857254   \n",
              "1493  1.723410  [b87c633c-1b1e-43f5-b5b6-5ef1a39668be, f70bc5f...   3857254   \n",
              "\n",
              "      shot_statsbomb_xg  \n",
              "0              0.036566  \n",
              "1              0.353289  \n",
              "2              0.069527  \n",
              "3              0.081609  \n",
              "4              0.030002  \n",
              "...                 ...  \n",
              "1489           0.568312  \n",
              "1490           0.028724  \n",
              "1491           0.145394  \n",
              "1492           0.028684  \n",
              "1493           0.022084  \n",
              "\n",
              "[1494 rows x 7 columns]"
            ],
            "text/html": [
              "\n",
              "\n",
              "  <div id=\"df-fe5f65f1-bc6b-4218-9018-c01a1fdeb755\">\n",
              "    <div class=\"colab-df-container\">\n",
              "      <div>\n",
              "<style scoped>\n",
              "    .dataframe tbody tr th:only-of-type {\n",
              "        vertical-align: middle;\n",
              "    }\n",
              "\n",
              "    .dataframe tbody tr th {\n",
              "        vertical-align: top;\n",
              "    }\n",
              "\n",
              "    .dataframe thead th {\n",
              "        text-align: right;\n",
              "    }\n",
              "</style>\n",
              "<table border=\"1\" class=\"dataframe\">\n",
              "  <thead>\n",
              "    <tr style=\"text-align: right;\">\n",
              "      <th></th>\n",
              "      <th>player</th>\n",
              "      <th>position</th>\n",
              "      <th>location</th>\n",
              "      <th>duration</th>\n",
              "      <th>related_events</th>\n",
              "      <th>match_id</th>\n",
              "      <th>shot_statsbomb_xg</th>\n",
              "    </tr>\n",
              "  </thead>\n",
              "  <tbody>\n",
              "    <tr>\n",
              "      <th>0</th>\n",
              "      <td>Granit Xhaka</td>\n",
              "      <td>Left Defensive Midfield</td>\n",
              "      <td>[96.0, 38.8]</td>\n",
              "      <td>0.380264</td>\n",
              "      <td>[23ce15e2-05d8-4adf-87de-90b82585c085, b27d5a6...</td>\n",
              "      <td>3857256</td>\n",
              "      <td>0.036566</td>\n",
              "    </tr>\n",
              "    <tr>\n",
              "      <th>1</th>\n",
              "      <td>Breel-Donald Embolo</td>\n",
              "      <td>Center Forward</td>\n",
              "      <td>[113.1, 40.7]</td>\n",
              "      <td>0.175803</td>\n",
              "      <td>[ca8f5082-211d-4c5e-9827-b61cf7fa7ca2]</td>\n",
              "      <td>3857256</td>\n",
              "      <td>0.353289</td>\n",
              "    </tr>\n",
              "    <tr>\n",
              "      <th>2</th>\n",
              "      <td>Granit Xhaka</td>\n",
              "      <td>Left Defensive Midfield</td>\n",
              "      <td>[103.8, 41.9]</td>\n",
              "      <td>0.495575</td>\n",
              "      <td>[03e8c43d-a1ee-4477-a6cd-3761b9379837]</td>\n",
              "      <td>3857256</td>\n",
              "      <td>0.069527</td>\n",
              "    </tr>\n",
              "    <tr>\n",
              "      <th>3</th>\n",
              "      <td>Nikola Milenković</td>\n",
              "      <td>Right Center Back</td>\n",
              "      <td>[112.2, 36.8]</td>\n",
              "      <td>0.848375</td>\n",
              "      <td>[42dca3d5-9c35-4da4-8d13-0ae643b4d9c7]</td>\n",
              "      <td>3857256</td>\n",
              "      <td>0.081609</td>\n",
              "    </tr>\n",
              "    <tr>\n",
              "      <th>4</th>\n",
              "      <td>Andrija Živković</td>\n",
              "      <td>Right Wing Back</td>\n",
              "      <td>[97.8, 51.5]</td>\n",
              "      <td>0.934407</td>\n",
              "      <td>[66f1d9e3-640c-493d-80e6-33a247444389]</td>\n",
              "      <td>3857256</td>\n",
              "      <td>0.030002</td>\n",
              "    </tr>\n",
              "    <tr>\n",
              "      <th>...</th>\n",
              "      <td>...</td>\n",
              "      <td>...</td>\n",
              "      <td>...</td>\n",
              "      <td>...</td>\n",
              "      <td>...</td>\n",
              "      <td>...</td>\n",
              "      <td>...</td>\n",
              "    </tr>\n",
              "    <tr>\n",
              "      <th>1489</th>\n",
              "      <td>Andreas Evald Cornelius</td>\n",
              "      <td>Center Forward</td>\n",
              "      <td>[118.2, 43.9]</td>\n",
              "      <td>0.058813</td>\n",
              "      <td>[b2cf8522-fd3d-44ae-b3d2-6a2c2d40ce7a]</td>\n",
              "      <td>3857254</td>\n",
              "      <td>0.568312</td>\n",
              "    </tr>\n",
              "    <tr>\n",
              "      <th>1490</th>\n",
              "      <td>Mathias Jensen</td>\n",
              "      <td>Left Defensive Midfield</td>\n",
              "      <td>[102.5, 24.2]</td>\n",
              "      <td>0.995427</td>\n",
              "      <td>[100b467e-ced3-4e97-ab89-3656d3ab04c5]</td>\n",
              "      <td>3857254</td>\n",
              "      <td>0.028724</td>\n",
              "    </tr>\n",
              "    <tr>\n",
              "      <th>1491</th>\n",
              "      <td>Andreas Evald Cornelius</td>\n",
              "      <td>Center Forward</td>\n",
              "      <td>[114.4, 36.8]</td>\n",
              "      <td>1.239140</td>\n",
              "      <td>[a4edfab9-529b-4f34-b150-bf665f559ce5, f1dcd43...</td>\n",
              "      <td>3857254</td>\n",
              "      <td>0.145394</td>\n",
              "    </tr>\n",
              "    <tr>\n",
              "      <th>1492</th>\n",
              "      <td>Joakim Mæhle</td>\n",
              "      <td>Left Back</td>\n",
              "      <td>[95.0, 30.2]</td>\n",
              "      <td>0.164703</td>\n",
              "      <td>[2da1a8a2-7c43-4ffa-91da-a4ed3d276e8c, 8c6aa51...</td>\n",
              "      <td>3857254</td>\n",
              "      <td>0.028684</td>\n",
              "    </tr>\n",
              "    <tr>\n",
              "      <th>1493</th>\n",
              "      <td>Andreas Evald Cornelius</td>\n",
              "      <td>Center Forward</td>\n",
              "      <td>[108.8, 46.4]</td>\n",
              "      <td>1.723410</td>\n",
              "      <td>[b87c633c-1b1e-43f5-b5b6-5ef1a39668be, f70bc5f...</td>\n",
              "      <td>3857254</td>\n",
              "      <td>0.022084</td>\n",
              "    </tr>\n",
              "  </tbody>\n",
              "</table>\n",
              "<p>1494 rows × 7 columns</p>\n",
              "</div>\n",
              "      <button class=\"colab-df-convert\" onclick=\"convertToInteractive('df-fe5f65f1-bc6b-4218-9018-c01a1fdeb755')\"\n",
              "              title=\"Convert this dataframe to an interactive table.\"\n",
              "              style=\"display:none;\">\n",
              "\n",
              "  <svg xmlns=\"http://www.w3.org/2000/svg\" height=\"24px\"viewBox=\"0 0 24 24\"\n",
              "       width=\"24px\">\n",
              "    <path d=\"M0 0h24v24H0V0z\" fill=\"none\"/>\n",
              "    <path d=\"M18.56 5.44l.94 2.06.94-2.06 2.06-.94-2.06-.94-.94-2.06-.94 2.06-2.06.94zm-11 1L8.5 8.5l.94-2.06 2.06-.94-2.06-.94L8.5 2.5l-.94 2.06-2.06.94zm10 10l.94 2.06.94-2.06 2.06-.94-2.06-.94-.94-2.06-.94 2.06-2.06.94z\"/><path d=\"M17.41 7.96l-1.37-1.37c-.4-.4-.92-.59-1.43-.59-.52 0-1.04.2-1.43.59L10.3 9.45l-7.72 7.72c-.78.78-.78 2.05 0 2.83L4 21.41c.39.39.9.59 1.41.59.51 0 1.02-.2 1.41-.59l7.78-7.78 2.81-2.81c.8-.78.8-2.07 0-2.86zM5.41 20L4 18.59l7.72-7.72 1.47 1.35L5.41 20z\"/>\n",
              "  </svg>\n",
              "      </button>\n",
              "\n",
              "\n",
              "\n",
              "    <div id=\"df-3ce84650-b4b6-47f1-b02b-bc1541175990\">\n",
              "      <button class=\"colab-df-quickchart\" onclick=\"quickchart('df-3ce84650-b4b6-47f1-b02b-bc1541175990')\"\n",
              "              title=\"Suggest charts.\"\n",
              "              style=\"display:none;\">\n",
              "\n",
              "<svg xmlns=\"http://www.w3.org/2000/svg\" height=\"24px\"viewBox=\"0 0 24 24\"\n",
              "     width=\"24px\">\n",
              "    <g>\n",
              "        <path d=\"M19 3H5c-1.1 0-2 .9-2 2v14c0 1.1.9 2 2 2h14c1.1 0 2-.9 2-2V5c0-1.1-.9-2-2-2zM9 17H7v-7h2v7zm4 0h-2V7h2v10zm4 0h-2v-4h2v4z\"/>\n",
              "    </g>\n",
              "</svg>\n",
              "      </button>\n",
              "    </div>\n",
              "\n",
              "<style>\n",
              "  .colab-df-quickchart {\n",
              "    background-color: #E8F0FE;\n",
              "    border: none;\n",
              "    border-radius: 50%;\n",
              "    cursor: pointer;\n",
              "    display: none;\n",
              "    fill: #1967D2;\n",
              "    height: 32px;\n",
              "    padding: 0 0 0 0;\n",
              "    width: 32px;\n",
              "  }\n",
              "\n",
              "  .colab-df-quickchart:hover {\n",
              "    background-color: #E2EBFA;\n",
              "    box-shadow: 0px 1px 2px rgba(60, 64, 67, 0.3), 0px 1px 3px 1px rgba(60, 64, 67, 0.15);\n",
              "    fill: #174EA6;\n",
              "  }\n",
              "\n",
              "  [theme=dark] .colab-df-quickchart {\n",
              "    background-color: #3B4455;\n",
              "    fill: #D2E3FC;\n",
              "  }\n",
              "\n",
              "  [theme=dark] .colab-df-quickchart:hover {\n",
              "    background-color: #434B5C;\n",
              "    box-shadow: 0px 1px 3px 1px rgba(0, 0, 0, 0.15);\n",
              "    filter: drop-shadow(0px 1px 2px rgba(0, 0, 0, 0.3));\n",
              "    fill: #FFFFFF;\n",
              "  }\n",
              "</style>\n",
              "\n",
              "    <script>\n",
              "      async function quickchart(key) {\n",
              "        const containerElement = document.querySelector('#' + key);\n",
              "        const charts = await google.colab.kernel.invokeFunction(\n",
              "            'suggestCharts', [key], {});\n",
              "      }\n",
              "    </script>\n",
              "\n",
              "      <script>\n",
              "\n",
              "function displayQuickchartButton(domScope) {\n",
              "  let quickchartButtonEl =\n",
              "    domScope.querySelector('#df-3ce84650-b4b6-47f1-b02b-bc1541175990 button.colab-df-quickchart');\n",
              "  quickchartButtonEl.style.display =\n",
              "    google.colab.kernel.accessAllowed ? 'block' : 'none';\n",
              "}\n",
              "\n",
              "        displayQuickchartButton(document);\n",
              "      </script>\n",
              "      <style>\n",
              "    .colab-df-container {\n",
              "      display:flex;\n",
              "      flex-wrap:wrap;\n",
              "      gap: 12px;\n",
              "    }\n",
              "\n",
              "    .colab-df-convert {\n",
              "      background-color: #E8F0FE;\n",
              "      border: none;\n",
              "      border-radius: 50%;\n",
              "      cursor: pointer;\n",
              "      display: none;\n",
              "      fill: #1967D2;\n",
              "      height: 32px;\n",
              "      padding: 0 0 0 0;\n",
              "      width: 32px;\n",
              "    }\n",
              "\n",
              "    .colab-df-convert:hover {\n",
              "      background-color: #E2EBFA;\n",
              "      box-shadow: 0px 1px 2px rgba(60, 64, 67, 0.3), 0px 1px 3px 1px rgba(60, 64, 67, 0.15);\n",
              "      fill: #174EA6;\n",
              "    }\n",
              "\n",
              "    [theme=dark] .colab-df-convert {\n",
              "      background-color: #3B4455;\n",
              "      fill: #D2E3FC;\n",
              "    }\n",
              "\n",
              "    [theme=dark] .colab-df-convert:hover {\n",
              "      background-color: #434B5C;\n",
              "      box-shadow: 0px 1px 3px 1px rgba(0, 0, 0, 0.15);\n",
              "      filter: drop-shadow(0px 1px 2px rgba(0, 0, 0, 0.3));\n",
              "      fill: #FFFFFF;\n",
              "    }\n",
              "  </style>\n",
              "\n",
              "      <script>\n",
              "        const buttonEl =\n",
              "          document.querySelector('#df-fe5f65f1-bc6b-4218-9018-c01a1fdeb755 button.colab-df-convert');\n",
              "        buttonEl.style.display =\n",
              "          google.colab.kernel.accessAllowed ? 'block' : 'none';\n",
              "\n",
              "        async function convertToInteractive(key) {\n",
              "          const element = document.querySelector('#df-fe5f65f1-bc6b-4218-9018-c01a1fdeb755');\n",
              "          const dataTable =\n",
              "            await google.colab.kernel.invokeFunction('convertToInteractive',\n",
              "                                                     [key], {});\n",
              "          if (!dataTable) return;\n",
              "\n",
              "          const docLinkHtml = 'Like what you see? Visit the ' +\n",
              "            '<a target=\"_blank\" href=https://colab.research.google.com/notebooks/data_table.ipynb>data table notebook</a>'\n",
              "            + ' to learn more about interactive tables.';\n",
              "          element.innerHTML = '';\n",
              "          dataTable['output_type'] = 'display_data';\n",
              "          await google.colab.output.renderOutput(dataTable, element);\n",
              "          const docLink = document.createElement('div');\n",
              "          docLink.innerHTML = docLinkHtml;\n",
              "          element.appendChild(docLink);\n",
              "        }\n",
              "      </script>\n",
              "    </div>\n",
              "  </div>\n"
            ]
          },
          "metadata": {},
          "execution_count": 163
        }
      ]
    },
    {
      "cell_type": "code",
      "source": [
        "Final_df = pd.DataFrame()\n",
        "type(Final_df)"
      ],
      "metadata": {
        "colab": {
          "base_uri": "https://localhost:8080/"
        },
        "id": "z--ZInN4N1Tk",
        "outputId": "f28f9ebf-7304-4a54-9677-27b7a342e456"
      },
      "execution_count": 164,
      "outputs": [
        {
          "output_type": "execute_result",
          "data": {
            "text/plain": [
              "pandas.core.frame.DataFrame"
            ]
          },
          "metadata": {},
          "execution_count": 164
        }
      ]
    },
    {
      "cell_type": "markdown",
      "source": [
        "Fill out all the Na values with complete passes"
      ],
      "metadata": {
        "id": "XgIwamZqF_6J"
      }
    },
    {
      "cell_type": "code",
      "source": [
        "WC_events22['passes']['pass_outcome'].unique()\n",
        "WC_events22['passes']['pass_outcome'].fillna('Complete', inplace=True)"
      ],
      "metadata": {
        "id": "wpymV3lWjSYh"
      },
      "execution_count": 165,
      "outputs": []
    },
    {
      "cell_type": "markdown",
      "source": [
        "## Combining the relevent data into one dataframe"
      ],
      "metadata": {
        "id": "3Cc3-Ub_TcNF"
      }
    },
    {
      "cell_type": "markdown",
      "source": [
        "#### getting our passes, Carry, and shots to put them into a final_df"
      ],
      "metadata": {
        "id": "fXjM6PoqGIKC"
      }
    },
    {
      "cell_type": "code",
      "source": [
        "# Merge the DataFrames based on 'match_id', 'index', and 'location' columns\n",
        "# Now, create a new DataFrame by taking the 'column_name' column from df1\n",
        "WC_events22_passes = WC_events22['passes'][['match_id','index', 'team', 'player' ,'timestamp','minute', 'second', 'duration','period',\n",
        "                                           'possession' ,'position','play_pattern' ,'location', 'type',\n",
        "                                            'pass_end_location', 'under_pressure', 'pass_length',  'pass_angle']].copy()\n",
        "\n",
        "WC_events22_carrys = WC_events22['carrys'][['match_id','index', 'team', 'player' ,'timestamp','minute',\n",
        "                                            'second', 'period','possession','position' , 'play_pattern', 'duration',\n",
        "                                            'location', 'type',  'carry_end_location', 'under_pressure'\n",
        "                                            ]].copy()\n",
        "\n",
        "# WC_events22_dribbles = WC_events22['dribbles'][['match_id','index', 'team', 'player' ,'timestamp','minute', 'duration',\n",
        "#                                                 'second', 'period','possession','position' ,\n",
        "#                                                 'location', 'type', 'under_pressure'  ]].copy()\n",
        "\n",
        "\n",
        "WC_events22_shot = WC_events22['shots'][['match_id','index', 'team', 'player' ,'timestamp','minute', 'second', 'period','duration',\n",
        "                                         'possession', 'position' ,'play_pattern' ,'location','shot_outcome', 'shot_end_location' , 'shot_technique',\n",
        "                                         'shot_statsbomb_xg' , 'type', 'under_pressure', 'shot_type', 'shot_body_part', 'shot_freeze_frame']].copy()\n",
        "\n",
        "\n",
        "# Combine the DataFrames by stacking them vertically (top on top)\n",
        "final_df = pd.concat([WC_events22_passes, WC_events22_carrys, WC_events22_shot\n",
        "\n",
        "                      ], axis=0)\n",
        "# The most important events that we have is shoot, pass, dribble, carry.\n",
        "\n",
        "# Sort the final DataFrame by 'index' column\n",
        "final_df.sort_values(by=['match_id','index'], inplace=True)\n",
        "\n",
        "# Reset the index of the DataFrame\n",
        "final_df.reset_index(drop=True, inplace=True)\n",
        "\n",
        "final_df.head(3)\n",
        "'''\n",
        "shot_first_time          1026\n",
        "shot_one_on_one          1409\n",
        "shot_deflected           1472\n",
        "shot_open_goal           1481\n",
        "shot_aerial_won          1365\n",
        "shot_follows_dribble     1491\n",
        "shot_saved_to_post       1491\n",
        "shot_saved_off_target    1492\n",
        "shot_redirect            1492\n",
        "\n",
        "they are missing almost all of them so we have to delete it from our code.\n",
        "'''\n"
      ],
      "metadata": {
        "colab": {
          "base_uri": "https://localhost:8080/",
          "height": 1000
        },
        "id": "F11ELudJV8-Y",
        "outputId": "d6ffc0a8-79b7-4f87-d421-2b2549c0b7f1"
      },
      "execution_count": 166,
      "outputs": [
        {
          "output_type": "execute_result",
          "data": {
            "text/plain": [
              "'\\nshot_first_time          1026\\nshot_one_on_one          1409\\nshot_deflected           1472\\nshot_open_goal           1481\\nshot_aerial_won          1365\\nshot_follows_dribble     1491\\nshot_saved_to_post       1491\\nshot_saved_off_target    1492\\nshot_redirect            1492\\n\\nthey are missing almost all of them so we have to delete it from our code.\\n'"
            ],
            "application/vnd.google.colaboratory.intrinsic+json": {
              "type": "string"
            }
          },
          "metadata": {},
          "execution_count": 166
        }
      ]
    },
    {
      "cell_type": "markdown",
      "source": [
        "### Pre-processing for the final_df"
      ],
      "metadata": {
        "id": "FEVVk2kBGQp-"
      }
    },
    {
      "cell_type": "code",
      "source": [
        "final_df['under_pressure'] = final_df['under_pressure'].fillna(False)\n",
        "final_df['under_pressure'].unique()\n",
        "\n"
      ],
      "metadata": {
        "colab": {
          "base_uri": "https://localhost:8080/"
        },
        "id": "pB-7nDZEZPv1",
        "outputId": "1f0dbb7f-c684-4957-930b-1c38a4eb1a9e"
      },
      "execution_count": 167,
      "outputs": [
        {
          "output_type": "execute_result",
          "data": {
            "text/plain": [
              "array([False,  True])"
            ]
          },
          "metadata": {},
          "execution_count": 167
        }
      ]
    },
    {
      "cell_type": "markdown",
      "source": [
        "Removing the penalties shootout from the equation"
      ],
      "metadata": {
        "id": "Vo_alQ6dS__V"
      }
    },
    {
      "cell_type": "code",
      "source": [
        "final_df = final_df.drop(final_df[final_df['period'] == 5].index)\n",
        "# final_df\n",
        "\n",
        "'''\n",
        " Goals scored and xG generated from penalties are often removed\n",
        " from player and team totals when analysing performance.\n",
        "\n",
        " https://statsbomb.com/soccer-metrics/expected-goals-xg-explained/.\n",
        "'''"
      ],
      "metadata": {
        "colab": {
          "base_uri": "https://localhost:8080/",
          "height": 1000
        },
        "id": "nkcS_JIATC6E",
        "outputId": "ba70dafc-e86b-4c2d-b678-a583755af483"
      },
      "execution_count": 168,
      "outputs": [
        {
          "output_type": "execute_result",
          "data": {
            "text/plain": [
              "'\\n Goals scored and xG generated from penalties are often removed\\n from player and team totals when analysing performance.\\n\\n https://statsbomb.com/soccer-metrics/expected-goals-xg-explained/.\\n'"
            ],
            "application/vnd.google.colaboratory.intrinsic+json": {
              "type": "string"
            }
          },
          "metadata": {},
          "execution_count": 168
        }
      ]
    },
    {
      "cell_type": "markdown",
      "source": [
        "#### Combining the end locations together to make end_location"
      ],
      "metadata": {
        "id": "ies2Z9s7q4tB"
      }
    },
    {
      "cell_type": "markdown",
      "source": [
        "combine all end locations together"
      ],
      "metadata": {
        "id": "h_C8gfiyiIwJ"
      }
    },
    {
      "cell_type": "code",
      "source": [
        "final_df['end_location'] = final_df['pass_end_location']\n",
        "final_df['end_location'] = final_df['end_location'].combine_first(final_df['carry_end_location'])\n",
        "final_df['end_location'] = final_df['end_location'].combine_first(final_df['shot_end_location'])\n",
        "final_df.columns"
      ],
      "metadata": {
        "colab": {
          "base_uri": "https://localhost:8080/"
        },
        "id": "NpbXqaUBpqIM",
        "outputId": "9c6fe6d7-6a08-49a4-aa0e-93e44fd089cd"
      },
      "execution_count": 169,
      "outputs": [
        {
          "output_type": "execute_result",
          "data": {
            "text/plain": [
              "Index(['match_id', 'index', 'team', 'player', 'timestamp', 'minute', 'second',\n",
              "       'duration', 'period', 'possession', 'position', 'play_pattern',\n",
              "       'location', 'type', 'pass_end_location', 'under_pressure',\n",
              "       'pass_length', 'pass_angle', 'carry_end_location', 'shot_outcome',\n",
              "       'shot_end_location', 'shot_technique', 'shot_statsbomb_xg', 'shot_type',\n",
              "       'shot_body_part', 'shot_freeze_frame', 'end_location'],\n",
              "      dtype='object')"
            ]
          },
          "metadata": {},
          "execution_count": 169
        }
      ]
    },
    {
      "cell_type": "markdown",
      "source": [
        "Drop all the excess columns after joining them"
      ],
      "metadata": {
        "id": "RCuZ9RQdkcqq"
      }
    },
    {
      "cell_type": "code",
      "source": [
        "final_df = final_df.drop(columns=['pass_end_location', 'carry_end_location'\n",
        "\n",
        "                                  ])\n"
      ],
      "metadata": {
        "id": "inYrmS01iWKi"
      },
      "execution_count": 170,
      "outputs": []
    },
    {
      "cell_type": "markdown",
      "source": [
        "## Apply the formula to find xT"
      ],
      "metadata": {
        "id": "I3bsSafquZCY"
      }
    },
    {
      "cell_type": "markdown",
      "source": [
        "### We need to do binning first to make the grid into equal dimensions"
      ],
      "metadata": {
        "id": "_y51uQKjBdtV"
      }
    },
    {
      "cell_type": "code",
      "source": [
        "def _safe_divide(a: npt.ArrayLike, b: npt.ArrayLike) -> npt.NDArray[np.float64]:\n",
        "    return np.divide(a, b, out=np.zeros_like(a, dtype=\"float64\"), where=b != 0, casting=\"unsafe\")"
      ],
      "metadata": {
        "id": "mECLQj3fFye4"
      },
      "execution_count": 171,
      "outputs": []
    },
    {
      "cell_type": "markdown",
      "source": [
        "The formula is: xTxy = (Sxy * Gxy) + (Mxy 16∑ 12∑T(x,y)→(z,w)xTz,w )\n"
      ],
      "metadata": {
        "id": "zkEgMAO4C7WS"
      }
    },
    {
      "cell_type": "markdown",
      "source": [
        "#### great row and column as the new 12x16 grid"
      ],
      "metadata": {
        "id": "YbdUuUpbGvWx"
      }
    },
    {
      "cell_type": "code",
      "source": [
        "\n",
        "def create_grid_cells(location, num_rows, num_columns, x_max, y_max):\n",
        "    \"\"\"\n",
        "    Assign a grid cell to each location based on its (x, y) coordinates.\n",
        "\n",
        "    Parameters:\n",
        "        location (tuple): (x, y) coordinates of the location.\n",
        "        num_rows (int): Number of rows in the grid.\n",
        "        num_columns (int): Number of columns in the grid.\n",
        "        x_max (float): Maximum x-coordinate value on the field.\n",
        "        y_max (float): Maximum y-coordinate value on the field.\n",
        "\n",
        "    Returns:\n",
        "        tuple: (row, column) indices of the grid cell for the given location.\n",
        "    \"\"\"\n",
        "    x, y = location\n",
        "    row = int(num_rows * y / y_max)\n",
        "    column = int(num_columns * x / x_max)\n",
        "    return row, column\n",
        "\n",
        "# Define the dimensions of the grid (12x16)\n",
        "num_rows, num_columns = 11, 15\n",
        "\n",
        "# Determine the maximum x and y coordinates from the 'location' column\n",
        "x_max = final_df['location'].apply(lambda loc: loc[0]).max()\n",
        "y_max = final_df['location'].apply(lambda loc: loc[1]).max()\n",
        "\n",
        "# Create new columns 'row' and 'column' to store the grid cell indices\n",
        "final_df[['row', 'column']] = final_df['location'].apply(lambda loc: create_grid_cells(loc, num_rows, num_columns, x_max, y_max)).tolist()\n",
        "\n",
        "# Now the 'final_df' DataFrame contains the 'row' and 'column' columns with the grid cell indices for each location.\n",
        "print(\"There is {} rows and {} columns \".format(final_df['row'].max(), final_df['column'].max()))"
      ],
      "metadata": {
        "colab": {
          "base_uri": "https://localhost:8080/"
        },
        "id": "968OgEwyBmvq",
        "outputId": "a5696fc2-f3a9-4223-823e-f46bbc063ccc"
      },
      "execution_count": 172,
      "outputs": [
        {
          "output_type": "stream",
          "name": "stdout",
          "text": [
            "There is 11 rows and 15 columns \n"
          ]
        }
      ]
    },
    {
      "cell_type": "markdown",
      "source": [
        "##### also make it into a list"
      ],
      "metadata": {
        "id": "QkFgvxohG8fC"
      }
    },
    {
      "cell_type": "code",
      "source": [
        "final_df['start_cell'] = final_df[['row', 'column']].apply(np.array, axis=1)"
      ],
      "metadata": {
        "id": "GVp4UUkzwT7c"
      },
      "execution_count": 173,
      "outputs": []
    },
    {
      "cell_type": "markdown",
      "source": [
        "#### Now we need to create the same thing but the end location for the event"
      ],
      "metadata": {
        "id": "3Z-KCT_xvzd5"
      }
    },
    {
      "cell_type": "markdown",
      "source": [
        "some events that are shots have the end location and also the height of the shot when it ends up in goal"
      ],
      "metadata": {
        "id": "zKwv5CKgw6D1"
      }
    },
    {
      "cell_type": "code",
      "source": [
        "final_df['end_location'] = final_df['end_location'].apply(lambda x:\n",
        "                                    x[:-1] if isinstance(x, list) and len(x) == 3 else x)"
      ],
      "metadata": {
        "id": "5W6-oa--wsCs"
      },
      "execution_count": 174,
      "outputs": []
    },
    {
      "cell_type": "code",
      "source": [
        "def create_end_grid_cells(location, num_rows, num_columns, x_max, y_max):\n",
        "    \"\"\"\n",
        "    Assign a grid cell to each location based on its (x, y) coordinates.\n",
        "\n",
        "    Parameters:\n",
        "        location (tuple): (x, y) coordinates of the location.\n",
        "        num_rows (int): Number of rows in the grid.\n",
        "        num_columns (int): Number of columns in the grid.\n",
        "        x_max (float): Maximum x-coordinate value on the field.\n",
        "        y_max (float): Maximum y-coordinate value on the field.\n",
        "\n",
        "    Returns:\n",
        "        tuple: (row, column) indices of the grid cell for the given location.\n",
        "    \"\"\"\n",
        "    x, y = location\n",
        "    row = int(num_rows * y / y_max)\n",
        "    column = int(num_columns * x / x_max)\n",
        "    return row, column\n",
        "\n",
        "# Define the dimensions of the grid (12x16)\n",
        "num_rows, num_columns = 11, 15\n",
        "\n",
        "x_max = final_df['end_location'].apply(lambda loc: loc[0]).max()\n",
        "y_max = final_df['end_location'].apply(lambda loc: loc[1]).max()\n",
        "\n",
        "# Create new columns 'row' and 'column' to store the grid cell indices\n",
        "final_df[['end_row', 'end_column']] = final_df['end_location'].apply(lambda loc: create_end_grid_cells(loc, num_rows, num_columns, x_max, y_max)).tolist()\n",
        "\n",
        "# Now the 'final_df' DataFrame contains the 'row' and 'column' columns with the grid cell indices for each location.\n",
        "print(\"There is {} end rows and {} end columns \".format(final_df['end_row'].max(), final_df['end_column'].max()))\n"
      ],
      "metadata": {
        "colab": {
          "base_uri": "https://localhost:8080/"
        },
        "id": "Sppq8GT9v3xs",
        "outputId": "87a0e5cc-3da8-4b6c-8be3-35c76d42a07e"
      },
      "execution_count": 175,
      "outputs": [
        {
          "output_type": "stream",
          "name": "stdout",
          "text": [
            "There is 11 end rows and 15 end columns \n"
          ]
        }
      ]
    },
    {
      "cell_type": "code",
      "source": [
        "final_df['end_cell'] = final_df[['end_row', 'end_column']].apply(np.array, axis=1)"
      ],
      "metadata": {
        "id": "NLARFMSWwctO"
      },
      "execution_count": 176,
      "outputs": []
    },
    {
      "cell_type": "code",
      "source": [
        "# final_df.isnull().sum()\n",
        "# final_df"
      ],
      "metadata": {
        "id": "G1zeA6F6v9g2"
      },
      "execution_count": 177,
      "outputs": []
    },
    {
      "cell_type": "markdown",
      "source": [
        "### We calculate the expected shot, move, transition from x,y to z,w , and xTzw"
      ],
      "metadata": {
        "id": "_5NleTkDBnU5"
      }
    },
    {
      "cell_type": "markdown",
      "source": [
        "### Expected Goals (xG)"
      ],
      "metadata": {
        "id": "UPeE_6X0XxQz"
      }
    },
    {
      "cell_type": "code",
      "source": [
        "final_df.loc[final_df['shot_outcome'] == 'Goal', 'goal_scored'] = 1\n",
        "final_df.loc[final_df['shot_outcome'] != 'Goal', 'goal_scored'] = 0\n",
        "final_df['goal_scored'].astype(int)\n",
        "# change the shot outcome to if its a goal or not"
      ],
      "metadata": {
        "colab": {
          "base_uri": "https://localhost:8080/"
        },
        "id": "H2p-F_zX2zke",
        "outputId": "15764e32-07ec-4ca7-df1c-2d649b124739"
      },
      "execution_count": 178,
      "outputs": [
        {
          "output_type": "execute_result",
          "data": {
            "text/plain": [
              "0         0\n",
              "1         0\n",
              "2         0\n",
              "3         0\n",
              "4         0\n",
              "         ..\n",
              "123759    0\n",
              "123760    0\n",
              "123761    0\n",
              "123762    0\n",
              "123763    0\n",
              "Name: goal_scored, Length: 123731, dtype: int64"
            ]
          },
          "metadata": {},
          "execution_count": 178
        }
      ]
    },
    {
      "cell_type": "code",
      "source": [
        "#team,minute,second,duration,period,pass_goal_assist, possession, position, play_pattern, location, type, under_pressure, pass_length,\n",
        "# pass_angle, end_location, technique, event_type, outcome, goal_scored"
      ],
      "metadata": {
        "id": "4JbUOVRylZ7o"
      },
      "execution_count": 179,
      "outputs": []
    },
    {
      "cell_type": "code",
      "source": [
        "'''\n",
        "Create team rankings instead of team names to apply it to our regression model\n",
        "as the higher the ranking the better the xG for the team\n",
        "'''\n",
        "\n",
        "team_rankings = {\n",
        "    \"Brazil\": 1,\n",
        "    \"Belgium\": 2,\n",
        "    \"Argentina\": 3,\n",
        "    \"France\": 4,\n",
        "    \"England\": 5,\n",
        "    \"Spain\": 7,\n",
        "    \"Netherlands\": 8,\n",
        "    \"Portugal\": 9,\n",
        "    \"Denmark\": 10,\n",
        "    \"Germany\": 11,\n",
        "    \"Croatia\": 12,\n",
        "    \"Mexico\": 13,\n",
        "    \"Uruguay\": 14,\n",
        "    \"Switzerland\": 15,\n",
        "    \"United States\": 16,\n",
        "    \"Senegal\": 18,\n",
        "    \"Wales\": 19,\n",
        "    \"Iran\": 20,\n",
        "    \"Serbia\": 21,\n",
        "    \"Morocco\": 22,\n",
        "    \"Japan\": 24,\n",
        "    \"Poland\": 25,\n",
        "    \"South Korea\": 28,\n",
        "    \"Tunisia\": 30,\n",
        "    \"Costa Rica\": 31,\n",
        "    \"Australia\": 38,\n",
        "    \"Ecuador\": 44,\n",
        "    \"Cameroon\": 43,\n",
        "    \"Qatar\": 50,\n",
        "    \"Saudi Arabia\": 51,\n",
        "    \"Ghana\": 61,\n",
        "    \"Canada\": 41\n",
        "}\n",
        "\n",
        "final_df['team_ranking'] = final_df['team'].map(team_rankings)\n",
        "# Got their rankings from FIFA.COM"
      ],
      "metadata": {
        "id": "NSxFkdec3I7D"
      },
      "execution_count": 180,
      "outputs": []
    },
    {
      "cell_type": "markdown",
      "source": [
        "#### To make a regression analysis on xG you need to convert the categorical data into numerical data"
      ],
      "metadata": {
        "id": "RheAH1fq1ZfU"
      }
    },
    {
      "cell_type": "code",
      "source": [
        "xg_df = final_df.copy()"
      ],
      "metadata": {
        "id": "lypdoQdx4_E4"
      },
      "execution_count": 181,
      "outputs": []
    },
    {
      "cell_type": "code",
      "source": [
        "'''\n",
        "We created a copy of final_df and only checked out the shots dataframe and dropped the indexes\n",
        "that will be give us any meaning into our analysis\n",
        "'''\n",
        "xg_df = xg_df[xg_df['type'] == 'Shot']\n",
        "xg_df = xg_df.drop(columns=['match_id', 'index', 'player', 'team',\n",
        "                            'second', 'position',  'type',\n",
        "                            'pass_length', 'pass_angle', 'end_location',\n",
        "                            'timestamp',\n",
        "                                  ])\n",
        "\n",
        "# xg_df['type'].unique()"
      ],
      "metadata": {
        "id": "CcRr9LEYyftk"
      },
      "execution_count": 182,
      "outputs": []
    },
    {
      "cell_type": "code",
      "source": [
        "xg_df['under_pressure'] = xg_df['under_pressure'].astype(int) # converting under_pressure to numeric\n",
        "xg_df['foot_shoot'] = xg_df['shot_body_part'].apply(lambda x: 1 if x in ['Right Foot', 'Left Foot'] else 0)\n",
        "# change the shot_body part if they hit it with their feet or not\n",
        "\n",
        "categorical_columns = ['shot_type', 'shot_technique', 'play_pattern',\n",
        "                       'shot_outcome'\n",
        "                       ]  # Replace with the actual column names\n",
        "\n",
        "#Perform one-hot encoding using pd.get_dummies()\n",
        "xg_df = pd.get_dummies(xg_df, columns=categorical_columns)\n",
        "\n",
        "# print(xg_df_encoded)\n"
      ],
      "metadata": {
        "id": "-SKMJlVY7TLg"
      },
      "execution_count": 183,
      "outputs": []
    },
    {
      "cell_type": "code",
      "source": [
        "xg_df.columns\n",
        "'''\n",
        "'team_ranking', 'minute', 'duration', 'period', 'pass_goal_assist', 'play_pattern_encoded',\n",
        "              'positions_encoded','under_pressure', 'pass_length','pass_angle', 'row', 'column' ,'technique_encoded',\n",
        "              'event_type_encoded', 'possession', 'type_encoded', 'outcome_encoded'\n",
        "'''\n",
        "\n",
        "# xg_df['technique_encoded'].unique()\n",
        "\n",
        "# Check for missing values in the DataFrame\n",
        "print(xg_df.isnull().sum())\n",
        "# xg_df['possession'].unique()"
      ],
      "metadata": {
        "colab": {
          "base_uri": "https://localhost:8080/"
        },
        "id": "z9zK4nzF_dze",
        "outputId": "797fa907-77a7-4ce0-9c18-b4d0440be814"
      },
      "execution_count": 184,
      "outputs": [
        {
          "output_type": "stream",
          "name": "stdout",
          "text": [
            "minute                            0\n",
            "duration                          0\n",
            "period                            0\n",
            "possession                        0\n",
            "location                          0\n",
            "under_pressure                    0\n",
            "shot_end_location                 0\n",
            "shot_statsbomb_xg                 0\n",
            "shot_body_part                    0\n",
            "shot_freeze_frame                22\n",
            "row                               0\n",
            "column                            0\n",
            "start_cell                        0\n",
            "end_row                           0\n",
            "end_column                        0\n",
            "end_cell                          0\n",
            "goal_scored                       0\n",
            "team_ranking                      0\n",
            "foot_shoot                        0\n",
            "shot_type_Corner                  0\n",
            "shot_type_Free Kick               0\n",
            "shot_type_Open Play               0\n",
            "shot_type_Penalty                 0\n",
            "shot_technique_Backheel           0\n",
            "shot_technique_Diving Header      0\n",
            "shot_technique_Half Volley        0\n",
            "shot_technique_Lob                0\n",
            "shot_technique_Normal             0\n",
            "shot_technique_Overhead Kick      0\n",
            "shot_technique_Volley             0\n",
            "play_pattern_From Corner          0\n",
            "play_pattern_From Counter         0\n",
            "play_pattern_From Free Kick       0\n",
            "play_pattern_From Goal Kick       0\n",
            "play_pattern_From Keeper          0\n",
            "play_pattern_From Kick Off        0\n",
            "play_pattern_From Throw In        0\n",
            "play_pattern_Other                0\n",
            "play_pattern_Regular Play         0\n",
            "shot_outcome_Blocked              0\n",
            "shot_outcome_Goal                 0\n",
            "shot_outcome_Off T                0\n",
            "shot_outcome_Post                 0\n",
            "shot_outcome_Saved                0\n",
            "shot_outcome_Saved Off Target     0\n",
            "shot_outcome_Saved to Post        0\n",
            "shot_outcome_Wayward              0\n",
            "dtype: int64\n"
          ]
        }
      ]
    },
    {
      "cell_type": "markdown",
      "source": [
        "#### Find the angle of the shot"
      ],
      "metadata": {
        "id": "PyRG6Z7hP4T2"
      }
    },
    {
      "cell_type": "code",
      "source": [
        "\n",
        "post_coord_up = [120, 36]\n",
        "post_coord_down = [120, 44]\n",
        "\n",
        "k = 8\n",
        "\n",
        "def calculate_final_theta(row):\n",
        "  '''\n",
        "  Calculating the angle of the shot: The variables that we already know is the two posts locations and the\n",
        "  distances between the two posts which is k as its constant. Finally, we know the location of the shot where\n",
        "  its happening.\n",
        "\n",
        "  if the shot is not between 36 and 44 yards in width then we do theta_big which is tan^-1(k+x)/ A)\n",
        "  and theta_extra is tan^-1(x/A). then we subtract theta_big with theta_extra to get the angle.\n",
        "\n",
        "  If shot is between 36 and 44 yards, then it would be a bit different as we need to find theta but subtracting\n",
        "  180- (theta_up + theta_down). theta_up is tan^-1(opp/adj) where opp is 120 - the row of the shot taken\n",
        "  and adj is the column of the shot taken minus 36.\n",
        "  theta_down is the same as its tan^-1(opp/adj) and the same in finding the opp. but to find adj its 44- the col location\n",
        "  of the shot taken\n",
        "\n",
        "  This function takes only one attribute which is the dataframe.\n",
        "  and then it checks for the location for every entry and applies the formula based on its location\n",
        "\n",
        "  '''\n",
        "  player_loc = row['location']\n",
        "  if player_loc[1] <= 36:\n",
        "      x = abs(player_loc[1] - post_coord_up[1])  # vertical distance between the player and nearest post\n",
        "      A = abs(player_loc[0] - post_coord_up[0])  # horizontal distance between the player and nearest post\n",
        "  elif player_loc[1] >= 44:\n",
        "      x = abs(player_loc[1] - post_coord_down[1])  # vertical distance between the player and nearest post\n",
        "      A = abs(player_loc[0] - post_coord_down[0])  # horizontal distance between the player and nearest post\n",
        "  else:  # All other cases where player_loc[1] is between 36 and 44 (exclusive)\n",
        "      opposite_up = 120 - player_loc[0]\n",
        "      adjacent_up = player_loc[1] - 36\n",
        "\n",
        "      theta_up = degrees(atan(opposite_up / adjacent_up))\n",
        "\n",
        "      opposite_down = 120 - player_loc[0]\n",
        "      adjacent_down = 44 - player_loc[1]\n",
        "\n",
        "      theta_down = degrees(atan(opposite_down / adjacent_down))\n",
        "\n",
        "      final_theta = 180 - (theta_up + theta_down)\n",
        "      return final_theta\n",
        "\n",
        "  # Check if A is zero to avoid division by zero\n",
        "  if A != 0:\n",
        "      theta_extra = degrees(atan(x / A))\n",
        "      theta_big = degrees(atan((k + x) / A))\n",
        "\n",
        "      final_theta = theta_big - theta_extra\n",
        "  else:\n",
        "      final_theta = 0  # Set to a default value if A is zero\n",
        "\n",
        "  return final_theta\n",
        "\n",
        "# Apply the function to calculate the 'final_theta' for each row\n",
        "xg_df['angle'] = xg_df.apply(calculate_final_theta, axis=1)\n",
        "# print(xg_df['final_theta'].max())\n"
      ],
      "metadata": {
        "id": "-1vSH35HhHxv"
      },
      "execution_count": 185,
      "outputs": []
    },
    {
      "cell_type": "code",
      "source": [
        "min_angle_index = xg_df['angle'].idxmin()\n",
        "min_angle_location = xg_df.loc[min_angle_index, 'location']\n",
        "\n",
        "print(\"Location of the minimum angle:\", min_angle_location)\n"
      ],
      "metadata": {
        "colab": {
          "base_uri": "https://localhost:8080/"
        },
        "id": "c01xhiphV3Vg",
        "outputId": "eb924285-8d52-42bd-be07-5fd1204fc44a"
      },
      "execution_count": 186,
      "outputs": [
        {
          "output_type": "stream",
          "name": "stdout",
          "text": [
            "Location of the minimum angle: [120.0, 54.6]\n"
          ]
        }
      ]
    },
    {
      "cell_type": "markdown",
      "source": [
        "#### Distance shot from goal"
      ],
      "metadata": {
        "id": "-RGo45j_l4c_"
      }
    },
    {
      "cell_type": "code",
      "source": [
        "# Center_of_goal = [120, 40]\n",
        "\n",
        "# Assuming 'xg_df' is your DataFrame and 'location' column contains player locations\n",
        "xg_df['x_distance_from_goal'] = xg_df['location'].apply(lambda loc: 120 - loc[0])\n",
        "xg_df['y_distance_from_goal'] = xg_df['location'].apply(lambda loc: abs(40 - loc[1]))\n",
        "\n",
        "def calculate_hyp(row):\n",
        "  '''\n",
        "  This function takes only the dataframe and its simple it sees the distance from the shot to the center\n",
        "  of the goal and gives the distance\n",
        "  '''\n",
        "  x = row['x_distance_from_goal']\n",
        "  y = row['y_distance_from_goal']\n",
        "  return sqrt(x**2 + y**2) # the hypotonis\n",
        "\n",
        "xg_df['Distance_shot'] = xg_df.apply(calculate_hyp, axis=1)\n",
        "\n"
      ],
      "metadata": {
        "id": "f8tJneYhl33b"
      },
      "execution_count": 187,
      "outputs": []
    },
    {
      "cell_type": "code",
      "source": [
        "# WC_events22['shots']['shot_freeze_frame'][0]"
      ],
      "metadata": {
        "id": "nITTPJM_pN-m"
      },
      "execution_count": 188,
      "outputs": []
    },
    {
      "cell_type": "markdown",
      "source": [
        "#### Defenders in my shot area"
      ],
      "metadata": {
        "id": "tvMULQti2-HN"
      }
    },
    {
      "cell_type": "code",
      "source": [
        "# Convert NaN values to empty lists in the 'shot_freeze_frame' column\n",
        "xg_df['shot_freeze_frame'] = xg_df['shot_freeze_frame'].fillna(pd.Series([[]] * len(xg_df)))\n",
        "\n"
      ],
      "metadata": {
        "id": "kgpMS-su6VI9"
      },
      "execution_count": 189,
      "outputs": []
    },
    {
      "cell_type": "code",
      "source": [
        "# Function to filter out the lists with 'teammate' set to True in the shot freeze frame\n",
        "def filter_freeze_frame(frame):\n",
        "  '''\n",
        "  Here i want to create a function for my column to remove all the data\n",
        "  that has teammates equal to true.\n",
        "\n",
        "  I need to only see the opposition of the players that are infront of me taking the shot\n",
        "  '''\n",
        "  if isinstance(frame, list):\n",
        "      return [item for item in frame if not item.get('teammate', False)]\n",
        "  else:\n",
        "      return []\n",
        "\n",
        "# Remove lists with 'teammate' set to True in the shot freeze frame\n",
        "xg_df['shot_freeze_frame'] = xg_df['shot_freeze_frame'].apply(filter_freeze_frame)\n"
      ],
      "metadata": {
        "id": "Tax1UlTPbjZy"
      },
      "execution_count": 190,
      "outputs": []
    },
    {
      "cell_type": "code",
      "source": [
        "left_post = [120, 36]\n",
        "right_post = [120, 44]\n",
        "\n",
        "# Function to check if a location is within the triangle formed by the shot and the goal posts\n",
        "def is_location_within_triangle(location, shot_location):\n",
        "\n",
        "  '''\n",
        "  This function checks if a given location is within the triangle formed by the shot_location and the goal posts.\n",
        "  It does this by first calculating a bounding rectangle that includes the shot_location and the two goal posts.\n",
        "  Then, it computes the vectors between the shot_location and each of the goal posts, as well as between the location\n",
        "  and the shot_location. Finally, it calculates the cross products of these vectors and checks if they have the same sign.\n",
        "  If both conditions (same sign of cross products and location within the bounding rectangle) are satisfied, the\n",
        "  function returns True, indicating that the location is within the triangle. Otherwise, it returns False.\n",
        "\n",
        "  '''\n",
        "  x_min = min(shot_location[0], left_post[0], right_post[0])\n",
        "  x_max = max(shot_location[0], left_post[0], right_post[0])\n",
        "  y_min = min(shot_location[1], left_post[1], right_post[1])\n",
        "  y_max = max(shot_location[1], left_post[1], right_post[1])\n",
        "\n",
        "  # Calculate the vectors representing the goal posts from the shot location\n",
        "  vector_left = [left_post[0] - shot_location[0], left_post[1] - shot_location[1]]\n",
        "  vector_right = [right_post[0] - shot_location[0], right_post[1] - shot_location[1]]\n",
        "  vector_location = [location[0] - shot_location[0], location[1] - shot_location[1]]\n",
        "\n",
        "  # Calculate the cross products of the vectors\n",
        "  cross_left = vector_location[0] * vector_left[1] - vector_location[1] * vector_left[0]\n",
        "  cross_right = vector_location[0] * vector_right[1] - vector_location[1] * vector_right[0]\n",
        "\n",
        "  # If the cross products have the same sign and the location is within the bounding rectangle, the location is within the triangle\n",
        "  return (cross_left >= 0 and cross_right >= 0) and (x_min <= location[0] <= x_max) and (y_min <= location[1] <= y_max)\n",
        "\n",
        "# Function to count the number of locations within the triangle for each shot\n",
        "def count_locations_within_triangle(locations_list, shot_location):\n",
        "  '''\n",
        "  This function takes a list of dictionaries locations_list and a shot_location. Each dictionary in the\n",
        "  list represents a location with its corresponding data. The function iterates through the list of\n",
        "  locations and counts how many of them are within the triangle formed by the shot_location and the goal posts.\n",
        "  It uses the is_location_within_triangle function to determine if each location is within the triangle or not. The\n",
        "  function returns the total count of locations within the triangle.\n",
        "\n",
        "  '''\n",
        "  count = 0\n",
        "  for location_dict in locations_list:\n",
        "      location = location_dict.get('location')\n",
        "      if location and is_location_within_triangle(location, shot_location):\n",
        "          count += 1\n",
        "  return count\n",
        "\n",
        "# Apply the function to 'shot_freeze_frame' and create a new column 'count_within_triangle'\n",
        "xg_df['count_within_triangle'] = xg_df.apply(lambda row: count_locations_within_triangle(row['shot_freeze_frame'], row['location']), axis=1)\n",
        "\n",
        "# Now you have a new column 'count_within_triangle' in the DataFrame, which represents the count of locations in each shot_freeze_frame that are within the triangle formed by the shot location and the goal posts.\n",
        "xg_df['count_within_triangle'].max()"
      ],
      "metadata": {
        "colab": {
          "base_uri": "https://localhost:8080/"
        },
        "id": "hDjIWyduGXjv",
        "outputId": "b4d6ea45-d211-4e05-cd52-18fc94d0ba1d"
      },
      "execution_count": 191,
      "outputs": [
        {
          "output_type": "execute_result",
          "data": {
            "text/plain": [
              "7"
            ]
          },
          "metadata": {},
          "execution_count": 191
        }
      ]
    },
    {
      "cell_type": "markdown",
      "source": [
        "#### Model Implementation for xG"
      ],
      "metadata": {
        "id": "hN2BhQ8D0H1l"
      }
    },
    {
      "cell_type": "markdown",
      "source": [
        "Using SMOTE"
      ],
      "metadata": {
        "id": "Obwus4BQIAGn"
      }
    },
    {
      "cell_type": "code",
      "source": [
        "X = xg_df[['minute', 'duration', 'period', 'possession', 'team_ranking',\n",
        "       'under_pressure','row','column',  'angle',\n",
        "        'Distance_shot', 'foot_shoot', 'count_within_triangle',\n",
        "        'shot_technique_Backheel', 'shot_technique_Diving Header',\n",
        "        'shot_technique_Half Volley', 'shot_technique_Lob',\n",
        "        'shot_technique_Normal','shot_technique_Overhead Kick',\n",
        "        'shot_technique_Volley']]\n",
        "\n",
        "\n",
        "\n",
        "y = xg_df['goal_scored']\n",
        "\n",
        "# Step 3: Split your data into training and testing sets\n",
        "X_train, X_test, y_train, y_test = train_test_split(X, y, test_size=0.2, random_state=42)\n",
        "\n",
        "# Step 4: Use SMOTE to balance the dataset\n",
        "smote = SMOTE(random_state=42)\n",
        "X_train_resampled, y_train_resampled = smote.fit_resample(X_train, y_train)\n",
        "\n",
        "# Step 5: Create and train the logistic regression model\n",
        "logreg = LogisticRegression()\n",
        "logreg.fit(X_train_resampled, y_train_resampled)\n",
        "\n",
        "# Step 6: Make predictions for expected goals (xG) on the test set\n",
        "xG_predictions = logreg.predict_proba(X_test)[:, 1]\n",
        "\n",
        "# test_set_with_xG = X_test.copy()\n",
        "# test_set_with_xG['xG'] = xG_predictions\n",
        "# print(test_set_with_xG)\n"
      ],
      "metadata": {
        "id": "gRtvH7VziaGG"
      },
      "execution_count": 192,
      "outputs": []
    },
    {
      "cell_type": "markdown",
      "source": [
        "##### hyper parameters for xG"
      ],
      "metadata": {
        "id": "HLiXfEJE67g_"
      }
    },
    {
      "cell_type": "code",
      "source": [
        "\n",
        "\n",
        "smote = SMOTE(random_state=42)\n",
        "X_resampled, y_resampled = smote.fit_resample(X, y)\n",
        "\n",
        "X_train, X_test, y_train, y_test = train_test_split(X_resampled, y_resampled, test_size=0.2, random_state=42)\n",
        "\n",
        "logreg = LogisticRegression()\n",
        "\n",
        "# \\ of hyperparameters to search over\n",
        "param_grid = {\n",
        "    'C': [0.1, 1, 10, 100],\n",
        "    'solver': ['liblinear', 'lbfgs', 'sag', 'saga'],\n",
        "    'max_iter': [100, 200, 300],  # Maximum number of iterations\n",
        "}\n",
        "\n",
        "grid_search = GridSearchCV(logreg, param_grid, cv=5, scoring='accuracy')\n",
        "grid_search.fit(X_train, y_train)\n",
        "\n",
        "# Print the best hyperparameters and their corresponding accuracy score\n",
        "print(\"Best Hyperparameters:\", grid_search.best_params_)\n",
        "print(\"Best Accuracy Score:\", grid_search.best_score_)\n",
        "\n",
        "best_logreg_model = grid_search.best_estimator_\n",
        "xG_logistic_predictions = best_logreg_model.predict_proba(X_test)[:, 1]\n",
        "\n",
        "test_set_with_xG = X_test.copy()\n",
        "test_set_with_xG['xG'] = xG_logistic_predictions\n",
        "# print(test_set_with_xG)\n"
      ],
      "metadata": {
        "colab": {
          "base_uri": "https://localhost:8080/"
        },
        "id": "tmNKJ5FJ6Wvi",
        "outputId": "327840b5-5976-4de7-e9c1-9114a5598c11"
      },
      "execution_count": 193,
      "outputs": [
        {
          "output_type": "stream",
          "name": "stdout",
          "text": [
            "Best Hyperparameters: {'C': 100, 'max_iter': 100, 'solver': 'liblinear'}\n",
            "Best Accuracy Score: 0.8446810278321761\n"
          ]
        }
      ]
    },
    {
      "cell_type": "markdown",
      "source": [
        "After hyper paramaters apply it for the whole data frame of xg_df"
      ],
      "metadata": {
        "id": "lOWrHcn58ZGP"
      }
    },
    {
      "cell_type": "code",
      "source": [
        "X = xg_df[['minute', 'duration', 'period', 'possession', 'team_ranking',\n",
        "       'under_pressure','row','column',  'angle',\n",
        "        'Distance_shot', 'foot_shoot', 'count_within_triangle',\n",
        "        'shot_technique_Backheel', 'shot_technique_Diving Header',\n",
        "        'shot_technique_Half Volley', 'shot_technique_Lob',\n",
        "        'shot_technique_Normal','shot_technique_Overhead Kick',\n",
        "        'shot_technique_Volley']]\n",
        "\n",
        "y = xg_df['goal_scored']\n",
        "\n",
        "logreg = LogisticRegression(C=1, max_iter=100, solver='liblinear')\n",
        "logreg.fit(X, y)\n",
        "\n",
        "xG_logistic_predictions = logreg.predict_proba(X)[:, 1]"
      ],
      "metadata": {
        "id": "RZpgWIyn8fsb"
      },
      "execution_count": 194,
      "outputs": []
    },
    {
      "cell_type": "code",
      "source": [
        "xg_df['xG'] = xG_logistic_predictions"
      ],
      "metadata": {
        "id": "kdfiC2ZoADMw"
      },
      "execution_count": 195,
      "outputs": []
    },
    {
      "cell_type": "code",
      "source": [
        "print(xG_logistic_predictions.shape)\n",
        "print(type(xG_logistic_predictions))  # Check the type of xG_predictions\n",
        "print(isinstance(xG_logistic_predictions, np.ndarray))  # Check if xG_predictions is an instance of NumPy ndarray\n"
      ],
      "metadata": {
        "colab": {
          "base_uri": "https://localhost:8080/"
        },
        "id": "QsyXTXdCfZxy",
        "outputId": "c3f03b5e-2fb9-46ec-8f63-e1a9b1303931"
      },
      "execution_count": 196,
      "outputs": [
        {
          "output_type": "stream",
          "name": "stdout",
          "text": [
            "(1453,)\n",
            "<class 'numpy.ndarray'>\n",
            "True\n"
          ]
        }
      ]
    },
    {
      "cell_type": "markdown",
      "source": [
        "##### visuals for logistic"
      ],
      "metadata": {
        "id": "w_r-o0LnKHD3"
      }
    },
    {
      "cell_type": "code",
      "source": [
        "\n",
        "\n",
        "# # Extract the 'xG' and 'statsbombxG' columns\n",
        "xG_values = xg_df['xG']\n",
        "statsbombxG_values = xg_df['shot_statsbomb_xg']\n",
        "\n",
        "# Create a scatter plot\n",
        "plt.figure(figsize=(8, 6))\n",
        "plt.scatter(xG_values, statsbombxG_values, alpha=0.5)\n",
        "\n",
        "# Add labels and title\n",
        "plt.xlabel('xG')\n",
        "plt.ylabel('StatsBomb xG')\n",
        "plt.title('xG vs StatsBomb xG')\n",
        "\n",
        "# Add a diagonal reference line\n",
        "max_value = max(xG_values.max(), statsbombxG_values.max())\n",
        "plt.plot([0, max_value], [0, max_value], linestyle='dashed', color='gray')\n",
        "\n",
        "# Show the plot\n",
        "plt.show()"
      ],
      "metadata": {
        "colab": {
          "base_uri": "https://localhost:8080/",
          "height": 564
        },
        "id": "ZOblu5hWTKGk",
        "outputId": "2a4e3ef5-e8c4-4462-e712-0fff234a6e5f"
      },
      "execution_count": 197,
      "outputs": [
        {
          "output_type": "display_data",
          "data": {
            "text/plain": [
              "<Figure size 800x600 with 1 Axes>"
            ],
            "image/png": "[encoded data removed]"
          },
          "metadata": {}
        }
      ]
    },
    {
      "cell_type": "code",
      "source": [
        "\n",
        "# Extract the 'row', 'column', and 'xG' columns\n",
        "rows = xg_df['row']\n",
        "columns = xg_df['column']\n",
        "xG_values = xg_df['xG']\n",
        "\n",
        "plt.figure(figsize=(10, 8))\n",
        "plt.scatter(columns, rows, c=xG_values, cmap='coolwarm', s=100)\n",
        "\n",
        "# Add colorbar\n",
        "cbar = plt.colorbar()\n",
        "cbar.set_label('Expected Goals (xG)')\n",
        "\n",
        "plt.xlabel('Column')\n",
        "plt.ylabel('Row')\n",
        "plt.title('Expected Goals (xG) Scatter Plot')\n",
        "\n",
        "plt.show()\n"
      ],
      "metadata": {
        "colab": {
          "base_uri": "https://localhost:8080/",
          "height": 718
        },
        "id": "jdI_hmjMT-Jj",
        "outputId": "f99336db-013d-4f4f-e03b-743a7270b214"
      },
      "execution_count": 198,
      "outputs": [
        {
          "output_type": "display_data",
          "data": {
            "text/plain": [
              "<Figure size 1000x800 with 2 Axes>"
            ],
            "image/png": "[encoded data removed]"
          },
          "metadata": {}
        }
      ]
    },
    {
      "cell_type": "code",
      "source": [
        "average_xG_per_grid = xg_df.groupby(['row', 'column'])['xG'].mean().reset_index()\n",
        "\n",
        "# average_xG_per_grid"
      ],
      "metadata": {
        "id": "2Tu74asUUhSC"
      },
      "execution_count": 199,
      "outputs": []
    },
    {
      "cell_type": "code",
      "source": [
        "\n",
        "\n",
        "# Create a 2D grid with dimensions 12x16 (replace with your actual grid dimensions)\n",
        "num_rows, num_columns = 12, 16\n",
        "grid_xG = np.zeros((num_rows, num_columns))\n",
        "\n",
        "# Fill the grid with average xG values\n",
        "for _, row_data in average_xG_per_grid.iterrows():\n",
        "    row_idx, col_idx, xG_value = int(row_data['row']), int(row_data['column']), row_data['xG']\n",
        "    grid_xG[row_idx, col_idx] = xG_value\n",
        "\n",
        "# For future usage, you can directly use the grid_xG NumPy array in your calculations and plots.\n",
        "print(grid_xG.shape)\n",
        "print(type(grid_xG))"
      ],
      "metadata": {
        "colab": {
          "base_uri": "https://localhost:8080/"
        },
        "id": "NO1NZv0b1NAY",
        "outputId": "7128693b-ab7c-4011-8640-96b48194029a"
      },
      "execution_count": 200,
      "outputs": [
        {
          "output_type": "stream",
          "name": "stdout",
          "text": [
            "(12, 16)\n",
            "<class 'numpy.ndarray'>\n"
          ]
        }
      ]
    },
    {
      "cell_type": "code",
      "source": [
        "\n",
        "# Create a 2D grid with dimensions 12x16 (replace with your actual grid dimensions)\n",
        "num_rows, num_columns = 12, 16\n",
        "grid_xG = np.zeros((num_rows, num_columns))\n",
        "\n",
        "# Calculate the average xG for each grid cell\n",
        "average_xG_per_grid = xg_df.groupby(['row', 'column'])['xG'].mean().reset_index()\n",
        "\n",
        "# Fill the grid with average xG values\n",
        "for row, column, xG in zip(average_xG_per_grid['row'], average_xG_per_grid['column'], average_xG_per_grid['xG']):\n",
        "    grid_xG[row, column] = xG\n",
        "\n",
        "# Create the grid graph\n",
        "plt.figure(figsize=(10, 14))\n",
        "plt.imshow(grid_xG[:, 6:], cmap='coolwarm', vmin=0, vmax=0.5, origin='upper', extent=[6, num_columns, num_rows, 0])\n",
        "\n",
        "# Add value annotations for each cell\n",
        "for row in range(num_rows):\n",
        "    for col in range(6, num_columns):\n",
        "        plt.text(col + 0.5, row + 0.5, f'{grid_xG[row, col]:.5f}', ha='center', va='center', color='black')\n",
        "\n",
        "# Set labels and title\n",
        "plt.xlabel('Column')\n",
        "plt.ylabel('Row')\n",
        "plt.title('Average Expected Goals (xG) per Grid Cell (Second Half)')\n",
        "\n",
        "# Customize the colorbar\n",
        "cbar = plt.colorbar()\n",
        "cbar.set_label('Average Expected Goals (xG)')\n",
        "\n",
        "# Set the x-axis ticks to show only from 6 to 16 (excluding 0 to 5) and remove the tick labels before position 6\n",
        "plt.xticks(range(6, num_columns), [f'{col}' if col >= 6 else '' for col in range(6, num_columns)])\n",
        "\n",
        "# Show the plot\n",
        "plt.show()\n"
      ],
      "metadata": {
        "colab": {
          "base_uri": "https://localhost:8080/",
          "height": 1000
        },
        "id": "Il3Bmp552goD",
        "outputId": "f2004205-3462-4ec6-a88c-02b43ab809f1"
      },
      "execution_count": 201,
      "outputs": [
        {
          "output_type": "display_data",
          "data": {
            "text/plain": [
              "<Figure size 1000x1400 with 2 Axes>"
            ],
            "image/png": "[encoded data removed]"
          },
          "metadata": {}
        }
      ]
    },
    {
      "cell_type": "code",
      "source": [
        "\n",
        "correlation = xg_df['xG'].corr(xg_df['shot_statsbomb_xg'])\n",
        "\n",
        "print(\"Correlation between xG and shot_statsbomb_xg:\", correlation)\n"
      ],
      "metadata": {
        "colab": {
          "base_uri": "https://localhost:8080/"
        },
        "id": "1HF1WOp8Z90Q",
        "outputId": "1f5a397b-619f-4ede-e092-2780c910fdfe"
      },
      "execution_count": 202,
      "outputs": [
        {
          "output_type": "stream",
          "name": "stdout",
          "text": [
            "Correlation between xG and shot_statsbomb_xg: 0.7738219307675088\n"
          ]
        }
      ]
    },
    {
      "cell_type": "code",
      "source": [
        "final_df['xG'] = xg_df['xG']\n",
        "\n",
        "final_df['xG'] = final_df['xG'].fillna(0)"
      ],
      "metadata": {
        "id": "Nbudl4oZx6Dl"
      },
      "execution_count": 203,
      "outputs": []
    },
    {
      "cell_type": "markdown",
      "source": [
        "#### Gradient Boosting"
      ],
      "metadata": {
        "id": "j9Y2gg-gHcRA"
      }
    },
    {
      "cell_type": "code",
      "source": [
        "X = xg_df[['minute', 'duration', 'period', 'possession', 'team_ranking',\n",
        "       'under_pressure','row','column',  'angle',\n",
        "        'Distance_shot', 'foot_shoot', 'count_within_triangle',\n",
        "        'shot_technique_Backheel', 'shot_technique_Diving Header',\n",
        "        'shot_technique_Half Volley', 'shot_technique_Lob',\n",
        "        'shot_technique_Normal','shot_technique_Overhead Kick',\n",
        "        'shot_technique_Volley']]\n",
        "\n",
        "y = xg_df['goal_scored']\n",
        "\n",
        "# Apply SMOTE to balance the dataset\n",
        "smote = SMOTE(random_state=42)\n",
        "X_train_balanced, y_train_balanced = smote.fit_resample(X_train, y_train)\n",
        "\n",
        "# Initialize the Gradient Boosting Regressor\n",
        "gb_model = GradientBoostingRegressor(n_estimators=100, learning_rate=0.1, random_state=42)\n",
        "\n",
        "# Fit the model on the balanced training data\n",
        "gb_model.fit(X_train_balanced, y_train_balanced)\n",
        "\n",
        "# Make predictions on the testing set\n",
        "y_pred = gb_model.predict(X_test)\n",
        "\n",
        "# Evaluate the model using mean squared error\n",
        "mse = mean_squared_error(y_test, y_pred)\n",
        "print(f\"Mean Squared Error: {mse}\")\n",
        "\n"
      ],
      "metadata": {
        "colab": {
          "base_uri": "https://localhost:8080/"
        },
        "id": "5MAbtaPkHTJy",
        "outputId": "1e05cd92-7154-4d03-c545-37b280408a74"
      },
      "execution_count": 204,
      "outputs": [
        {
          "output_type": "stream",
          "name": "stdout",
          "text": [
            "Mean Squared Error: 0.09247875833692214\n"
          ]
        }
      ]
    },
    {
      "cell_type": "markdown",
      "source": [
        "###### Hyper parameters for gradient boosting"
      ],
      "metadata": {
        "id": "dRGT6_wEHspQ"
      }
    },
    {
      "cell_type": "code",
      "source": [
        "X = xg_df[['minute', 'duration', 'period', 'possession', 'team_ranking',\n",
        "       'under_pressure','row','column',  'angle',\n",
        "        'Distance_shot', 'foot_shoot', 'count_within_triangle',\n",
        "        'shot_technique_Backheel', 'shot_technique_Diving Header',\n",
        "        'shot_technique_Half Volley', 'shot_technique_Lob',\n",
        "        'shot_technique_Normal','shot_technique_Overhead Kick',\n",
        "        'shot_technique_Volley']]\n",
        "\n",
        "y = xg_df['goal_scored']\n",
        "\n",
        "\n",
        "smote = SMOTE(random_state=42)\n",
        "X_train_balanced, y_train_balanced = smote.fit_resample(X_train, y_train)\n",
        "\n",
        "# Define the hyperparameters to tune\n",
        "param_grid = {\n",
        "    'n_estimators': [50, 100, 200],\n",
        "    'learning_rate': [0.05, 0.1, 0.2],\n",
        "    'max_depth': [3, 5, 7],\n",
        "\n",
        "}\n",
        "\n",
        "# Initialize the Gradient Boosting Regressor\n",
        "gb_model = GradientBoostingRegressor(random_state=42)\n",
        "\n",
        "grid_search = GridSearchCV(gb_model, param_grid, cv=5, scoring='neg_mean_squared_error', n_jobs=-1)\n",
        "grid_search.fit(X_train, y_train)\n",
        "\n",
        "best_params = grid_search.best_params_\n",
        "print(\"Best Hyperparameters:\", best_params)\n",
        "\n",
        "best_gb_model = grid_search.best_estimator_\n",
        "\n",
        "y_pred = best_gb_model.predict(X_test)\n",
        "\n",
        "mse = mean_squared_error(y_test, y_pred)\n",
        "print(f\"Mean Squared Error: {mse}\")\n"
      ],
      "metadata": {
        "colab": {
          "base_uri": "https://localhost:8080/"
        },
        "id": "2n8dh-QLHvEP",
        "outputId": "c62c8d8d-089a-436b-8801-7c0afd64d525"
      },
      "execution_count": 205,
      "outputs": [
        {
          "output_type": "stream",
          "name": "stdout",
          "text": [
            "Best Hyperparameters: {'learning_rate': 0.1, 'max_depth': 7, 'n_estimators': 200}\n",
            "Mean Squared Error: 0.06546514945491488\n"
          ]
        }
      ]
    },
    {
      "cell_type": "code",
      "source": [
        "X = xg_df[['minute', 'duration', 'period', 'possession', 'team_ranking',\n",
        "       'under_pressure','row','column',  'angle',\n",
        "        'Distance_shot', 'foot_shoot', 'count_within_triangle']]\n",
        "\n",
        "y = xg_df['goal_scored']\n",
        "\n",
        "# Apply the hyperparamters\n",
        "best_gb_model = GradientBoostingRegressor(n_estimators=100, learning_rate=0.05, max_depth=3, random_state=42)\n",
        "\n",
        "best_gb_model.fit(X, y)\n",
        "\n",
        "xg_df['xG'] = best_gb_model.predict(X)\n",
        "\n",
        "# Now the 'xG' column in the DataFrame contains the predicted expected goals for each row\n",
        "# xg_df"
      ],
      "metadata": {
        "id": "G2G9i6OHIfpN"
      },
      "execution_count": 206,
      "outputs": []
    },
    {
      "cell_type": "code",
      "source": [
        "average_xG_per_grid = xg_df.groupby(['row', 'column'])['xG'].mean().reset_index()"
      ],
      "metadata": {
        "id": "-Wb3Z7xPJgMb"
      },
      "execution_count": 207,
      "outputs": []
    },
    {
      "cell_type": "markdown",
      "source": [
        "###### visuals for gradient boosting"
      ],
      "metadata": {
        "id": "-TRGSrebKVpZ"
      }
    },
    {
      "cell_type": "code",
      "source": [
        "\n",
        "# # Extract the 'xG' and 'statsbombxG' columns\n",
        "xG_values = xg_df['xG']\n",
        "statsbombxG_values = xg_df['shot_statsbomb_xg']\n",
        "\n",
        "# Create a scatter plot\n",
        "plt.figure(figsize=(8, 6))\n",
        "plt.scatter(xG_values, statsbombxG_values, alpha=0.5)\n",
        "\n",
        "plt.xlabel('xG')\n",
        "plt.ylabel('StatsBomb xG')\n",
        "plt.title('xG vs StatsBomb xG')\n",
        "\n",
        "max_value = max(xG_values.max(), statsbombxG_values.max())\n",
        "plt.plot([0, max_value], [0, max_value], linestyle='dashed', color='gray')\n",
        "plt.show()"
      ],
      "metadata": {
        "colab": {
          "base_uri": "https://localhost:8080/",
          "height": 564
        },
        "id": "5X4gYDz4J3VV",
        "outputId": "5eed74ba-50e7-4664-96bc-b27e25bd1d73"
      },
      "execution_count": 208,
      "outputs": [
        {
          "output_type": "display_data",
          "data": {
            "text/plain": [
              "<Figure size 800x600 with 1 Axes>"
            ],
            "image/png": "[encoded data removed]"
          },
          "metadata": {}
        }
      ]
    },
    {
      "cell_type": "code",
      "source": [
        "num_rows, num_columns = 12, 16\n",
        "grid_xG = np.zeros((num_rows, num_columns))\n",
        "\n",
        "average_xG_per_grid = xg_df.groupby(['row', 'column'])['xG'].mean().reset_index()\n",
        "\n",
        "# Fill the grid with average xG values\n",
        "for row, column, xG in zip(average_xG_per_grid['row'], average_xG_per_grid['column'], average_xG_per_grid['xG']):\n",
        "    grid_xG[row, column] = xG\n",
        "\n",
        "# Create the grid graph\n",
        "plt.figure(figsize=(10, 14))\n",
        "plt.imshow(grid_xG[:, 6:], cmap='coolwarm', vmin=0, vmax=0.5, origin='upper', extent=[6, num_columns, num_rows, 0])\n",
        "\n",
        "# Add value annotations for each cell\n",
        "for row in range(num_rows):\n",
        "    for col in range(6, num_columns):\n",
        "        plt.text(col + 0.5, row + 0.5, f'{grid_xG[row, col]:.5f}', ha='center', va='center', color='black')\n",
        "\n",
        "plt.xlabel('Column')\n",
        "plt.ylabel('Row')\n",
        "plt.title('Average Expected Goals (xG) per Grid Cell (Second Half)')\n",
        "cbar = plt.colorbar()\n",
        "cbar.set_label('Average Expected Goals (xG)')\n",
        "plt.show()\n"
      ],
      "metadata": {
        "colab": {
          "base_uri": "https://localhost:8080/",
          "height": 1000
        },
        "id": "DCSrnqSxJlwn",
        "outputId": "7ad78390-8c2f-48f5-82ed-dfbab12c53f6"
      },
      "execution_count": 209,
      "outputs": [
        {
          "output_type": "display_data",
          "data": {
            "text/plain": [
              "<Figure size 1000x1400 with 2 Axes>"
            ],
            "image/png": "[encoded data removed]"
          },
          "metadata": {}
        }
      ]
    },
    {
      "cell_type": "code",
      "source": [
        "correlation = xg_df['xG'].corr(xg_df['shot_statsbomb_xg'])\n",
        "\n",
        "print(\"Correlation between xG and shot_statsbomb_xg:\", correlation)\n",
        "# 0.7727601691392486"
      ],
      "metadata": {
        "colab": {
          "base_uri": "https://localhost:8080/"
        },
        "id": "FzgQ0S56pO8m",
        "outputId": "7b09b4ec-03df-4a3c-c33d-3b75aba11324"
      },
      "execution_count": 210,
      "outputs": [
        {
          "output_type": "stream",
          "name": "stdout",
          "text": [
            "Correlation between xG and shot_statsbomb_xg: 0.7727601691392486\n"
          ]
        }
      ]
    },
    {
      "cell_type": "code",
      "source": [
        "final_df['xG'] = xg_df['xG']\n",
        "\n",
        "final_df['xG'] = final_df['xG'].fillna(0)"
      ],
      "metadata": {
        "id": "ZIGrigPTpoo2"
      },
      "execution_count": 211,
      "outputs": []
    },
    {
      "cell_type": "markdown",
      "source": [
        "In conclusion even though the correlation are the same the logisitcal regression comes to be better as it shows that the plot compared with the statsbomb visually better"
      ],
      "metadata": {
        "id": "R9dkLZWUCyuZ"
      }
    },
    {
      "cell_type": "markdown",
      "source": [
        "### Probability of Moving and Shooting ( xMxy and xSxy )"
      ],
      "metadata": {
        "id": "IhUsx8NwW1Xl"
      }
    },
    {
      "cell_type": "code",
      "source": [
        "def find_average_location(locations):\n",
        "    total_sum = [0, 0]\n",
        "    num_locations = len(locations)\n",
        "\n",
        "    for location in locations:\n",
        "        total_sum[0] += location[0]\n",
        "        total_sum[1] += location[1]\n",
        "\n",
        "    average_location = [total_sum[0] / num_locations, total_sum[1] / num_locations]\n",
        "    return average_location\n",
        "\n",
        "\n",
        "average_location = find_average_location(WC_events22['shots']['location'])\n",
        "print(\"Average shot location Location: {}\".format(average_location))\n"
      ],
      "metadata": {
        "colab": {
          "base_uri": "https://localhost:8080/"
        },
        "id": "VVVK2y96pY93",
        "outputId": "810e5b95-d896-4c4b-ccbb-b28811c2aed1"
      },
      "execution_count": 212,
      "outputs": [
        {
          "output_type": "stream",
          "name": "stdout",
          "text": [
            "Average shot location Location: [104.5564257028113, 39.85649263721548]\n"
          ]
        }
      ]
    },
    {
      "cell_type": "code",
      "source": [
        "pms_df= final_df.copy()"
      ],
      "metadata": {
        "id": "opMSpR5t8i9E"
      },
      "execution_count": 213,
      "outputs": []
    },
    {
      "cell_type": "code",
      "source": [
        "# Create a new dictionary with consecutive numbers as values\n",
        "array = [3857254, 3857255, 3857256, 3857257, 3857258, 3857259, 3857260,\n",
        "       3857261, 3857262, 3857263, 3857264, 3857265, 3857266, 3857267,\n",
        "       3857268, 3857269, 3857270, 3857271, 3857272, 3857273, 3857274,\n",
        "       3857275, 3857276, 3857277, 3857278, 3857279, 3857280, 3857281,\n",
        "       3857282, 3857283, 3857284, 3857285, 3857286, 3857287, 3857288,\n",
        "       3857289, 3857290, 3857291, 3857292, 3857293, 3857294, 3857295,\n",
        "       3857296, 3857297, 3857298, 3857299, 3857300, 3857301, 3869117,\n",
        "       3869118, 3869151, 3869152, 3869219, 3869220, 3869253, 3869254,\n",
        "       3869321, 3869354, 3869420, 3869486, 3869519, 3869552, 3869684,\n",
        "       3869685]\n",
        "'''\n",
        "Giving every match_id a consective number from 1-64 for better mapping\n",
        "'''\n",
        "consecutive_dict = {key: i + 1 for i, key in enumerate(array)}\n",
        "\n",
        "\n",
        "# print(consecutive_dict)\n",
        "\n",
        "# Create a new column 'consecutive_number' using the 'match_id' column\n",
        "pms_df['new_match_id'] = pms_df['match_id'].map(consecutive_dict)"
      ],
      "metadata": {
        "id": "hmWY7I7bPx0j"
      },
      "execution_count": 214,
      "outputs": []
    },
    {
      "cell_type": "code",
      "source": [
        "# Add a new column 'successful' and initialize it to 0\n",
        "pms_df['successful'] = 0\n",
        "\n",
        "'''\n",
        "This code iterates over the whole code and check the events of the team.\n",
        "if the event happned to be still on the same team then make the previous event sucessful\n",
        "if the event was a shot and goal then put it as sucessful. else its unsucessful\n",
        "'''\n",
        "for i in range(len(pms_df) - 1):\n",
        "    if pms_df['new_match_id'].iloc[i] == pms_df['new_match_id'].iloc[i + 1]:\n",
        "        if pms_df['team'].iloc[i] == pms_df['team'].iloc[i + 1]:\n",
        "            pms_df.loc[i, 'successful'] = 1\n",
        "\n",
        "    # Update 'successful' column to 1 if the row represents a shot and 'goal_scored' is 1\n",
        "    if pms_df['type'].iloc[i] == 'Shot' and pms_df['goal_scored'].iloc[i] == 1:\n",
        "        pms_df.loc[i, 'successful'] = 1\n",
        "\n",
        "# For the last row, check if the 'match_id' is the same as the previous row (i.e., the second last row)\n",
        "last_row_index = len(pms_df) - 1\n",
        "if pms_df['new_match_id'].iloc[last_row_index] == pms_df['new_match_id'].iloc[last_row_index - 1]:\n",
        "    if pms_df['team'].iloc[last_row_index] == pms_df['team'].iloc[last_row_index - 1]:\n",
        "        pms_df.loc[last_row_index, 'successful'] = 1\n"
      ],
      "metadata": {
        "id": "Nv6x3JAY-5PE"
      },
      "execution_count": 215,
      "outputs": []
    },
    {
      "cell_type": "code",
      "source": [
        "pms_df[['new_match_id', 'index', 'team', 'goal_scored', 'successful']]"
      ],
      "metadata": {
        "colab": {
          "base_uri": "https://localhost:8080/",
          "height": 419
        },
        "id": "eEWU7biFJ_lD",
        "outputId": "45ccc4ba-32c7-45a1-d9a2-584e88fa571c"
      },
      "execution_count": 216,
      "outputs": [
        {
          "output_type": "execute_result",
          "data": {
            "text/plain": [
              "        new_match_id  index     team  goal_scored  successful\n",
              "0                1.0    5.0  Denmark          0.0         1.0\n",
              "1                1.0    7.0  Denmark          0.0         1.0\n",
              "2                1.0    8.0  Denmark          0.0         1.0\n",
              "3                1.0   10.0  Denmark          0.0         1.0\n",
              "4                1.0   12.0  Denmark          0.0         1.0\n",
              "...              ...    ...      ...          ...         ...\n",
              "113958           NaN    NaN      NaN          NaN         1.0\n",
              "113960           NaN    NaN      NaN          NaN         1.0\n",
              "113962           NaN    NaN      NaN          NaN         1.0\n",
              "113963           NaN    NaN      NaN          NaN         1.0\n",
              "113964           NaN    NaN      NaN          NaN         1.0\n",
              "\n",
              "[123759 rows x 5 columns]"
            ],
            "text/html": [
              "\n",
              "\n",
              "  <div id=\"df-0ef4370f-66b6-499c-8e00-d35daf97543e\">\n",
              "    <div class=\"colab-df-container\">\n",
              "      <div>\n",
              "<style scoped>\n",
              "    .dataframe tbody tr th:only-of-type {\n",
              "        vertical-align: middle;\n",
              "    }\n",
              "\n",
              "    .dataframe tbody tr th {\n",
              "        vertical-align: top;\n",
              "    }\n",
              "\n",
              "    .dataframe thead th {\n",
              "        text-align: right;\n",
              "    }\n",
              "</style>\n",
              "<table border=\"1\" class=\"dataframe\">\n",
              "  <thead>\n",
              "    <tr style=\"text-align: right;\">\n",
              "      <th></th>\n",
              "      <th>new_match_id</th>\n",
              "      <th>index</th>\n",
              "      <th>team</th>\n",
              "      <th>goal_scored</th>\n",
              "      <th>successful</th>\n",
              "    </tr>\n",
              "  </thead>\n",
              "  <tbody>\n",
              "    <tr>\n",
              "      <th>0</th>\n",
              "      <td>1.0</td>\n",
              "      <td>5.0</td>\n",
              "      <td>Denmark</td>\n",
              "      <td>0.0</td>\n",
              "      <td>1.0</td>\n",
              "    </tr>\n",
              "    <tr>\n",
              "      <th>1</th>\n",
              "      <td>1.0</td>\n",
              "      <td>7.0</td>\n",
              "      <td>Denmark</td>\n",
              "      <td>0.0</td>\n",
              "      <td>1.0</td>\n",
              "    </tr>\n",
              "    <tr>\n",
              "      <th>2</th>\n",
              "      <td>1.0</td>\n",
              "      <td>8.0</td>\n",
              "      <td>Denmark</td>\n",
              "      <td>0.0</td>\n",
              "      <td>1.0</td>\n",
              "    </tr>\n",
              "    <tr>\n",
              "      <th>3</th>\n",
              "      <td>1.0</td>\n",
              "      <td>10.0</td>\n",
              "      <td>Denmark</td>\n",
              "      <td>0.0</td>\n",
              "      <td>1.0</td>\n",
              "    </tr>\n",
              "    <tr>\n",
              "      <th>4</th>\n",
              "      <td>1.0</td>\n",
              "      <td>12.0</td>\n",
              "      <td>Denmark</td>\n",
              "      <td>0.0</td>\n",
              "      <td>1.0</td>\n",
              "    </tr>\n",
              "    <tr>\n",
              "      <th>...</th>\n",
              "      <td>...</td>\n",
              "      <td>...</td>\n",
              "      <td>...</td>\n",
              "      <td>...</td>\n",
              "      <td>...</td>\n",
              "    </tr>\n",
              "    <tr>\n",
              "      <th>113958</th>\n",
              "      <td>NaN</td>\n",
              "      <td>NaN</td>\n",
              "      <td>NaN</td>\n",
              "      <td>NaN</td>\n",
              "      <td>1.0</td>\n",
              "    </tr>\n",
              "    <tr>\n",
              "      <th>113960</th>\n",
              "      <td>NaN</td>\n",
              "      <td>NaN</td>\n",
              "      <td>NaN</td>\n",
              "      <td>NaN</td>\n",
              "      <td>1.0</td>\n",
              "    </tr>\n",
              "    <tr>\n",
              "      <th>113962</th>\n",
              "      <td>NaN</td>\n",
              "      <td>NaN</td>\n",
              "      <td>NaN</td>\n",
              "      <td>NaN</td>\n",
              "      <td>1.0</td>\n",
              "    </tr>\n",
              "    <tr>\n",
              "      <th>113963</th>\n",
              "      <td>NaN</td>\n",
              "      <td>NaN</td>\n",
              "      <td>NaN</td>\n",
              "      <td>NaN</td>\n",
              "      <td>1.0</td>\n",
              "    </tr>\n",
              "    <tr>\n",
              "      <th>113964</th>\n",
              "      <td>NaN</td>\n",
              "      <td>NaN</td>\n",
              "      <td>NaN</td>\n",
              "      <td>NaN</td>\n",
              "      <td>1.0</td>\n",
              "    </tr>\n",
              "  </tbody>\n",
              "</table>\n",
              "<p>123759 rows × 5 columns</p>\n",
              "</div>\n",
              "      <button class=\"colab-df-convert\" onclick=\"convertToInteractive('df-0ef4370f-66b6-499c-8e00-d35daf97543e')\"\n",
              "              title=\"Convert this dataframe to an interactive table.\"\n",
              "              style=\"display:none;\">\n",
              "\n",
              "  <svg xmlns=\"http://www.w3.org/2000/svg\" height=\"24px\"viewBox=\"0 0 24 24\"\n",
              "       width=\"24px\">\n",
              "    <path d=\"M0 0h24v24H0V0z\" fill=\"none\"/>\n",
              "    <path d=\"M18.56 5.44l.94 2.06.94-2.06 2.06-.94-2.06-.94-.94-2.06-.94 2.06-2.06.94zm-11 1L8.5 8.5l.94-2.06 2.06-.94-2.06-.94L8.5 2.5l-.94 2.06-2.06.94zm10 10l.94 2.06.94-2.06 2.06-.94-2.06-.94-.94-2.06-.94 2.06-2.06.94z\"/><path d=\"M17.41 7.96l-1.37-1.37c-.4-.4-.92-.59-1.43-.59-.52 0-1.04.2-1.43.59L10.3 9.45l-7.72 7.72c-.78.78-.78 2.05 0 2.83L4 21.41c.39.39.9.59 1.41.59.51 0 1.02-.2 1.41-.59l7.78-7.78 2.81-2.81c.8-.78.8-2.07 0-2.86zM5.41 20L4 18.59l7.72-7.72 1.47 1.35L5.41 20z\"/>\n",
              "  </svg>\n",
              "      </button>\n",
              "\n",
              "\n",
              "\n",
              "    <div id=\"df-14b9c0e9-5519-47fa-9c42-0c21605e6f57\">\n",
              "      <button class=\"colab-df-quickchart\" onclick=\"quickchart('df-14b9c0e9-5519-47fa-9c42-0c21605e6f57')\"\n",
              "              title=\"Suggest charts.\"\n",
              "              style=\"display:none;\">\n",
              "\n",
              "<svg xmlns=\"http://www.w3.org/2000/svg\" height=\"24px\"viewBox=\"0 0 24 24\"\n",
              "     width=\"24px\">\n",
              "    <g>\n",
              "        <path d=\"M19 3H5c-1.1 0-2 .9-2 2v14c0 1.1.9 2 2 2h14c1.1 0 2-.9 2-2V5c0-1.1-.9-2-2-2zM9 17H7v-7h2v7zm4 0h-2V7h2v10zm4 0h-2v-4h2v4z\"/>\n",
              "    </g>\n",
              "</svg>\n",
              "      </button>\n",
              "    </div>\n",
              "\n",
              "<style>\n",
              "  .colab-df-quickchart {\n",
              "    background-color: #E8F0FE;\n",
              "    border: none;\n",
              "    border-radius: 50%;\n",
              "    cursor: pointer;\n",
              "    display: none;\n",
              "    fill: #1967D2;\n",
              "    height: 32px;\n",
              "    padding: 0 0 0 0;\n",
              "    width: 32px;\n",
              "  }\n",
              "\n",
              "  .colab-df-quickchart:hover {\n",
              "    background-color: #E2EBFA;\n",
              "    box-shadow: 0px 1px 2px rgba(60, 64, 67, 0.3), 0px 1px 3px 1px rgba(60, 64, 67, 0.15);\n",
              "    fill: #174EA6;\n",
              "  }\n",
              "\n",
              "  [theme=dark] .colab-df-quickchart {\n",
              "    background-color: #3B4455;\n",
              "    fill: #D2E3FC;\n",
              "  }\n",
              "\n",
              "  [theme=dark] .colab-df-quickchart:hover {\n",
              "    background-color: #434B5C;\n",
              "    box-shadow: 0px 1px 3px 1px rgba(0, 0, 0, 0.15);\n",
              "    filter: drop-shadow(0px 1px 2px rgba(0, 0, 0, 0.3));\n",
              "    fill: #FFFFFF;\n",
              "  }\n",
              "</style>\n",
              "\n",
              "    <script>\n",
              "      async function quickchart(key) {\n",
              "        const containerElement = document.querySelector('#' + key);\n",
              "        const charts = await google.colab.kernel.invokeFunction(\n",
              "            'suggestCharts', [key], {});\n",
              "      }\n",
              "    </script>\n",
              "\n",
              "      <script>\n",
              "\n",
              "function displayQuickchartButton(domScope) {\n",
              "  let quickchartButtonEl =\n",
              "    domScope.querySelector('#df-14b9c0e9-5519-47fa-9c42-0c21605e6f57 button.colab-df-quickchart');\n",
              "  quickchartButtonEl.style.display =\n",
              "    google.colab.kernel.accessAllowed ? 'block' : 'none';\n",
              "}\n",
              "\n",
              "        displayQuickchartButton(document);\n",
              "      </script>\n",
              "      <style>\n",
              "    .colab-df-container {\n",
              "      display:flex;\n",
              "      flex-wrap:wrap;\n",
              "      gap: 12px;\n",
              "    }\n",
              "\n",
              "    .colab-df-convert {\n",
              "      background-color: #E8F0FE;\n",
              "      border: none;\n",
              "      border-radius: 50%;\n",
              "      cursor: pointer;\n",
              "      display: none;\n",
              "      fill: #1967D2;\n",
              "      height: 32px;\n",
              "      padding: 0 0 0 0;\n",
              "      width: 32px;\n",
              "    }\n",
              "\n",
              "    .colab-df-convert:hover {\n",
              "      background-color: #E2EBFA;\n",
              "      box-shadow: 0px 1px 2px rgba(60, 64, 67, 0.3), 0px 1px 3px 1px rgba(60, 64, 67, 0.15);\n",
              "      fill: #174EA6;\n",
              "    }\n",
              "\n",
              "    [theme=dark] .colab-df-convert {\n",
              "      background-color: #3B4455;\n",
              "      fill: #D2E3FC;\n",
              "    }\n",
              "\n",
              "    [theme=dark] .colab-df-convert:hover {\n",
              "      background-color: #434B5C;\n",
              "      box-shadow: 0px 1px 3px 1px rgba(0, 0, 0, 0.15);\n",
              "      filter: drop-shadow(0px 1px 2px rgba(0, 0, 0, 0.3));\n",
              "      fill: #FFFFFF;\n",
              "    }\n",
              "  </style>\n",
              "\n",
              "      <script>\n",
              "        const buttonEl =\n",
              "          document.querySelector('#df-0ef4370f-66b6-499c-8e00-d35daf97543e button.colab-df-convert');\n",
              "        buttonEl.style.display =\n",
              "          google.colab.kernel.accessAllowed ? 'block' : 'none';\n",
              "\n",
              "        async function convertToInteractive(key) {\n",
              "          const element = document.querySelector('#df-0ef4370f-66b6-499c-8e00-d35daf97543e');\n",
              "          const dataTable =\n",
              "            await google.colab.kernel.invokeFunction('convertToInteractive',\n",
              "                                                     [key], {});\n",
              "          if (!dataTable) return;\n",
              "\n",
              "          const docLinkHtml = 'Like what you see? Visit the ' +\n",
              "            '<a target=\"_blank\" href=https://colab.research.google.com/notebooks/data_table.ipynb>data table notebook</a>'\n",
              "            + ' to learn more about interactive tables.';\n",
              "          element.innerHTML = '';\n",
              "          dataTable['output_type'] = 'display_data';\n",
              "          await google.colab.output.renderOutput(dataTable, element);\n",
              "          const docLink = document.createElement('div');\n",
              "          docLink.innerHTML = docLinkHtml;\n",
              "          element.appendChild(docLink);\n",
              "        }\n",
              "      </script>\n",
              "    </div>\n",
              "  </div>\n"
            ]
          },
          "metadata": {},
          "execution_count": 216
        }
      ]
    },
    {
      "cell_type": "code",
      "source": [
        "final_df['result']  = pms_df['successful']"
      ],
      "metadata": {
        "id": "th52dPWYXRDw"
      },
      "execution_count": 217,
      "outputs": []
    },
    {
      "cell_type": "code",
      "source": [
        "def count(actions: pd.DataFrame, l: int, w: int) -> pd.DataFrame:\n",
        "    \"\"\"\n",
        "    Count the number of actions occurring in each cell of the grid.\n",
        "\n",
        "    Parameters\n",
        "    ----------\n",
        "    actions : pd.DataFrame\n",
        "        Actions DataFrame, where 'start_cell' represents [x, y] coordinates.\n",
        "    l : int\n",
        "        Amount of grid cells in the x-dimension of the grid.\n",
        "    w : int\n",
        "        Amount of grid cells in the y-dimension of the grid.\n",
        "\n",
        "    Returns\n",
        "    -------\n",
        "    pd.DataFrame\n",
        "        A grid denoting the count of actions occurring in each cell.\n",
        "        The top-left corner is the origin.\n",
        "\n",
        "    Example\n",
        "    -------\n",
        "    final_df = pd.DataFrame(...)\n",
        "    l = 12\n",
        "    w = 16\n",
        "    grid = count_actions(final_df, l, w)\n",
        "    print(grid)\n",
        "    \"\"\"\n",
        "    # making the start cell a tuple\n",
        "    actions['start_cell'] = actions['start_cell'].apply(tuple)\n",
        "\n",
        "    location_counts = actions.groupby('start_cell').size()\n",
        "\n",
        "    grid = pd.DataFrame(0, index=range(l), columns=range(w))\n",
        "\n",
        "    for location, count in location_counts.items():\n",
        "        x, y = location  # Extract (x, y) coordinates from the tuple\n",
        "        grid.loc[x, y] = count\n",
        "\n",
        "    return grid\n"
      ],
      "metadata": {
        "id": "2p1G093rJq7t"
      },
      "execution_count": 218,
      "outputs": []
    },
    {
      "cell_type": "code",
      "source": [
        "def get_successful_actions(actions: pd.DataFrame) -> pd.DataFrame:\n",
        "    \"\"\"\n",
        "    Get all successful actions.\n",
        "\n",
        "    Parameters\n",
        "    ----------\n",
        "    actions : pd.DataFrame\n",
        "        Actions DataFrame, where 'result' is a binary column with 1 for successful actions and 0 for unsuccessful actions.\n",
        "\n",
        "    Returns\n",
        "    -------\n",
        "    pd.DataFrame\n",
        "        All successful actions in the input dataframe.\n",
        "    \"\"\"\n",
        "    return actions[actions['result'] == 1]\n"
      ],
      "metadata": {
        "id": "_FyxGKb55Fmk"
      },
      "execution_count": 219,
      "outputs": []
    },
    {
      "cell_type": "code",
      "source": [
        "def get_move_actions(actions: pd.DataFrame) -> pd.DataFrame:\n",
        "    \"\"\"Get all ball-progressing actions.\n",
        "\n",
        "    These include passes, carries, and shots.\n",
        "\n",
        "    Parameters\n",
        "    ----------\n",
        "    actions : pd.DataFrame\n",
        "        Actions, in your format.\n",
        "\n",
        "    Returns\n",
        "    -------\n",
        "    pd.DataFrame\n",
        "        All ball-progressing actions in the input dataframe.\n",
        "    \"\"\"\n",
        "    return actions[\n",
        "        (actions['type'] == 'Pass')\n",
        "        | (actions['type'] == 'Carry')\n",
        "\n",
        "    ]\n"
      ],
      "metadata": {
        "id": "UdfhbJM-GmAo"
      },
      "execution_count": 220,
      "outputs": []
    },
    {
      "cell_type": "code",
      "source": [
        "def action_prob(actions: pd.DataFrame, l: int , w: int ) -> Tuple[npt.NDArray[np.float64], npt.NDArray[np.float64]]:\n",
        "    \"\"\"Compute the probability of taking an action in each cell of the grid.\n",
        "\n",
        "    The options are: shooting or moving.\n",
        "\n",
        "    Parameters\n",
        "    ----------\n",
        "    actions : pd.DataFrame\n",
        "        Actions, in your format.\n",
        "    l : int\n",
        "        Amount of grid cells in the x-dimension of the grid.\n",
        "    w : int\n",
        "        Amount of grid cells in the y-dimension of the grid.\n",
        "\n",
        "    Returns\n",
        "    -------\n",
        "    shotmatrix : np.ndarray\n",
        "        For each cell the probability of choosing to shoot.\n",
        "    movematrix : np.ndarray\n",
        "        For each cell the probability of choosing to move.\n",
        "    \"\"\"\n",
        "    move_actions = get_move_actions(actions)\n",
        "    shot_actions = actions[actions['type'] == 'Shot']\n",
        "\n",
        "    movematrix = count(move_actions, l, w)\n",
        "    shotmatrix = count(shot_actions, l, w)\n",
        "\n",
        "    # Filter successful shot actions\n",
        "    successful_shot_actions = get_successful_actions(shot_actions)\n",
        "    successful_shotmatrix = count(successful_shot_actions, l, w)\n",
        "\n",
        "    # Calculate totalmatrix (total count of all actions, successful or not)\n",
        "    totalmatrix = movematrix + successful_shotmatrix\n",
        "\n",
        "    return _safe_divide(successful_shotmatrix, totalmatrix), _safe_divide(movematrix, totalmatrix)"
      ],
      "metadata": {
        "id": "iIlqesc-W73O"
      },
      "execution_count": 221,
      "outputs": []
    },
    {
      "cell_type": "code",
      "source": [
        "shot_probability, move_probability = action_prob(final_df,12,  16)\n",
        "\n",
        "print(\"Shooting probabilities:\")\n",
        "print(shot_probability)\n",
        "\n",
        "print(\"\\nMoving probabilities:\")\n",
        "print(move_probability)"
      ],
      "metadata": {
        "colab": {
          "base_uri": "https://localhost:8080/"
        },
        "id": "utiv0fXrXBML",
        "outputId": "86453045-6116-4ce2-d8b7-4729147a76c2"
      },
      "execution_count": 222,
      "outputs": [
        {
          "output_type": "stream",
          "name": "stdout",
          "text": [
            "Shooting probabilities:\n",
            "     0    1    2    3    4    5    6         7    8    9         10        11  \\\n",
            "0   0.0  0.0  0.0  0.0  0.0  0.0  0.0  0.000000  0.0  0.0  0.000000  0.000000   \n",
            "1   0.0  0.0  0.0  0.0  0.0  0.0  0.0  0.000000  0.0  0.0  0.000000  0.000000   \n",
            "2   0.0  0.0  0.0  0.0  0.0  0.0  0.0  0.000000  0.0  0.0  0.002099  0.000000   \n",
            "3   0.0  0.0  0.0  0.0  0.0  0.0  0.0  0.000000  0.0  0.0  0.001418  0.024528   \n",
            "4   0.0  0.0  0.0  0.0  0.0  0.0  0.0  0.000000  0.0  0.0  0.005217  0.061662   \n",
            "5   0.0  0.0  0.0  0.0  0.0  0.0  0.0  0.000713  0.0  0.0  0.007782  0.082019   \n",
            "6   0.0  0.0  0.0  0.0  0.0  0.0  0.0  0.000000  0.0  0.0  0.009560  0.067385   \n",
            "7   0.0  0.0  0.0  0.0  0.0  0.0  0.0  0.000000  0.0  0.0  0.000000  0.026975   \n",
            "8   0.0  0.0  0.0  0.0  0.0  0.0  0.0  0.000000  0.0  0.0  0.000000  0.001473   \n",
            "9   0.0  0.0  0.0  0.0  0.0  0.0  0.0  0.000000  0.0  0.0  0.000000  0.000000   \n",
            "10  0.0  0.0  0.0  0.0  0.0  0.0  0.0  0.000000  0.0  0.0  0.000000  0.000000   \n",
            "11  0.0  0.0  0.0  0.0  0.0  0.0  0.0  0.000000  0.0  0.0  0.000000  0.000000   \n",
            "\n",
            "          12        13        14   15  \n",
            "0   0.000000  0.000000  0.005917  0.0  \n",
            "1   0.000000  0.002262  0.000000  0.0  \n",
            "2   0.015789  0.012270  0.005208  0.0  \n",
            "3   0.095101  0.161616  0.080460  0.0  \n",
            "4   0.175926  0.338542  0.555556  0.0  \n",
            "5   0.211538  0.566879  0.854839  0.0  \n",
            "6   0.171806  0.317460  0.588235  0.0  \n",
            "7   0.088398  0.126482  0.097403  0.0  \n",
            "8   0.009302  0.017007  0.000000  0.0  \n",
            "9   0.000000  0.000000  0.000000  0.0  \n",
            "10  0.000000  0.000000  0.006173  0.0  \n",
            "11  0.000000  0.000000  0.000000  0.0  \n",
            "\n",
            "Moving probabilities:\n",
            "     0    1    2    3    4    5    6         7    8    9         10        11  \\\n",
            "0   1.0  1.0  1.0  1.0  1.0  1.0  1.0  1.000000  1.0  1.0  1.000000  1.000000   \n",
            "1   1.0  1.0  1.0  1.0  1.0  1.0  1.0  1.000000  1.0  1.0  1.000000  1.000000   \n",
            "2   1.0  1.0  1.0  1.0  1.0  1.0  1.0  1.000000  1.0  1.0  0.997901  1.000000   \n",
            "3   1.0  1.0  1.0  1.0  1.0  1.0  1.0  1.000000  1.0  1.0  0.998582  0.975472   \n",
            "4   1.0  1.0  1.0  1.0  1.0  1.0  1.0  1.000000  1.0  1.0  0.994783  0.938338   \n",
            "5   1.0  1.0  1.0  1.0  1.0  1.0  1.0  0.999287  1.0  1.0  0.992218  0.917981   \n",
            "6   1.0  1.0  1.0  1.0  1.0  1.0  1.0  1.000000  1.0  1.0  0.990440  0.932615   \n",
            "7   1.0  1.0  1.0  1.0  1.0  1.0  1.0  1.000000  1.0  1.0  1.000000  0.973025   \n",
            "8   1.0  1.0  1.0  1.0  1.0  1.0  1.0  1.000000  1.0  1.0  1.000000  0.998527   \n",
            "9   1.0  1.0  1.0  1.0  1.0  1.0  1.0  1.000000  1.0  1.0  1.000000  1.000000   \n",
            "10  1.0  1.0  1.0  1.0  1.0  1.0  1.0  1.000000  1.0  1.0  1.000000  1.000000   \n",
            "11  1.0  1.0  1.0  1.0  1.0  1.0  1.0  1.000000  1.0  1.0  1.000000  1.000000   \n",
            "\n",
            "          12        13        14   15  \n",
            "0   1.000000  1.000000  0.994083  1.0  \n",
            "1   1.000000  0.997738  1.000000  1.0  \n",
            "2   0.984211  0.987730  0.994792  0.0  \n",
            "3   0.904899  0.838384  0.919540  0.0  \n",
            "4   0.824074  0.661458  0.444444  1.0  \n",
            "5   0.788462  0.433121  0.145161  0.0  \n",
            "6   0.828194  0.682540  0.411765  0.0  \n",
            "7   0.911602  0.873518  0.902597  0.0  \n",
            "8   0.990698  0.982993  1.000000  1.0  \n",
            "9   1.000000  1.000000  1.000000  0.0  \n",
            "10  1.000000  1.000000  0.993827  1.0  \n",
            "11  1.000000  1.000000  1.000000  1.0  \n"
          ]
        }
      ]
    },
    {
      "cell_type": "code",
      "source": [
        "final_df['type'].unique()"
      ],
      "metadata": {
        "colab": {
          "base_uri": "https://localhost:8080/"
        },
        "id": "qeU7Jfq8MRZk",
        "outputId": "84b03759-5bac-49f5-a00a-7734ae6f9e18"
      },
      "execution_count": 223,
      "outputs": [
        {
          "output_type": "execute_result",
          "data": {
            "text/plain": [
              "array(['Pass', 'Carry', 'Shot'], dtype=object)"
            ]
          },
          "metadata": {},
          "execution_count": 223
        }
      ]
    },
    {
      "cell_type": "markdown",
      "source": [
        "### Transition matrix form x,y to z,w"
      ],
      "metadata": {
        "id": "5Y6PBqjj3XtL"
      }
    },
    {
      "cell_type": "code",
      "source": [
        "t_df = final_df.copy()"
      ],
      "metadata": {
        "id": "r5D4_kZchWSO"
      },
      "execution_count": 224,
      "outputs": []
    },
    {
      "cell_type": "code",
      "source": [
        "def _get_cell_indexes(x: pd.Series, y: pd.Series, l , w) -> tuple:\n",
        "    xi = x.div(spadlconfig.field_length).mul(l)\n",
        "    yj = y.div(spadlconfig.field_width).mul(w)\n",
        "    xi = xi.astype(\"int64\").clip(0, l - 1)\n",
        "    yj = yj.astype(\"int64\").clip(0, w - 1)\n",
        "    return xi, yj\n",
        "\n",
        "def _get_flat_indexes(x: pd.Series, y: pd.Series, l, w) -> pd.Series:\n",
        "    xi, yj = _get_cell_indexes(x, y, l, w)\n",
        "    return yj.rsub(w - 1).mul(l).add(xi)\n"
      ],
      "metadata": {
        "id": "2XyX4HvP2Huj"
      },
      "execution_count": 225,
      "outputs": []
    },
    {
      "cell_type": "code",
      "source": [
        "final_df.columns"
      ],
      "metadata": {
        "colab": {
          "base_uri": "https://localhost:8080/"
        },
        "id": "QNxuZ1Zrbnlp",
        "outputId": "80d17390-1ac5-42e5-a840-f7022eacc7e4"
      },
      "execution_count": 226,
      "outputs": [
        {
          "output_type": "execute_result",
          "data": {
            "text/plain": [
              "Index(['match_id', 'index', 'team', 'player', 'timestamp', 'minute', 'second',\n",
              "       'duration', 'period', 'possession', 'position', 'play_pattern',\n",
              "       'location', 'type', 'under_pressure', 'pass_length', 'pass_angle',\n",
              "       'shot_outcome', 'shot_end_location', 'shot_technique',\n",
              "       'shot_statsbomb_xg', 'shot_type', 'shot_body_part', 'shot_freeze_frame',\n",
              "       'end_location', 'row', 'column', 'start_cell', 'end_row', 'end_column',\n",
              "       'end_cell', 'goal_scored', 'team_ranking', 'xG', 'result'],\n",
              "      dtype='object')"
            ]
          },
          "metadata": {},
          "execution_count": 226
        }
      ]
    },
    {
      "cell_type": "code",
      "source": [
        " ### uncomment the code to test function of sucessful counts in every location\n",
        "# grid = count(final_df, l, w)\n",
        "# print(grid)"
      ],
      "metadata": {
        "id": "EU2HPNj5J3Dr"
      },
      "execution_count": 227,
      "outputs": []
    },
    {
      "cell_type": "markdown",
      "source": [
        "#### GitHub way of solving the tranistion matrix"
      ],
      "metadata": {
        "id": "5XzM3gDXTNhy"
      }
    },
    {
      "cell_type": "code",
      "source": [
        "# def move_transition_matrix(actions: pd.DataFrame, grid_rows: int, grid_cols: int) -> np.ndarray:\n",
        "#     \"\"\"Compute the move transition matrix from the given actions.\n",
        "\n",
        "#     This is, when a player chooses to move, the probability that they will\n",
        "#     end up in each of the other cells of the grid successfully.\n",
        "\n",
        "#     Parameters\n",
        "#     ----------\n",
        "#     actions : pd.DataFrame\n",
        "#         Actions, in SPADL format.\n",
        "#     grid_rows : int\n",
        "#         Amount of grid cells in the x-dimension of the grid.\n",
        "#     grid_cols : int\n",
        "#         Amount of grid cells in the y-dimension of the grid.\n",
        "\n",
        "#     Returns\n",
        "#     -------\n",
        "#     np.ndarray\n",
        "#         The transition matrix.\n",
        "#     \"\"\"\n",
        "#     def get_flat_index(x, y):\n",
        "#         return y * grid_cols + x\n",
        "\n",
        "#     def get_move_success_rate(start_cell, end_cells):\n",
        "#         total_starts = len(start_cell)\n",
        "#         move_success_counts = np.bincount(end_cells, minlength=grid_rows * grid_cols)\n",
        "#         return move_success_counts / total_starts\n",
        "\n",
        "#     move_actions = actions[(actions[\"type\"] == \"Pass\") | (actions[\"type\"] == \"Carry\")]  # Assuming type_name indicates move actions.\n",
        "\n",
        "#     X = pd.DataFrame({\n",
        "#         \"start_cell\": get_flat_index(move_actions[\"row\"], move_actions[\"column\"]),\n",
        "#         \"end_cell\": get_flat_index(move_actions[\"end_row\"], move_actions[\"end_column\"]),\n",
        "#         \"result\": move_actions[\"result\"]\n",
        "#     })\n",
        "\n",
        "#     start_counts = X[\"start_cell\"].value_counts(sort=False).reindex(range(grid_rows * grid_cols), fill_value=0)\n",
        "\n",
        "#     transition_matrix = np.zeros((grid_rows * grid_cols, grid_rows * grid_cols))\n",
        "\n",
        "#     for start_cell in range(grid_rows * grid_cols):\n",
        "#         move_success_rates = get_move_success_rate(\n",
        "#             X.loc[(X[\"start_cell\"] == start_cell) & (X[\"result\"] == 1), \"start_cell\"],\n",
        "#             X.loc[(X[\"start_cell\"] == start_cell) & (X[\"result\"] == 1), \"end_cell\"]\n",
        "#         )\n",
        "#         transition_matrix[start_cell] = move_success_rates\n",
        "\n",
        "#     return transition_matrix\n"
      ],
      "metadata": {
        "id": "oqevC37q_DsN"
      },
      "execution_count": 228,
      "outputs": []
    },
    {
      "cell_type": "code",
      "source": [
        "# transition_matrix = move_transition_matrix(final_df,16,  12)\n",
        "# transition_matrix = np.nan_to_num(transition_matrix, nan=0)\n",
        "# transition_matrix"
      ],
      "metadata": {
        "id": "i4tHAPOPQqj-"
      },
      "execution_count": 229,
      "outputs": []
    },
    {
      "cell_type": "markdown",
      "source": [
        "#### My own way of calcualting the tranistion matrix"
      ],
      "metadata": {
        "id": "Kp7mpfjiuv15"
      }
    },
    {
      "cell_type": "code",
      "source": [
        "'''\n",
        "This gives me the count of all the tranisition inidicies on where it started and the count of\n",
        "how many times it ended in that location. i divide it by the total number of moves that happened from the tranisition matricies\n",
        "and find the probability of tranistion matrix that happened to every end indicies\n",
        "\n",
        "'''\n",
        "final_df['Transistion_indicies'] = (final_df['row']*16) + (final_df['column'])\n",
        "final_df['Transistion_end_indicies']  = (final_df['end_row']*16) + (final_df['end_column'])\n",
        "\n",
        "# Filter rows based on type \"Pass\" or \"Carry\"\n",
        "move_actions = final_df[(final_df[\"type\"] == \"Pass\") | (final_df[\"type\"] == \"Carry\")]\n",
        "\n",
        "# Group by Transistion_indicies and Transistion_end_indicies, then count occurrences\n",
        "count_df = move_actions.groupby(['Transistion_indicies', 'Transistion_end_indicies']).size().reset_index(name='Count')\n",
        "# print(count_df)\n",
        "\n",
        "# Group by Transistion_indicies and count occurrences\n",
        "count_trans_indics = move_actions.groupby('Transistion_indicies').size().reset_index(name='Count')\n",
        "#print(count_trans_indics)\n",
        "\n",
        "merged_df = count_df.merge(count_trans_indics, on='Transistion_indicies', suffixes=('_x', '_y'))\n",
        "\n",
        "# Calculate the transition probabilities\n",
        "merged_df['Transition_probability'] = merged_df['Count_x'] / merged_df['Count_y']\n",
        "\n",
        "# Drop unnecessary columns if needed\n",
        "merged_df.drop(['Count_x', 'Count_y'], axis=1, inplace=True)\n",
        "\n",
        "print(merged_df)\n"
      ],
      "metadata": {
        "colab": {
          "base_uri": "https://localhost:8080/"
        },
        "id": "NA2RCLNfp-NM",
        "outputId": "213745cc-a27f-4c65-93c1-c4cebe837f1e"
      },
      "execution_count": 230,
      "outputs": [
        {
          "output_type": "stream",
          "name": "stdout",
          "text": [
            "       Transistion_indicies  Transistion_end_indicies  Transition_probability\n",
            "0                         0                         0                0.232558\n",
            "1                         0                         1                0.174419\n",
            "2                         0                         2                0.058140\n",
            "3                         0                         3                0.046512\n",
            "4                         0                         4                0.011628\n",
            "...                     ...                       ...                     ...\n",
            "11782                   191                       156                0.017301\n",
            "11783                   191                       157                0.027682\n",
            "11784                   191                       158                0.013841\n",
            "11785                   191                       173                0.031142\n",
            "11786                   191                       174                0.044983\n",
            "\n",
            "[11787 rows x 3 columns]\n"
          ]
        }
      ]
    },
    {
      "cell_type": "code",
      "source": [
        "\n",
        "# Create an np.zeros array to store the transition probabilities\n",
        "my_transmatrix = np.zeros((192, 192), dtype=np.float64)\n",
        "\n",
        "# Loop through the merged_df DataFrame and fill the transition probabilities in the my_transmatrix\n",
        "for _, row in merged_df.iterrows():\n",
        "    idx_start = int(row['Transistion_indicies'])\n",
        "    idx_end = int(row['Transistion_end_indicies'])\n",
        "    transition_prob = row['Transition_probability']\n",
        "\n",
        "    if idx_start < 192 and idx_end < 192:\n",
        "        my_transmatrix[idx_start, idx_end] = transition_prob\n",
        "\n",
        "# print(my_transmatrix)\n"
      ],
      "metadata": {
        "id": "XTs8Dpi-rS_l"
      },
      "execution_count": 231,
      "outputs": []
    },
    {
      "cell_type": "markdown",
      "source": [
        "### Combine all the formula together"
      ],
      "metadata": {
        "id": "vquIASZL0dtE"
      }
    },
    {
      "cell_type": "markdown",
      "source": [],
      "metadata": {
        "id": "0mGhsf3FMcnT"
      }
    },
    {
      "cell_type": "code",
      "source": [
        "# print(type(shot_probability))\n",
        "\n",
        "shot_probability_numpy = shot_probability.to_numpy()\n",
        "move_probability_numpy = move_probability.to_numpy()\n",
        "print(type(shot_probability))"
      ],
      "metadata": {
        "colab": {
          "base_uri": "https://localhost:8080/"
        },
        "id": "sXeyUz6Q0T_5",
        "outputId": "847e2bbd-2118-4f2e-8df2-680450607e32"
      },
      "execution_count": 232,
      "outputs": [
        {
          "output_type": "stream",
          "name": "stdout",
          "text": [
            "<class 'pandas.core.frame.DataFrame'>\n"
          ]
        }
      ]
    },
    {
      "cell_type": "code",
      "source": [
        "def expected_threat(p_scoring, p_shot, p_move, transition_matrix, max_iterations = 1000):\n",
        "    w, l = p_scoring.shape\n",
        "    xT = np.zeros((w, l))\n",
        "    eps = 1e-5\n",
        "    gs = p_scoring * p_shot\n",
        "    it = 0\n",
        "    diff = 1\n",
        "\n",
        "    while np.any(diff > eps):\n",
        "        total_payoff = np.zeros((w, l))\n",
        "\n",
        "        for y in range(w):\n",
        "            for x in range(l):\n",
        "                for q in range(w):\n",
        "                    for z in range(l):\n",
        "                        total_payoff[y, x] += transition_matrix[l*y + x, l*q + z] * xT[q, z]\n",
        "\n",
        "        new_xT = gs + (p_move * total_payoff)\n",
        "        diff = new_xT - xT\n",
        "        xT = new_xT\n",
        "        it += 1\n",
        "\n",
        "    print(\"Total iterations to convergence:\", it)\n",
        "    return xT\n",
        "\n",
        "xT = expected_threat(grid_xG, shot_probability_numpy, move_probability_numpy, my_transmatrix, max_iterations=5)\n",
        "xT"
      ],
      "metadata": {
        "colab": {
          "base_uri": "https://localhost:8080/"
        },
        "id": "DdfnOojr_iI0",
        "outputId": "06967e74-b034-4e76-cead-b7f4113ac489"
      },
      "execution_count": 233,
      "outputs": [
        {
          "output_type": "stream",
          "name": "stdout",
          "text": [
            "Total iterations to convergence: 115\n"
          ]
        },
        {
          "output_type": "execute_result",
          "data": {
            "text/plain": [
              "array([[0.16990627, 0.16995921, 0.1700759 , 0.16991411, 0.17020913,\n",
              "        0.17035485, 0.17025933, 0.17029233, 0.17112312, 0.17110242,\n",
              "        0.17287954, 0.17456252, 0.17826016, 0.18354168, 0.18610653,\n",
              "        0.22405661],\n",
              "       [0.17001341, 0.16999726, 0.16985456, 0.17009835, 0.17008161,\n",
              "        0.17032074, 0.17038399, 0.17042318, 0.17029181, 0.17070539,\n",
              "        0.17118466, 0.17289305, 0.17663161, 0.18486982, 0.19639189,\n",
              "        0.20189801],\n",
              "       [0.17003763, 0.16999739, 0.17001888, 0.17010763, 0.16996722,\n",
              "        0.17034552, 0.16991031, 0.1699638 , 0.17031704, 0.16997314,\n",
              "        0.1685643 , 0.16950595, 0.16958944, 0.17841016, 0.20189857,\n",
              "        0.        ],\n",
              "       [0.17008838, 0.17002377, 0.17006153, 0.1699991 , 0.17010284,\n",
              "        0.17018274, 0.1701458 , 0.1698253 , 0.16929662, 0.1686127 ,\n",
              "        0.16633056, 0.15864925, 0.1445256 , 0.15915477, 0.19528258,\n",
              "        0.        ],\n",
              "       [0.16978718, 0.16989468, 0.16999285, 0.17013716, 0.16998137,\n",
              "        0.16974755, 0.16997058, 0.16949127, 0.16937557, 0.16710884,\n",
              "        0.16263767, 0.14592513, 0.13331328, 0.17074699, 0.1907119 ,\n",
              "        0.350529  ],\n",
              "       [0.17000927, 0.17006417, 0.17011094, 0.17010066, 0.17010443,\n",
              "        0.16977641, 0.16982238, 0.16961696, 0.16898471, 0.16700631,\n",
              "        0.16210265, 0.14444448, 0.13770384, 0.21146051, 0.350529  ,\n",
              "        0.        ],\n",
              "       [0.17015595, 0.17019067, 0.1701861 , 0.17018397, 0.17020641,\n",
              "        0.17008615, 0.17007178, 0.16993485, 0.16961017, 0.16661046,\n",
              "        0.16258409, 0.14792337, 0.13519407, 0.17308351, 0.22146028,\n",
              "        0.        ],\n",
              "       [0.17017723, 0.17027221, 0.17005289, 0.17013668, 0.17029106,\n",
              "        0.17039175, 0.17030161, 0.16993085, 0.17026887, 0.16936941,\n",
              "        0.16654226, 0.16133756, 0.151406  , 0.16356911, 0.19309048,\n",
              "        0.        ],\n",
              "       [0.17030177, 0.17010845, 0.1701392 , 0.1702544 , 0.17025244,\n",
              "        0.17059749, 0.17059908, 0.17047024, 0.17101472, 0.17089701,\n",
              "        0.17145313, 0.17387952, 0.17971275, 0.18804041, 0.20445591,\n",
              "        0.22146024],\n",
              "       [0.17039353, 0.17027158, 0.17034622, 0.17036179, 0.17024737,\n",
              "        0.17084824, 0.17108661, 0.17084936, 0.17130142, 0.17238253,\n",
              "        0.17415286, 0.17742719, 0.18401498, 0.19418217, 0.20310065,\n",
              "        0.        ],\n",
              "       [0.17045418, 0.17027313, 0.17035804, 0.17057839, 0.17067764,\n",
              "        0.17068189, 0.17135193, 0.17142679, 0.17152859, 0.17286748,\n",
              "        0.17439526, 0.17821004, 0.18465597, 0.18979396, 0.19752878,\n",
              "        0.19309026],\n",
              "       [0.17035968, 0.17045029, 0.1705142 , 0.17062806, 0.17058755,\n",
              "        0.17102376, 0.17133215, 0.17204029, 0.17176182, 0.17422254,\n",
              "        0.17417452, 0.17466401, 0.18273555, 0.18823495, 0.1831862 ,\n",
              "        0.23016612]])"
            ]
          },
          "metadata": {},
          "execution_count": 233
        }
      ]
    },
    {
      "cell_type": "code",
      "source": [
        "\n",
        "# result_xT = expected_threat(grid_xG, shot_probability, move_probability, my_transmatrix)\n",
        "\n",
        "plt.imshow(xT, cmap='viridis', aspect=1)\n",
        "plt.colorbar()  # Add a colorbar to indicate the value scale\n",
        "plt.title('Expected Threat Heatmap')\n",
        "plt.xlabel('Grid Column')\n",
        "plt.ylabel('Grid Row')\n",
        "plt.show()\n",
        "\n"
      ],
      "metadata": {
        "colab": {
          "base_uri": "https://localhost:8080/",
          "height": 420
        },
        "id": "QFv9yVOZ9Slv",
        "outputId": "d82c82cd-a4f4-4a91-ba07-f6fc2a90a7f9"
      },
      "execution_count": 234,
      "outputs": [
        {
          "output_type": "display_data",
          "data": {
            "text/plain": [
              "<Figure size 640x480 with 2 Axes>"
            ],
            "image/png": "[encoded data removed]"
          },
          "metadata": {}
        }
      ]
    },
    {
      "cell_type": "markdown",
      "source": [
        "## Calcualting VAEP"
      ],
      "metadata": {
        "id": "X5RPjGmxW8Hl"
      }
    },
    {
      "cell_type": "markdown",
      "source": [
        "formula for vaep :  V (ai) = Q(Si) − Q(Si−1)"
      ],
      "metadata": {
        "id": "THkURumLXOmD"
      }
    },
    {
      "cell_type": "code",
      "source": [
        "'''\n",
        "To be continued...\n",
        "'''"
      ],
      "metadata": {
        "id": "N5l2iYCv8_ct",
        "colab": {
          "base_uri": "https://localhost:8080/",
          "height": 429
        },
        "outputId": "f1675ebf-6456-4b3b-b09b-95b09b350089"
      },
      "execution_count": 235,
      "outputs": [
        {
          "output_type": "execute_result",
          "data": {
            "text/plain": [
              "'\\nTo be continued...\\n'"
            ],
            "application/vnd.google.colaboratory.intrinsic+json": {
              "type": "string"
            }
          },
          "metadata": {},
          "execution_count": 235
        }
      ]
    },
    {
      "cell_type": "markdown",
      "source": [
        "# Exploratory Data Analysis (EDA)"
      ],
      "metadata": {
        "id": "Io35w800RrG1"
      }
    },
    {
      "cell_type": "markdown",
      "source": [
        "# Result Analysis"
      ],
      "metadata": {
        "id": "qU_hnmXqBMeg"
      }
    }
  ]
}